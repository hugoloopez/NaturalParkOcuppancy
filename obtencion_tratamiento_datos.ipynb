{
 "cells": [
  {
   "cell_type": "markdown",
   "metadata": {},
   "source": [
    "temperatura (e imagino que todos) datos cada 5 minutos\n",
    "\n",
    "parametros: \n",
    "- gente que entra\n",
    "- temperatura\n",
    "- "
   ]
  },
  {
   "cell_type": "code",
   "execution_count": 1,
   "metadata": {},
   "outputs": [],
   "source": [
    "import requests\n",
    "import datetime\n",
    "import time\n",
    "import pandas as pd\n",
    "\n",
    "def obtener_datos_api(base_url, sensor_type_names, from_date, to_date, location_ids):\n",
    "    \"\"\"\n",
    "    Extrae datos de una API en periodos de un mes y los guarda en un CSV consolidado.\n",
    "    \n",
    "    Cada variable dentro de \"series\" se convierte en una columna en el DataFrame.\n",
    "    Cada fila representa un timestamp único con sus valores de diferentes sensores.\n",
    "    \n",
    "    :param base_url: URL base de la API.\n",
    "    :param sensor_type_names: Lista de nombres de sensores a consultar.\n",
    "    :param from_date: Fecha de inicio en formato 'DD-MM-YYYY HH:MM'.\n",
    "    :param to_date: Fecha de fin en formato 'DD-MM-YYYY HH:MM'.\n",
    "    :param location_ids: Lista de IDs de ubicación.\n",
    "    :return: DataFrame consolidado con todos los datos.\n",
    "    \"\"\"\n",
    "    \n",
    "    def convertir_a_milisegundos(fecha_str):\n",
    "        \"\"\"Convierte una fecha en formato 'DD-MM-YYYY HH:MM' a milisegundos EPOCH.\"\"\"\n",
    "        dt = datetime.datetime.strptime(fecha_str, \"%d-%m-%Y %H:%M\")\n",
    "        return int(time.mktime(dt.timetuple()) * 1000)\n",
    "    \n",
    "    def convertir_a_fecha(epoch_ms):\n",
    "        \"\"\"Convierte milisegundos EPOCH a una fecha en formato 'DD-MM-YYYY HH:MM'\"\"\"\n",
    "        return datetime.datetime.fromtimestamp(epoch_ms / 1000).strftime(\"%d-%m-%Y %H:%M\")\n",
    "    \n",
    "    from_epoch = convertir_a_milisegundos(from_date)\n",
    "    to_epoch = convertir_a_milisegundos(to_date)\n",
    "    \n",
    "    # Diccionario para consolidar datos antes de convertirlo en DataFrame\n",
    "    datos_consolidados = {}\n",
    "\n",
    "    periodo = 30 * 24 * 60 * 60 * 1000  # 1 mes en milisegundos\n",
    "    \n",
    "    while from_epoch < to_epoch:\n",
    "        next_epoch = min(from_epoch + periodo, to_epoch)\n",
    "        \n",
    "        params = {\n",
    "            \"sensorTypeNames\": \",\".join(sensor_type_names),\n",
    "            \"fromDate\": from_epoch,\n",
    "            \"toDate\": next_epoch,\n",
    "            \"locationIds\": \",\".join(map(str, location_ids))\n",
    "        }\n",
    "        \n",
    "        response = requests.get(base_url, params=params, verify=False)\n",
    "        \n",
    "        if response.status_code == 200:\n",
    "            data = response.json()\n",
    "            # Verificamos que la respuesta tenga la clave 'series'\n",
    "            if \"series\" in data:\n",
    "                # Recorremos cada variable dentro de \"series\"\n",
    "                for variable, series_dict in data[\"series\"].items():\n",
    "                    # Cada serie en esta variable puede tener un identificador único\n",
    "                    for series_id, puntos in series_dict.items():\n",
    "                        for timestamp, valor in puntos:\n",
    "                            fecha = convertir_a_fecha(timestamp)\n",
    "                            # Si la fecha no está en el diccionario, la inicializamos\n",
    "                            if fecha not in datos_consolidados:\n",
    "                                datos_consolidados[fecha] = {}\n",
    "                            # Guardamos el valor en la columna de la variable correspondiente\n",
    "                            datos_consolidados[fecha][variable] = valor\n",
    "            else:\n",
    "                print(\"La respuesta no contiene la clave 'series'\")\n",
    "        else:\n",
    "            print(f\"Error {response.status_code}: {response.text}\")\n",
    "        \n",
    "        from_epoch = next_epoch  # Avanzar al siguiente periodo\n",
    "    \n",
    "    if not datos_consolidados:\n",
    "        print(\"No se obtuvieron datos.\")\n",
    "        return None\n",
    "\n",
    "    # Convertimos el diccionario en un DataFrame\n",
    "    df_final = pd.DataFrame.from_dict(datos_consolidados, orient=\"index\")\n",
    "    df_final.index.name = \"timestamp\"\n",
    "    df_final = df_final.reset_index()\n",
    "    \n",
    "    # Ordenamos por fecha\n",
    "    df_final = df_final.sort_values(\"timestamp\")\n",
    "    \n",
    "    # Guardamos a CSV\n",
    "    csv_filename = \"datos_consolidados.csv\"\n",
    "    df_final.to_csv(csv_filename, index=False)\n",
    "    \n",
    "    return df_final\n"
   ]
  },
  {
   "cell_type": "code",
   "execution_count": null,
   "metadata": {},
   "outputs": [
    {
     "name": "stderr",
     "output_type": "stream",
     "text": [
      "C:\\Users\\hugol\\AppData\\Local\\Packages\\PythonSoftwareFoundation.Python.3.11_qbz5n2kfra8p0\\LocalCache\\local-packages\\Python311\\site-packages\\urllib3\\connectionpool.py:1099: InsecureRequestWarning: Unverified HTTPS request is being made to host 'platon.grc.upv.es'. Adding certificate verification is strongly advised. See: https://urllib3.readthedocs.io/en/latest/advanced-usage.html#tls-warnings\n",
      "  warnings.warn(\n",
      "C:\\Users\\hugol\\AppData\\Local\\Packages\\PythonSoftwareFoundation.Python.3.11_qbz5n2kfra8p0\\LocalCache\\local-packages\\Python311\\site-packages\\urllib3\\connectionpool.py:1099: InsecureRequestWarning: Unverified HTTPS request is being made to host 'platon.grc.upv.es'. Adding certificate verification is strongly advised. See: https://urllib3.readthedocs.io/en/latest/advanced-usage.html#tls-warnings\n",
      "  warnings.warn(\n",
      "C:\\Users\\hugol\\AppData\\Local\\Packages\\PythonSoftwareFoundation.Python.3.11_qbz5n2kfra8p0\\LocalCache\\local-packages\\Python311\\site-packages\\urllib3\\connectionpool.py:1099: InsecureRequestWarning: Unverified HTTPS request is being made to host 'platon.grc.upv.es'. Adding certificate verification is strongly advised. See: https://urllib3.readthedocs.io/en/latest/advanced-usage.html#tls-warnings\n",
      "  warnings.warn(\n",
      "C:\\Users\\hugol\\AppData\\Local\\Packages\\PythonSoftwareFoundation.Python.3.11_qbz5n2kfra8p0\\LocalCache\\local-packages\\Python311\\site-packages\\urllib3\\connectionpool.py:1099: InsecureRequestWarning: Unverified HTTPS request is being made to host 'platon.grc.upv.es'. Adding certificate verification is strongly advised. See: https://urllib3.readthedocs.io/en/latest/advanced-usage.html#tls-warnings\n",
      "  warnings.warn(\n"
     ]
    },
    {
     "name": "stdout",
     "output_type": "stream",
     "text": [
      "              timestamp  count_in  count_out\n",
      "7929   01-10-2024 00:01       0.0        0.0\n",
      "7930   01-10-2024 00:06       0.0        0.0\n",
      "7931   01-10-2024 00:11       0.0        0.0\n",
      "7932   01-10-2024 00:16       0.0        0.0\n",
      "7933   01-10-2024 00:21       0.0        0.0\n",
      "...                 ...       ...        ...\n",
      "22194  31-10-2024 23:47       0.0        1.0\n",
      "22195  31-10-2024 23:51       0.0        1.0\n",
      "22196  31-10-2024 23:52       0.0        1.0\n",
      "22197  31-10-2024 23:56       0.0        1.0\n",
      "22198  31-10-2024 23:57       0.0        1.0\n",
      "\n",
      "[39696 rows x 3 columns]\n"
     ]
    }
   ],
   "source": [
    "\n",
    "url_api = \"https://platon.grc.upv.es/sensingtools-api/api/user-hard-sensors/hup4zYsBoTGoLusGWiIj/data\" \n",
    "sensores = [\"count_in\", \"count_out\"]\n",
    "fecha_inicio = \"10-09-2024 00:01\"\n",
    "fecha_fin = \"11-12-2024 00:01\"\n",
    "ubicaciones = ['hup4zYsBoTGoLusGWiIj_entrada-outdoor_38.02497_-0.65828_0']\n",
    "\n",
    "df_final = obtener_datos_api(url_api, sensores, fecha_inicio, fecha_fin, ubicaciones)\n"
   ]
  },
  {
   "cell_type": "code",
   "execution_count": 6,
   "metadata": {},
   "outputs": [
    {
     "data": {
      "application/vnd.microsoft.datawrangler.viewer.v0+json": {
       "columns": [
        {
         "name": "index",
         "rawType": "int64",
         "type": "integer"
        },
        {
         "name": "timestamp",
         "rawType": "object",
         "type": "string"
        },
        {
         "name": "count_in",
         "rawType": "Int64",
         "type": "integer"
        },
        {
         "name": "count_out",
         "rawType": "Int64",
         "type": "integer"
        },
        {
         "name": "people_inside",
         "rawType": "Int64",
         "type": "integer"
        }
       ],
       "conversionMethod": "pd.DataFrame",
       "ref": "d1ff9a70-4418-45b6-8e3c-235d7abd0f7c",
       "rows": [
        [
         "7929",
         "01-10-2024 00:01",
         "0",
         "0",
         "0"
        ],
        [
         "7930",
         "01-10-2024 00:06",
         "0",
         "0",
         "0"
        ],
        [
         "7931",
         "01-10-2024 00:11",
         "0",
         "0",
         "0"
        ],
        [
         "7932",
         "01-10-2024 00:16",
         "0",
         "0",
         "0"
        ],
        [
         "7933",
         "01-10-2024 00:21",
         "0",
         "0",
         "0"
        ],
        [
         "7934",
         "01-10-2024 00:26",
         "0",
         "0",
         "0"
        ],
        [
         "7935",
         "01-10-2024 00:31",
         "0",
         "0",
         "0"
        ],
        [
         "7936",
         "01-10-2024 00:36",
         "0",
         "0",
         "0"
        ],
        [
         "7937",
         "01-10-2024 00:41",
         "0",
         "0",
         "0"
        ],
        [
         "7938",
         "01-10-2024 00:46",
         "0",
         "0",
         "0"
        ],
        [
         "7939",
         "01-10-2024 00:51",
         "0",
         "0",
         "0"
        ],
        [
         "7940",
         "01-10-2024 00:56",
         "0",
         "0",
         "0"
        ],
        [
         "7941",
         "01-10-2024 01:01",
         "0",
         "0",
         "0"
        ],
        [
         "7942",
         "01-10-2024 01:06",
         "0",
         "0",
         "0"
        ],
        [
         "7943",
         "01-10-2024 01:11",
         "0",
         "0",
         "0"
        ],
        [
         "7944",
         "01-10-2024 01:16",
         "0",
         "0",
         "0"
        ],
        [
         "7945",
         "01-10-2024 01:21",
         "0",
         "0",
         "0"
        ],
        [
         "7946",
         "01-10-2024 01:26",
         "0",
         "0",
         "0"
        ],
        [
         "7947",
         "01-10-2024 01:31",
         "0",
         "0",
         "0"
        ],
        [
         "7948",
         "01-10-2024 01:36",
         "0",
         "0",
         "0"
        ],
        [
         "7949",
         "01-10-2024 01:41",
         "0",
         "0",
         "0"
        ],
        [
         "7950",
         "01-10-2024 01:46",
         "0",
         "0",
         "0"
        ],
        [
         "7951",
         "01-10-2024 01:51",
         "0",
         "0",
         "0"
        ],
        [
         "7952",
         "01-10-2024 01:56",
         "0",
         "0",
         "0"
        ],
        [
         "7953",
         "01-10-2024 02:01",
         "0",
         "0",
         "0"
        ],
        [
         "7954",
         "01-10-2024 02:06",
         "0",
         "0",
         "0"
        ],
        [
         "7955",
         "01-10-2024 02:11",
         "0",
         "0",
         "0"
        ],
        [
         "7956",
         "01-10-2024 02:16",
         "0",
         "0",
         "0"
        ],
        [
         "7957",
         "01-10-2024 02:21",
         "0",
         "0",
         "0"
        ],
        [
         "7958",
         "01-10-2024 02:26",
         "0",
         "0",
         "0"
        ],
        [
         "7959",
         "01-10-2024 02:31",
         "0",
         "0",
         "0"
        ],
        [
         "7960",
         "01-10-2024 02:36",
         "0",
         "0",
         "0"
        ],
        [
         "7961",
         "01-10-2024 02:41",
         "0",
         "0",
         "0"
        ],
        [
         "7962",
         "01-10-2024 02:46",
         "0",
         "0",
         "0"
        ],
        [
         "7963",
         "01-10-2024 02:51",
         "0",
         "0",
         "0"
        ],
        [
         "7964",
         "01-10-2024 02:56",
         "0",
         "0",
         "0"
        ],
        [
         "7965",
         "01-10-2024 03:01",
         "0",
         "0",
         "0"
        ],
        [
         "7966",
         "01-10-2024 03:06",
         "0",
         "0",
         "0"
        ],
        [
         "7967",
         "01-10-2024 03:11",
         "0",
         "0",
         "0"
        ],
        [
         "7968",
         "01-10-2024 03:16",
         "0",
         "0",
         "0"
        ],
        [
         "7969",
         "01-10-2024 03:21",
         "0",
         "0",
         "0"
        ],
        [
         "7970",
         "01-10-2024 03:26",
         "0",
         "0",
         "0"
        ],
        [
         "7971",
         "01-10-2024 03:31",
         "0",
         "0",
         "0"
        ],
        [
         "7972",
         "01-10-2024 03:36",
         "0",
         "0",
         "0"
        ],
        [
         "7973",
         "01-10-2024 03:41",
         "0",
         "0",
         "0"
        ],
        [
         "7974",
         "01-10-2024 03:46",
         "0",
         "0",
         "0"
        ],
        [
         "7975",
         "01-10-2024 03:51",
         "0",
         "0",
         "0"
        ],
        [
         "7976",
         "01-10-2024 03:56",
         "0",
         "0",
         "0"
        ],
        [
         "7977",
         "01-10-2024 04:01",
         "0",
         "0",
         "0"
        ],
        [
         "7978",
         "01-10-2024 04:06",
         "0",
         "0",
         "0"
        ]
       ],
       "shape": {
        "columns": 4,
        "rows": 39696
       }
      },
      "text/html": [
       "<div>\n",
       "<style scoped>\n",
       "    .dataframe tbody tr th:only-of-type {\n",
       "        vertical-align: middle;\n",
       "    }\n",
       "\n",
       "    .dataframe tbody tr th {\n",
       "        vertical-align: top;\n",
       "    }\n",
       "\n",
       "    .dataframe thead th {\n",
       "        text-align: right;\n",
       "    }\n",
       "</style>\n",
       "<table border=\"1\" class=\"dataframe\">\n",
       "  <thead>\n",
       "    <tr style=\"text-align: right;\">\n",
       "      <th></th>\n",
       "      <th>timestamp</th>\n",
       "      <th>count_in</th>\n",
       "      <th>count_out</th>\n",
       "      <th>people_inside</th>\n",
       "    </tr>\n",
       "  </thead>\n",
       "  <tbody>\n",
       "    <tr>\n",
       "      <th>7929</th>\n",
       "      <td>01-10-2024 00:01</td>\n",
       "      <td>0</td>\n",
       "      <td>0</td>\n",
       "      <td>0</td>\n",
       "    </tr>\n",
       "    <tr>\n",
       "      <th>7930</th>\n",
       "      <td>01-10-2024 00:06</td>\n",
       "      <td>0</td>\n",
       "      <td>0</td>\n",
       "      <td>0</td>\n",
       "    </tr>\n",
       "    <tr>\n",
       "      <th>7931</th>\n",
       "      <td>01-10-2024 00:11</td>\n",
       "      <td>0</td>\n",
       "      <td>0</td>\n",
       "      <td>0</td>\n",
       "    </tr>\n",
       "    <tr>\n",
       "      <th>7932</th>\n",
       "      <td>01-10-2024 00:16</td>\n",
       "      <td>0</td>\n",
       "      <td>0</td>\n",
       "      <td>0</td>\n",
       "    </tr>\n",
       "    <tr>\n",
       "      <th>7933</th>\n",
       "      <td>01-10-2024 00:21</td>\n",
       "      <td>0</td>\n",
       "      <td>0</td>\n",
       "      <td>0</td>\n",
       "    </tr>\n",
       "    <tr>\n",
       "      <th>...</th>\n",
       "      <td>...</td>\n",
       "      <td>...</td>\n",
       "      <td>...</td>\n",
       "      <td>...</td>\n",
       "    </tr>\n",
       "    <tr>\n",
       "      <th>22194</th>\n",
       "      <td>31-10-2024 23:47</td>\n",
       "      <td>0</td>\n",
       "      <td>1</td>\n",
       "      <td>-1</td>\n",
       "    </tr>\n",
       "    <tr>\n",
       "      <th>22195</th>\n",
       "      <td>31-10-2024 23:51</td>\n",
       "      <td>0</td>\n",
       "      <td>1</td>\n",
       "      <td>-1</td>\n",
       "    </tr>\n",
       "    <tr>\n",
       "      <th>22196</th>\n",
       "      <td>31-10-2024 23:52</td>\n",
       "      <td>0</td>\n",
       "      <td>1</td>\n",
       "      <td>-1</td>\n",
       "    </tr>\n",
       "    <tr>\n",
       "      <th>22197</th>\n",
       "      <td>31-10-2024 23:56</td>\n",
       "      <td>0</td>\n",
       "      <td>1</td>\n",
       "      <td>-1</td>\n",
       "    </tr>\n",
       "    <tr>\n",
       "      <th>22198</th>\n",
       "      <td>31-10-2024 23:57</td>\n",
       "      <td>0</td>\n",
       "      <td>1</td>\n",
       "      <td>-1</td>\n",
       "    </tr>\n",
       "  </tbody>\n",
       "</table>\n",
       "<p>39696 rows × 4 columns</p>\n",
       "</div>"
      ],
      "text/plain": [
       "              timestamp  count_in  count_out  people_inside\n",
       "7929   01-10-2024 00:01         0          0              0\n",
       "7930   01-10-2024 00:06         0          0              0\n",
       "7931   01-10-2024 00:11         0          0              0\n",
       "7932   01-10-2024 00:16         0          0              0\n",
       "7933   01-10-2024 00:21         0          0              0\n",
       "...                 ...       ...        ...            ...\n",
       "22194  31-10-2024 23:47         0          1             -1\n",
       "22195  31-10-2024 23:51         0          1             -1\n",
       "22196  31-10-2024 23:52         0          1             -1\n",
       "22197  31-10-2024 23:56         0          1             -1\n",
       "22198  31-10-2024 23:57         0          1             -1\n",
       "\n",
       "[39696 rows x 4 columns]"
      ]
     },
     "execution_count": 6,
     "metadata": {},
     "output_type": "execute_result"
    }
   ],
   "source": [
    "df_final[\"count_in\"] = df_final[\"count_in\"].astype('Int64')\n",
    "df_final[\"count_out\"] = df_final[\"count_out\"].astype('Int64')\n",
    "df_final[\"people_inside\"] = df_final[\"count_in\"] - df_final[\"count_out\"]\n",
    "df_final"
   ]
  }
 ],
 "metadata": {
  "kernelspec": {
   "display_name": "Python 3",
   "language": "python",
   "name": "python3"
  },
  "language_info": {
   "codemirror_mode": {
    "name": "ipython",
    "version": 3
   },
   "file_extension": ".py",
   "mimetype": "text/x-python",
   "name": "python",
   "nbconvert_exporter": "python",
   "pygments_lexer": "ipython3",
   "version": "3.11.9"
  }
 },
 "nbformat": 4,
 "nbformat_minor": 2
}
