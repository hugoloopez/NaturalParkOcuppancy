{
 "cells": [
  {
   "cell_type": "markdown",
   "metadata": {},
   "source": [
    "temperatura (e imagino que todos) datos cada 5 minutos\n",
    "\n",
    "parametros: \n",
    "- gente que entra\n",
    "- temperatura\n",
    "- "
   ]
  },
  {
   "cell_type": "markdown",
   "metadata": {},
   "source": [
    "## Datos de ocupación"
   ]
  },
  {
   "cell_type": "code",
   "execution_count": null,
   "metadata": {},
   "outputs": [],
   "source": [
    "import requests\n",
    "import datetime\n",
    "import time\n",
    "import pandas as pd\n",
    "import os\n",
    "\n",
    "def obtener_datos_api(base_url, sensor_type_names=None, from_date=None, to_date=None, location_ids=None, tipo=None):\n",
    "    \"\"\"\n",
    "    Extrae datos de una API en periodos de un mes y los guarda en un CSV consolidado.\n",
    "    \n",
    "    :param base_url: URL base de la API.\n",
    "    :param sensor_type_names: Lista de nombres de sensores a consultar (opcional).\n",
    "    :param from_date: Fecha de inicio en formato 'DD-MM-YYYY HH:MM' (opcional).\n",
    "    :param to_date: Fecha de fin en formato 'DD-MM-YYYY HH:MM' (opcional).\n",
    "    :param location_ids: Lista de IDs de ubicación (opcional).\n",
    "    :param tipo: \"aves\" para conteo de aves, o cualquier otro valor para datos de series.\n",
    "    :return: DataFrame consolidado con todos los datos.\n",
    "    \"\"\"\n",
    "    \n",
    "    def convertir_a_milisegundos(fecha_str):\n",
    "        dt = datetime.datetime.strptime(fecha_str, \"%d-%m-%Y %H:%M\")\n",
    "        return int(time.mktime(dt.timetuple()) * 1000)\n",
    "\n",
    "    def convertir_a_fecha(epoch_ms):\n",
    "        return datetime.datetime.fromtimestamp(epoch_ms / 1000).strftime(\"%d-%m-%Y %H:%M\")\n",
    "\n",
    "    if from_date is None:\n",
    "        from_date = (datetime.datetime.now() - datetime.timedelta(days=30)).strftime(\"%d-%m-%Y %H:%M\")\n",
    "    if to_date is None:\n",
    "        to_date = datetime.datetime.now().strftime(\"%d-%m-%Y %H:%M\")\n",
    "\n",
    "    from_epoch = convertir_a_milisegundos(from_date)\n",
    "    to_epoch = convertir_a_milisegundos(to_date)\n",
    "\n",
    "    datos_consolidados = {}\n",
    "    registros = []\n",
    "    periodo = 30 * 24 * 60 * 60 * 1000  # 1 mes en milisegundos\n",
    "\n",
    "    while from_epoch < to_epoch:\n",
    "        next_epoch = min(from_epoch + periodo, to_epoch)\n",
    "\n",
    "        params = {\n",
    "            \"fromDate\": from_epoch,\n",
    "            \"toDate\": next_epoch\n",
    "        }\n",
    "\n",
    "        if sensor_type_names:\n",
    "            params[\"sensorTypeNames\"] = \",\".join(sensor_type_names)\n",
    "        if location_ids:\n",
    "            params[\"locationIds\"] = \",\".join(map(str, location_ids))\n",
    "\n",
    "        try:\n",
    "            response = requests.get(base_url, params=params, verify=False)\n",
    "            response.raise_for_status()\n",
    "            data = response.json()\n",
    "        except Exception as e:\n",
    "            print(f\"Error en la petición: {e}\")\n",
    "            from_epoch = next_epoch\n",
    "            continue\n",
    "\n",
    "        print(f\"Procesando datos desde {convertir_a_fecha(from_epoch)} hasta {convertir_a_fecha(next_epoch)}\")\n",
    "\n",
    "        if tipo == \"aves\":\n",
    "            fecha = convertir_a_fecha(from_epoch)\n",
    "            if \"count\" in data and isinstance(data[\"count\"], list):\n",
    "                for ubicacion in data[\"count\"]:\n",
    "                    loc_id = ubicacion.get(\"location\", \"desconocido\")\n",
    "                    for especie, cantidad in ubicacion.get(\"count\", []):\n",
    "                        registros.append({\n",
    "                            \"timestamp\": fecha,\n",
    "                            \"location\": loc_id,\n",
    "                            \"species\": especie,\n",
    "                            \"count\": cantidad\n",
    "                        })\n",
    "            else:\n",
    "                print(\"La respuesta no contiene la clave 'count' esperada para tipo='aves'.\")\n",
    "\n",
    "        else:\n",
    "            if \"series\" in data:\n",
    "                for variable, series_dict in data[\"series\"].items():\n",
    "                    for series_id, puntos in series_dict.items():\n",
    "                        for timestamp, valor in puntos:\n",
    "                            fecha = convertir_a_fecha(timestamp)\n",
    "                            if fecha not in datos_consolidados:\n",
    "                                datos_consolidados[fecha] = {}\n",
    "                            datos_consolidados[fecha][variable] = valor\n",
    "            else:\n",
    "                print(\"La respuesta no contiene la clave 'series'.\")\n",
    "\n",
    "        from_epoch = next_epoch\n",
    "\n",
    "    os.makedirs(\"data\", exist_ok=True)\n",
    "\n",
    "    if tipo == \"aves\":\n",
    "        if not registros:\n",
    "            print(\"No se obtuvieron datos de aves.\")\n",
    "            return None\n",
    "\n",
    "        df_final = pd.DataFrame(registros)\n",
    "        df_final = df_final.sort_values([\"timestamp\", \"location\", \"species\"])\n",
    "        csv_filename = f\"data/datos_aves_{datetime.datetime.now().strftime('%Y%m%d_%H%M%S')}.csv\"\n",
    "        df_final.to_csv(csv_filename, index=False)\n",
    "\n",
    "    else:\n",
    "        if not datos_consolidados:\n",
    "            print(\"No se obtuvieron datos.\")\n",
    "            return None\n",
    "\n",
    "        df_final = pd.DataFrame.from_dict(datos_consolidados, orient=\"index\")\n",
    "        df_final.index.name = \"timestamp\"\n",
    "        df_final = df_final.reset_index()\n",
    "        df_final = df_final.sort_values(\"timestamp\")\n",
    "        csv_filename = f\"data/datos_series_{datetime.datetime.now().strftime('%Y%m%d_%H%M%S')}.csv\"\n",
    "        df_final.to_csv(csv_filename, index=False)\n",
    "\n",
    "    print(f\"Datos guardados en {csv_filename}\")\n",
    "    return df_final\n"
   ]
  },
  {
   "cell_type": "code",
   "execution_count": 14,
   "metadata": {},
   "outputs": [
    {
     "name": "stderr",
     "output_type": "stream",
     "text": [
      "C:\\Users\\hugol\\AppData\\Local\\Packages\\PythonSoftwareFoundation.Python.3.11_qbz5n2kfra8p0\\LocalCache\\local-packages\\Python311\\site-packages\\urllib3\\connectionpool.py:1099: InsecureRequestWarning: Unverified HTTPS request is being made to host 'platon.grc.upv.es'. Adding certificate verification is strongly advised. See: https://urllib3.readthedocs.io/en/latest/advanced-usage.html#tls-warnings\n",
      "  warnings.warn(\n"
     ]
    },
    {
     "name": "stdout",
     "output_type": "stream",
     "text": [
      "Procesando datos desde 10-09-2024 00:01 hasta 10-10-2024 00:01\n"
     ]
    },
    {
     "name": "stderr",
     "output_type": "stream",
     "text": [
      "C:\\Users\\hugol\\AppData\\Local\\Packages\\PythonSoftwareFoundation.Python.3.11_qbz5n2kfra8p0\\LocalCache\\local-packages\\Python311\\site-packages\\urllib3\\connectionpool.py:1099: InsecureRequestWarning: Unverified HTTPS request is being made to host 'platon.grc.upv.es'. Adding certificate verification is strongly advised. See: https://urllib3.readthedocs.io/en/latest/advanced-usage.html#tls-warnings\n",
      "  warnings.warn(\n"
     ]
    },
    {
     "name": "stdout",
     "output_type": "stream",
     "text": [
      "Procesando datos desde 10-10-2024 00:01 hasta 08-11-2024 23:01\n"
     ]
    },
    {
     "name": "stderr",
     "output_type": "stream",
     "text": [
      "C:\\Users\\hugol\\AppData\\Local\\Packages\\PythonSoftwareFoundation.Python.3.11_qbz5n2kfra8p0\\LocalCache\\local-packages\\Python311\\site-packages\\urllib3\\connectionpool.py:1099: InsecureRequestWarning: Unverified HTTPS request is being made to host 'platon.grc.upv.es'. Adding certificate verification is strongly advised. See: https://urllib3.readthedocs.io/en/latest/advanced-usage.html#tls-warnings\n",
      "  warnings.warn(\n"
     ]
    },
    {
     "name": "stdout",
     "output_type": "stream",
     "text": [
      "Procesando datos desde 08-11-2024 23:01 hasta 08-12-2024 23:01\n"
     ]
    },
    {
     "name": "stderr",
     "output_type": "stream",
     "text": [
      "C:\\Users\\hugol\\AppData\\Local\\Packages\\PythonSoftwareFoundation.Python.3.11_qbz5n2kfra8p0\\LocalCache\\local-packages\\Python311\\site-packages\\urllib3\\connectionpool.py:1099: InsecureRequestWarning: Unverified HTTPS request is being made to host 'platon.grc.upv.es'. Adding certificate verification is strongly advised. See: https://urllib3.readthedocs.io/en/latest/advanced-usage.html#tls-warnings\n",
      "  warnings.warn(\n"
     ]
    },
    {
     "name": "stdout",
     "output_type": "stream",
     "text": [
      "Procesando datos desde 08-12-2024 23:01 hasta 11-12-2024 00:01\n",
      "Datos guardados en data/datos_series_20250325_094824.csv\n"
     ]
    }
   ],
   "source": [
    "\n",
    "url_api = \"https://platon.grc.upv.es/sensingtools-api/api/user-hard-sensors/hup4zYsBoTGoLusGWiIj/data\" \n",
    "sensores = [\"count_in\", \"count_out\"]\n",
    "fecha_inicio = \"10-09-2024 00:01\"\n",
    "fecha_fin = \"11-12-2024 00:01\"\n",
    "ubicaciones = ['hup4zYsBoTGoLusGWiIj_entrada-outdoor_38.02497_-0.65828_0']\n",
    "\n",
    "df_final = obtener_datos_api(url_api, sensores, fecha_inicio, fecha_fin, ubicaciones)\n"
   ]
  },
  {
   "cell_type": "markdown",
   "metadata": {},
   "source": [
    "Ahora convertimos datos a integer  y creamos nueva variable `people_inside`  que representa el número de personas dentro del parque en el momento"
   ]
  },
  {
   "cell_type": "code",
   "execution_count": 11,
   "metadata": {},
   "outputs": [
    {
     "data": {
      "application/vnd.microsoft.datawrangler.viewer.v0+json": {
       "columns": [
        {
         "name": "index",
         "rawType": "int64",
         "type": "integer"
        },
        {
         "name": "timestamp",
         "rawType": "object",
         "type": "string"
        },
        {
         "name": "count_in",
         "rawType": "Int64",
         "type": "integer"
        },
        {
         "name": "count_out",
         "rawType": "Int64",
         "type": "integer"
        },
        {
         "name": "people_inside",
         "rawType": "Int64",
         "type": "integer"
        }
       ],
       "conversionMethod": "pd.DataFrame",
       "ref": "8550c547-57ec-4c47-ad16-e26d88f08107",
       "rows": [
        [
         "7929",
         "01-10-2024 00:01",
         "0",
         "0",
         "0"
        ],
        [
         "7930",
         "01-10-2024 00:06",
         "0",
         "0",
         "0"
        ],
        [
         "7931",
         "01-10-2024 00:11",
         "0",
         "0",
         "0"
        ],
        [
         "7932",
         "01-10-2024 00:16",
         "0",
         "0",
         "0"
        ],
        [
         "7933",
         "01-10-2024 00:21",
         "0",
         "0",
         "0"
        ],
        [
         "7934",
         "01-10-2024 00:26",
         "0",
         "0",
         "0"
        ],
        [
         "7935",
         "01-10-2024 00:31",
         "0",
         "0",
         "0"
        ],
        [
         "7936",
         "01-10-2024 00:36",
         "0",
         "0",
         "0"
        ],
        [
         "7937",
         "01-10-2024 00:41",
         "0",
         "0",
         "0"
        ],
        [
         "7938",
         "01-10-2024 00:46",
         "0",
         "0",
         "0"
        ],
        [
         "7939",
         "01-10-2024 00:51",
         "0",
         "0",
         "0"
        ],
        [
         "7940",
         "01-10-2024 00:56",
         "0",
         "0",
         "0"
        ],
        [
         "7941",
         "01-10-2024 01:01",
         "0",
         "0",
         "0"
        ],
        [
         "7942",
         "01-10-2024 01:06",
         "0",
         "0",
         "0"
        ],
        [
         "7943",
         "01-10-2024 01:11",
         "0",
         "0",
         "0"
        ],
        [
         "7944",
         "01-10-2024 01:16",
         "0",
         "0",
         "0"
        ],
        [
         "7945",
         "01-10-2024 01:21",
         "0",
         "0",
         "0"
        ],
        [
         "7946",
         "01-10-2024 01:26",
         "0",
         "0",
         "0"
        ],
        [
         "7947",
         "01-10-2024 01:31",
         "0",
         "0",
         "0"
        ],
        [
         "7948",
         "01-10-2024 01:36",
         "0",
         "0",
         "0"
        ],
        [
         "7949",
         "01-10-2024 01:41",
         "0",
         "0",
         "0"
        ],
        [
         "7950",
         "01-10-2024 01:46",
         "0",
         "0",
         "0"
        ],
        [
         "7951",
         "01-10-2024 01:51",
         "0",
         "0",
         "0"
        ],
        [
         "7952",
         "01-10-2024 01:56",
         "0",
         "0",
         "0"
        ],
        [
         "7953",
         "01-10-2024 02:01",
         "0",
         "0",
         "0"
        ],
        [
         "7954",
         "01-10-2024 02:06",
         "0",
         "0",
         "0"
        ],
        [
         "7955",
         "01-10-2024 02:11",
         "0",
         "0",
         "0"
        ],
        [
         "7956",
         "01-10-2024 02:16",
         "0",
         "0",
         "0"
        ],
        [
         "7957",
         "01-10-2024 02:21",
         "0",
         "0",
         "0"
        ],
        [
         "7958",
         "01-10-2024 02:26",
         "0",
         "0",
         "0"
        ],
        [
         "7959",
         "01-10-2024 02:31",
         "0",
         "0",
         "0"
        ],
        [
         "7960",
         "01-10-2024 02:36",
         "0",
         "0",
         "0"
        ],
        [
         "7961",
         "01-10-2024 02:41",
         "0",
         "0",
         "0"
        ],
        [
         "7962",
         "01-10-2024 02:46",
         "0",
         "0",
         "0"
        ],
        [
         "7963",
         "01-10-2024 02:51",
         "0",
         "0",
         "0"
        ],
        [
         "7964",
         "01-10-2024 02:56",
         "0",
         "0",
         "0"
        ],
        [
         "7965",
         "01-10-2024 03:01",
         "0",
         "0",
         "0"
        ],
        [
         "7966",
         "01-10-2024 03:06",
         "0",
         "0",
         "0"
        ],
        [
         "7967",
         "01-10-2024 03:11",
         "0",
         "0",
         "0"
        ],
        [
         "7968",
         "01-10-2024 03:16",
         "0",
         "0",
         "0"
        ],
        [
         "7969",
         "01-10-2024 03:21",
         "0",
         "0",
         "0"
        ],
        [
         "7970",
         "01-10-2024 03:26",
         "0",
         "0",
         "0"
        ],
        [
         "7971",
         "01-10-2024 03:31",
         "0",
         "0",
         "0"
        ],
        [
         "7972",
         "01-10-2024 03:36",
         "0",
         "0",
         "0"
        ],
        [
         "7973",
         "01-10-2024 03:41",
         "0",
         "0",
         "0"
        ],
        [
         "7974",
         "01-10-2024 03:46",
         "0",
         "0",
         "0"
        ],
        [
         "7975",
         "01-10-2024 03:51",
         "0",
         "0",
         "0"
        ],
        [
         "7976",
         "01-10-2024 03:56",
         "0",
         "0",
         "0"
        ],
        [
         "7977",
         "01-10-2024 04:01",
         "0",
         "0",
         "0"
        ],
        [
         "7978",
         "01-10-2024 04:06",
         "0",
         "0",
         "0"
        ]
       ],
       "shape": {
        "columns": 4,
        "rows": 39696
       }
      },
      "text/html": [
       "<div>\n",
       "<style scoped>\n",
       "    .dataframe tbody tr th:only-of-type {\n",
       "        vertical-align: middle;\n",
       "    }\n",
       "\n",
       "    .dataframe tbody tr th {\n",
       "        vertical-align: top;\n",
       "    }\n",
       "\n",
       "    .dataframe thead th {\n",
       "        text-align: right;\n",
       "    }\n",
       "</style>\n",
       "<table border=\"1\" class=\"dataframe\">\n",
       "  <thead>\n",
       "    <tr style=\"text-align: right;\">\n",
       "      <th></th>\n",
       "      <th>timestamp</th>\n",
       "      <th>count_in</th>\n",
       "      <th>count_out</th>\n",
       "      <th>people_inside</th>\n",
       "    </tr>\n",
       "  </thead>\n",
       "  <tbody>\n",
       "    <tr>\n",
       "      <th>7929</th>\n",
       "      <td>01-10-2024 00:01</td>\n",
       "      <td>0</td>\n",
       "      <td>0</td>\n",
       "      <td>0</td>\n",
       "    </tr>\n",
       "    <tr>\n",
       "      <th>7930</th>\n",
       "      <td>01-10-2024 00:06</td>\n",
       "      <td>0</td>\n",
       "      <td>0</td>\n",
       "      <td>0</td>\n",
       "    </tr>\n",
       "    <tr>\n",
       "      <th>7931</th>\n",
       "      <td>01-10-2024 00:11</td>\n",
       "      <td>0</td>\n",
       "      <td>0</td>\n",
       "      <td>0</td>\n",
       "    </tr>\n",
       "    <tr>\n",
       "      <th>7932</th>\n",
       "      <td>01-10-2024 00:16</td>\n",
       "      <td>0</td>\n",
       "      <td>0</td>\n",
       "      <td>0</td>\n",
       "    </tr>\n",
       "    <tr>\n",
       "      <th>7933</th>\n",
       "      <td>01-10-2024 00:21</td>\n",
       "      <td>0</td>\n",
       "      <td>0</td>\n",
       "      <td>0</td>\n",
       "    </tr>\n",
       "    <tr>\n",
       "      <th>...</th>\n",
       "      <td>...</td>\n",
       "      <td>...</td>\n",
       "      <td>...</td>\n",
       "      <td>...</td>\n",
       "    </tr>\n",
       "    <tr>\n",
       "      <th>22194</th>\n",
       "      <td>31-10-2024 23:47</td>\n",
       "      <td>0</td>\n",
       "      <td>1</td>\n",
       "      <td>-1</td>\n",
       "    </tr>\n",
       "    <tr>\n",
       "      <th>22195</th>\n",
       "      <td>31-10-2024 23:51</td>\n",
       "      <td>0</td>\n",
       "      <td>1</td>\n",
       "      <td>-1</td>\n",
       "    </tr>\n",
       "    <tr>\n",
       "      <th>22196</th>\n",
       "      <td>31-10-2024 23:52</td>\n",
       "      <td>0</td>\n",
       "      <td>1</td>\n",
       "      <td>-1</td>\n",
       "    </tr>\n",
       "    <tr>\n",
       "      <th>22197</th>\n",
       "      <td>31-10-2024 23:56</td>\n",
       "      <td>0</td>\n",
       "      <td>1</td>\n",
       "      <td>-1</td>\n",
       "    </tr>\n",
       "    <tr>\n",
       "      <th>22198</th>\n",
       "      <td>31-10-2024 23:57</td>\n",
       "      <td>0</td>\n",
       "      <td>1</td>\n",
       "      <td>-1</td>\n",
       "    </tr>\n",
       "  </tbody>\n",
       "</table>\n",
       "<p>39696 rows × 4 columns</p>\n",
       "</div>"
      ],
      "text/plain": [
       "              timestamp  count_in  count_out  people_inside\n",
       "7929   01-10-2024 00:01         0          0              0\n",
       "7930   01-10-2024 00:06         0          0              0\n",
       "7931   01-10-2024 00:11         0          0              0\n",
       "7932   01-10-2024 00:16         0          0              0\n",
       "7933   01-10-2024 00:21         0          0              0\n",
       "...                 ...       ...        ...            ...\n",
       "22194  31-10-2024 23:47         0          1             -1\n",
       "22195  31-10-2024 23:51         0          1             -1\n",
       "22196  31-10-2024 23:52         0          1             -1\n",
       "22197  31-10-2024 23:56         0          1             -1\n",
       "22198  31-10-2024 23:57         0          1             -1\n",
       "\n",
       "[39696 rows x 4 columns]"
      ]
     },
     "execution_count": 11,
     "metadata": {},
     "output_type": "execute_result"
    }
   ],
   "source": [
    "df_final[\"count_in\"] = df_final[\"count_in\"].astype('Int64')\n",
    "df_final[\"count_out\"] = df_final[\"count_out\"].astype('Int64')\n",
    "df_final[\"people_inside\"] = df_final[\"count_in\"] - df_final[\"count_out\"]\n",
    "df_final"
   ]
  },
  {
   "cell_type": "markdown",
   "metadata": {},
   "source": [
    "## Datos de clima"
   ]
  },
  {
   "cell_type": "code",
   "execution_count": 15,
   "metadata": {},
   "outputs": [
    {
     "name": "stderr",
     "output_type": "stream",
     "text": [
      "C:\\Users\\hugol\\AppData\\Local\\Packages\\PythonSoftwareFoundation.Python.3.11_qbz5n2kfra8p0\\LocalCache\\local-packages\\Python311\\site-packages\\urllib3\\connectionpool.py:1099: InsecureRequestWarning: Unverified HTTPS request is being made to host 'platon.grc.upv.es'. Adding certificate verification is strongly advised. See: https://urllib3.readthedocs.io/en/latest/advanced-usage.html#tls-warnings\n",
      "  warnings.warn(\n"
     ]
    },
    {
     "name": "stdout",
     "output_type": "stream",
     "text": [
      "Procesando datos desde 10-09-2024 00:01 hasta 10-10-2024 00:01\n"
     ]
    },
    {
     "name": "stderr",
     "output_type": "stream",
     "text": [
      "C:\\Users\\hugol\\AppData\\Local\\Packages\\PythonSoftwareFoundation.Python.3.11_qbz5n2kfra8p0\\LocalCache\\local-packages\\Python311\\site-packages\\urllib3\\connectionpool.py:1099: InsecureRequestWarning: Unverified HTTPS request is being made to host 'platon.grc.upv.es'. Adding certificate verification is strongly advised. See: https://urllib3.readthedocs.io/en/latest/advanced-usage.html#tls-warnings\n",
      "  warnings.warn(\n"
     ]
    },
    {
     "name": "stdout",
     "output_type": "stream",
     "text": [
      "Procesando datos desde 10-10-2024 00:01 hasta 08-11-2024 23:01\n"
     ]
    },
    {
     "name": "stderr",
     "output_type": "stream",
     "text": [
      "C:\\Users\\hugol\\AppData\\Local\\Packages\\PythonSoftwareFoundation.Python.3.11_qbz5n2kfra8p0\\LocalCache\\local-packages\\Python311\\site-packages\\urllib3\\connectionpool.py:1099: InsecureRequestWarning: Unverified HTTPS request is being made to host 'platon.grc.upv.es'. Adding certificate verification is strongly advised. See: https://urllib3.readthedocs.io/en/latest/advanced-usage.html#tls-warnings\n",
      "  warnings.warn(\n"
     ]
    },
    {
     "name": "stdout",
     "output_type": "stream",
     "text": [
      "Procesando datos desde 08-11-2024 23:01 hasta 08-12-2024 23:01\n",
      "Procesando datos desde 08-12-2024 23:01 hasta 11-12-2024 00:01\n"
     ]
    },
    {
     "name": "stderr",
     "output_type": "stream",
     "text": [
      "C:\\Users\\hugol\\AppData\\Local\\Packages\\PythonSoftwareFoundation.Python.3.11_qbz5n2kfra8p0\\LocalCache\\local-packages\\Python311\\site-packages\\urllib3\\connectionpool.py:1099: InsecureRequestWarning: Unverified HTTPS request is being made to host 'platon.grc.upv.es'. Adding certificate verification is strongly advised. See: https://urllib3.readthedocs.io/en/latest/advanced-usage.html#tls-warnings\n",
      "  warnings.warn(\n"
     ]
    },
    {
     "name": "stdout",
     "output_type": "stream",
     "text": [
      "Datos guardados en data/datos_series_20250325_095030.csv\n"
     ]
    }
   ],
   "source": [
    "\n",
    "url_api = \"https://platon.grc.upv.es/sensingtools-api/api/user-hard-sensors/5rTM-4sB-iVpGSRJcSJV/data\" \n",
    "sensores = [\"temperatura\", \"velocidadviento\", \"direccionviento\", \"intensidadlluvia\", \"radiacionsolar\"]\n",
    "fecha_inicio = \"10-09-2024 00:01\"\n",
    "fecha_fin = \"11-12-2024 00:01\"\n",
    "ubicaciones = ['5rTM-4sB-iVpGSRJcSJV_La Mata - Parque Natural_38.02519_-0.65845_0']\n",
    "\n",
    "df_meteo = obtener_datos_api(url_api, sensores, fecha_inicio, fecha_fin, ubicaciones)\n",
    "\n"
   ]
  },
  {
   "cell_type": "code",
   "execution_count": 4,
   "metadata": {},
   "outputs": [
    {
     "data": {
      "application/vnd.microsoft.datawrangler.viewer.v0+json": {
       "columns": [
        {
         "name": "index",
         "rawType": "int64",
         "type": "integer"
        },
        {
         "name": "timestamp",
         "rawType": "object",
         "type": "string"
        },
        {
         "name": "temperatura",
         "rawType": "float64",
         "type": "float"
        },
        {
         "name": "velocidadviento",
         "rawType": "int64",
         "type": "integer"
        },
        {
         "name": "intensidadlluvia",
         "rawType": "float64",
         "type": "float"
        }
       ],
       "conversionMethod": "pd.DataFrame",
       "ref": "1ee83f58-12e9-4fd4-8640-96f609aabb3a",
       "rows": [
        [
         "6040",
         "01-10-2024 00:00",
         "20.8",
         "0",
         "0.0"
        ],
        [
         "6041",
         "01-10-2024 00:05",
         "20.8",
         "0",
         "0.0"
        ],
        [
         "6042",
         "01-10-2024 00:10",
         "20.7",
         "0",
         "0.0"
        ],
        [
         "6043",
         "01-10-2024 00:15",
         "20.5",
         "0",
         "0.0"
        ],
        [
         "6044",
         "01-10-2024 00:20",
         "20.4",
         "0",
         "0.0"
        ],
        [
         "6045",
         "01-10-2024 00:25",
         "20.3",
         "0",
         "0.0"
        ],
        [
         "6046",
         "01-10-2024 00:30",
         "20.2",
         "0",
         "0.0"
        ],
        [
         "6047",
         "01-10-2024 00:35",
         "20.2",
         "0",
         "0.0"
        ],
        [
         "6048",
         "01-10-2024 00:40",
         "20.2",
         "0",
         "0.0"
        ],
        [
         "6049",
         "01-10-2024 00:45",
         "20.2",
         "0",
         "0.0"
        ],
        [
         "6050",
         "01-10-2024 00:50",
         "20.2",
         "0",
         "0.0"
        ],
        [
         "6051",
         "01-10-2024 00:55",
         "20.1",
         "0",
         "0.0"
        ],
        [
         "6052",
         "01-10-2024 01:00",
         "20.1",
         "0",
         "0.0"
        ],
        [
         "6053",
         "01-10-2024 01:05",
         "20.0",
         "0",
         "0.0"
        ],
        [
         "6054",
         "01-10-2024 01:10",
         "19.8",
         "2",
         "0.0"
        ],
        [
         "6055",
         "01-10-2024 01:15",
         "19.7",
         "2",
         "0.0"
        ],
        [
         "6056",
         "01-10-2024 01:20",
         "19.7",
         "0",
         "0.0"
        ],
        [
         "6057",
         "01-10-2024 01:25",
         "19.7",
         "0",
         "0.0"
        ],
        [
         "6058",
         "01-10-2024 01:30",
         "19.7",
         "2",
         "0.0"
        ],
        [
         "6059",
         "01-10-2024 01:35",
         "19.6",
         "0",
         "0.0"
        ],
        [
         "6060",
         "01-10-2024 01:40",
         "19.5",
         "0",
         "0.0"
        ],
        [
         "6061",
         "01-10-2024 01:45",
         "19.3",
         "0",
         "0.0"
        ],
        [
         "6062",
         "01-10-2024 01:50",
         "19.3",
         "0",
         "0.0"
        ],
        [
         "6063",
         "01-10-2024 01:55",
         "19.3",
         "0",
         "0.0"
        ],
        [
         "6064",
         "01-10-2024 02:00",
         "19.3",
         "0",
         "0.0"
        ],
        [
         "6065",
         "01-10-2024 02:05",
         "19.4",
         "0",
         "0.0"
        ],
        [
         "6066",
         "01-10-2024 02:10",
         "19.4",
         "0",
         "0.0"
        ],
        [
         "6067",
         "01-10-2024 02:15",
         "19.4",
         "0",
         "0.0"
        ],
        [
         "6068",
         "01-10-2024 02:20",
         "19.4",
         "0",
         "0.0"
        ],
        [
         "6069",
         "01-10-2024 02:25",
         "19.3",
         "0",
         "0.0"
        ],
        [
         "6070",
         "01-10-2024 02:30",
         "19.5",
         "0",
         "0.0"
        ],
        [
         "6071",
         "01-10-2024 02:35",
         "19.4",
         "0",
         "0.0"
        ],
        [
         "6072",
         "01-10-2024 02:40",
         "19.2",
         "0",
         "0.0"
        ],
        [
         "6073",
         "01-10-2024 02:45",
         "19.2",
         "0",
         "0.0"
        ],
        [
         "6074",
         "01-10-2024 02:50",
         "19.2",
         "0",
         "0.0"
        ],
        [
         "6075",
         "01-10-2024 02:55",
         "19.0",
         "0",
         "0.0"
        ],
        [
         "6076",
         "01-10-2024 03:00",
         "18.9",
         "0",
         "0.0"
        ],
        [
         "6077",
         "01-10-2024 03:05",
         "18.8",
         "0",
         "0.0"
        ],
        [
         "6078",
         "01-10-2024 03:10",
         "18.7",
         "0",
         "0.0"
        ],
        [
         "6079",
         "01-10-2024 03:15",
         "18.6",
         "0",
         "0.0"
        ],
        [
         "6080",
         "01-10-2024 03:20",
         "18.6",
         "0",
         "0.0"
        ],
        [
         "6081",
         "01-10-2024 03:25",
         "18.6",
         "0",
         "0.0"
        ],
        [
         "6082",
         "01-10-2024 03:30",
         "18.5",
         "2",
         "0.0"
        ],
        [
         "6083",
         "01-10-2024 03:35",
         "18.6",
         "2",
         "0.0"
        ],
        [
         "6084",
         "01-10-2024 03:40",
         "18.4",
         "2",
         "0.0"
        ],
        [
         "6085",
         "01-10-2024 03:45",
         "18.3",
         "2",
         "0.0"
        ],
        [
         "6086",
         "01-10-2024 03:50",
         "18.3",
         "0",
         "0.0"
        ],
        [
         "6087",
         "01-10-2024 03:55",
         "18.4",
         "2",
         "0.0"
        ],
        [
         "6088",
         "01-10-2024 04:00",
         "18.4",
         "0",
         "0.0"
        ],
        [
         "6089",
         "01-10-2024 04:05",
         "18.6",
         "0",
         "0.0"
        ]
       ],
       "shape": {
        "columns": 4,
        "rows": 26383
       }
      },
      "text/html": [
       "<div>\n",
       "<style scoped>\n",
       "    .dataframe tbody tr th:only-of-type {\n",
       "        vertical-align: middle;\n",
       "    }\n",
       "\n",
       "    .dataframe tbody tr th {\n",
       "        vertical-align: top;\n",
       "    }\n",
       "\n",
       "    .dataframe thead th {\n",
       "        text-align: right;\n",
       "    }\n",
       "</style>\n",
       "<table border=\"1\" class=\"dataframe\">\n",
       "  <thead>\n",
       "    <tr style=\"text-align: right;\">\n",
       "      <th></th>\n",
       "      <th>timestamp</th>\n",
       "      <th>temperatura</th>\n",
       "      <th>velocidadviento</th>\n",
       "      <th>intensidadlluvia</th>\n",
       "    </tr>\n",
       "  </thead>\n",
       "  <tbody>\n",
       "    <tr>\n",
       "      <th>6040</th>\n",
       "      <td>01-10-2024 00:00</td>\n",
       "      <td>20.8</td>\n",
       "      <td>0</td>\n",
       "      <td>0.0</td>\n",
       "    </tr>\n",
       "    <tr>\n",
       "      <th>6041</th>\n",
       "      <td>01-10-2024 00:05</td>\n",
       "      <td>20.8</td>\n",
       "      <td>0</td>\n",
       "      <td>0.0</td>\n",
       "    </tr>\n",
       "    <tr>\n",
       "      <th>6042</th>\n",
       "      <td>01-10-2024 00:10</td>\n",
       "      <td>20.7</td>\n",
       "      <td>0</td>\n",
       "      <td>0.0</td>\n",
       "    </tr>\n",
       "    <tr>\n",
       "      <th>6043</th>\n",
       "      <td>01-10-2024 00:15</td>\n",
       "      <td>20.5</td>\n",
       "      <td>0</td>\n",
       "      <td>0.0</td>\n",
       "    </tr>\n",
       "    <tr>\n",
       "      <th>6044</th>\n",
       "      <td>01-10-2024 00:20</td>\n",
       "      <td>20.4</td>\n",
       "      <td>0</td>\n",
       "      <td>0.0</td>\n",
       "    </tr>\n",
       "    <tr>\n",
       "      <th>...</th>\n",
       "      <td>...</td>\n",
       "      <td>...</td>\n",
       "      <td>...</td>\n",
       "      <td>...</td>\n",
       "    </tr>\n",
       "    <tr>\n",
       "      <th>14929</th>\n",
       "      <td>31-10-2024 23:35</td>\n",
       "      <td>18.2</td>\n",
       "      <td>0</td>\n",
       "      <td>0.0</td>\n",
       "    </tr>\n",
       "    <tr>\n",
       "      <th>14930</th>\n",
       "      <td>31-10-2024 23:40</td>\n",
       "      <td>18.1</td>\n",
       "      <td>0</td>\n",
       "      <td>0.0</td>\n",
       "    </tr>\n",
       "    <tr>\n",
       "      <th>14931</th>\n",
       "      <td>31-10-2024 23:45</td>\n",
       "      <td>18.1</td>\n",
       "      <td>0</td>\n",
       "      <td>0.0</td>\n",
       "    </tr>\n",
       "    <tr>\n",
       "      <th>14932</th>\n",
       "      <td>31-10-2024 23:50</td>\n",
       "      <td>17.9</td>\n",
       "      <td>0</td>\n",
       "      <td>0.0</td>\n",
       "    </tr>\n",
       "    <tr>\n",
       "      <th>14933</th>\n",
       "      <td>31-10-2024 23:55</td>\n",
       "      <td>18.0</td>\n",
       "      <td>0</td>\n",
       "      <td>0.0</td>\n",
       "    </tr>\n",
       "  </tbody>\n",
       "</table>\n",
       "<p>26383 rows × 4 columns</p>\n",
       "</div>"
      ],
      "text/plain": [
       "              timestamp  temperatura  velocidadviento  intensidadlluvia\n",
       "6040   01-10-2024 00:00         20.8                0               0.0\n",
       "6041   01-10-2024 00:05         20.8                0               0.0\n",
       "6042   01-10-2024 00:10         20.7                0               0.0\n",
       "6043   01-10-2024 00:15         20.5                0               0.0\n",
       "6044   01-10-2024 00:20         20.4                0               0.0\n",
       "...                 ...          ...              ...               ...\n",
       "14929  31-10-2024 23:35         18.2                0               0.0\n",
       "14930  31-10-2024 23:40         18.1                0               0.0\n",
       "14931  31-10-2024 23:45         18.1                0               0.0\n",
       "14932  31-10-2024 23:50         17.9                0               0.0\n",
       "14933  31-10-2024 23:55         18.0                0               0.0\n",
       "\n",
       "[26383 rows x 4 columns]"
      ]
     },
     "execution_count": 4,
     "metadata": {},
     "output_type": "execute_result"
    }
   ],
   "source": [
    "df_meteo"
   ]
  },
  {
   "cell_type": "markdown",
   "metadata": {},
   "source": [
    " ## Datos de aves"
   ]
  },
  {
   "cell_type": "code",
   "execution_count": 16,
   "metadata": {},
   "outputs": [
    {
     "name": "stderr",
     "output_type": "stream",
     "text": [
      "C:\\Users\\hugol\\AppData\\Local\\Packages\\PythonSoftwareFoundation.Python.3.11_qbz5n2kfra8p0\\LocalCache\\local-packages\\Python311\\site-packages\\urllib3\\connectionpool.py:1099: InsecureRequestWarning: Unverified HTTPS request is being made to host 'platon.grc.upv.es'. Adding certificate verification is strongly advised. See: https://urllib3.readthedocs.io/en/latest/advanced-usage.html#tls-warnings\n",
      "  warnings.warn(\n",
      "C:\\Users\\hugol\\AppData\\Local\\Packages\\PythonSoftwareFoundation.Python.3.11_qbz5n2kfra8p0\\LocalCache\\local-packages\\Python311\\site-packages\\urllib3\\connectionpool.py:1099: InsecureRequestWarning: Unverified HTTPS request is being made to host 'platon.grc.upv.es'. Adding certificate verification is strongly advised. See: https://urllib3.readthedocs.io/en/latest/advanced-usage.html#tls-warnings\n",
      "  warnings.warn(\n"
     ]
    },
    {
     "name": "stdout",
     "output_type": "stream",
     "text": [
      "Procesando datos desde 10-09-2024 00:01 hasta 10-10-2024 00:01\n",
      "Procesando datos desde 10-10-2024 00:01 hasta 08-11-2024 23:01\n",
      "Procesando datos desde 08-11-2024 23:01 hasta 08-12-2024 23:01\n",
      "Procesando datos desde 08-12-2024 23:01 hasta 11-12-2024 00:01\n",
      "Datos guardados en data/datos_aves_20250325_095049.csv\n"
     ]
    },
    {
     "name": "stderr",
     "output_type": "stream",
     "text": [
      "C:\\Users\\hugol\\AppData\\Local\\Packages\\PythonSoftwareFoundation.Python.3.11_qbz5n2kfra8p0\\LocalCache\\local-packages\\Python311\\site-packages\\urllib3\\connectionpool.py:1099: InsecureRequestWarning: Unverified HTTPS request is being made to host 'platon.grc.upv.es'. Adding certificate verification is strongly advised. See: https://urllib3.readthedocs.io/en/latest/advanced-usage.html#tls-warnings\n",
      "  warnings.warn(\n",
      "C:\\Users\\hugol\\AppData\\Local\\Packages\\PythonSoftwareFoundation.Python.3.11_qbz5n2kfra8p0\\LocalCache\\local-packages\\Python311\\site-packages\\urllib3\\connectionpool.py:1099: InsecureRequestWarning: Unverified HTTPS request is being made to host 'platon.grc.upv.es'. Adding certificate verification is strongly advised. See: https://urllib3.readthedocs.io/en/latest/advanced-usage.html#tls-warnings\n",
      "  warnings.warn(\n"
     ]
    }
   ],
   "source": [
    "url_api = \"https://platon.grc.upv.es/sensingtools-api/api/user-hard-sensors/jBAFzo8B1ljoqTiFuu2B/data/count?/\" \n",
    "sensores = []\n",
    "fecha_inicio = \"10-09-2024 00:01\"\n",
    "fecha_fin = \"11-12-2024 00:01\"\n",
    "ubicaciones = []\n",
    "\n",
    "df_aves = obtener_datos_api(url_api, sensores, fecha_inicio, fecha_fin, ubicaciones, \"aves\")"
   ]
  },
  {
   "cell_type": "markdown",
   "metadata": {},
   "source": [
    "# METHOD"
   ]
  },
  {
   "cell_type": "markdown",
   "metadata": {},
   "source": [
    "## Data Analitics:\n",
    "\n",
    "- Data curation\n",
    "- Data description\n",
    "- Data Inference\n"
   ]
  },
  {
   "cell_type": "markdown",
   "metadata": {},
   "source": [
    "## Data Visualization"
   ]
  },
  {
   "cell_type": "markdown",
   "metadata": {},
   "source": [
    "- time series using timeGPT / Prohet / ...\n",
    "LOOK FOR THE BEST TECHNIQUE FOR OUR DATA"
   ]
  },
  {
   "cell_type": "markdown",
   "metadata": {},
   "source": []
  }
 ],
 "metadata": {
  "kernelspec": {
   "display_name": "Python 3",
   "language": "python",
   "name": "python3"
  },
  "language_info": {
   "codemirror_mode": {
    "name": "ipython",
    "version": 3
   },
   "file_extension": ".py",
   "mimetype": "text/x-python",
   "name": "python",
   "nbconvert_exporter": "python",
   "pygments_lexer": "ipython3",
   "version": "3.11.9"
  }
 },
 "nbformat": 4,
 "nbformat_minor": 2
}
