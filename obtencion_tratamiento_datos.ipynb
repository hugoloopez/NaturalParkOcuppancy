{
 "cells": [
  {
   "cell_type": "code",
   "execution_count": 2,
   "metadata": {},
   "outputs": [],
   "source": [
    "import pandas as pd"
   ]
  },
  {
   "cell_type": "markdown",
   "metadata": {},
   "source": [
    "temperatura (e imagino que todos) datos cada 5 minutos\n",
    "\n",
    "parametros: \n",
    "- gente que entra\n",
    "- temperatura\n",
    "- "
   ]
  },
  {
   "cell_type": "markdown",
   "metadata": {},
   "source": [
    "## Datos de ocupación"
   ]
  },
  {
   "cell_type": "code",
   "execution_count": null,
   "metadata": {},
   "outputs": [],
   "source": [
    "import requests\n",
    "import datetime\n",
    "import time\n",
    "import pandas as pd\n",
    "import os\n",
    "\n",
    "def obtener_datos_api(base_url, sensor_type_names=None, from_date=None, to_date=None, location_ids=None, tipo=None):\n",
    "    \"\"\"\n",
    "    Extrae datos de una API en periodos de un mes y los guarda en un CSV consolidado.\n",
    "    \n",
    "    :param base_url: URL base de la API.\n",
    "    :param sensor_type_names: Lista de nombres de sensores a consultar (opcional).\n",
    "    :param from_date: Fecha de inicio en formato 'DD-MM-YYYY HH:MM' (opcional).\n",
    "    :param to_date: Fecha de fin en formato 'DD-MM-YYYY HH:MM' (opcional).\n",
    "    :param location_ids: Lista de IDs de ubicación (opcional).\n",
    "    :param tipo: \"aves\" para conteo de aves, o cualquier otro valor para datos de series.\n",
    "    :return: DataFrame consolidado con todos los datos.\n",
    "    \"\"\"\n",
    "    \n",
    "    def convertir_a_milisegundos(fecha_str):\n",
    "        dt = datetime.datetime.strptime(fecha_str, \"%d-%m-%Y %H:%M\")\n",
    "        return int(time.mktime(dt.timetuple()) * 1000)\n",
    "\n",
    "    def convertir_a_fecha(epoch_ms):\n",
    "        return datetime.datetime.fromtimestamp(epoch_ms / 1000).strftime(\"%d-%m-%Y %H:%M\")\n",
    "\n",
    "    if from_date is None:\n",
    "        from_date = (datetime.datetime.now() - datetime.timedelta(days=30)).strftime(\"%d-%m-%Y %H:%M\")\n",
    "    if to_date is None:\n",
    "        to_date = datetime.datetime.now().strftime(\"%d-%m-%Y %H:%M\")\n",
    "\n",
    "    from_epoch = convertir_a_milisegundos(from_date)\n",
    "    to_epoch = convertir_a_milisegundos(to_date)\n",
    "\n",
    "    datos_consolidados = {}\n",
    "    registros = []\n",
    "    periodo = 30 * 24 * 60 * 60 * 1000  # 1 mes en milisegundos\n",
    "\n",
    "    while from_epoch < to_epoch:\n",
    "        next_epoch = min(from_epoch + periodo, to_epoch)\n",
    "\n",
    "        params = {\n",
    "            \"fromDate\": from_epoch,\n",
    "            \"toDate\": next_epoch\n",
    "        }\n",
    "\n",
    "        if sensor_type_names:\n",
    "            params[\"sensorTypeNames\"] = \",\".join(sensor_type_names)\n",
    "        if location_ids:\n",
    "            params[\"locationIds\"] = \",\".join(map(str, location_ids))\n",
    "\n",
    "        try:\n",
    "            response = requests.get(base_url, params=params, verify=False)\n",
    "            response.raise_for_status()\n",
    "            data = response.json()\n",
    "        except Exception as e:\n",
    "            print(f\"Error en la petición: {e}\")\n",
    "            from_epoch = next_epoch\n",
    "            continue\n",
    "\n",
    "        print(f\"Procesando datos desde {convertir_a_fecha(from_epoch)} hasta {convertir_a_fecha(next_epoch)}\")\n",
    "\n",
    "        if tipo == \"aves\":\n",
    "            fecha = convertir_a_fecha(from_epoch)\n",
    "            if \"count\" in data and isinstance(data[\"count\"], list):\n",
    "                for ubicacion in data[\"count\"]:\n",
    "                    loc_id = ubicacion.get(\"location\", \"desconocido\")\n",
    "                    for especie, cantidad in ubicacion.get(\"count\", []):\n",
    "                        registros.append({\n",
    "                            \"timestamp\": fecha,\n",
    "                            \"location\": loc_id,\n",
    "                            \"species\": especie,\n",
    "                            \"count\": cantidad\n",
    "                        })\n",
    "            else:\n",
    "                print(\"La respuesta no contiene la clave 'count' esperada para tipo='aves'.\")\n",
    "\n",
    "        else:\n",
    "            if \"series\" in data:\n",
    "                for variable, series_dict in data[\"series\"].items():\n",
    "                    for series_id, puntos in series_dict.items():\n",
    "                        for timestamp, valor in puntos:\n",
    "                            fecha = convertir_a_fecha(timestamp)\n",
    "                            if fecha not in datos_consolidados:\n",
    "                                datos_consolidados[fecha] = {}\n",
    "                            datos_consolidados[fecha][variable] = valor\n",
    "            else:\n",
    "                print(\"La respuesta no contiene la clave 'series'.\")\n",
    "\n",
    "        from_epoch = next_epoch\n",
    "\n",
    "    os.makedirs(\"data\", exist_ok=True)\n",
    "\n",
    "    if tipo == \"aves\":\n",
    "        if not registros:\n",
    "            print(\"No se obtuvieron datos de aves.\")\n",
    "            return None\n",
    "\n",
    "        df_final = pd.DataFrame(registros)\n",
    "        df_final = df_final.sort_values([\"timestamp\", \"location\", \"species\"])\n",
    "        csv_filename = f\"data/datos_aves_{datetime.datetime.now().strftime('%Y%m%d_%H%M%S')}.csv\"\n",
    "        df_final.to_csv(csv_filename, index=False)\n",
    "\n",
    "    else:\n",
    "        if not datos_consolidados:\n",
    "            print(\"No se obtuvieron datos.\")\n",
    "            return None\n",
    "\n",
    "        df_final = pd.DataFrame.from_dict(datos_consolidados, orient=\"index\")\n",
    "        df_final.index.name = \"timestamp\"\n",
    "        df_final = df_final.reset_index()\n",
    "        df_final = df_final.sort_values(\"timestamp\")\n",
    "        csv_filename = f\"data/datos_series_{datetime.datetime.now().strftime('%Y%m%d_%H%M%S')}.csv\"\n",
    "        df_final.to_csv(csv_filename, index=False)\n",
    "\n",
    "    print(f\"Datos guardados en {csv_filename}\")\n",
    "    return df_final\n"
   ]
  },
  {
   "cell_type": "code",
   "execution_count": 14,
   "metadata": {},
   "outputs": [
    {
     "name": "stderr",
     "output_type": "stream",
     "text": [
      "C:\\Users\\hugol\\AppData\\Local\\Packages\\PythonSoftwareFoundation.Python.3.11_qbz5n2kfra8p0\\LocalCache\\local-packages\\Python311\\site-packages\\urllib3\\connectionpool.py:1099: InsecureRequestWarning: Unverified HTTPS request is being made to host 'platon.grc.upv.es'. Adding certificate verification is strongly advised. See: https://urllib3.readthedocs.io/en/latest/advanced-usage.html#tls-warnings\n",
      "  warnings.warn(\n"
     ]
    },
    {
     "name": "stdout",
     "output_type": "stream",
     "text": [
      "Procesando datos desde 10-09-2024 00:01 hasta 10-10-2024 00:01\n"
     ]
    },
    {
     "name": "stderr",
     "output_type": "stream",
     "text": [
      "C:\\Users\\hugol\\AppData\\Local\\Packages\\PythonSoftwareFoundation.Python.3.11_qbz5n2kfra8p0\\LocalCache\\local-packages\\Python311\\site-packages\\urllib3\\connectionpool.py:1099: InsecureRequestWarning: Unverified HTTPS request is being made to host 'platon.grc.upv.es'. Adding certificate verification is strongly advised. See: https://urllib3.readthedocs.io/en/latest/advanced-usage.html#tls-warnings\n",
      "  warnings.warn(\n"
     ]
    },
    {
     "name": "stdout",
     "output_type": "stream",
     "text": [
      "Procesando datos desde 10-10-2024 00:01 hasta 08-11-2024 23:01\n"
     ]
    },
    {
     "name": "stderr",
     "output_type": "stream",
     "text": [
      "C:\\Users\\hugol\\AppData\\Local\\Packages\\PythonSoftwareFoundation.Python.3.11_qbz5n2kfra8p0\\LocalCache\\local-packages\\Python311\\site-packages\\urllib3\\connectionpool.py:1099: InsecureRequestWarning: Unverified HTTPS request is being made to host 'platon.grc.upv.es'. Adding certificate verification is strongly advised. See: https://urllib3.readthedocs.io/en/latest/advanced-usage.html#tls-warnings\n",
      "  warnings.warn(\n"
     ]
    },
    {
     "name": "stdout",
     "output_type": "stream",
     "text": [
      "Procesando datos desde 08-11-2024 23:01 hasta 08-12-2024 23:01\n"
     ]
    },
    {
     "name": "stderr",
     "output_type": "stream",
     "text": [
      "C:\\Users\\hugol\\AppData\\Local\\Packages\\PythonSoftwareFoundation.Python.3.11_qbz5n2kfra8p0\\LocalCache\\local-packages\\Python311\\site-packages\\urllib3\\connectionpool.py:1099: InsecureRequestWarning: Unverified HTTPS request is being made to host 'platon.grc.upv.es'. Adding certificate verification is strongly advised. See: https://urllib3.readthedocs.io/en/latest/advanced-usage.html#tls-warnings\n",
      "  warnings.warn(\n"
     ]
    },
    {
     "name": "stdout",
     "output_type": "stream",
     "text": [
      "Procesando datos desde 08-12-2024 23:01 hasta 11-12-2024 00:01\n",
      "Datos guardados en data/datos_series_20250325_094824.csv\n"
     ]
    }
   ],
   "source": [
    "\n",
    "url_api = \"https://platon.grc.upv.es/sensingtools-api/api/user-hard-sensors/hup4zYsBoTGoLusGWiIj/data\" \n",
    "sensores = [\"count_in\", \"count_out\"]\n",
    "fecha_inicio = \"10-09-2024 00:01\"\n",
    "fecha_fin = \"11-12-2024 00:01\"\n",
    "ubicaciones = ['hup4zYsBoTGoLusGWiIj_entrada-outdoor_38.02497_-0.65828_0']\n",
    "\n",
    "df_final = obtener_datos_api(url_api, sensores, fecha_inicio, fecha_fin, ubicaciones)\n"
   ]
  },
  {
   "cell_type": "markdown",
   "metadata": {},
   "source": [
    "Ahora convertimos datos a integer  y creamos nueva variable `people_inside`  que representa el número de personas dentro del parque en el momento"
   ]
  },
  {
   "cell_type": "code",
   "execution_count": 17,
   "metadata": {},
   "outputs": [
    {
     "data": {
      "application/vnd.microsoft.datawrangler.viewer.v0+json": {
       "columns": [
        {
         "name": "index",
         "rawType": "int64",
         "type": "integer"
        },
        {
         "name": "timestamp",
         "rawType": "object",
         "type": "string"
        },
        {
         "name": "count_in",
         "rawType": "Int64",
         "type": "integer"
        },
        {
         "name": "count_out",
         "rawType": "Int64",
         "type": "integer"
        },
        {
         "name": "people_inside",
         "rawType": "Int64",
         "type": "integer"
        }
       ],
       "conversionMethod": "pd.DataFrame",
       "ref": "bdbe7ac4-b40b-422c-abe0-e48f3ef7f023",
       "rows": [
        [
         "0",
         "01-10-2024 00:01",
         "0",
         "0",
         "0"
        ],
        [
         "1",
         "01-10-2024 00:06",
         "0",
         "0",
         "0"
        ],
        [
         "2",
         "01-10-2024 00:11",
         "0",
         "0",
         "0"
        ],
        [
         "3",
         "01-10-2024 00:16",
         "0",
         "0",
         "0"
        ],
        [
         "4",
         "01-10-2024 00:21",
         "0",
         "0",
         "0"
        ],
        [
         "5",
         "01-10-2024 00:26",
         "0",
         "0",
         "0"
        ],
        [
         "6",
         "01-10-2024 00:31",
         "0",
         "0",
         "0"
        ],
        [
         "7",
         "01-10-2024 00:36",
         "0",
         "0",
         "0"
        ],
        [
         "8",
         "01-10-2024 00:41",
         "0",
         "0",
         "0"
        ],
        [
         "9",
         "01-10-2024 00:46",
         "0",
         "0",
         "0"
        ],
        [
         "10",
         "01-10-2024 00:51",
         "0",
         "0",
         "0"
        ],
        [
         "11",
         "01-10-2024 00:56",
         "0",
         "0",
         "0"
        ],
        [
         "12",
         "01-10-2024 01:01",
         "0",
         "0",
         "0"
        ],
        [
         "13",
         "01-10-2024 01:06",
         "0",
         "0",
         "0"
        ],
        [
         "14",
         "01-10-2024 01:11",
         "0",
         "0",
         "0"
        ],
        [
         "15",
         "01-10-2024 01:16",
         "0",
         "0",
         "0"
        ],
        [
         "16",
         "01-10-2024 01:21",
         "0",
         "0",
         "0"
        ],
        [
         "17",
         "01-10-2024 01:26",
         "0",
         "0",
         "0"
        ],
        [
         "18",
         "01-10-2024 01:31",
         "0",
         "0",
         "0"
        ],
        [
         "19",
         "01-10-2024 01:36",
         "0",
         "0",
         "0"
        ],
        [
         "20",
         "01-10-2024 01:41",
         "0",
         "0",
         "0"
        ],
        [
         "21",
         "01-10-2024 01:46",
         "0",
         "0",
         "0"
        ],
        [
         "22",
         "01-10-2024 01:51",
         "0",
         "0",
         "0"
        ],
        [
         "23",
         "01-10-2024 01:56",
         "0",
         "0",
         "0"
        ],
        [
         "24",
         "01-10-2024 02:01",
         "0",
         "0",
         "0"
        ],
        [
         "25",
         "01-10-2024 02:06",
         "0",
         "0",
         "0"
        ],
        [
         "26",
         "01-10-2024 02:11",
         "0",
         "0",
         "0"
        ],
        [
         "27",
         "01-10-2024 02:16",
         "0",
         "0",
         "0"
        ],
        [
         "28",
         "01-10-2024 02:21",
         "0",
         "0",
         "0"
        ],
        [
         "29",
         "01-10-2024 02:26",
         "0",
         "0",
         "0"
        ],
        [
         "30",
         "01-10-2024 02:31",
         "0",
         "0",
         "0"
        ],
        [
         "31",
         "01-10-2024 02:36",
         "0",
         "0",
         "0"
        ],
        [
         "32",
         "01-10-2024 02:41",
         "0",
         "0",
         "0"
        ],
        [
         "33",
         "01-10-2024 02:46",
         "0",
         "0",
         "0"
        ],
        [
         "34",
         "01-10-2024 02:51",
         "0",
         "0",
         "0"
        ],
        [
         "35",
         "01-10-2024 02:56",
         "0",
         "0",
         "0"
        ],
        [
         "36",
         "01-10-2024 03:01",
         "0",
         "0",
         "0"
        ],
        [
         "37",
         "01-10-2024 03:06",
         "0",
         "0",
         "0"
        ],
        [
         "38",
         "01-10-2024 03:11",
         "0",
         "0",
         "0"
        ],
        [
         "39",
         "01-10-2024 03:16",
         "0",
         "0",
         "0"
        ],
        [
         "40",
         "01-10-2024 03:21",
         "0",
         "0",
         "0"
        ],
        [
         "41",
         "01-10-2024 03:26",
         "0",
         "0",
         "0"
        ],
        [
         "42",
         "01-10-2024 03:31",
         "0",
         "0",
         "0"
        ],
        [
         "43",
         "01-10-2024 03:36",
         "0",
         "0",
         "0"
        ],
        [
         "44",
         "01-10-2024 03:41",
         "0",
         "0",
         "0"
        ],
        [
         "45",
         "01-10-2024 03:46",
         "0",
         "0",
         "0"
        ],
        [
         "46",
         "01-10-2024 03:51",
         "0",
         "0",
         "0"
        ],
        [
         "47",
         "01-10-2024 03:56",
         "0",
         "0",
         "0"
        ],
        [
         "48",
         "01-10-2024 04:01",
         "0",
         "0",
         "0"
        ],
        [
         "49",
         "01-10-2024 04:06",
         "0",
         "0",
         "0"
        ]
       ],
       "shape": {
        "columns": 4,
        "rows": 39696
       }
      },
      "text/html": [
       "<div>\n",
       "<style scoped>\n",
       "    .dataframe tbody tr th:only-of-type {\n",
       "        vertical-align: middle;\n",
       "    }\n",
       "\n",
       "    .dataframe tbody tr th {\n",
       "        vertical-align: top;\n",
       "    }\n",
       "\n",
       "    .dataframe thead th {\n",
       "        text-align: right;\n",
       "    }\n",
       "</style>\n",
       "<table border=\"1\" class=\"dataframe\">\n",
       "  <thead>\n",
       "    <tr style=\"text-align: right;\">\n",
       "      <th></th>\n",
       "      <th>timestamp</th>\n",
       "      <th>count_in</th>\n",
       "      <th>count_out</th>\n",
       "      <th>people_inside</th>\n",
       "    </tr>\n",
       "  </thead>\n",
       "  <tbody>\n",
       "    <tr>\n",
       "      <th>0</th>\n",
       "      <td>01-10-2024 00:01</td>\n",
       "      <td>0</td>\n",
       "      <td>0</td>\n",
       "      <td>0</td>\n",
       "    </tr>\n",
       "    <tr>\n",
       "      <th>1</th>\n",
       "      <td>01-10-2024 00:06</td>\n",
       "      <td>0</td>\n",
       "      <td>0</td>\n",
       "      <td>0</td>\n",
       "    </tr>\n",
       "    <tr>\n",
       "      <th>2</th>\n",
       "      <td>01-10-2024 00:11</td>\n",
       "      <td>0</td>\n",
       "      <td>0</td>\n",
       "      <td>0</td>\n",
       "    </tr>\n",
       "    <tr>\n",
       "      <th>3</th>\n",
       "      <td>01-10-2024 00:16</td>\n",
       "      <td>0</td>\n",
       "      <td>0</td>\n",
       "      <td>0</td>\n",
       "    </tr>\n",
       "    <tr>\n",
       "      <th>4</th>\n",
       "      <td>01-10-2024 00:21</td>\n",
       "      <td>0</td>\n",
       "      <td>0</td>\n",
       "      <td>0</td>\n",
       "    </tr>\n",
       "    <tr>\n",
       "      <th>...</th>\n",
       "      <td>...</td>\n",
       "      <td>...</td>\n",
       "      <td>...</td>\n",
       "      <td>...</td>\n",
       "    </tr>\n",
       "    <tr>\n",
       "      <th>39691</th>\n",
       "      <td>31-10-2024 23:47</td>\n",
       "      <td>0</td>\n",
       "      <td>1</td>\n",
       "      <td>-1</td>\n",
       "    </tr>\n",
       "    <tr>\n",
       "      <th>39692</th>\n",
       "      <td>31-10-2024 23:51</td>\n",
       "      <td>0</td>\n",
       "      <td>1</td>\n",
       "      <td>-1</td>\n",
       "    </tr>\n",
       "    <tr>\n",
       "      <th>39693</th>\n",
       "      <td>31-10-2024 23:52</td>\n",
       "      <td>0</td>\n",
       "      <td>1</td>\n",
       "      <td>-1</td>\n",
       "    </tr>\n",
       "    <tr>\n",
       "      <th>39694</th>\n",
       "      <td>31-10-2024 23:56</td>\n",
       "      <td>0</td>\n",
       "      <td>1</td>\n",
       "      <td>-1</td>\n",
       "    </tr>\n",
       "    <tr>\n",
       "      <th>39695</th>\n",
       "      <td>31-10-2024 23:57</td>\n",
       "      <td>0</td>\n",
       "      <td>1</td>\n",
       "      <td>-1</td>\n",
       "    </tr>\n",
       "  </tbody>\n",
       "</table>\n",
       "<p>39696 rows × 4 columns</p>\n",
       "</div>"
      ],
      "text/plain": [
       "              timestamp  count_in  count_out  people_inside\n",
       "0      01-10-2024 00:01         0          0              0\n",
       "1      01-10-2024 00:06         0          0              0\n",
       "2      01-10-2024 00:11         0          0              0\n",
       "3      01-10-2024 00:16         0          0              0\n",
       "4      01-10-2024 00:21         0          0              0\n",
       "...                 ...       ...        ...            ...\n",
       "39691  31-10-2024 23:47         0          1             -1\n",
       "39692  31-10-2024 23:51         0          1             -1\n",
       "39693  31-10-2024 23:52         0          1             -1\n",
       "39694  31-10-2024 23:56         0          1             -1\n",
       "39695  31-10-2024 23:57         0          1             -1\n",
       "\n",
       "[39696 rows x 4 columns]"
      ]
     },
     "execution_count": 17,
     "metadata": {},
     "output_type": "execute_result"
    }
   ],
   "source": [
    "df_final = pd.read_csv(\"data/datos_ocupacion.csv\")\n",
    "df_final[\"count_in\"] = df_final[\"count_in\"].astype('Int64')\n",
    "df_final[\"count_out\"] = df_final[\"count_out\"].astype('Int64')\n",
    "df_final[\"people_inside\"] = df_final[\"count_in\"] - df_final[\"count_out\"]\n",
    "df_final"
   ]
  },
  {
   "cell_type": "markdown",
   "metadata": {},
   "source": [
    "## Datos de clima"
   ]
  },
  {
   "cell_type": "code",
   "execution_count": 20,
   "metadata": {},
   "outputs": [
    {
     "name": "stderr",
     "output_type": "stream",
     "text": [
      "C:\\Users\\hugol\\AppData\\Local\\Packages\\PythonSoftwareFoundation.Python.3.11_qbz5n2kfra8p0\\LocalCache\\local-packages\\Python311\\site-packages\\urllib3\\connectionpool.py:1099: InsecureRequestWarning: Unverified HTTPS request is being made to host 'platon.grc.upv.es'. Adding certificate verification is strongly advised. See: https://urllib3.readthedocs.io/en/latest/advanced-usage.html#tls-warnings\n",
      "  warnings.warn(\n"
     ]
    },
    {
     "name": "stdout",
     "output_type": "stream",
     "text": [
      "Procesando datos desde 10-09-2024 00:01 hasta 10-10-2024 00:01\n"
     ]
    },
    {
     "name": "stderr",
     "output_type": "stream",
     "text": [
      "C:\\Users\\hugol\\AppData\\Local\\Packages\\PythonSoftwareFoundation.Python.3.11_qbz5n2kfra8p0\\LocalCache\\local-packages\\Python311\\site-packages\\urllib3\\connectionpool.py:1099: InsecureRequestWarning: Unverified HTTPS request is being made to host 'platon.grc.upv.es'. Adding certificate verification is strongly advised. See: https://urllib3.readthedocs.io/en/latest/advanced-usage.html#tls-warnings\n",
      "  warnings.warn(\n"
     ]
    },
    {
     "name": "stdout",
     "output_type": "stream",
     "text": [
      "Procesando datos desde 10-10-2024 00:01 hasta 08-11-2024 23:01\n"
     ]
    },
    {
     "name": "stderr",
     "output_type": "stream",
     "text": [
      "C:\\Users\\hugol\\AppData\\Local\\Packages\\PythonSoftwareFoundation.Python.3.11_qbz5n2kfra8p0\\LocalCache\\local-packages\\Python311\\site-packages\\urllib3\\connectionpool.py:1099: InsecureRequestWarning: Unverified HTTPS request is being made to host 'platon.grc.upv.es'. Adding certificate verification is strongly advised. See: https://urllib3.readthedocs.io/en/latest/advanced-usage.html#tls-warnings\n",
      "  warnings.warn(\n"
     ]
    },
    {
     "name": "stdout",
     "output_type": "stream",
     "text": [
      "Procesando datos desde 08-11-2024 23:01 hasta 08-12-2024 23:01\n",
      "Procesando datos desde 08-12-2024 23:01 hasta 11-12-2024 00:01\n",
      "Datos guardados en data/datos_series_20250325_101658.csv\n"
     ]
    },
    {
     "name": "stderr",
     "output_type": "stream",
     "text": [
      "C:\\Users\\hugol\\AppData\\Local\\Packages\\PythonSoftwareFoundation.Python.3.11_qbz5n2kfra8p0\\LocalCache\\local-packages\\Python311\\site-packages\\urllib3\\connectionpool.py:1099: InsecureRequestWarning: Unverified HTTPS request is being made to host 'platon.grc.upv.es'. Adding certificate verification is strongly advised. See: https://urllib3.readthedocs.io/en/latest/advanced-usage.html#tls-warnings\n",
      "  warnings.warn(\n"
     ]
    }
   ],
   "source": [
    "\n",
    "url_api = \"https://platon.grc.upv.es/sensingtools-api/api/user-hard-sensors/5rTM-4sB-iVpGSRJcSJV/data\" \n",
    "sensores = [\"temperatura\", \"velocidadviento\", \"direccionviento\",\"lluvia\", \"intensidadlluvia\", \"radiacionsolar\"]\n",
    "fecha_inicio = \"10-09-2024 00:01\"\n",
    "fecha_fin = \"11-12-2024 00:01\"\n",
    "ubicaciones = ['5rTM-4sB-iVpGSRJcSJV_La Mata - Parque Natural_38.02519_-0.65845_0']\n",
    "\n",
    "df_meteo = obtener_datos_api(url_api, sensores, fecha_inicio, fecha_fin, ubicaciones)\n",
    "\n"
   ]
  },
  {
   "cell_type": "code",
   "execution_count": 18,
   "metadata": {},
   "outputs": [
    {
     "data": {
      "application/vnd.microsoft.datawrangler.viewer.v0+json": {
       "columns": [
        {
         "name": "index",
         "rawType": "int64",
         "type": "integer"
        },
        {
         "name": "timestamp",
         "rawType": "object",
         "type": "string"
        },
        {
         "name": "temperatura",
         "rawType": "float64",
         "type": "float"
        },
        {
         "name": "velocidadviento",
         "rawType": "int64",
         "type": "integer"
        },
        {
         "name": "intensidadlluvia",
         "rawType": "float64",
         "type": "float"
        }
       ],
       "conversionMethod": "pd.DataFrame",
       "ref": "ea3887f7-1d6c-4bfc-8372-a41e73de46b9",
       "rows": [
        [
         "6040",
         "01-10-2024 00:00",
         "20.8",
         "0",
         "0.0"
        ],
        [
         "6041",
         "01-10-2024 00:05",
         "20.8",
         "0",
         "0.0"
        ],
        [
         "6042",
         "01-10-2024 00:10",
         "20.7",
         "0",
         "0.0"
        ],
        [
         "6043",
         "01-10-2024 00:15",
         "20.5",
         "0",
         "0.0"
        ],
        [
         "6044",
         "01-10-2024 00:20",
         "20.4",
         "0",
         "0.0"
        ],
        [
         "6045",
         "01-10-2024 00:25",
         "20.3",
         "0",
         "0.0"
        ],
        [
         "6046",
         "01-10-2024 00:30",
         "20.2",
         "0",
         "0.0"
        ],
        [
         "6047",
         "01-10-2024 00:35",
         "20.2",
         "0",
         "0.0"
        ],
        [
         "6048",
         "01-10-2024 00:40",
         "20.2",
         "0",
         "0.0"
        ],
        [
         "6049",
         "01-10-2024 00:45",
         "20.2",
         "0",
         "0.0"
        ],
        [
         "6050",
         "01-10-2024 00:50",
         "20.2",
         "0",
         "0.0"
        ],
        [
         "6051",
         "01-10-2024 00:55",
         "20.1",
         "0",
         "0.0"
        ],
        [
         "6052",
         "01-10-2024 01:00",
         "20.1",
         "0",
         "0.0"
        ],
        [
         "6053",
         "01-10-2024 01:05",
         "20.0",
         "0",
         "0.0"
        ],
        [
         "6054",
         "01-10-2024 01:10",
         "19.8",
         "2",
         "0.0"
        ],
        [
         "6055",
         "01-10-2024 01:15",
         "19.7",
         "2",
         "0.0"
        ],
        [
         "6056",
         "01-10-2024 01:20",
         "19.7",
         "0",
         "0.0"
        ],
        [
         "6057",
         "01-10-2024 01:25",
         "19.7",
         "0",
         "0.0"
        ],
        [
         "6058",
         "01-10-2024 01:30",
         "19.7",
         "2",
         "0.0"
        ],
        [
         "6059",
         "01-10-2024 01:35",
         "19.6",
         "0",
         "0.0"
        ],
        [
         "6060",
         "01-10-2024 01:40",
         "19.5",
         "0",
         "0.0"
        ],
        [
         "6061",
         "01-10-2024 01:45",
         "19.3",
         "0",
         "0.0"
        ],
        [
         "6062",
         "01-10-2024 01:50",
         "19.3",
         "0",
         "0.0"
        ],
        [
         "6063",
         "01-10-2024 01:55",
         "19.3",
         "0",
         "0.0"
        ],
        [
         "6064",
         "01-10-2024 02:00",
         "19.3",
         "0",
         "0.0"
        ],
        [
         "6065",
         "01-10-2024 02:05",
         "19.4",
         "0",
         "0.0"
        ],
        [
         "6066",
         "01-10-2024 02:10",
         "19.4",
         "0",
         "0.0"
        ],
        [
         "6067",
         "01-10-2024 02:15",
         "19.4",
         "0",
         "0.0"
        ],
        [
         "6068",
         "01-10-2024 02:20",
         "19.4",
         "0",
         "0.0"
        ],
        [
         "6069",
         "01-10-2024 02:25",
         "19.3",
         "0",
         "0.0"
        ],
        [
         "6070",
         "01-10-2024 02:30",
         "19.5",
         "0",
         "0.0"
        ],
        [
         "6071",
         "01-10-2024 02:35",
         "19.4",
         "0",
         "0.0"
        ],
        [
         "6072",
         "01-10-2024 02:40",
         "19.2",
         "0",
         "0.0"
        ],
        [
         "6073",
         "01-10-2024 02:45",
         "19.2",
         "0",
         "0.0"
        ],
        [
         "6074",
         "01-10-2024 02:50",
         "19.2",
         "0",
         "0.0"
        ],
        [
         "6075",
         "01-10-2024 02:55",
         "19.0",
         "0",
         "0.0"
        ],
        [
         "6076",
         "01-10-2024 03:00",
         "18.9",
         "0",
         "0.0"
        ],
        [
         "6077",
         "01-10-2024 03:05",
         "18.8",
         "0",
         "0.0"
        ],
        [
         "6078",
         "01-10-2024 03:10",
         "18.7",
         "0",
         "0.0"
        ],
        [
         "6079",
         "01-10-2024 03:15",
         "18.6",
         "0",
         "0.0"
        ],
        [
         "6080",
         "01-10-2024 03:20",
         "18.6",
         "0",
         "0.0"
        ],
        [
         "6081",
         "01-10-2024 03:25",
         "18.6",
         "0",
         "0.0"
        ],
        [
         "6082",
         "01-10-2024 03:30",
         "18.5",
         "2",
         "0.0"
        ],
        [
         "6083",
         "01-10-2024 03:35",
         "18.6",
         "2",
         "0.0"
        ],
        [
         "6084",
         "01-10-2024 03:40",
         "18.4",
         "2",
         "0.0"
        ],
        [
         "6085",
         "01-10-2024 03:45",
         "18.3",
         "2",
         "0.0"
        ],
        [
         "6086",
         "01-10-2024 03:50",
         "18.3",
         "0",
         "0.0"
        ],
        [
         "6087",
         "01-10-2024 03:55",
         "18.4",
         "2",
         "0.0"
        ],
        [
         "6088",
         "01-10-2024 04:00",
         "18.4",
         "0",
         "0.0"
        ],
        [
         "6089",
         "01-10-2024 04:05",
         "18.6",
         "0",
         "0.0"
        ]
       ],
       "shape": {
        "columns": 4,
        "rows": 26383
       }
      },
      "text/html": [
       "<div>\n",
       "<style scoped>\n",
       "    .dataframe tbody tr th:only-of-type {\n",
       "        vertical-align: middle;\n",
       "    }\n",
       "\n",
       "    .dataframe tbody tr th {\n",
       "        vertical-align: top;\n",
       "    }\n",
       "\n",
       "    .dataframe thead th {\n",
       "        text-align: right;\n",
       "    }\n",
       "</style>\n",
       "<table border=\"1\" class=\"dataframe\">\n",
       "  <thead>\n",
       "    <tr style=\"text-align: right;\">\n",
       "      <th></th>\n",
       "      <th>timestamp</th>\n",
       "      <th>temperatura</th>\n",
       "      <th>velocidadviento</th>\n",
       "      <th>intensidadlluvia</th>\n",
       "    </tr>\n",
       "  </thead>\n",
       "  <tbody>\n",
       "    <tr>\n",
       "      <th>6040</th>\n",
       "      <td>01-10-2024 00:00</td>\n",
       "      <td>20.8</td>\n",
       "      <td>0</td>\n",
       "      <td>0.0</td>\n",
       "    </tr>\n",
       "    <tr>\n",
       "      <th>6041</th>\n",
       "      <td>01-10-2024 00:05</td>\n",
       "      <td>20.8</td>\n",
       "      <td>0</td>\n",
       "      <td>0.0</td>\n",
       "    </tr>\n",
       "    <tr>\n",
       "      <th>6042</th>\n",
       "      <td>01-10-2024 00:10</td>\n",
       "      <td>20.7</td>\n",
       "      <td>0</td>\n",
       "      <td>0.0</td>\n",
       "    </tr>\n",
       "    <tr>\n",
       "      <th>6043</th>\n",
       "      <td>01-10-2024 00:15</td>\n",
       "      <td>20.5</td>\n",
       "      <td>0</td>\n",
       "      <td>0.0</td>\n",
       "    </tr>\n",
       "    <tr>\n",
       "      <th>6044</th>\n",
       "      <td>01-10-2024 00:20</td>\n",
       "      <td>20.4</td>\n",
       "      <td>0</td>\n",
       "      <td>0.0</td>\n",
       "    </tr>\n",
       "    <tr>\n",
       "      <th>...</th>\n",
       "      <td>...</td>\n",
       "      <td>...</td>\n",
       "      <td>...</td>\n",
       "      <td>...</td>\n",
       "    </tr>\n",
       "    <tr>\n",
       "      <th>14929</th>\n",
       "      <td>31-10-2024 23:35</td>\n",
       "      <td>18.2</td>\n",
       "      <td>0</td>\n",
       "      <td>0.0</td>\n",
       "    </tr>\n",
       "    <tr>\n",
       "      <th>14930</th>\n",
       "      <td>31-10-2024 23:40</td>\n",
       "      <td>18.1</td>\n",
       "      <td>0</td>\n",
       "      <td>0.0</td>\n",
       "    </tr>\n",
       "    <tr>\n",
       "      <th>14931</th>\n",
       "      <td>31-10-2024 23:45</td>\n",
       "      <td>18.1</td>\n",
       "      <td>0</td>\n",
       "      <td>0.0</td>\n",
       "    </tr>\n",
       "    <tr>\n",
       "      <th>14932</th>\n",
       "      <td>31-10-2024 23:50</td>\n",
       "      <td>17.9</td>\n",
       "      <td>0</td>\n",
       "      <td>0.0</td>\n",
       "    </tr>\n",
       "    <tr>\n",
       "      <th>14933</th>\n",
       "      <td>31-10-2024 23:55</td>\n",
       "      <td>18.0</td>\n",
       "      <td>0</td>\n",
       "      <td>0.0</td>\n",
       "    </tr>\n",
       "  </tbody>\n",
       "</table>\n",
       "<p>26383 rows × 4 columns</p>\n",
       "</div>"
      ],
      "text/plain": [
       "              timestamp  temperatura  velocidadviento  intensidadlluvia\n",
       "6040   01-10-2024 00:00         20.8                0               0.0\n",
       "6041   01-10-2024 00:05         20.8                0               0.0\n",
       "6042   01-10-2024 00:10         20.7                0               0.0\n",
       "6043   01-10-2024 00:15         20.5                0               0.0\n",
       "6044   01-10-2024 00:20         20.4                0               0.0\n",
       "...                 ...          ...              ...               ...\n",
       "14929  31-10-2024 23:35         18.2                0               0.0\n",
       "14930  31-10-2024 23:40         18.1                0               0.0\n",
       "14931  31-10-2024 23:45         18.1                0               0.0\n",
       "14932  31-10-2024 23:50         17.9                0               0.0\n",
       "14933  31-10-2024 23:55         18.0                0               0.0\n",
       "\n",
       "[26383 rows x 4 columns]"
      ]
     },
     "execution_count": 18,
     "metadata": {},
     "output_type": "execute_result"
    }
   ],
   "source": [
    "df_meteo"
   ]
  },
  {
   "cell_type": "markdown",
   "metadata": {},
   "source": [
    " ## Datos de aves"
   ]
  },
  {
   "cell_type": "code",
   "execution_count": 16,
   "metadata": {},
   "outputs": [
    {
     "name": "stderr",
     "output_type": "stream",
     "text": [
      "C:\\Users\\hugol\\AppData\\Local\\Packages\\PythonSoftwareFoundation.Python.3.11_qbz5n2kfra8p0\\LocalCache\\local-packages\\Python311\\site-packages\\urllib3\\connectionpool.py:1099: InsecureRequestWarning: Unverified HTTPS request is being made to host 'platon.grc.upv.es'. Adding certificate verification is strongly advised. See: https://urllib3.readthedocs.io/en/latest/advanced-usage.html#tls-warnings\n",
      "  warnings.warn(\n",
      "C:\\Users\\hugol\\AppData\\Local\\Packages\\PythonSoftwareFoundation.Python.3.11_qbz5n2kfra8p0\\LocalCache\\local-packages\\Python311\\site-packages\\urllib3\\connectionpool.py:1099: InsecureRequestWarning: Unverified HTTPS request is being made to host 'platon.grc.upv.es'. Adding certificate verification is strongly advised. See: https://urllib3.readthedocs.io/en/latest/advanced-usage.html#tls-warnings\n",
      "  warnings.warn(\n"
     ]
    },
    {
     "name": "stdout",
     "output_type": "stream",
     "text": [
      "Procesando datos desde 10-09-2024 00:01 hasta 10-10-2024 00:01\n",
      "Procesando datos desde 10-10-2024 00:01 hasta 08-11-2024 23:01\n",
      "Procesando datos desde 08-11-2024 23:01 hasta 08-12-2024 23:01\n",
      "Procesando datos desde 08-12-2024 23:01 hasta 11-12-2024 00:01\n",
      "Datos guardados en data/datos_aves_20250325_095049.csv\n"
     ]
    },
    {
     "name": "stderr",
     "output_type": "stream",
     "text": [
      "C:\\Users\\hugol\\AppData\\Local\\Packages\\PythonSoftwareFoundation.Python.3.11_qbz5n2kfra8p0\\LocalCache\\local-packages\\Python311\\site-packages\\urllib3\\connectionpool.py:1099: InsecureRequestWarning: Unverified HTTPS request is being made to host 'platon.grc.upv.es'. Adding certificate verification is strongly advised. See: https://urllib3.readthedocs.io/en/latest/advanced-usage.html#tls-warnings\n",
      "  warnings.warn(\n",
      "C:\\Users\\hugol\\AppData\\Local\\Packages\\PythonSoftwareFoundation.Python.3.11_qbz5n2kfra8p0\\LocalCache\\local-packages\\Python311\\site-packages\\urllib3\\connectionpool.py:1099: InsecureRequestWarning: Unverified HTTPS request is being made to host 'platon.grc.upv.es'. Adding certificate verification is strongly advised. See: https://urllib3.readthedocs.io/en/latest/advanced-usage.html#tls-warnings\n",
      "  warnings.warn(\n"
     ]
    }
   ],
   "source": [
    "url_api = \"https://platon.grc.upv.es/sensingtools-api/api/user-hard-sensors/jBAFzo8B1ljoqTiFuu2B/data/count?/\" \n",
    "sensores = []\n",
    "fecha_inicio = \"10-09-2024 00:01\"\n",
    "fecha_fin = \"11-12-2024 00:01\"\n",
    "ubicaciones = []\n",
    "\n",
    "df_aves = obtener_datos_api(url_api, sensores, fecha_inicio, fecha_fin, ubicaciones, \"aves\")"
   ]
  },
  {
   "cell_type": "code",
   "execution_count": 19,
   "metadata": {},
   "outputs": [
    {
     "data": {
      "application/vnd.microsoft.datawrangler.viewer.v0+json": {
       "columns": [
        {
         "name": "index",
         "rawType": "int64",
         "type": "integer"
        },
        {
         "name": "timestamp",
         "rawType": "object",
         "type": "string"
        },
        {
         "name": "location",
         "rawType": "object",
         "type": "string"
        },
        {
         "name": "species",
         "rawType": "object",
         "type": "string"
        },
        {
         "name": "count",
         "rawType": "int64",
         "type": "integer"
        }
       ],
       "conversionMethod": "pd.DataFrame",
       "ref": "5bf4f48d-eac0-4ed3-b781-0907b8d5aaee",
       "rows": [
        [
         "107",
         "08-11-2024 23:01",
         "jBAFzo8B1ljoqTiFuu2B_L3906629_38.02382_-0.68343_0",
         "Alectoris rufa",
         "1"
        ],
        [
         "108",
         "08-11-2024 23:01",
         "jBAFzo8B1ljoqTiFuu2B_L3906629_38.02382_-0.68343_0",
         "Anthus pratensis",
         "1"
        ],
        [
         "109",
         "08-11-2024 23:01",
         "jBAFzo8B1ljoqTiFuu2B_L3906629_38.02382_-0.68343_0",
         "Ardea ibis",
         "1"
        ],
        [
         "110",
         "08-11-2024 23:01",
         "jBAFzo8B1ljoqTiFuu2B_L3906629_38.02382_-0.68343_0",
         "Carduelis carduelis",
         "1"
        ],
        [
         "111",
         "08-11-2024 23:01",
         "jBAFzo8B1ljoqTiFuu2B_L3906629_38.02382_-0.68343_0",
         "Columba palumbus",
         "1"
        ],
        [
         "112",
         "08-11-2024 23:01",
         "jBAFzo8B1ljoqTiFuu2B_L3906629_38.02382_-0.68343_0",
         "Curruca melanocephala",
         "1"
        ],
        [
         "113",
         "08-11-2024 23:01",
         "jBAFzo8B1ljoqTiFuu2B_L3906629_38.02382_-0.68343_0",
         "Erithacus rubecula",
         "1"
        ],
        [
         "114",
         "08-11-2024 23:01",
         "jBAFzo8B1ljoqTiFuu2B_L3906629_38.02382_-0.68343_0",
         "Galerida cristata",
         "1"
        ],
        [
         "115",
         "08-11-2024 23:01",
         "jBAFzo8B1ljoqTiFuu2B_L3906629_38.02382_-0.68343_0",
         "Motacilla alba",
         "1"
        ],
        [
         "116",
         "08-11-2024 23:01",
         "jBAFzo8B1ljoqTiFuu2B_L3906629_38.02382_-0.68343_0",
         "Passer domesticus",
         "1"
        ],
        [
         "117",
         "08-11-2024 23:01",
         "jBAFzo8B1ljoqTiFuu2B_L3906629_38.02382_-0.68343_0",
         "Phalacrocorax carbo",
         "1"
        ],
        [
         "118",
         "08-11-2024 23:01",
         "jBAFzo8B1ljoqTiFuu2B_L3906629_38.02382_-0.68343_0",
         "Phoenicopterus roseus",
         "1"
        ],
        [
         "119",
         "08-11-2024 23:01",
         "jBAFzo8B1ljoqTiFuu2B_L3906629_38.02382_-0.68343_0",
         "Phoenicurus ochruros",
         "1"
        ],
        [
         "120",
         "08-11-2024 23:01",
         "jBAFzo8B1ljoqTiFuu2B_L3906629_38.02382_-0.68343_0",
         "Phylloscopus collybita",
         "1"
        ],
        [
         "121",
         "08-11-2024 23:01",
         "jBAFzo8B1ljoqTiFuu2B_L3906629_38.02382_-0.68343_0",
         "Picus sharpei",
         "1"
        ],
        [
         "122",
         "08-11-2024 23:01",
         "jBAFzo8B1ljoqTiFuu2B_L3906629_38.02382_-0.68343_0",
         "Podiceps nigricollis",
         "1"
        ],
        [
         "123",
         "08-11-2024 23:01",
         "jBAFzo8B1ljoqTiFuu2B_L3906629_38.02382_-0.68343_0",
         "Ptyonoprogne rupestris",
         "1"
        ],
        [
         "124",
         "08-11-2024 23:01",
         "jBAFzo8B1ljoqTiFuu2B_L3906629_38.02382_-0.68343_0",
         "Saxicola rubicola",
         "1"
        ],
        [
         "125",
         "08-11-2024 23:01",
         "jBAFzo8B1ljoqTiFuu2B_L3906629_38.02382_-0.68343_0",
         "Serinus serinus",
         "1"
        ],
        [
         "126",
         "08-11-2024 23:01",
         "jBAFzo8B1ljoqTiFuu2B_L3906629_38.02382_-0.68343_0",
         "Turdus merula",
         "1"
        ],
        [
         "143",
         "08-11-2024 23:01",
         "jBAFzo8B1ljoqTiFuu2B_L6121785_37.99449_-0.70833_0",
         "Anas platyrhynchos",
         "1"
        ],
        [
         "144",
         "08-11-2024 23:01",
         "jBAFzo8B1ljoqTiFuu2B_L6121785_37.99449_-0.70833_0",
         "Ardea cinerea",
         "1"
        ],
        [
         "145",
         "08-11-2024 23:01",
         "jBAFzo8B1ljoqTiFuu2B_L6121785_37.99449_-0.70833_0",
         "Chroicocephalus ridibundus",
         "1"
        ],
        [
         "146",
         "08-11-2024 23:01",
         "jBAFzo8B1ljoqTiFuu2B_L6121785_37.99449_-0.70833_0",
         "Curruca melanocephala",
         "1"
        ],
        [
         "147",
         "08-11-2024 23:01",
         "jBAFzo8B1ljoqTiFuu2B_L6121785_37.99449_-0.70833_0",
         "Egretta garzetta",
         "1"
        ],
        [
         "148",
         "08-11-2024 23:01",
         "jBAFzo8B1ljoqTiFuu2B_L6121785_37.99449_-0.70833_0",
         "Larus michahellis",
         "1"
        ],
        [
         "149",
         "08-11-2024 23:01",
         "jBAFzo8B1ljoqTiFuu2B_L6121785_37.99449_-0.70833_0",
         "Passer domesticus",
         "1"
        ],
        [
         "150",
         "08-11-2024 23:01",
         "jBAFzo8B1ljoqTiFuu2B_L6121785_37.99449_-0.70833_0",
         "Phalacrocorax carbo",
         "1"
        ],
        [
         "151",
         "08-11-2024 23:01",
         "jBAFzo8B1ljoqTiFuu2B_L6121785_37.99449_-0.70833_0",
         "Phoenicurus ochruros",
         "1"
        ],
        [
         "152",
         "08-11-2024 23:01",
         "jBAFzo8B1ljoqTiFuu2B_L6121785_37.99449_-0.70833_0",
         "Streptopelia decaocto",
         "1"
        ],
        [
         "153",
         "08-11-2024 23:01",
         "jBAFzo8B1ljoqTiFuu2B_L6121785_37.99449_-0.70833_0",
         "Tringa erythropus",
         "1"
        ],
        [
         "83",
         "08-11-2024 23:01",
         "jBAFzo8B1ljoqTiFuu2B_L6177434_38.02585_-0.66656_0",
         "Alectoris rufa",
         "1"
        ],
        [
         "84",
         "08-11-2024 23:01",
         "jBAFzo8B1ljoqTiFuu2B_L6177434_38.02585_-0.66656_0",
         "Charadrius hiaticula",
         "1"
        ],
        [
         "85",
         "08-11-2024 23:01",
         "jBAFzo8B1ljoqTiFuu2B_L6177434_38.02585_-0.66656_0",
         "Chloris chloris",
         "1"
        ],
        [
         "86",
         "08-11-2024 23:01",
         "jBAFzo8B1ljoqTiFuu2B_L6177434_38.02585_-0.66656_0",
         "Columba livia",
         "1"
        ],
        [
         "87",
         "08-11-2024 23:01",
         "jBAFzo8B1ljoqTiFuu2B_L6177434_38.02585_-0.66656_0",
         "Columba palumbus",
         "1"
        ],
        [
         "88",
         "08-11-2024 23:01",
         "jBAFzo8B1ljoqTiFuu2B_L6177434_38.02585_-0.66656_0",
         "Curruca melanocephala",
         "1"
        ],
        [
         "89",
         "08-11-2024 23:01",
         "jBAFzo8B1ljoqTiFuu2B_L6177434_38.02585_-0.66656_0",
         "Erithacus rubecula",
         "1"
        ],
        [
         "90",
         "08-11-2024 23:01",
         "jBAFzo8B1ljoqTiFuu2B_L6177434_38.02585_-0.66656_0",
         "Falco tinnunculus",
         "1"
        ],
        [
         "91",
         "08-11-2024 23:01",
         "jBAFzo8B1ljoqTiFuu2B_L6177434_38.02585_-0.66656_0",
         "Fringilla coelebs",
         "1"
        ],
        [
         "92",
         "08-11-2024 23:01",
         "jBAFzo8B1ljoqTiFuu2B_L6177434_38.02585_-0.66656_0",
         "Galerida cristata",
         "1"
        ],
        [
         "93",
         "08-11-2024 23:01",
         "jBAFzo8B1ljoqTiFuu2B_L6177434_38.02585_-0.66656_0",
         "Galerida theklae",
         "1"
        ],
        [
         "94",
         "08-11-2024 23:01",
         "jBAFzo8B1ljoqTiFuu2B_L6177434_38.02585_-0.66656_0",
         "Linaria cannabina",
         "1"
        ],
        [
         "95",
         "08-11-2024 23:01",
         "jBAFzo8B1ljoqTiFuu2B_L6177434_38.02585_-0.66656_0",
         "Motacilla alba",
         "1"
        ],
        [
         "96",
         "08-11-2024 23:01",
         "jBAFzo8B1ljoqTiFuu2B_L6177434_38.02585_-0.66656_0",
         "Myiopsitta monachus",
         "1"
        ],
        [
         "97",
         "08-11-2024 23:01",
         "jBAFzo8B1ljoqTiFuu2B_L6177434_38.02585_-0.66656_0",
         "Passer domesticus",
         "1"
        ],
        [
         "98",
         "08-11-2024 23:01",
         "jBAFzo8B1ljoqTiFuu2B_L6177434_38.02585_-0.66656_0",
         "Phalacrocorax carbo",
         "1"
        ],
        [
         "99",
         "08-11-2024 23:01",
         "jBAFzo8B1ljoqTiFuu2B_L6177434_38.02585_-0.66656_0",
         "Phoenicopterus roseus",
         "1"
        ],
        [
         "100",
         "08-11-2024 23:01",
         "jBAFzo8B1ljoqTiFuu2B_L6177434_38.02585_-0.66656_0",
         "Phoenicurus ochruros",
         "1"
        ],
        [
         "101",
         "08-11-2024 23:01",
         "jBAFzo8B1ljoqTiFuu2B_L6177434_38.02585_-0.66656_0",
         "Phylloscopus collybita",
         "1"
        ]
       ],
       "shape": {
        "columns": 4,
        "rows": 154
       }
      },
      "text/html": [
       "<div>\n",
       "<style scoped>\n",
       "    .dataframe tbody tr th:only-of-type {\n",
       "        vertical-align: middle;\n",
       "    }\n",
       "\n",
       "    .dataframe tbody tr th {\n",
       "        vertical-align: top;\n",
       "    }\n",
       "\n",
       "    .dataframe thead th {\n",
       "        text-align: right;\n",
       "    }\n",
       "</style>\n",
       "<table border=\"1\" class=\"dataframe\">\n",
       "  <thead>\n",
       "    <tr style=\"text-align: right;\">\n",
       "      <th></th>\n",
       "      <th>timestamp</th>\n",
       "      <th>location</th>\n",
       "      <th>species</th>\n",
       "      <th>count</th>\n",
       "    </tr>\n",
       "  </thead>\n",
       "  <tbody>\n",
       "    <tr>\n",
       "      <th>107</th>\n",
       "      <td>08-11-2024 23:01</td>\n",
       "      <td>jBAFzo8B1ljoqTiFuu2B_L3906629_38.02382_-0.68343_0</td>\n",
       "      <td>Alectoris rufa</td>\n",
       "      <td>1</td>\n",
       "    </tr>\n",
       "    <tr>\n",
       "      <th>108</th>\n",
       "      <td>08-11-2024 23:01</td>\n",
       "      <td>jBAFzo8B1ljoqTiFuu2B_L3906629_38.02382_-0.68343_0</td>\n",
       "      <td>Anthus pratensis</td>\n",
       "      <td>1</td>\n",
       "    </tr>\n",
       "    <tr>\n",
       "      <th>109</th>\n",
       "      <td>08-11-2024 23:01</td>\n",
       "      <td>jBAFzo8B1ljoqTiFuu2B_L3906629_38.02382_-0.68343_0</td>\n",
       "      <td>Ardea ibis</td>\n",
       "      <td>1</td>\n",
       "    </tr>\n",
       "    <tr>\n",
       "      <th>110</th>\n",
       "      <td>08-11-2024 23:01</td>\n",
       "      <td>jBAFzo8B1ljoqTiFuu2B_L3906629_38.02382_-0.68343_0</td>\n",
       "      <td>Carduelis carduelis</td>\n",
       "      <td>1</td>\n",
       "    </tr>\n",
       "    <tr>\n",
       "      <th>111</th>\n",
       "      <td>08-11-2024 23:01</td>\n",
       "      <td>jBAFzo8B1ljoqTiFuu2B_L3906629_38.02382_-0.68343_0</td>\n",
       "      <td>Columba palumbus</td>\n",
       "      <td>1</td>\n",
       "    </tr>\n",
       "    <tr>\n",
       "      <th>...</th>\n",
       "      <td>...</td>\n",
       "      <td>...</td>\n",
       "      <td>...</td>\n",
       "      <td>...</td>\n",
       "    </tr>\n",
       "    <tr>\n",
       "      <th>75</th>\n",
       "      <td>10-10-2024 00:01</td>\n",
       "      <td>jBAFzo8B1ljoqTiFuu2B_L6177434_38.02585_-0.66656_0</td>\n",
       "      <td>Erithacus rubecula</td>\n",
       "      <td>1</td>\n",
       "    </tr>\n",
       "    <tr>\n",
       "      <th>76</th>\n",
       "      <td>10-10-2024 00:01</td>\n",
       "      <td>jBAFzo8B1ljoqTiFuu2B_L6177434_38.02585_-0.66656_0</td>\n",
       "      <td>Myiopsitta monachus</td>\n",
       "      <td>1</td>\n",
       "    </tr>\n",
       "    <tr>\n",
       "      <th>69</th>\n",
       "      <td>10-10-2024 00:01</td>\n",
       "      <td>jBAFzo8B1ljoqTiFuu2B_L6177434_38.02585_-0.66656_0</td>\n",
       "      <td>Phalacrocorax carbo</td>\n",
       "      <td>2</td>\n",
       "    </tr>\n",
       "    <tr>\n",
       "      <th>77</th>\n",
       "      <td>10-10-2024 00:01</td>\n",
       "      <td>jBAFzo8B1ljoqTiFuu2B_L6177434_38.02585_-0.66656_0</td>\n",
       "      <td>Streptopelia decaocto</td>\n",
       "      <td>1</td>\n",
       "    </tr>\n",
       "    <tr>\n",
       "      <th>78</th>\n",
       "      <td>10-10-2024 00:01</td>\n",
       "      <td>jBAFzo8B1ljoqTiFuu2B_L6177434_38.02585_-0.66656_0</td>\n",
       "      <td>Turdus merula</td>\n",
       "      <td>1</td>\n",
       "    </tr>\n",
       "  </tbody>\n",
       "</table>\n",
       "<p>154 rows × 4 columns</p>\n",
       "</div>"
      ],
      "text/plain": [
       "            timestamp                                           location  \\\n",
       "107  08-11-2024 23:01  jBAFzo8B1ljoqTiFuu2B_L3906629_38.02382_-0.68343_0   \n",
       "108  08-11-2024 23:01  jBAFzo8B1ljoqTiFuu2B_L3906629_38.02382_-0.68343_0   \n",
       "109  08-11-2024 23:01  jBAFzo8B1ljoqTiFuu2B_L3906629_38.02382_-0.68343_0   \n",
       "110  08-11-2024 23:01  jBAFzo8B1ljoqTiFuu2B_L3906629_38.02382_-0.68343_0   \n",
       "111  08-11-2024 23:01  jBAFzo8B1ljoqTiFuu2B_L3906629_38.02382_-0.68343_0   \n",
       "..                ...                                                ...   \n",
       "75   10-10-2024 00:01  jBAFzo8B1ljoqTiFuu2B_L6177434_38.02585_-0.66656_0   \n",
       "76   10-10-2024 00:01  jBAFzo8B1ljoqTiFuu2B_L6177434_38.02585_-0.66656_0   \n",
       "69   10-10-2024 00:01  jBAFzo8B1ljoqTiFuu2B_L6177434_38.02585_-0.66656_0   \n",
       "77   10-10-2024 00:01  jBAFzo8B1ljoqTiFuu2B_L6177434_38.02585_-0.66656_0   \n",
       "78   10-10-2024 00:01  jBAFzo8B1ljoqTiFuu2B_L6177434_38.02585_-0.66656_0   \n",
       "\n",
       "                   species  count  \n",
       "107         Alectoris rufa      1  \n",
       "108       Anthus pratensis      1  \n",
       "109             Ardea ibis      1  \n",
       "110    Carduelis carduelis      1  \n",
       "111       Columba palumbus      1  \n",
       "..                     ...    ...  \n",
       "75      Erithacus rubecula      1  \n",
       "76     Myiopsitta monachus      1  \n",
       "69     Phalacrocorax carbo      2  \n",
       "77   Streptopelia decaocto      1  \n",
       "78           Turdus merula      1  \n",
       "\n",
       "[154 rows x 4 columns]"
      ]
     },
     "execution_count": 19,
     "metadata": {},
     "output_type": "execute_result"
    }
   ],
   "source": [
    "df_aves"
   ]
  },
  {
   "cell_type": "markdown",
   "metadata": {},
   "source": [
    "# METHOD"
   ]
  },
  {
   "cell_type": "markdown",
   "metadata": {},
   "source": [
    "## Data Analitics:\n",
    "\n",
    "- Data curation\n",
    "- Data description\n",
    "- Data Inference\n"
   ]
  },
  {
   "cell_type": "markdown",
   "metadata": {},
   "source": [
    "Dado que los datos de count_in son incrementales y no tenemos datos exactos de las personas que entra y salen del parque, usamos el número de personas que entran por día y haremos la predicción por días en lugar de por horas.\n",
    "A continuación nos quedamos con las filas con valor máximo de count_in por cada día."
   ]
  },
  {
   "cell_type": "code",
   "execution_count": 6,
   "metadata": {},
   "outputs": [
    {
     "data": {
      "application/vnd.microsoft.datawrangler.viewer.v0+json": {
       "columns": [
        {
         "name": "index",
         "rawType": "int64",
         "type": "integer"
        },
        {
         "name": "fecha",
         "rawType": "object",
         "type": "unknown"
        },
        {
         "name": "count_in",
         "rawType": "float64",
         "type": "float"
        }
       ],
       "conversionMethod": "pd.DataFrame",
       "ref": "fee93a93-b4b7-4d92-9825-bb02c74c8039",
       "rows": [
        [
         "11060",
         "2024-09-10",
         "98.0"
        ],
        [
         "12870",
         "2024-09-11",
         "114.0"
        ],
        [
         "14261",
         "2024-09-12",
         "133.0"
        ],
        [
         "15819",
         "2024-09-13",
         "167.0"
        ],
        [
         "17349",
         "2024-09-14",
         "199.0"
        ],
        [
         "18899",
         "2024-09-15",
         "127.0"
        ],
        [
         "20453",
         "2024-09-16",
         "109.0"
        ],
        [
         "21785",
         "2024-09-17",
         "151.0"
        ],
        [
         "23076",
         "2024-09-18",
         "159.0"
        ],
        [
         "24412",
         "2024-09-19",
         "153.0"
        ],
        [
         "25745",
         "2024-09-20",
         "154.0"
        ],
        [
         "27065",
         "2024-09-21",
         "108.0"
        ],
        [
         "28421",
         "2024-09-22",
         "173.0"
        ],
        [
         "29758",
         "2024-09-23",
         "142.0"
        ],
        [
         "31142",
         "2024-09-24",
         "145.0"
        ],
        [
         "32538",
         "2024-09-25",
         "148.0"
        ],
        [
         "33691",
         "2024-09-26",
         "101.0"
        ],
        [
         "34794",
         "2024-09-27",
         "132.0"
        ],
        [
         "35947",
         "2024-09-28",
         "149.0"
        ],
        [
         "37083",
         "2024-09-29",
         "199.0"
        ],
        [
         "38242",
         "2024-09-30",
         "91.0"
        ],
        [
         "286",
         "2024-10-01",
         "104.0"
        ],
        [
         "1516",
         "2024-10-02",
         "94.0"
        ],
        [
         "2695",
         "2024-10-03",
         "101.0"
        ],
        [
         "3939",
         "2024-10-04",
         "106.0"
        ],
        [
         "5106",
         "2024-10-05",
         "168.0"
        ],
        [
         "6260",
         "2024-10-06",
         "129.0"
        ],
        [
         "7490",
         "2024-10-07",
         "124.0"
        ],
        [
         "8687",
         "2024-10-08",
         "124.0"
        ],
        [
         "9965",
         "2024-10-09",
         "210.0"
        ],
        [
         "11414",
         "2024-10-10",
         "124.0"
        ],
        [
         "13260",
         "2024-10-11",
         "122.0"
        ],
        [
         "14764",
         "2024-10-12",
         "211.0"
        ],
        [
         "16299",
         "2024-10-13",
         "217.0"
        ],
        [
         "17870",
         "2024-10-14",
         "116.0"
        ],
        [
         "19398",
         "2024-10-15",
         "121.0"
        ],
        [
         "20986",
         "2024-10-16",
         "126.0"
        ],
        [
         "22222",
         "2024-10-17",
         "136.0"
        ],
        [
         "23579",
         "2024-10-18",
         "138.0"
        ],
        [
         "24907",
         "2024-10-19",
         "186.0"
        ],
        [
         "26264",
         "2024-10-20",
         "191.0"
        ],
        [
         "27526",
         "2024-10-21",
         "122.0"
        ],
        [
         "28861",
         "2024-10-22",
         "160.0"
        ],
        [
         "30269",
         "2024-10-23",
         "115.0"
        ],
        [
         "31590",
         "2024-10-24",
         "135.0"
        ],
        [
         "33009",
         "2024-10-25",
         "148.0"
        ],
        [
         "34122",
         "2024-10-26",
         "248.0"
        ],
        [
         "35322",
         "2024-10-27",
         "97.0"
        ],
        [
         "36395",
         "2024-10-28",
         "160.0"
        ],
        [
         "37518",
         "2024-10-29",
         "112.0"
        ]
       ],
       "shape": {
        "columns": 2,
        "rows": 92
       }
      },
      "text/html": [
       "<div>\n",
       "<style scoped>\n",
       "    .dataframe tbody tr th:only-of-type {\n",
       "        vertical-align: middle;\n",
       "    }\n",
       "\n",
       "    .dataframe tbody tr th {\n",
       "        vertical-align: top;\n",
       "    }\n",
       "\n",
       "    .dataframe thead th {\n",
       "        text-align: right;\n",
       "    }\n",
       "</style>\n",
       "<table border=\"1\" class=\"dataframe\">\n",
       "  <thead>\n",
       "    <tr style=\"text-align: right;\">\n",
       "      <th></th>\n",
       "      <th>fecha</th>\n",
       "      <th>count_in</th>\n",
       "    </tr>\n",
       "  </thead>\n",
       "  <tbody>\n",
       "    <tr>\n",
       "      <th>11060</th>\n",
       "      <td>2024-09-10</td>\n",
       "      <td>98.0</td>\n",
       "    </tr>\n",
       "    <tr>\n",
       "      <th>12870</th>\n",
       "      <td>2024-09-11</td>\n",
       "      <td>114.0</td>\n",
       "    </tr>\n",
       "    <tr>\n",
       "      <th>14261</th>\n",
       "      <td>2024-09-12</td>\n",
       "      <td>133.0</td>\n",
       "    </tr>\n",
       "    <tr>\n",
       "      <th>15819</th>\n",
       "      <td>2024-09-13</td>\n",
       "      <td>167.0</td>\n",
       "    </tr>\n",
       "    <tr>\n",
       "      <th>17349</th>\n",
       "      <td>2024-09-14</td>\n",
       "      <td>199.0</td>\n",
       "    </tr>\n",
       "    <tr>\n",
       "      <th>...</th>\n",
       "      <td>...</td>\n",
       "      <td>...</td>\n",
       "    </tr>\n",
       "    <tr>\n",
       "      <th>7106</th>\n",
       "      <td>2024-12-06</td>\n",
       "      <td>151.0</td>\n",
       "    </tr>\n",
       "    <tr>\n",
       "      <th>8339</th>\n",
       "      <td>2024-12-07</td>\n",
       "      <td>128.0</td>\n",
       "    </tr>\n",
       "    <tr>\n",
       "      <th>9539</th>\n",
       "      <td>2024-12-08</td>\n",
       "      <td>163.0</td>\n",
       "    </tr>\n",
       "    <tr>\n",
       "      <th>10819</th>\n",
       "      <td>2024-12-09</td>\n",
       "      <td>50.0</td>\n",
       "    </tr>\n",
       "    <tr>\n",
       "      <th>12320</th>\n",
       "      <td>2024-12-10</td>\n",
       "      <td>65.0</td>\n",
       "    </tr>\n",
       "  </tbody>\n",
       "</table>\n",
       "<p>92 rows × 2 columns</p>\n",
       "</div>"
      ],
      "text/plain": [
       "            fecha  count_in\n",
       "11060  2024-09-10      98.0\n",
       "12870  2024-09-11     114.0\n",
       "14261  2024-09-12     133.0\n",
       "15819  2024-09-13     167.0\n",
       "17349  2024-09-14     199.0\n",
       "...           ...       ...\n",
       "7106   2024-12-06     151.0\n",
       "8339   2024-12-07     128.0\n",
       "9539   2024-12-08     163.0\n",
       "10819  2024-12-09      50.0\n",
       "12320  2024-12-10      65.0\n",
       "\n",
       "[92 rows x 2 columns]"
      ]
     },
     "execution_count": 6,
     "metadata": {},
     "output_type": "execute_result"
    }
   ],
   "source": [
    "ocupacion = pd.read_csv(\"data/datos_ocupacion.csv\")\n",
    "ocupacion['timestamp'] = pd.to_datetime(ocupacion['timestamp'], dayfirst=True)\n",
    "ocupacion['fecha'] = ocupacion['timestamp'].dt.date\n",
    "df_ocupacion_dia = ocupacion.loc[ocupacion.groupby('fecha')['count_in'].idxmax()]\n",
    "df_ocupacion_dia = df_ocupacion_dia[['fecha', 'count_in']]\n",
    "df_ocupacion_dia\n",
    "\n",
    "\n"
   ]
  },
  {
   "cell_type": "markdown",
   "metadata": {},
   "source": [
    "Siguiendo la lógica anterior y para poder hacer el análisis y estudiar la correlación entre las personas en el parque y las distintas variables debemos agregarlas por días, teniendo asíu granularidad diaria en todas ellas"
   ]
  },
  {
   "cell_type": "markdown",
   "metadata": {},
   "source": [
    "-  **temperatura**:  _temp_min_, _temp_max_ y _temp_promedio_\n",
    "-  **velocidadviento**:  _viento_promedio_ y _viento_max_ \n",
    "- **lluvia**: _precipitacion_acumulada_ y _duracion_lluvia_min_\n",
    "- **intensidadlluvia**: _intensidad_max_ e _intensidad_promedio_"
   ]
  },
  {
   "cell_type": "markdown",
   "metadata": {},
   "source": [
    "Count in segmentar en lluvia y uno lluvia. Hacer test de hipotesis y ver si hay diferencias entre ellos.  Segmentar también entre semana y fin de semana."
   ]
  },
  {
   "cell_type": "markdown",
   "metadata": {},
   "source": [
    "TEMPERATURA PROMEDIO : 3 intervalos: fria ( < 15 ) moderada (15 - 27) y alta (>27) "
   ]
  },
  {
   "cell_type": "code",
   "execution_count": 7,
   "metadata": {},
   "outputs": [
    {
     "data": {
      "application/vnd.microsoft.datawrangler.viewer.v0+json": {
       "columns": [
        {
         "name": "index",
         "rawType": "int64",
         "type": "integer"
        },
        {
         "name": "fecha",
         "rawType": "object",
         "type": "unknown"
        },
        {
         "name": "temp_min",
         "rawType": "float64",
         "type": "float"
        },
        {
         "name": "temp_max",
         "rawType": "float64",
         "type": "float"
        },
        {
         "name": "temp_promedio",
         "rawType": "float64",
         "type": "float"
        },
        {
         "name": "viento_max",
         "rawType": "int64",
         "type": "integer"
        },
        {
         "name": "viento_promedio",
         "rawType": "float64",
         "type": "float"
        },
        {
         "name": "precioutacion_acumulada",
         "rawType": "float64",
         "type": "float"
        },
        {
         "name": "duracion_lluvia_min",
         "rawType": "int64",
         "type": "integer"
        },
        {
         "name": "intensidad_max",
         "rawType": "float64",
         "type": "float"
        },
        {
         "name": "intensidad_promedio",
         "rawType": "float64",
         "type": "float"
        }
       ],
       "conversionMethod": "pd.DataFrame",
       "ref": "3b3a7b90-4999-4076-93d8-5d879534db80",
       "rows": [
        [
         "0",
         "2024-09-10",
         "20.4",
         "28.0",
         "24.83",
         "13",
         "4.53",
         "0.0",
         "0",
         "0.0",
         "0.0"
        ],
        [
         "1",
         "2024-09-11",
         "23.9",
         "28.3",
         "26.0",
         "23",
         "6.98",
         "0.0",
         "0",
         "0.0",
         "0.0"
        ],
        [
         "2",
         "2024-09-12",
         "20.4",
         "30.2",
         "25.6",
         "34",
         "7.68",
         "0.0",
         "0",
         "0.0",
         "0.0"
        ],
        [
         "3",
         "2024-09-13",
         "22.9",
         "26.5",
         "24.33",
         "27",
         "18.8",
         "0.0",
         "0",
         "0.0",
         "0.0"
        ],
        [
         "4",
         "2024-09-14",
         "20.9",
         "25.6",
         "23.59",
         "21",
         "10.65",
         "111.2",
         "1405",
         "0.0",
         "0.0"
        ],
        [
         "5",
         "2024-09-15",
         "17.7",
         "25.7",
         "22.1",
         "16",
         "5.21",
         "0.4",
         "5",
         "0.0",
         "0.0"
        ],
        [
         "6",
         "2024-09-16",
         "17.8",
         "26.1",
         "22.52",
         "14",
         "3.55",
         "0.0",
         "0",
         "0.0",
         "0.0"
        ],
        [
         "7",
         "2024-09-17",
         "18.8",
         "26.9",
         "23.0",
         "16",
         "4.32",
         "0.0",
         "0",
         "0.0",
         "0.0"
        ],
        [
         "8",
         "2024-09-18",
         "22.9",
         "26.3",
         "24.09",
         "21",
         "8.69",
         "0.0",
         "0",
         "0.0",
         "0.0"
        ],
        [
         "9",
         "2024-09-19",
         "19.5",
         "25.2",
         "22.85",
         "14",
         "5.8",
         "526.8",
         "1340",
         "21.2",
         "0.18"
        ],
        [
         "10",
         "2024-09-20",
         "17.4",
         "25.9",
         "22.13",
         "14",
         "5.74",
         "2.6",
         "5",
         "0.0",
         "0.0"
        ],
        [
         "11",
         "2024-09-21",
         "21.2",
         "25.1",
         "23.6",
         "13",
         "6.86",
         "511.6",
         "880",
         "6.2",
         "0.14"
        ],
        [
         "12",
         "2024-09-22",
         "20.2",
         "27.0",
         "23.63",
         "24",
         "6.15",
         "3.0",
         "5",
         "0.0",
         "0.0"
        ],
        [
         "13",
         "2024-09-23",
         "20.3",
         "28.8",
         "24.1",
         "16",
         "4.59",
         "0.0",
         "0",
         "0.0",
         "0.0"
        ],
        [
         "14",
         "2024-09-24",
         "19.4",
         "29.0",
         "24.03",
         "23",
         "5.08",
         "0.0",
         "0",
         "0.0",
         "0.0"
        ],
        [
         "15",
         "2024-09-25",
         "20.9",
         "27.6",
         "24.36",
         "27",
         "9.43",
         "0.0",
         "0",
         "0.0",
         "0.0"
        ],
        [
         "16",
         "2024-09-26",
         "20.2",
         "29.5",
         "25.2",
         "31",
         "9.1",
         "0.0",
         "0",
         "0.0",
         "0.0"
        ],
        [
         "17",
         "2024-09-27",
         "22.7",
         "27.9",
         "25.52",
         "24",
         "6.79",
         "0.0",
         "0",
         "0.0",
         "0.0"
        ],
        [
         "18",
         "2024-09-28",
         "21.7",
         "23.8",
         "22.44",
         "21",
         "12.66",
         "0.0",
         "0",
         "0.0",
         "0.0"
        ],
        [
         "19",
         "2024-09-29",
         "16.6",
         "24.3",
         "21.06",
         "13",
         "5.63",
         "0.0",
         "0",
         "0.0",
         "0.0"
        ],
        [
         "20",
         "2024-09-30",
         "17.1",
         "24.3",
         "20.95",
         "11",
         "3.27",
         "0.0",
         "0",
         "0.0",
         "0.0"
        ],
        [
         "21",
         "2024-10-01",
         "17.4",
         "25.2",
         "21.69",
         "18",
         "5.05",
         "0.0",
         "0",
         "0.0",
         "0.0"
        ],
        [
         "22",
         "2024-10-02",
         "20.4",
         "32.4",
         "25.45",
         "32",
         "8.6",
         "0.0",
         "0",
         "0.0",
         "0.0"
        ],
        [
         "23",
         "2024-10-03",
         "21.7",
         "30.0",
         "25.67",
         "16",
         "6.91",
         "0.0",
         "0",
         "0.0",
         "0.0"
        ],
        [
         "24",
         "2024-10-04",
         "18.8",
         "24.7",
         "22.04",
         "19",
         "3.75",
         "0.0",
         "0",
         "0.0",
         "0.0"
        ],
        [
         "25",
         "2024-10-05",
         "18.6",
         "26.1",
         "22.52",
         "29",
         "6.81",
         "0.0",
         "0",
         "0.0",
         "0.0"
        ],
        [
         "26",
         "2024-10-06",
         "21.1",
         "30.0",
         "25.17",
         "27",
         "8.69",
         "0.0",
         "0",
         "0.0",
         "0.0"
        ],
        [
         "27",
         "2024-10-07",
         "19.3",
         "25.9",
         "23.41",
         "18",
         "5.94",
         "0.0",
         "0",
         "0.0",
         "0.0"
        ],
        [
         "28",
         "2024-10-08",
         "20.8",
         "27.9",
         "23.7",
         "23",
         "9.98",
         "0.0",
         "0",
         "0.0",
         "0.0"
        ],
        [
         "29",
         "2024-10-09",
         "17.2",
         "26.6",
         "22.62",
         "26",
         "6.21",
         "0.0",
         "0",
         "0.0",
         "0.0"
        ],
        [
         "30",
         "2024-10-10",
         "19.3",
         "27.4",
         "23.61",
         "23",
         "6.62",
         "0.0",
         "0",
         "0.0",
         "0.0"
        ],
        [
         "31",
         "2024-10-11",
         "16.2",
         "23.8",
         "20.19",
         "10",
         "3.55",
         "0.0",
         "0",
         "0.0",
         "0.0"
        ],
        [
         "32",
         "2024-10-12",
         "16.2",
         "23.5",
         "20.02",
         "13",
         "2.67",
         "0.0",
         "0",
         "0.0",
         "0.0"
        ],
        [
         "33",
         "2024-10-13",
         "19.5",
         "24.6",
         "22.2",
         "18",
         "7.51",
         "0.0",
         "0",
         "0.0",
         "0.0"
        ],
        [
         "34",
         "2024-10-14",
         "20.2",
         "24.7",
         "22.63",
         "21",
         "6.24",
         "30.6",
         "155",
         "13.6",
         "0.08"
        ],
        [
         "35",
         "2024-10-15",
         "21.0",
         "25.8",
         "23.01",
         "29",
         "9.78",
         "56.8",
         "1400",
         "0.0",
         "0.0"
        ],
        [
         "36",
         "2024-10-16",
         "19.1",
         "27.3",
         "22.8",
         "31",
         "9.36",
         "0.2",
         "5",
         "0.0",
         "0.0"
        ],
        [
         "37",
         "2024-10-17",
         "19.8",
         "26.4",
         "22.36",
         "21",
         "7.75",
         "0.0",
         "0",
         "0.0",
         "0.0"
        ],
        [
         "38",
         "2024-10-18",
         "17.0",
         "25.1",
         "20.33",
         "14",
         "6.26",
         "0.0",
         "0",
         "0.0",
         "0.0"
        ],
        [
         "39",
         "2024-10-19",
         "17.3",
         "26.3",
         "20.92",
         "26",
         "7.14",
         "0.0",
         "0",
         "0.0",
         "0.0"
        ],
        [
         "40",
         "2024-10-20",
         "18.1",
         "27.0",
         "21.52",
         "14",
         "3.76",
         "0.0",
         "0",
         "0.0",
         "0.0"
        ],
        [
         "41",
         "2024-10-21",
         "16.2",
         "22.9",
         "20.23",
         "11",
         "2.65",
         "0.0",
         "0",
         "0.0",
         "0.0"
        ],
        [
         "42",
         "2024-10-22",
         "16.4",
         "23.3",
         "19.8",
         "14",
         "2.91",
         "0.0",
         "0",
         "0.0",
         "0.0"
        ],
        [
         "43",
         "2024-10-23",
         "17.3",
         "21.9",
         "20.02",
         "19",
         "8.73",
         "1986.8",
         "1355",
         "83.4",
         "0.82"
        ],
        [
         "44",
         "2024-10-24",
         "15.7",
         "22.1",
         "19.77",
         "13",
         "4.33",
         "0.0",
         "0",
         "0.0",
         "0.0"
        ],
        [
         "45",
         "2024-10-25",
         "16.8",
         "22.8",
         "19.5",
         "16",
         "4.34",
         "38.0",
         "950",
         "0.0",
         "0.0"
        ],
        [
         "46",
         "2024-10-26",
         "16.3",
         "22.3",
         "19.41",
         "14",
         "5.43",
         "0.2",
         "5",
         "0.0",
         "0.0"
        ],
        [
         "47",
         "2024-10-27",
         "12.7",
         "16.6",
         "13.98",
         "10",
         "2.83",
         "965.0",
         "1165",
         "7.0",
         "0.4"
        ],
        [
         "48",
         "2024-10-28",
         "11.3",
         "21.2",
         "16.29",
         "32",
         "10.08",
         "125.0",
         "1105",
         "31.0",
         "0.2"
        ],
        [
         "49",
         "2024-10-29",
         "18.5",
         "22.2",
         "21.36",
         "35",
         "21.51",
         "442.2",
         "1190",
         "49.0",
         "0.38"
        ]
       ],
       "shape": {
        "columns": 10,
        "rows": 93
       }
      },
      "text/html": [
       "<div>\n",
       "<style scoped>\n",
       "    .dataframe tbody tr th:only-of-type {\n",
       "        vertical-align: middle;\n",
       "    }\n",
       "\n",
       "    .dataframe tbody tr th {\n",
       "        vertical-align: top;\n",
       "    }\n",
       "\n",
       "    .dataframe thead th {\n",
       "        text-align: right;\n",
       "    }\n",
       "</style>\n",
       "<table border=\"1\" class=\"dataframe\">\n",
       "  <thead>\n",
       "    <tr style=\"text-align: right;\">\n",
       "      <th></th>\n",
       "      <th>fecha</th>\n",
       "      <th>temp_min</th>\n",
       "      <th>temp_max</th>\n",
       "      <th>temp_promedio</th>\n",
       "      <th>viento_max</th>\n",
       "      <th>viento_promedio</th>\n",
       "      <th>precioutacion_acumulada</th>\n",
       "      <th>duracion_lluvia_min</th>\n",
       "      <th>intensidad_max</th>\n",
       "      <th>intensidad_promedio</th>\n",
       "    </tr>\n",
       "  </thead>\n",
       "  <tbody>\n",
       "    <tr>\n",
       "      <th>0</th>\n",
       "      <td>2024-09-10</td>\n",
       "      <td>20.4</td>\n",
       "      <td>28.0</td>\n",
       "      <td>24.83</td>\n",
       "      <td>13</td>\n",
       "      <td>4.53</td>\n",
       "      <td>0.0</td>\n",
       "      <td>0</td>\n",
       "      <td>0.0</td>\n",
       "      <td>0.0</td>\n",
       "    </tr>\n",
       "    <tr>\n",
       "      <th>1</th>\n",
       "      <td>2024-09-11</td>\n",
       "      <td>23.9</td>\n",
       "      <td>28.3</td>\n",
       "      <td>26.00</td>\n",
       "      <td>23</td>\n",
       "      <td>6.98</td>\n",
       "      <td>0.0</td>\n",
       "      <td>0</td>\n",
       "      <td>0.0</td>\n",
       "      <td>0.0</td>\n",
       "    </tr>\n",
       "    <tr>\n",
       "      <th>2</th>\n",
       "      <td>2024-09-12</td>\n",
       "      <td>20.4</td>\n",
       "      <td>30.2</td>\n",
       "      <td>25.60</td>\n",
       "      <td>34</td>\n",
       "      <td>7.68</td>\n",
       "      <td>0.0</td>\n",
       "      <td>0</td>\n",
       "      <td>0.0</td>\n",
       "      <td>0.0</td>\n",
       "    </tr>\n",
       "    <tr>\n",
       "      <th>3</th>\n",
       "      <td>2024-09-13</td>\n",
       "      <td>22.9</td>\n",
       "      <td>26.5</td>\n",
       "      <td>24.33</td>\n",
       "      <td>27</td>\n",
       "      <td>18.80</td>\n",
       "      <td>0.0</td>\n",
       "      <td>0</td>\n",
       "      <td>0.0</td>\n",
       "      <td>0.0</td>\n",
       "    </tr>\n",
       "    <tr>\n",
       "      <th>4</th>\n",
       "      <td>2024-09-14</td>\n",
       "      <td>20.9</td>\n",
       "      <td>25.6</td>\n",
       "      <td>23.59</td>\n",
       "      <td>21</td>\n",
       "      <td>10.65</td>\n",
       "      <td>111.2</td>\n",
       "      <td>1405</td>\n",
       "      <td>0.0</td>\n",
       "      <td>0.0</td>\n",
       "    </tr>\n",
       "    <tr>\n",
       "      <th>...</th>\n",
       "      <td>...</td>\n",
       "      <td>...</td>\n",
       "      <td>...</td>\n",
       "      <td>...</td>\n",
       "      <td>...</td>\n",
       "      <td>...</td>\n",
       "      <td>...</td>\n",
       "      <td>...</td>\n",
       "      <td>...</td>\n",
       "      <td>...</td>\n",
       "    </tr>\n",
       "    <tr>\n",
       "      <th>88</th>\n",
       "      <td>2024-12-07</td>\n",
       "      <td>14.9</td>\n",
       "      <td>25.2</td>\n",
       "      <td>19.42</td>\n",
       "      <td>18</td>\n",
       "      <td>5.70</td>\n",
       "      <td>0.0</td>\n",
       "      <td>0</td>\n",
       "      <td>0.0</td>\n",
       "      <td>0.0</td>\n",
       "    </tr>\n",
       "    <tr>\n",
       "      <th>89</th>\n",
       "      <td>2024-12-08</td>\n",
       "      <td>12.2</td>\n",
       "      <td>17.5</td>\n",
       "      <td>14.81</td>\n",
       "      <td>23</td>\n",
       "      <td>8.91</td>\n",
       "      <td>0.0</td>\n",
       "      <td>0</td>\n",
       "      <td>0.0</td>\n",
       "      <td>0.0</td>\n",
       "    </tr>\n",
       "    <tr>\n",
       "      <th>90</th>\n",
       "      <td>2024-12-09</td>\n",
       "      <td>9.9</td>\n",
       "      <td>15.3</td>\n",
       "      <td>12.20</td>\n",
       "      <td>19</td>\n",
       "      <td>8.90</td>\n",
       "      <td>0.0</td>\n",
       "      <td>0</td>\n",
       "      <td>0.0</td>\n",
       "      <td>0.0</td>\n",
       "    </tr>\n",
       "    <tr>\n",
       "      <th>91</th>\n",
       "      <td>2024-12-10</td>\n",
       "      <td>6.8</td>\n",
       "      <td>16.6</td>\n",
       "      <td>10.76</td>\n",
       "      <td>10</td>\n",
       "      <td>3.21</td>\n",
       "      <td>0.0</td>\n",
       "      <td>0</td>\n",
       "      <td>0.0</td>\n",
       "      <td>0.0</td>\n",
       "    </tr>\n",
       "    <tr>\n",
       "      <th>92</th>\n",
       "      <td>2024-12-11</td>\n",
       "      <td>8.0</td>\n",
       "      <td>8.0</td>\n",
       "      <td>8.00</td>\n",
       "      <td>3</td>\n",
       "      <td>3.00</td>\n",
       "      <td>0.0</td>\n",
       "      <td>0</td>\n",
       "      <td>0.0</td>\n",
       "      <td>0.0</td>\n",
       "    </tr>\n",
       "  </tbody>\n",
       "</table>\n",
       "<p>93 rows × 10 columns</p>\n",
       "</div>"
      ],
      "text/plain": [
       "         fecha  temp_min  temp_max  temp_promedio  viento_max  \\\n",
       "0   2024-09-10      20.4      28.0          24.83          13   \n",
       "1   2024-09-11      23.9      28.3          26.00          23   \n",
       "2   2024-09-12      20.4      30.2          25.60          34   \n",
       "3   2024-09-13      22.9      26.5          24.33          27   \n",
       "4   2024-09-14      20.9      25.6          23.59          21   \n",
       "..         ...       ...       ...            ...         ...   \n",
       "88  2024-12-07      14.9      25.2          19.42          18   \n",
       "89  2024-12-08      12.2      17.5          14.81          23   \n",
       "90  2024-12-09       9.9      15.3          12.20          19   \n",
       "91  2024-12-10       6.8      16.6          10.76          10   \n",
       "92  2024-12-11       8.0       8.0           8.00           3   \n",
       "\n",
       "    viento_promedio  precioutacion_acumulada  duracion_lluvia_min  \\\n",
       "0              4.53                      0.0                    0   \n",
       "1              6.98                      0.0                    0   \n",
       "2              7.68                      0.0                    0   \n",
       "3             18.80                      0.0                    0   \n",
       "4             10.65                    111.2                 1405   \n",
       "..              ...                      ...                  ...   \n",
       "88             5.70                      0.0                    0   \n",
       "89             8.91                      0.0                    0   \n",
       "90             8.90                      0.0                    0   \n",
       "91             3.21                      0.0                    0   \n",
       "92             3.00                      0.0                    0   \n",
       "\n",
       "    intensidad_max  intensidad_promedio  \n",
       "0              0.0                  0.0  \n",
       "1              0.0                  0.0  \n",
       "2              0.0                  0.0  \n",
       "3              0.0                  0.0  \n",
       "4              0.0                  0.0  \n",
       "..             ...                  ...  \n",
       "88             0.0                  0.0  \n",
       "89             0.0                  0.0  \n",
       "90             0.0                  0.0  \n",
       "91             0.0                  0.0  \n",
       "92             0.0                  0.0  \n",
       "\n",
       "[93 rows x 10 columns]"
      ]
     },
     "execution_count": 7,
     "metadata": {},
     "output_type": "execute_result"
    }
   ],
   "source": [
    "meteo = pd.read_csv(\"data/datos_meteo.csv\")\n",
    "meteo['timestamp'] = pd.to_datetime(meteo['timestamp'], dayfirst=True)\n",
    "\n",
    "\n",
    "meteo['fecha'] = meteo['timestamp'].dt.date\n",
    "\n",
    "meteo = meteo.groupby('fecha').agg(\n",
    "    temp_min=('temperatura', 'min'),\n",
    "    temp_max=('temperatura', 'max'),\n",
    "    temp_promedio=('temperatura', 'mean'),\n",
    "\n",
    "    viento_max=('velocidadviento', 'max'),\n",
    "    viento_promedio=('velocidadviento', 'mean'),\n",
    "\n",
    "    precioutacion_acumulada=('lluvia', 'sum'),\n",
    "    duracion_lluvia_min=('lluvia', lambda x: (x > 0).sum() * 5),  # minutos de lluvia\n",
    "\n",
    "    # Intensidad de lluvia\n",
    "    intensidad_max=('intensidadlluvia', 'max'),\n",
    "    intensidad_promedio=('intensidadlluvia', 'mean')\n",
    ").reset_index()\n",
    "\n",
    "meteo = meteo.round(2)\n",
    "meteo"
   ]
  },
  {
   "cell_type": "markdown",
   "metadata": {},
   "source": [
    "Juntamos los datos de ocupación y las variables climáticas en un mismo dataframe final"
   ]
  },
  {
   "cell_type": "code",
   "execution_count": 8,
   "metadata": {},
   "outputs": [],
   "source": [
    "df = pd.merge(df_ocupacion_dia, meteo, on='fecha', how='left')"
   ]
  },
  {
   "cell_type": "code",
   "execution_count": 9,
   "metadata": {},
   "outputs": [
    {
     "data": {
      "application/vnd.microsoft.datawrangler.viewer.v0+json": {
       "columns": [
        {
         "name": "index",
         "rawType": "int64",
         "type": "integer"
        },
        {
         "name": "fecha",
         "rawType": "object",
         "type": "unknown"
        },
        {
         "name": "count_in",
         "rawType": "float64",
         "type": "float"
        },
        {
         "name": "temp_min",
         "rawType": "float64",
         "type": "float"
        },
        {
         "name": "temp_max",
         "rawType": "float64",
         "type": "float"
        },
        {
         "name": "temp_promedio",
         "rawType": "float64",
         "type": "float"
        },
        {
         "name": "viento_max",
         "rawType": "int64",
         "type": "integer"
        },
        {
         "name": "viento_promedio",
         "rawType": "float64",
         "type": "float"
        },
        {
         "name": "precioutacion_acumulada",
         "rawType": "float64",
         "type": "float"
        },
        {
         "name": "duracion_lluvia_min",
         "rawType": "int64",
         "type": "integer"
        },
        {
         "name": "intensidad_max",
         "rawType": "float64",
         "type": "float"
        },
        {
         "name": "intensidad_promedio",
         "rawType": "float64",
         "type": "float"
        }
       ],
       "conversionMethod": "pd.DataFrame",
       "ref": "2cd4d606-98bf-4726-8e06-014c10fc6916",
       "rows": [
        [
         "0",
         "2024-09-10",
         "98.0",
         "20.4",
         "28.0",
         "24.83",
         "13",
         "4.53",
         "0.0",
         "0",
         "0.0",
         "0.0"
        ],
        [
         "1",
         "2024-09-11",
         "114.0",
         "23.9",
         "28.3",
         "26.0",
         "23",
         "6.98",
         "0.0",
         "0",
         "0.0",
         "0.0"
        ],
        [
         "2",
         "2024-09-12",
         "133.0",
         "20.4",
         "30.2",
         "25.6",
         "34",
         "7.68",
         "0.0",
         "0",
         "0.0",
         "0.0"
        ],
        [
         "3",
         "2024-09-13",
         "167.0",
         "22.9",
         "26.5",
         "24.33",
         "27",
         "18.8",
         "0.0",
         "0",
         "0.0",
         "0.0"
        ],
        [
         "4",
         "2024-09-14",
         "199.0",
         "20.9",
         "25.6",
         "23.59",
         "21",
         "10.65",
         "111.2",
         "1405",
         "0.0",
         "0.0"
        ],
        [
         "5",
         "2024-09-15",
         "127.0",
         "17.7",
         "25.7",
         "22.1",
         "16",
         "5.21",
         "0.4",
         "5",
         "0.0",
         "0.0"
        ],
        [
         "6",
         "2024-09-16",
         "109.0",
         "17.8",
         "26.1",
         "22.52",
         "14",
         "3.55",
         "0.0",
         "0",
         "0.0",
         "0.0"
        ],
        [
         "7",
         "2024-09-17",
         "151.0",
         "18.8",
         "26.9",
         "23.0",
         "16",
         "4.32",
         "0.0",
         "0",
         "0.0",
         "0.0"
        ],
        [
         "8",
         "2024-09-18",
         "159.0",
         "22.9",
         "26.3",
         "24.09",
         "21",
         "8.69",
         "0.0",
         "0",
         "0.0",
         "0.0"
        ],
        [
         "9",
         "2024-09-19",
         "153.0",
         "19.5",
         "25.2",
         "22.85",
         "14",
         "5.8",
         "526.8",
         "1340",
         "21.2",
         "0.18"
        ],
        [
         "10",
         "2024-09-20",
         "154.0",
         "17.4",
         "25.9",
         "22.13",
         "14",
         "5.74",
         "2.6",
         "5",
         "0.0",
         "0.0"
        ],
        [
         "11",
         "2024-09-21",
         "108.0",
         "21.2",
         "25.1",
         "23.6",
         "13",
         "6.86",
         "511.6",
         "880",
         "6.2",
         "0.14"
        ],
        [
         "12",
         "2024-09-22",
         "173.0",
         "20.2",
         "27.0",
         "23.63",
         "24",
         "6.15",
         "3.0",
         "5",
         "0.0",
         "0.0"
        ],
        [
         "13",
         "2024-09-23",
         "142.0",
         "20.3",
         "28.8",
         "24.1",
         "16",
         "4.59",
         "0.0",
         "0",
         "0.0",
         "0.0"
        ],
        [
         "14",
         "2024-09-24",
         "145.0",
         "19.4",
         "29.0",
         "24.03",
         "23",
         "5.08",
         "0.0",
         "0",
         "0.0",
         "0.0"
        ],
        [
         "15",
         "2024-09-25",
         "148.0",
         "20.9",
         "27.6",
         "24.36",
         "27",
         "9.43",
         "0.0",
         "0",
         "0.0",
         "0.0"
        ],
        [
         "16",
         "2024-09-26",
         "101.0",
         "20.2",
         "29.5",
         "25.2",
         "31",
         "9.1",
         "0.0",
         "0",
         "0.0",
         "0.0"
        ],
        [
         "17",
         "2024-09-27",
         "132.0",
         "22.7",
         "27.9",
         "25.52",
         "24",
         "6.79",
         "0.0",
         "0",
         "0.0",
         "0.0"
        ],
        [
         "18",
         "2024-09-28",
         "149.0",
         "21.7",
         "23.8",
         "22.44",
         "21",
         "12.66",
         "0.0",
         "0",
         "0.0",
         "0.0"
        ],
        [
         "19",
         "2024-09-29",
         "199.0",
         "16.6",
         "24.3",
         "21.06",
         "13",
         "5.63",
         "0.0",
         "0",
         "0.0",
         "0.0"
        ],
        [
         "20",
         "2024-09-30",
         "91.0",
         "17.1",
         "24.3",
         "20.95",
         "11",
         "3.27",
         "0.0",
         "0",
         "0.0",
         "0.0"
        ],
        [
         "21",
         "2024-10-01",
         "104.0",
         "17.4",
         "25.2",
         "21.69",
         "18",
         "5.05",
         "0.0",
         "0",
         "0.0",
         "0.0"
        ],
        [
         "22",
         "2024-10-02",
         "94.0",
         "20.4",
         "32.4",
         "25.45",
         "32",
         "8.6",
         "0.0",
         "0",
         "0.0",
         "0.0"
        ],
        [
         "23",
         "2024-10-03",
         "101.0",
         "21.7",
         "30.0",
         "25.67",
         "16",
         "6.91",
         "0.0",
         "0",
         "0.0",
         "0.0"
        ],
        [
         "24",
         "2024-10-04",
         "106.0",
         "18.8",
         "24.7",
         "22.04",
         "19",
         "3.75",
         "0.0",
         "0",
         "0.0",
         "0.0"
        ],
        [
         "25",
         "2024-10-05",
         "168.0",
         "18.6",
         "26.1",
         "22.52",
         "29",
         "6.81",
         "0.0",
         "0",
         "0.0",
         "0.0"
        ],
        [
         "26",
         "2024-10-06",
         "129.0",
         "21.1",
         "30.0",
         "25.17",
         "27",
         "8.69",
         "0.0",
         "0",
         "0.0",
         "0.0"
        ],
        [
         "27",
         "2024-10-07",
         "124.0",
         "19.3",
         "25.9",
         "23.41",
         "18",
         "5.94",
         "0.0",
         "0",
         "0.0",
         "0.0"
        ],
        [
         "28",
         "2024-10-08",
         "124.0",
         "20.8",
         "27.9",
         "23.7",
         "23",
         "9.98",
         "0.0",
         "0",
         "0.0",
         "0.0"
        ],
        [
         "29",
         "2024-10-09",
         "210.0",
         "17.2",
         "26.6",
         "22.62",
         "26",
         "6.21",
         "0.0",
         "0",
         "0.0",
         "0.0"
        ],
        [
         "30",
         "2024-10-10",
         "124.0",
         "19.3",
         "27.4",
         "23.61",
         "23",
         "6.62",
         "0.0",
         "0",
         "0.0",
         "0.0"
        ],
        [
         "31",
         "2024-10-11",
         "122.0",
         "16.2",
         "23.8",
         "20.19",
         "10",
         "3.55",
         "0.0",
         "0",
         "0.0",
         "0.0"
        ],
        [
         "32",
         "2024-10-12",
         "211.0",
         "16.2",
         "23.5",
         "20.02",
         "13",
         "2.67",
         "0.0",
         "0",
         "0.0",
         "0.0"
        ],
        [
         "33",
         "2024-10-13",
         "217.0",
         "19.5",
         "24.6",
         "22.2",
         "18",
         "7.51",
         "0.0",
         "0",
         "0.0",
         "0.0"
        ],
        [
         "34",
         "2024-10-14",
         "116.0",
         "20.2",
         "24.7",
         "22.63",
         "21",
         "6.24",
         "30.6",
         "155",
         "13.6",
         "0.08"
        ],
        [
         "35",
         "2024-10-15",
         "121.0",
         "21.0",
         "25.8",
         "23.01",
         "29",
         "9.78",
         "56.8",
         "1400",
         "0.0",
         "0.0"
        ],
        [
         "36",
         "2024-10-16",
         "126.0",
         "19.1",
         "27.3",
         "22.8",
         "31",
         "9.36",
         "0.2",
         "5",
         "0.0",
         "0.0"
        ],
        [
         "37",
         "2024-10-17",
         "136.0",
         "19.8",
         "26.4",
         "22.36",
         "21",
         "7.75",
         "0.0",
         "0",
         "0.0",
         "0.0"
        ],
        [
         "38",
         "2024-10-18",
         "138.0",
         "17.0",
         "25.1",
         "20.33",
         "14",
         "6.26",
         "0.0",
         "0",
         "0.0",
         "0.0"
        ],
        [
         "39",
         "2024-10-19",
         "186.0",
         "17.3",
         "26.3",
         "20.92",
         "26",
         "7.14",
         "0.0",
         "0",
         "0.0",
         "0.0"
        ],
        [
         "40",
         "2024-10-20",
         "191.0",
         "18.1",
         "27.0",
         "21.52",
         "14",
         "3.76",
         "0.0",
         "0",
         "0.0",
         "0.0"
        ],
        [
         "41",
         "2024-10-21",
         "122.0",
         "16.2",
         "22.9",
         "20.23",
         "11",
         "2.65",
         "0.0",
         "0",
         "0.0",
         "0.0"
        ],
        [
         "42",
         "2024-10-22",
         "160.0",
         "16.4",
         "23.3",
         "19.8",
         "14",
         "2.91",
         "0.0",
         "0",
         "0.0",
         "0.0"
        ],
        [
         "43",
         "2024-10-23",
         "115.0",
         "17.3",
         "21.9",
         "20.02",
         "19",
         "8.73",
         "1986.8",
         "1355",
         "83.4",
         "0.82"
        ],
        [
         "44",
         "2024-10-24",
         "135.0",
         "15.7",
         "22.1",
         "19.77",
         "13",
         "4.33",
         "0.0",
         "0",
         "0.0",
         "0.0"
        ],
        [
         "45",
         "2024-10-25",
         "148.0",
         "16.8",
         "22.8",
         "19.5",
         "16",
         "4.34",
         "38.0",
         "950",
         "0.0",
         "0.0"
        ],
        [
         "46",
         "2024-10-26",
         "248.0",
         "16.3",
         "22.3",
         "19.41",
         "14",
         "5.43",
         "0.2",
         "5",
         "0.0",
         "0.0"
        ],
        [
         "47",
         "2024-10-27",
         "97.0",
         "12.7",
         "16.6",
         "13.98",
         "10",
         "2.83",
         "965.0",
         "1165",
         "7.0",
         "0.4"
        ],
        [
         "48",
         "2024-10-28",
         "160.0",
         "11.3",
         "21.2",
         "16.29",
         "32",
         "10.08",
         "125.0",
         "1105",
         "31.0",
         "0.2"
        ],
        [
         "49",
         "2024-10-29",
         "112.0",
         "18.5",
         "22.2",
         "21.36",
         "35",
         "21.51",
         "442.2",
         "1190",
         "49.0",
         "0.38"
        ]
       ],
       "shape": {
        "columns": 11,
        "rows": 92
       }
      },
      "text/html": [
       "<div>\n",
       "<style scoped>\n",
       "    .dataframe tbody tr th:only-of-type {\n",
       "        vertical-align: middle;\n",
       "    }\n",
       "\n",
       "    .dataframe tbody tr th {\n",
       "        vertical-align: top;\n",
       "    }\n",
       "\n",
       "    .dataframe thead th {\n",
       "        text-align: right;\n",
       "    }\n",
       "</style>\n",
       "<table border=\"1\" class=\"dataframe\">\n",
       "  <thead>\n",
       "    <tr style=\"text-align: right;\">\n",
       "      <th></th>\n",
       "      <th>fecha</th>\n",
       "      <th>count_in</th>\n",
       "      <th>temp_min</th>\n",
       "      <th>temp_max</th>\n",
       "      <th>temp_promedio</th>\n",
       "      <th>viento_max</th>\n",
       "      <th>viento_promedio</th>\n",
       "      <th>precioutacion_acumulada</th>\n",
       "      <th>duracion_lluvia_min</th>\n",
       "      <th>intensidad_max</th>\n",
       "      <th>intensidad_promedio</th>\n",
       "    </tr>\n",
       "  </thead>\n",
       "  <tbody>\n",
       "    <tr>\n",
       "      <th>0</th>\n",
       "      <td>2024-09-10</td>\n",
       "      <td>98.0</td>\n",
       "      <td>20.4</td>\n",
       "      <td>28.0</td>\n",
       "      <td>24.83</td>\n",
       "      <td>13</td>\n",
       "      <td>4.53</td>\n",
       "      <td>0.0</td>\n",
       "      <td>0</td>\n",
       "      <td>0.0</td>\n",
       "      <td>0.0</td>\n",
       "    </tr>\n",
       "    <tr>\n",
       "      <th>1</th>\n",
       "      <td>2024-09-11</td>\n",
       "      <td>114.0</td>\n",
       "      <td>23.9</td>\n",
       "      <td>28.3</td>\n",
       "      <td>26.00</td>\n",
       "      <td>23</td>\n",
       "      <td>6.98</td>\n",
       "      <td>0.0</td>\n",
       "      <td>0</td>\n",
       "      <td>0.0</td>\n",
       "      <td>0.0</td>\n",
       "    </tr>\n",
       "    <tr>\n",
       "      <th>2</th>\n",
       "      <td>2024-09-12</td>\n",
       "      <td>133.0</td>\n",
       "      <td>20.4</td>\n",
       "      <td>30.2</td>\n",
       "      <td>25.60</td>\n",
       "      <td>34</td>\n",
       "      <td>7.68</td>\n",
       "      <td>0.0</td>\n",
       "      <td>0</td>\n",
       "      <td>0.0</td>\n",
       "      <td>0.0</td>\n",
       "    </tr>\n",
       "    <tr>\n",
       "      <th>3</th>\n",
       "      <td>2024-09-13</td>\n",
       "      <td>167.0</td>\n",
       "      <td>22.9</td>\n",
       "      <td>26.5</td>\n",
       "      <td>24.33</td>\n",
       "      <td>27</td>\n",
       "      <td>18.80</td>\n",
       "      <td>0.0</td>\n",
       "      <td>0</td>\n",
       "      <td>0.0</td>\n",
       "      <td>0.0</td>\n",
       "    </tr>\n",
       "    <tr>\n",
       "      <th>4</th>\n",
       "      <td>2024-09-14</td>\n",
       "      <td>199.0</td>\n",
       "      <td>20.9</td>\n",
       "      <td>25.6</td>\n",
       "      <td>23.59</td>\n",
       "      <td>21</td>\n",
       "      <td>10.65</td>\n",
       "      <td>111.2</td>\n",
       "      <td>1405</td>\n",
       "      <td>0.0</td>\n",
       "      <td>0.0</td>\n",
       "    </tr>\n",
       "    <tr>\n",
       "      <th>...</th>\n",
       "      <td>...</td>\n",
       "      <td>...</td>\n",
       "      <td>...</td>\n",
       "      <td>...</td>\n",
       "      <td>...</td>\n",
       "      <td>...</td>\n",
       "      <td>...</td>\n",
       "      <td>...</td>\n",
       "      <td>...</td>\n",
       "      <td>...</td>\n",
       "      <td>...</td>\n",
       "    </tr>\n",
       "    <tr>\n",
       "      <th>87</th>\n",
       "      <td>2024-12-06</td>\n",
       "      <td>151.0</td>\n",
       "      <td>12.9</td>\n",
       "      <td>25.9</td>\n",
       "      <td>19.13</td>\n",
       "      <td>18</td>\n",
       "      <td>5.29</td>\n",
       "      <td>0.0</td>\n",
       "      <td>0</td>\n",
       "      <td>0.0</td>\n",
       "      <td>0.0</td>\n",
       "    </tr>\n",
       "    <tr>\n",
       "      <th>88</th>\n",
       "      <td>2024-12-07</td>\n",
       "      <td>128.0</td>\n",
       "      <td>14.9</td>\n",
       "      <td>25.2</td>\n",
       "      <td>19.42</td>\n",
       "      <td>18</td>\n",
       "      <td>5.70</td>\n",
       "      <td>0.0</td>\n",
       "      <td>0</td>\n",
       "      <td>0.0</td>\n",
       "      <td>0.0</td>\n",
       "    </tr>\n",
       "    <tr>\n",
       "      <th>89</th>\n",
       "      <td>2024-12-08</td>\n",
       "      <td>163.0</td>\n",
       "      <td>12.2</td>\n",
       "      <td>17.5</td>\n",
       "      <td>14.81</td>\n",
       "      <td>23</td>\n",
       "      <td>8.91</td>\n",
       "      <td>0.0</td>\n",
       "      <td>0</td>\n",
       "      <td>0.0</td>\n",
       "      <td>0.0</td>\n",
       "    </tr>\n",
       "    <tr>\n",
       "      <th>90</th>\n",
       "      <td>2024-12-09</td>\n",
       "      <td>50.0</td>\n",
       "      <td>9.9</td>\n",
       "      <td>15.3</td>\n",
       "      <td>12.20</td>\n",
       "      <td>19</td>\n",
       "      <td>8.90</td>\n",
       "      <td>0.0</td>\n",
       "      <td>0</td>\n",
       "      <td>0.0</td>\n",
       "      <td>0.0</td>\n",
       "    </tr>\n",
       "    <tr>\n",
       "      <th>91</th>\n",
       "      <td>2024-12-10</td>\n",
       "      <td>65.0</td>\n",
       "      <td>6.8</td>\n",
       "      <td>16.6</td>\n",
       "      <td>10.76</td>\n",
       "      <td>10</td>\n",
       "      <td>3.21</td>\n",
       "      <td>0.0</td>\n",
       "      <td>0</td>\n",
       "      <td>0.0</td>\n",
       "      <td>0.0</td>\n",
       "    </tr>\n",
       "  </tbody>\n",
       "</table>\n",
       "<p>92 rows × 11 columns</p>\n",
       "</div>"
      ],
      "text/plain": [
       "         fecha  count_in  temp_min  temp_max  temp_promedio  viento_max  \\\n",
       "0   2024-09-10      98.0      20.4      28.0          24.83          13   \n",
       "1   2024-09-11     114.0      23.9      28.3          26.00          23   \n",
       "2   2024-09-12     133.0      20.4      30.2          25.60          34   \n",
       "3   2024-09-13     167.0      22.9      26.5          24.33          27   \n",
       "4   2024-09-14     199.0      20.9      25.6          23.59          21   \n",
       "..         ...       ...       ...       ...            ...         ...   \n",
       "87  2024-12-06     151.0      12.9      25.9          19.13          18   \n",
       "88  2024-12-07     128.0      14.9      25.2          19.42          18   \n",
       "89  2024-12-08     163.0      12.2      17.5          14.81          23   \n",
       "90  2024-12-09      50.0       9.9      15.3          12.20          19   \n",
       "91  2024-12-10      65.0       6.8      16.6          10.76          10   \n",
       "\n",
       "    viento_promedio  precioutacion_acumulada  duracion_lluvia_min  \\\n",
       "0              4.53                      0.0                    0   \n",
       "1              6.98                      0.0                    0   \n",
       "2              7.68                      0.0                    0   \n",
       "3             18.80                      0.0                    0   \n",
       "4             10.65                    111.2                 1405   \n",
       "..              ...                      ...                  ...   \n",
       "87             5.29                      0.0                    0   \n",
       "88             5.70                      0.0                    0   \n",
       "89             8.91                      0.0                    0   \n",
       "90             8.90                      0.0                    0   \n",
       "91             3.21                      0.0                    0   \n",
       "\n",
       "    intensidad_max  intensidad_promedio  \n",
       "0              0.0                  0.0  \n",
       "1              0.0                  0.0  \n",
       "2              0.0                  0.0  \n",
       "3              0.0                  0.0  \n",
       "4              0.0                  0.0  \n",
       "..             ...                  ...  \n",
       "87             0.0                  0.0  \n",
       "88             0.0                  0.0  \n",
       "89             0.0                  0.0  \n",
       "90             0.0                  0.0  \n",
       "91             0.0                  0.0  \n",
       "\n",
       "[92 rows x 11 columns]"
      ]
     },
     "execution_count": 9,
     "metadata": {},
     "output_type": "execute_result"
    }
   ],
   "source": [
    "df"
   ]
  },
  {
   "cell_type": "markdown",
   "metadata": {},
   "source": [
    "Vamos a estudiar la correlación entre las distintas variables y el número de personas en el parque ese día.  \n",
    "Utilizaremos la Correlación de Pearson y representaremos los resultados en heatmap:  \n",
    "- Valores cercanos a +1: correlación positiva fuerte\n",
    "- Valores cercanos a -1: correlación negativa fuerte\n",
    "- Valores cercanos a 0: sin correlación"
   ]
  },
  {
   "cell_type": "code",
   "execution_count": 10,
   "metadata": {},
   "outputs": [
    {
     "name": "stdout",
     "output_type": "stream",
     "text": [
      "Correlaciones con count_in:\n",
      "count_in                   1.000000\n",
      "temp_min                   0.256609\n",
      "temp_promedio              0.248542\n",
      "temp_max                   0.158723\n",
      "viento_promedio            0.054132\n",
      "viento_max                 0.045748\n",
      "intensidad_max            -0.104990\n",
      "intensidad_promedio       -0.151955\n",
      "precioutacion_acumulada   -0.173954\n",
      "duracion_lluvia_min       -0.225924\n",
      "Name: count_in, dtype: float64\n"
     ]
    },
    {
     "data": {
      "image/png": "[encoded data removed]",
      "text/plain": [
       "<Figure size 1000x800 with 2 Axes>"
      ]
     },
     "metadata": {},
     "output_type": "display_data"
    },
    {
     "data": {
      "image/png": "[encoded data removed]",
      "text/plain": [
       "<Figure size 640x480 with 1 Axes>"
      ]
     },
     "metadata": {},
     "output_type": "display_data"
    }
   ],
   "source": [
    "import pandas as pd\n",
    "import seaborn as sns\n",
    "import matplotlib.pyplot as plt\n",
    "\n",
    "df_corr= df.select_dtypes(include='number')\n",
    "correlaciones = df_corr.corr(method='pearson')\n",
    "\n",
    "correlacion_con_count_in = correlaciones['count_in'].sort_values(ascending=False)\n",
    "\n",
    "print(\"Correlaciones con count_in:\")\n",
    "print(correlacion_con_count_in)\n",
    "\n",
    "plt.figure(figsize=(10, 8))\n",
    "sns.heatmap(correlaciones, annot=True, fmt=\".2f\", cmap='coolwarm', square=True)\n",
    "plt.title('Matriz de Correlaciones (Pearson)')\n",
    "plt.tight_layout()\n",
    "plt.show()\n",
    "\n",
    "correlacion_con_count_in.drop('count_in').plot(kind='barh', color='skyblue')\n",
    "plt.title('Correlación de otras variables con count_in')\n",
    "plt.xlabel('Coeficiente de correlación')\n",
    "plt.axvline(0, color='gray', linestyle='--')\n",
    "plt.tight_layout()\n",
    "plt.show()\n"
   ]
  },
  {
   "cell_type": "markdown",
   "metadata": {},
   "source": [
    "## Data Visualization"
   ]
  },
  {
   "cell_type": "markdown",
   "metadata": {},
   "source": [
    "- time series using timeGPT / Prohet / ...\n",
    "LOOK FOR THE BEST TECHNIQUE FOR OUR DATA"
   ]
  },
  {
   "cell_type": "markdown",
   "metadata": {},
   "source": [
    "Hacer solo con count_in y con día de la semana etc"
   ]
  },
  {
   "cell_type": "code",
   "execution_count": 11,
   "metadata": {},
   "outputs": [],
   "source": [
    "df_ts = df[['fecha', 'count_in']].copy()\n",
    "df_ts.rename(columns={'fecha': 'ds', 'count_in': 'y'}, inplace=True)\n",
    "\n",
    "df_ts['ds'] = pd.to_datetime(df_ts['ds'])"
   ]
  },
  {
   "cell_type": "code",
   "execution_count": 12,
   "metadata": {},
   "outputs": [
    {
     "name": "stderr",
     "output_type": "stream",
     "text": [
      "INFO:nixtla.nixtla_client:Validating inputs...\n",
      "INFO:nixtla.nixtla_client:Inferred freq: D\n",
      "INFO:nixtla.nixtla_client:Preprocessing dataframes...\n",
      "INFO:nixtla.nixtla_client:Querying model metadata...\n",
      "WARNING:nixtla.nixtla_client:The specified horizon \"h\" exceeds the model horizon, this may lead to less accurate forecasts. Please consider using a smaller horizon.\n",
      "INFO:nixtla.nixtla_client:Restricting input...\n",
      "INFO:nixtla.nixtla_client:Calling Forecast Endpoint...\n"
     ]
    },
    {
     "name": "stdout",
     "output_type": "stream",
     "text": [
      "           ds     TimeGPT\n",
      "0  2024-12-11   84.368240\n",
      "1  2024-12-12   88.652190\n",
      "2  2024-12-13   95.748730\n",
      "3  2024-12-14  129.610870\n",
      "4  2024-12-15  144.725520\n",
      "5  2024-12-16   99.700300\n",
      "6  2024-12-17   93.928070\n",
      "7  2024-12-18   96.195390\n",
      "8  2024-12-19   96.907510\n",
      "9  2024-12-20  103.377426\n",
      "10 2024-12-21  128.906590\n",
      "11 2024-12-22  145.790130\n",
      "12 2024-12-23  102.785550\n",
      "13 2024-12-24   99.152330\n"
     ]
    }
   ],
   "source": [
    "from nixtla import NixtlaClient\n",
    "from dotenv import load_dotenv\n",
    "import os\n",
    "\n",
    "load_dotenv()\n",
    "\n",
    "# Obtener API key\n",
    "API_KEY = os.getenv(\"TIMEGPT_API_KEY\")\n",
    "\n",
    "# Setear clave\n",
    "nixtla_client = NixtlaClient(API_KEY)\n",
    "\n",
    "# Forecast de los próximos 14 días (por ejemplo)\n",
    "forecast = nixtla_client.forecast(df=df_ts, h=14)\n",
    "\n",
    "# Mostrar resultados\n",
    "print(forecast)\n"
   ]
  },
  {
   "cell_type": "code",
   "execution_count": 13,
   "metadata": {},
   "outputs": [
    {
     "data": {
      "image/png": "[encoded data removed]",
      "text/plain": [
       "<Figure size 640x480 with 1 Axes>"
      ]
     },
     "metadata": {},
     "output_type": "display_data"
    }
   ],
   "source": [
    "import matplotlib.pyplot as plt\n",
    "\n",
    "# Graficar historial + forecast\n",
    "plt.plot(df_ts['ds'], df_ts['y'], label='Histórico')\n",
    "plt.plot(forecast['ds'], forecast['TimeGPT'], label='Forecast', linestyle='--')\n",
    "plt.legend()\n",
    "plt.title('Predicción de visitantes al parque')\n",
    "plt.xticks(rotation=45)\n",
    "plt.tight_layout()\n",
    "plt.show()\n"
   ]
  },
  {
   "cell_type": "markdown",
   "metadata": {},
   "source": [
    "- ver si es serie temporal\n",
    "- ver que modelo utilizar\n",
    "- como parametizar ese modelo ( cuanto datos historicos coges apra predecir )"
   ]
  },
  {
   "cell_type": "markdown",
   "metadata": {},
   "source": []
  },
  {
   "cell_type": "code",
   "execution_count": 33,
   "metadata": {},
   "outputs": [
    {
     "data": {
      "application/vnd.microsoft.datawrangler.viewer.v0+json": {
       "columns": [
        {
         "name": "index",
         "rawType": "int64",
         "type": "integer"
        },
        {
         "name": "fecha",
         "rawType": "datetime64[ns]",
         "type": "datetime"
        },
        {
         "name": "count_in",
         "rawType": "float64",
         "type": "float"
        },
        {
         "name": "temp_min",
         "rawType": "float64",
         "type": "float"
        },
        {
         "name": "temp_max",
         "rawType": "float64",
         "type": "float"
        },
        {
         "name": "temp_promedio",
         "rawType": "float64",
         "type": "float"
        },
        {
         "name": "viento_max",
         "rawType": "int64",
         "type": "integer"
        },
        {
         "name": "viento_promedio",
         "rawType": "float64",
         "type": "float"
        },
        {
         "name": "precioutacion_acumulada",
         "rawType": "float64",
         "type": "float"
        },
        {
         "name": "duracion_lluvia_min",
         "rawType": "int64",
         "type": "integer"
        },
        {
         "name": "intensidad_max",
         "rawType": "float64",
         "type": "float"
        },
        {
         "name": "intensidad_promedio",
         "rawType": "float64",
         "type": "float"
        },
        {
         "name": "lluvia",
         "rawType": "int32",
         "type": "integer"
        },
        {
         "name": "fin_de_semana",
         "rawType": "int32",
         "type": "integer"
        },
        {
         "name": "categoria_temperatura",
         "rawType": "category",
         "type": "unknown"
        }
       ],
       "conversionMethod": "pd.DataFrame",
       "ref": "d47a448f-072b-4874-8e37-c5709bd22b46",
       "rows": [
        [
         "0",
         "2024-09-10 00:00:00",
         "98.0",
         "20.4",
         "28.0",
         "24.83",
         "13",
         "4.53",
         "0.0",
         "0",
         "0.0",
         "0.0",
         "0",
         "0",
         "moderada"
        ],
        [
         "1",
         "2024-09-11 00:00:00",
         "114.0",
         "23.9",
         "28.3",
         "26.0",
         "23",
         "6.98",
         "0.0",
         "0",
         "0.0",
         "0.0",
         "0",
         "0",
         "moderada"
        ],
        [
         "2",
         "2024-09-12 00:00:00",
         "133.0",
         "20.4",
         "30.2",
         "25.6",
         "34",
         "7.68",
         "0.0",
         "0",
         "0.0",
         "0.0",
         "0",
         "0",
         "moderada"
        ],
        [
         "3",
         "2024-09-13 00:00:00",
         "167.0",
         "22.9",
         "26.5",
         "24.33",
         "27",
         "18.8",
         "0.0",
         "0",
         "0.0",
         "0.0",
         "0",
         "0",
         "moderada"
        ],
        [
         "4",
         "2024-09-14 00:00:00",
         "199.0",
         "20.9",
         "25.6",
         "23.59",
         "21",
         "10.65",
         "111.2",
         "1405",
         "0.0",
         "0.0",
         "1",
         "1",
         "moderada"
        ],
        [
         "5",
         "2024-09-15 00:00:00",
         "127.0",
         "17.7",
         "25.7",
         "22.1",
         "16",
         "5.21",
         "0.4",
         "5",
         "0.0",
         "0.0",
         "1",
         "1",
         "moderada"
        ],
        [
         "6",
         "2024-09-16 00:00:00",
         "109.0",
         "17.8",
         "26.1",
         "22.52",
         "14",
         "3.55",
         "0.0",
         "0",
         "0.0",
         "0.0",
         "0",
         "0",
         "moderada"
        ],
        [
         "7",
         "2024-09-17 00:00:00",
         "151.0",
         "18.8",
         "26.9",
         "23.0",
         "16",
         "4.32",
         "0.0",
         "0",
         "0.0",
         "0.0",
         "0",
         "0",
         "moderada"
        ],
        [
         "8",
         "2024-09-18 00:00:00",
         "159.0",
         "22.9",
         "26.3",
         "24.09",
         "21",
         "8.69",
         "0.0",
         "0",
         "0.0",
         "0.0",
         "0",
         "0",
         "moderada"
        ],
        [
         "9",
         "2024-09-19 00:00:00",
         "153.0",
         "19.5",
         "25.2",
         "22.85",
         "14",
         "5.8",
         "526.8",
         "1340",
         "21.2",
         "0.18",
         "1",
         "0",
         "moderada"
        ],
        [
         "10",
         "2024-09-20 00:00:00",
         "154.0",
         "17.4",
         "25.9",
         "22.13",
         "14",
         "5.74",
         "2.6",
         "5",
         "0.0",
         "0.0",
         "1",
         "0",
         "moderada"
        ],
        [
         "11",
         "2024-09-21 00:00:00",
         "108.0",
         "21.2",
         "25.1",
         "23.6",
         "13",
         "6.86",
         "511.6",
         "880",
         "6.2",
         "0.14",
         "1",
         "1",
         "moderada"
        ],
        [
         "12",
         "2024-09-22 00:00:00",
         "173.0",
         "20.2",
         "27.0",
         "23.63",
         "24",
         "6.15",
         "3.0",
         "5",
         "0.0",
         "0.0",
         "1",
         "1",
         "moderada"
        ],
        [
         "13",
         "2024-09-23 00:00:00",
         "142.0",
         "20.3",
         "28.8",
         "24.1",
         "16",
         "4.59",
         "0.0",
         "0",
         "0.0",
         "0.0",
         "0",
         "0",
         "moderada"
        ],
        [
         "14",
         "2024-09-24 00:00:00",
         "145.0",
         "19.4",
         "29.0",
         "24.03",
         "23",
         "5.08",
         "0.0",
         "0",
         "0.0",
         "0.0",
         "0",
         "0",
         "moderada"
        ],
        [
         "15",
         "2024-09-25 00:00:00",
         "148.0",
         "20.9",
         "27.6",
         "24.36",
         "27",
         "9.43",
         "0.0",
         "0",
         "0.0",
         "0.0",
         "0",
         "0",
         "moderada"
        ],
        [
         "16",
         "2024-09-26 00:00:00",
         "101.0",
         "20.2",
         "29.5",
         "25.2",
         "31",
         "9.1",
         "0.0",
         "0",
         "0.0",
         "0.0",
         "0",
         "0",
         "moderada"
        ],
        [
         "17",
         "2024-09-27 00:00:00",
         "132.0",
         "22.7",
         "27.9",
         "25.52",
         "24",
         "6.79",
         "0.0",
         "0",
         "0.0",
         "0.0",
         "0",
         "0",
         "moderada"
        ],
        [
         "18",
         "2024-09-28 00:00:00",
         "149.0",
         "21.7",
         "23.8",
         "22.44",
         "21",
         "12.66",
         "0.0",
         "0",
         "0.0",
         "0.0",
         "0",
         "1",
         "moderada"
        ],
        [
         "19",
         "2024-09-29 00:00:00",
         "199.0",
         "16.6",
         "24.3",
         "21.06",
         "13",
         "5.63",
         "0.0",
         "0",
         "0.0",
         "0.0",
         "0",
         "1",
         "moderada"
        ],
        [
         "20",
         "2024-09-30 00:00:00",
         "91.0",
         "17.1",
         "24.3",
         "20.95",
         "11",
         "3.27",
         "0.0",
         "0",
         "0.0",
         "0.0",
         "0",
         "0",
         "moderada"
        ],
        [
         "21",
         "2024-10-01 00:00:00",
         "104.0",
         "17.4",
         "25.2",
         "21.69",
         "18",
         "5.05",
         "0.0",
         "0",
         "0.0",
         "0.0",
         "0",
         "0",
         "moderada"
        ],
        [
         "22",
         "2024-10-02 00:00:00",
         "94.0",
         "20.4",
         "32.4",
         "25.45",
         "32",
         "8.6",
         "0.0",
         "0",
         "0.0",
         "0.0",
         "0",
         "0",
         "moderada"
        ],
        [
         "23",
         "2024-10-03 00:00:00",
         "101.0",
         "21.7",
         "30.0",
         "25.67",
         "16",
         "6.91",
         "0.0",
         "0",
         "0.0",
         "0.0",
         "0",
         "0",
         "moderada"
        ],
        [
         "24",
         "2024-10-04 00:00:00",
         "106.0",
         "18.8",
         "24.7",
         "22.04",
         "19",
         "3.75",
         "0.0",
         "0",
         "0.0",
         "0.0",
         "0",
         "0",
         "moderada"
        ],
        [
         "25",
         "2024-10-05 00:00:00",
         "168.0",
         "18.6",
         "26.1",
         "22.52",
         "29",
         "6.81",
         "0.0",
         "0",
         "0.0",
         "0.0",
         "0",
         "1",
         "moderada"
        ],
        [
         "26",
         "2024-10-06 00:00:00",
         "129.0",
         "21.1",
         "30.0",
         "25.17",
         "27",
         "8.69",
         "0.0",
         "0",
         "0.0",
         "0.0",
         "0",
         "1",
         "moderada"
        ],
        [
         "27",
         "2024-10-07 00:00:00",
         "124.0",
         "19.3",
         "25.9",
         "23.41",
         "18",
         "5.94",
         "0.0",
         "0",
         "0.0",
         "0.0",
         "0",
         "0",
         "moderada"
        ],
        [
         "28",
         "2024-10-08 00:00:00",
         "124.0",
         "20.8",
         "27.9",
         "23.7",
         "23",
         "9.98",
         "0.0",
         "0",
         "0.0",
         "0.0",
         "0",
         "0",
         "moderada"
        ],
        [
         "29",
         "2024-10-09 00:00:00",
         "210.0",
         "17.2",
         "26.6",
         "22.62",
         "26",
         "6.21",
         "0.0",
         "0",
         "0.0",
         "0.0",
         "0",
         "0",
         "moderada"
        ],
        [
         "30",
         "2024-10-10 00:00:00",
         "124.0",
         "19.3",
         "27.4",
         "23.61",
         "23",
         "6.62",
         "0.0",
         "0",
         "0.0",
         "0.0",
         "0",
         "0",
         "moderada"
        ],
        [
         "31",
         "2024-10-11 00:00:00",
         "122.0",
         "16.2",
         "23.8",
         "20.19",
         "10",
         "3.55",
         "0.0",
         "0",
         "0.0",
         "0.0",
         "0",
         "0",
         "moderada"
        ],
        [
         "32",
         "2024-10-12 00:00:00",
         "211.0",
         "16.2",
         "23.5",
         "20.02",
         "13",
         "2.67",
         "0.0",
         "0",
         "0.0",
         "0.0",
         "0",
         "1",
         "moderada"
        ],
        [
         "33",
         "2024-10-13 00:00:00",
         "217.0",
         "19.5",
         "24.6",
         "22.2",
         "18",
         "7.51",
         "0.0",
         "0",
         "0.0",
         "0.0",
         "0",
         "1",
         "moderada"
        ],
        [
         "34",
         "2024-10-14 00:00:00",
         "116.0",
         "20.2",
         "24.7",
         "22.63",
         "21",
         "6.24",
         "30.6",
         "155",
         "13.6",
         "0.08",
         "1",
         "0",
         "moderada"
        ],
        [
         "35",
         "2024-10-15 00:00:00",
         "121.0",
         "21.0",
         "25.8",
         "23.01",
         "29",
         "9.78",
         "56.8",
         "1400",
         "0.0",
         "0.0",
         "1",
         "0",
         "moderada"
        ],
        [
         "36",
         "2024-10-16 00:00:00",
         "126.0",
         "19.1",
         "27.3",
         "22.8",
         "31",
         "9.36",
         "0.2",
         "5",
         "0.0",
         "0.0",
         "1",
         "0",
         "moderada"
        ],
        [
         "37",
         "2024-10-17 00:00:00",
         "136.0",
         "19.8",
         "26.4",
         "22.36",
         "21",
         "7.75",
         "0.0",
         "0",
         "0.0",
         "0.0",
         "0",
         "0",
         "moderada"
        ],
        [
         "38",
         "2024-10-18 00:00:00",
         "138.0",
         "17.0",
         "25.1",
         "20.33",
         "14",
         "6.26",
         "0.0",
         "0",
         "0.0",
         "0.0",
         "0",
         "0",
         "moderada"
        ],
        [
         "39",
         "2024-10-19 00:00:00",
         "186.0",
         "17.3",
         "26.3",
         "20.92",
         "26",
         "7.14",
         "0.0",
         "0",
         "0.0",
         "0.0",
         "0",
         "1",
         "moderada"
        ],
        [
         "40",
         "2024-10-20 00:00:00",
         "191.0",
         "18.1",
         "27.0",
         "21.52",
         "14",
         "3.76",
         "0.0",
         "0",
         "0.0",
         "0.0",
         "0",
         "1",
         "moderada"
        ],
        [
         "41",
         "2024-10-21 00:00:00",
         "122.0",
         "16.2",
         "22.9",
         "20.23",
         "11",
         "2.65",
         "0.0",
         "0",
         "0.0",
         "0.0",
         "0",
         "0",
         "moderada"
        ],
        [
         "42",
         "2024-10-22 00:00:00",
         "160.0",
         "16.4",
         "23.3",
         "19.8",
         "14",
         "2.91",
         "0.0",
         "0",
         "0.0",
         "0.0",
         "0",
         "0",
         "moderada"
        ],
        [
         "43",
         "2024-10-23 00:00:00",
         "115.0",
         "17.3",
         "21.9",
         "20.02",
         "19",
         "8.73",
         "1986.8",
         "1355",
         "83.4",
         "0.82",
         "1",
         "0",
         "moderada"
        ],
        [
         "44",
         "2024-10-24 00:00:00",
         "135.0",
         "15.7",
         "22.1",
         "19.77",
         "13",
         "4.33",
         "0.0",
         "0",
         "0.0",
         "0.0",
         "0",
         "0",
         "moderada"
        ],
        [
         "45",
         "2024-10-25 00:00:00",
         "148.0",
         "16.8",
         "22.8",
         "19.5",
         "16",
         "4.34",
         "38.0",
         "950",
         "0.0",
         "0.0",
         "1",
         "0",
         "moderada"
        ],
        [
         "46",
         "2024-10-26 00:00:00",
         "248.0",
         "16.3",
         "22.3",
         "19.41",
         "14",
         "5.43",
         "0.2",
         "5",
         "0.0",
         "0.0",
         "1",
         "1",
         "moderada"
        ],
        [
         "47",
         "2024-10-27 00:00:00",
         "97.0",
         "12.7",
         "16.6",
         "13.98",
         "10",
         "2.83",
         "965.0",
         "1165",
         "7.0",
         "0.4",
         "1",
         "1",
         "fría"
        ],
        [
         "48",
         "2024-10-28 00:00:00",
         "160.0",
         "11.3",
         "21.2",
         "16.29",
         "32",
         "10.08",
         "125.0",
         "1105",
         "31.0",
         "0.2",
         "1",
         "0",
         "moderada"
        ],
        [
         "49",
         "2024-10-29 00:00:00",
         "112.0",
         "18.5",
         "22.2",
         "21.36",
         "35",
         "21.51",
         "442.2",
         "1190",
         "49.0",
         "0.38",
         "1",
         "0",
         "moderada"
        ]
       ],
       "shape": {
        "columns": 14,
        "rows": 92
       }
      },
      "text/html": [
       "<div>\n",
       "<style scoped>\n",
       "    .dataframe tbody tr th:only-of-type {\n",
       "        vertical-align: middle;\n",
       "    }\n",
       "\n",
       "    .dataframe tbody tr th {\n",
       "        vertical-align: top;\n",
       "    }\n",
       "\n",
       "    .dataframe thead th {\n",
       "        text-align: right;\n",
       "    }\n",
       "</style>\n",
       "<table border=\"1\" class=\"dataframe\">\n",
       "  <thead>\n",
       "    <tr style=\"text-align: right;\">\n",
       "      <th></th>\n",
       "      <th>fecha</th>\n",
       "      <th>count_in</th>\n",
       "      <th>temp_min</th>\n",
       "      <th>temp_max</th>\n",
       "      <th>temp_promedio</th>\n",
       "      <th>viento_max</th>\n",
       "      <th>viento_promedio</th>\n",
       "      <th>precioutacion_acumulada</th>\n",
       "      <th>duracion_lluvia_min</th>\n",
       "      <th>intensidad_max</th>\n",
       "      <th>intensidad_promedio</th>\n",
       "      <th>lluvia</th>\n",
       "      <th>fin_de_semana</th>\n",
       "      <th>categoria_temperatura</th>\n",
       "    </tr>\n",
       "  </thead>\n",
       "  <tbody>\n",
       "    <tr>\n",
       "      <th>0</th>\n",
       "      <td>2024-09-10</td>\n",
       "      <td>98.0</td>\n",
       "      <td>20.4</td>\n",
       "      <td>28.0</td>\n",
       "      <td>24.83</td>\n",
       "      <td>13</td>\n",
       "      <td>4.53</td>\n",
       "      <td>0.0</td>\n",
       "      <td>0</td>\n",
       "      <td>0.0</td>\n",
       "      <td>0.0</td>\n",
       "      <td>0</td>\n",
       "      <td>0</td>\n",
       "      <td>moderada</td>\n",
       "    </tr>\n",
       "    <tr>\n",
       "      <th>1</th>\n",
       "      <td>2024-09-11</td>\n",
       "      <td>114.0</td>\n",
       "      <td>23.9</td>\n",
       "      <td>28.3</td>\n",
       "      <td>26.00</td>\n",
       "      <td>23</td>\n",
       "      <td>6.98</td>\n",
       "      <td>0.0</td>\n",
       "      <td>0</td>\n",
       "      <td>0.0</td>\n",
       "      <td>0.0</td>\n",
       "      <td>0</td>\n",
       "      <td>0</td>\n",
       "      <td>moderada</td>\n",
       "    </tr>\n",
       "    <tr>\n",
       "      <th>2</th>\n",
       "      <td>2024-09-12</td>\n",
       "      <td>133.0</td>\n",
       "      <td>20.4</td>\n",
       "      <td>30.2</td>\n",
       "      <td>25.60</td>\n",
       "      <td>34</td>\n",
       "      <td>7.68</td>\n",
       "      <td>0.0</td>\n",
       "      <td>0</td>\n",
       "      <td>0.0</td>\n",
       "      <td>0.0</td>\n",
       "      <td>0</td>\n",
       "      <td>0</td>\n",
       "      <td>moderada</td>\n",
       "    </tr>\n",
       "    <tr>\n",
       "      <th>3</th>\n",
       "      <td>2024-09-13</td>\n",
       "      <td>167.0</td>\n",
       "      <td>22.9</td>\n",
       "      <td>26.5</td>\n",
       "      <td>24.33</td>\n",
       "      <td>27</td>\n",
       "      <td>18.80</td>\n",
       "      <td>0.0</td>\n",
       "      <td>0</td>\n",
       "      <td>0.0</td>\n",
       "      <td>0.0</td>\n",
       "      <td>0</td>\n",
       "      <td>0</td>\n",
       "      <td>moderada</td>\n",
       "    </tr>\n",
       "    <tr>\n",
       "      <th>4</th>\n",
       "      <td>2024-09-14</td>\n",
       "      <td>199.0</td>\n",
       "      <td>20.9</td>\n",
       "      <td>25.6</td>\n",
       "      <td>23.59</td>\n",
       "      <td>21</td>\n",
       "      <td>10.65</td>\n",
       "      <td>111.2</td>\n",
       "      <td>1405</td>\n",
       "      <td>0.0</td>\n",
       "      <td>0.0</td>\n",
       "      <td>1</td>\n",
       "      <td>1</td>\n",
       "      <td>moderada</td>\n",
       "    </tr>\n",
       "    <tr>\n",
       "      <th>...</th>\n",
       "      <td>...</td>\n",
       "      <td>...</td>\n",
       "      <td>...</td>\n",
       "      <td>...</td>\n",
       "      <td>...</td>\n",
       "      <td>...</td>\n",
       "      <td>...</td>\n",
       "      <td>...</td>\n",
       "      <td>...</td>\n",
       "      <td>...</td>\n",
       "      <td>...</td>\n",
       "      <td>...</td>\n",
       "      <td>...</td>\n",
       "      <td>...</td>\n",
       "    </tr>\n",
       "    <tr>\n",
       "      <th>87</th>\n",
       "      <td>2024-12-06</td>\n",
       "      <td>151.0</td>\n",
       "      <td>12.9</td>\n",
       "      <td>25.9</td>\n",
       "      <td>19.13</td>\n",
       "      <td>18</td>\n",
       "      <td>5.29</td>\n",
       "      <td>0.0</td>\n",
       "      <td>0</td>\n",
       "      <td>0.0</td>\n",
       "      <td>0.0</td>\n",
       "      <td>0</td>\n",
       "      <td>0</td>\n",
       "      <td>moderada</td>\n",
       "    </tr>\n",
       "    <tr>\n",
       "      <th>88</th>\n",
       "      <td>2024-12-07</td>\n",
       "      <td>128.0</td>\n",
       "      <td>14.9</td>\n",
       "      <td>25.2</td>\n",
       "      <td>19.42</td>\n",
       "      <td>18</td>\n",
       "      <td>5.70</td>\n",
       "      <td>0.0</td>\n",
       "      <td>0</td>\n",
       "      <td>0.0</td>\n",
       "      <td>0.0</td>\n",
       "      <td>0</td>\n",
       "      <td>1</td>\n",
       "      <td>moderada</td>\n",
       "    </tr>\n",
       "    <tr>\n",
       "      <th>89</th>\n",
       "      <td>2024-12-08</td>\n",
       "      <td>163.0</td>\n",
       "      <td>12.2</td>\n",
       "      <td>17.5</td>\n",
       "      <td>14.81</td>\n",
       "      <td>23</td>\n",
       "      <td>8.91</td>\n",
       "      <td>0.0</td>\n",
       "      <td>0</td>\n",
       "      <td>0.0</td>\n",
       "      <td>0.0</td>\n",
       "      <td>0</td>\n",
       "      <td>1</td>\n",
       "      <td>fría</td>\n",
       "    </tr>\n",
       "    <tr>\n",
       "      <th>90</th>\n",
       "      <td>2024-12-09</td>\n",
       "      <td>50.0</td>\n",
       "      <td>9.9</td>\n",
       "      <td>15.3</td>\n",
       "      <td>12.20</td>\n",
       "      <td>19</td>\n",
       "      <td>8.90</td>\n",
       "      <td>0.0</td>\n",
       "      <td>0</td>\n",
       "      <td>0.0</td>\n",
       "      <td>0.0</td>\n",
       "      <td>0</td>\n",
       "      <td>0</td>\n",
       "      <td>fría</td>\n",
       "    </tr>\n",
       "    <tr>\n",
       "      <th>91</th>\n",
       "      <td>2024-12-10</td>\n",
       "      <td>65.0</td>\n",
       "      <td>6.8</td>\n",
       "      <td>16.6</td>\n",
       "      <td>10.76</td>\n",
       "      <td>10</td>\n",
       "      <td>3.21</td>\n",
       "      <td>0.0</td>\n",
       "      <td>0</td>\n",
       "      <td>0.0</td>\n",
       "      <td>0.0</td>\n",
       "      <td>0</td>\n",
       "      <td>0</td>\n",
       "      <td>fría</td>\n",
       "    </tr>\n",
       "  </tbody>\n",
       "</table>\n",
       "<p>92 rows × 14 columns</p>\n",
       "</div>"
      ],
      "text/plain": [
       "        fecha  count_in  temp_min  temp_max  temp_promedio  viento_max  \\\n",
       "0  2024-09-10      98.0      20.4      28.0          24.83          13   \n",
       "1  2024-09-11     114.0      23.9      28.3          26.00          23   \n",
       "2  2024-09-12     133.0      20.4      30.2          25.60          34   \n",
       "3  2024-09-13     167.0      22.9      26.5          24.33          27   \n",
       "4  2024-09-14     199.0      20.9      25.6          23.59          21   \n",
       "..        ...       ...       ...       ...            ...         ...   \n",
       "87 2024-12-06     151.0      12.9      25.9          19.13          18   \n",
       "88 2024-12-07     128.0      14.9      25.2          19.42          18   \n",
       "89 2024-12-08     163.0      12.2      17.5          14.81          23   \n",
       "90 2024-12-09      50.0       9.9      15.3          12.20          19   \n",
       "91 2024-12-10      65.0       6.8      16.6          10.76          10   \n",
       "\n",
       "    viento_promedio  precioutacion_acumulada  duracion_lluvia_min  \\\n",
       "0              4.53                      0.0                    0   \n",
       "1              6.98                      0.0                    0   \n",
       "2              7.68                      0.0                    0   \n",
       "3             18.80                      0.0                    0   \n",
       "4             10.65                    111.2                 1405   \n",
       "..              ...                      ...                  ...   \n",
       "87             5.29                      0.0                    0   \n",
       "88             5.70                      0.0                    0   \n",
       "89             8.91                      0.0                    0   \n",
       "90             8.90                      0.0                    0   \n",
       "91             3.21                      0.0                    0   \n",
       "\n",
       "    intensidad_max  intensidad_promedio  lluvia  fin_de_semana  \\\n",
       "0              0.0                  0.0       0              0   \n",
       "1              0.0                  0.0       0              0   \n",
       "2              0.0                  0.0       0              0   \n",
       "3              0.0                  0.0       0              0   \n",
       "4              0.0                  0.0       1              1   \n",
       "..             ...                  ...     ...            ...   \n",
       "87             0.0                  0.0       0              0   \n",
       "88             0.0                  0.0       0              1   \n",
       "89             0.0                  0.0       0              1   \n",
       "90             0.0                  0.0       0              0   \n",
       "91             0.0                  0.0       0              0   \n",
       "\n",
       "   categoria_temperatura  \n",
       "0               moderada  \n",
       "1               moderada  \n",
       "2               moderada  \n",
       "3               moderada  \n",
       "4               moderada  \n",
       "..                   ...  \n",
       "87              moderada  \n",
       "88              moderada  \n",
       "89                  fría  \n",
       "90                  fría  \n",
       "91                  fría  \n",
       "\n",
       "[92 rows x 14 columns]"
      ]
     },
     "execution_count": 33,
     "metadata": {},
     "output_type": "execute_result"
    }
   ],
   "source": [
    "\n",
    "\n",
    "df_dummy = df.copy()\n",
    "df_dummy['fecha'] = pd.to_datetime(df_dummy['fecha'])\n",
    "df_dummy['lluvia'] = (df_dummy['precioutacion_acumulada'] > 0).astype(int)\n",
    "df_dummy['fin_de_semana'] = df_dummy['fecha'].dt.dayofweek.isin([5, 6]).astype(int)\n",
    "\n",
    "bins = [-float('inf'), 15, 26, float('inf')]\n",
    "labels = ['fría', 'moderada', 'alta']\n",
    "\n",
    "# Crear la nueva columna categórica\n",
    "df_dummy['categoria_temperatura'] = pd.cut(df_dummy['temp_promedio'], bins=bins, labels=labels)\n",
    "df_dummy"
   ]
  },
  {
   "cell_type": "markdown",
   "metadata": {},
   "source": [
    "## Hacemos un test de hipótisis para estudair si la lluvia afecta o no al número de visitantes"
   ]
  },
  {
   "cell_type": "code",
   "execution_count": null,
   "metadata": {},
   "outputs": [
    {
     "data": {
      "image/png": "[encoded data removed]",
      "text/plain": [
       "<Figure size 640x480 with 1 Axes>"
      ]
     },
     "metadata": {},
     "output_type": "display_data"
    },
    {
     "name": "stdout",
     "output_type": "stream",
     "text": [
      "p-valor Shapiro (sin lluvia): 0.0678124725818634\n",
      "p-valor Shapiro (con lluvia): 0.11722476035356522\n"
     ]
    }
   ],
   "source": [
    "from scipy.stats import shapiro\n",
    "import matplotlib.pyplot as plt\n",
    "\n",
    "df_dummy[df_dummy['lluvia'] == 0]['count_in'].hist(alpha=0.5, label='Sin lluvia')\n",
    "df_dummy[df_dummy['lluvia'] == 1]['count_in'].hist(alpha=0.5, label='Con lluvia')\n",
    "plt.legend()\n",
    "plt.title('Distribución de count_in por lluvia')\n",
    "plt.show()\n",
    "\n",
    "shapiro_sin = shapiro(df_dummy[df_dummy['lluvia'] == 0]['count_in'])\n",
    "shapiro_con = shapiro(df_dummy[df_dummy['lluvia'] == 1]['count_in'])\n",
    "\n",
    "print(\"p-valor Shapiro (sin lluvia):\", shapiro_sin.pvalue)\n",
    "print(\"p-valor Shapiro (con lluvia):\", shapiro_con.pvalue)\n"
   ]
  },
  {
   "cell_type": "markdown",
   "metadata": {},
   "source": [
    "Normalidad en los datos, usamos test t"
   ]
  },
  {
   "cell_type": "markdown",
   "metadata": {},
   "source": [
    "Hipótesis nula (H₀): La media de visitantes es la misma en días con y sin lluvia.  \n",
    "Hipótesis alternativa (H₁): La media de visitantes es diferente entre días con y sin lluvia"
   ]
  },
  {
   "cell_type": "code",
   "execution_count": null,
   "metadata": {},
   "outputs": [
    {
     "name": "stdout",
     "output_type": "stream",
     "text": [
      "Test t: p-value = 0.3647634304049451\n"
     ]
    }
   ],
   "source": [
    "from scipy.stats import ttest_ind, mannwhitneyu\n",
    "\n",
    "\n",
    "hipo_lluvia = df_dummy[['count_in', 'lluvia']]\n",
    "\n",
    "sin_lluvia = hipo_lluvia[hipo_lluvia['lluvia'] == 0]['count_in']\n",
    "con_lluvia = hipo_lluvia[hipo_lluvia['lluvia'] == 1]['count_in']\n",
    "\n",
    "t_stat, p_val_ttest = ttest_ind(sin_lluvia, con_lluvia, equal_var=False)\n",
    "\n",
    "\n",
    "print(\"Test t: p-value =\", p_val_ttest)\n"
   ]
  },
  {
   "cell_type": "markdown",
   "metadata": {},
   "source": [
    "Resultado p-valor mayor que 0.05, lo que significa que no se rechaza la hipótesis nula.\n",
    "> **Conclusión:** No hay evidencia estadísticamente significativa para afirmar que la lluvia afecte el número de visitantes al parque.\n"
   ]
  },
  {
   "cell_type": "markdown",
   "metadata": {},
   "source": [
    "## Hacemos un test de hipótisis para estudair si que sea fin de semana o no afecta al número de visitantes"
   ]
  },
  {
   "cell_type": "code",
   "execution_count": null,
   "metadata": {},
   "outputs": [
    {
     "data": {
      "image/png": "[encoded data removed]",
      "text/plain": [
       "<Figure size 640x480 with 1 Axes>"
      ]
     },
     "metadata": {},
     "output_type": "display_data"
    },
    {
     "name": "stdout",
     "output_type": "stream",
     "text": [
      "p-valor Shapiro (entre semana): 0.6183127760887146\n",
      "p-valor Shapiro (fin de semana): 0.8032315373420715\n"
     ]
    }
   ],
   "source": [
    "from scipy.stats import shapiro\n",
    "import matplotlib.pyplot as plt\n",
    "\n",
    "df_dummy[df_dummy['fin_de_semana'] == 0]['count_in'].hist(alpha=0.5, label='entre semana')\n",
    "df_dummy[df_dummy['fin_de_semana'] == 1]['count_in'].hist(alpha=0.5, label='fin de semana')\n",
    "plt.legend()\n",
    "plt.title('Distribución de count_in por entre semana y fin de semana')\n",
    "plt.show()\n",
    "\n",
    "shapiro_entre = shapiro(df_dummy[df_dummy['fin_de_semana'] == 0]['count_in'])\n",
    "shapiro_fin = shapiro(df_dummy[df_dummy['fin_de_semana'] == 1]['count_in'])\n",
    "\n",
    "print(\"p-valor Shapiro (entre semana):\", shapiro_entre.pvalue)\n",
    "print(\"p-valor Shapiro (fin de semana):\", shapiro_fin.pvalue)\n"
   ]
  },
  {
   "cell_type": "markdown",
   "metadata": {},
   "source": [
    "p-valores son mayores que 0.05, no se rechaza la normalidad, así que usamos el t-test."
   ]
  },
  {
   "cell_type": "markdown",
   "metadata": {},
   "source": [
    "H₀ (nula): El número de visitantes es igual en fines de semana y días de semana.\n",
    "\n",
    "H₁ (alternativa): El número de visitantes es diferente entre fines de semana y días de semana."
   ]
  },
  {
   "cell_type": "code",
   "execution_count": 30,
   "metadata": {},
   "outputs": [
    {
     "name": "stdout",
     "output_type": "stream",
     "text": [
      "Test t: p-value = 3.7540731446008386e-05\n"
     ]
    }
   ],
   "source": [
    "from scipy.stats import ttest_ind\n",
    "\n",
    "entre_semana = df_dummy[df_dummy['fin_de_semana'] == 0]['count_in']\n",
    "fin_de_semana = df_dummy[df_dummy['fin_de_semana'] == 1]['count_in']\n",
    "\n",
    "# Test t\n",
    "t_stat, p_val_t = ttest_ind(entre_semana, fin_de_semana, equal_var=False)\n",
    "\n",
    "print(\"Test t: p-value =\", p_val_t)\n"
   ]
  },
  {
   "cell_type": "markdown",
   "metadata": {},
   "source": [
    "Se realizó un test de hipótesis para evaluar si el hecho de que sea fin de semana influye en el número de visitantes al parque.\n",
    "\n",
    "Tras comprobar que los datos de ambos grupos (entre semana y fin de semana) seguían una distribución normal mediante la prueba de Shapiro-Wilk (p > 0.05 en ambos casos), se aplicó un t-test de dos muestras independientes.\n",
    "\n",
    "El resultado del test fue un p-valor = 0.0000375, lo cual es significativamente menor que el umbral habitual de 0.05.\n",
    "\n",
    "Conclusión: Se rechaza la hipótesis nula. Existe evidencia estadísticamente significativa de que el número de visitantes es diferente entre fines de semana y días de semana. Es decir, ser fin de semana sí afecta al número de visitantes."
   ]
  },
  {
   "cell_type": "markdown",
   "metadata": {},
   "source": [
    "Ahora queremos saber si hay más mpersonas entre semana o fin de semana, Para ello sacamos la media de ambos grupos."
   ]
  },
  {
   "cell_type": "code",
   "execution_count": 31,
   "metadata": {},
   "outputs": [
    {
     "name": "stdout",
     "output_type": "stream",
     "text": [
      "Media entre semana: 119.66666666666667\n",
      "Media fin de semana: 165.92307692307693\n"
     ]
    }
   ],
   "source": [
    "media_semana = df_dummy[df_dummy['fin_de_semana'] == 0]['count_in'].mean()\n",
    "\n",
    "media_findesemana = df_dummy[df_dummy['fin_de_semana'] == 1]['count_in'].mean()\n",
    "\n",
    "print(\"Media entre semana:\", media_semana)\n",
    "print(\"Media fin de semana:\", media_findesemana)"
   ]
  }
 ],
 "metadata": {
  "kernelspec": {
   "display_name": "Python 3",
   "language": "python",
   "name": "python3"
  },
  "language_info": {
   "codemirror_mode": {
    "name": "ipython",
    "version": 3
   },
   "file_extension": ".py",
   "mimetype": "text/x-python",
   "name": "python",
   "nbconvert_exporter": "python",
   "pygments_lexer": "ipython3",
   "version": "3.11.9"
  }
 },
 "nbformat": 4,
 "nbformat_minor": 2
}
