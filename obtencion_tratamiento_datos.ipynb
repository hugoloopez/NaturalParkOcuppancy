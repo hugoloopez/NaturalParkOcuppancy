{
 "cells": [
  {
   "cell_type": "code",
   "execution_count": 47,
   "metadata": {},
   "outputs": [
    {
     "data": {
      "text/plain": [
       "True"
      ]
     },
     "execution_count": 47,
     "metadata": {},
     "output_type": "execute_result"
    }
   ],
   "source": [
    "import pandas as pd\n",
    "import seaborn as sns\n",
    "import matplotlib.pyplot as plt\n",
    "from nixtla import NixtlaClient\n",
    "from dotenv import load_dotenv\n",
    "import os\n",
    "from sklearn.metrics import mean_absolute_error, mean_squared_error, r2_score, mean_absolute_percentage_error, median_absolute_error, max_error, explained_variance_score\n",
    "import numpy as np\n",
    "from scipy.stats import shapiro\n",
    "from scipy.stats import ttest_ind, mannwhitneyu\n",
    "from scipy.stats import shapiro, levene, f_oneway, kruskal\n",
    "from datetime import datetime\n",
    "from sklearn.ensemble import RandomForestRegressor\n",
    "from sklearn.model_selection import cross_val_score, cross_val_predict, RandomizedSearchCV, TimeSeriesSplit\n",
    "from sklearn.preprocessing import OneHotEncoder\n",
    "from sklearn.compose import ColumnTransformer\n",
    "from sklearn.pipeline import Pipeline\n",
    "from prophet import Prophet\n",
    "from lightgbm import LGBMRegressor\n",
    "load_dotenv()"
   ]
  },
  {
   "cell_type": "markdown",
   "metadata": {},
   "source": [
    "# METHOD"
   ]
  },
  {
   "cell_type": "markdown",
   "metadata": {},
   "source": [
    "## Data Analitics:\n",
    "\n",
    "- Data curation\n",
    "- Data description\n",
    "- Data Inference\n"
   ]
  },
  {
   "cell_type": "markdown",
   "metadata": {},
   "source": [
    "Dado que los datos de count_in son incrementales y no tenemos datos exactos de las personas que entra y salen del parque, usamos el número de personas que entran por día y haremos la predicción por días en lugar de por horas.\n",
    "A continuación nos quedamos con las filas con valor máximo de count_in por cada día."
   ]
  },
  {
   "cell_type": "code",
   "execution_count": 48,
   "metadata": {},
   "outputs": [
    {
     "data": {
      "application/vnd.microsoft.datawrangler.viewer.v0+json": {
       "columns": [
        {
         "name": "index",
         "rawType": "int64",
         "type": "integer"
        },
        {
         "name": "fecha",
         "rawType": "object",
         "type": "unknown"
        },
        {
         "name": "count_in",
         "rawType": "float64",
         "type": "float"
        }
       ],
       "conversionMethod": "pd.DataFrame",
       "ref": "d1faf541-c173-4242-a5a2-b3bc2defd703",
       "rows": [
        [
         "11060",
         "2024-09-10",
         "98.0"
        ],
        [
         "12870",
         "2024-09-11",
         "114.0"
        ],
        [
         "14261",
         "2024-09-12",
         "133.0"
        ],
        [
         "15819",
         "2024-09-13",
         "167.0"
        ],
        [
         "17349",
         "2024-09-14",
         "199.0"
        ],
        [
         "18899",
         "2024-09-15",
         "127.0"
        ],
        [
         "20453",
         "2024-09-16",
         "109.0"
        ],
        [
         "21785",
         "2024-09-17",
         "151.0"
        ],
        [
         "23076",
         "2024-09-18",
         "159.0"
        ],
        [
         "24412",
         "2024-09-19",
         "153.0"
        ],
        [
         "25745",
         "2024-09-20",
         "154.0"
        ],
        [
         "27065",
         "2024-09-21",
         "108.0"
        ],
        [
         "28421",
         "2024-09-22",
         "173.0"
        ],
        [
         "29758",
         "2024-09-23",
         "142.0"
        ],
        [
         "31142",
         "2024-09-24",
         "145.0"
        ],
        [
         "32538",
         "2024-09-25",
         "148.0"
        ],
        [
         "33691",
         "2024-09-26",
         "101.0"
        ],
        [
         "34794",
         "2024-09-27",
         "132.0"
        ],
        [
         "35947",
         "2024-09-28",
         "149.0"
        ],
        [
         "37083",
         "2024-09-29",
         "199.0"
        ],
        [
         "38242",
         "2024-09-30",
         "91.0"
        ],
        [
         "286",
         "2024-10-01",
         "104.0"
        ],
        [
         "1516",
         "2024-10-02",
         "94.0"
        ],
        [
         "2695",
         "2024-10-03",
         "101.0"
        ],
        [
         "3939",
         "2024-10-04",
         "106.0"
        ],
        [
         "5106",
         "2024-10-05",
         "168.0"
        ],
        [
         "6260",
         "2024-10-06",
         "129.0"
        ],
        [
         "7490",
         "2024-10-07",
         "124.0"
        ],
        [
         "8687",
         "2024-10-08",
         "124.0"
        ],
        [
         "9965",
         "2024-10-09",
         "210.0"
        ],
        [
         "11414",
         "2024-10-10",
         "124.0"
        ],
        [
         "13260",
         "2024-10-11",
         "122.0"
        ],
        [
         "14764",
         "2024-10-12",
         "211.0"
        ],
        [
         "16299",
         "2024-10-13",
         "217.0"
        ],
        [
         "17870",
         "2024-10-14",
         "116.0"
        ],
        [
         "19398",
         "2024-10-15",
         "121.0"
        ],
        [
         "20986",
         "2024-10-16",
         "126.0"
        ],
        [
         "22222",
         "2024-10-17",
         "136.0"
        ],
        [
         "23579",
         "2024-10-18",
         "138.0"
        ],
        [
         "24907",
         "2024-10-19",
         "186.0"
        ],
        [
         "26264",
         "2024-10-20",
         "191.0"
        ],
        [
         "27526",
         "2024-10-21",
         "122.0"
        ],
        [
         "28861",
         "2024-10-22",
         "160.0"
        ],
        [
         "30269",
         "2024-10-23",
         "115.0"
        ],
        [
         "31590",
         "2024-10-24",
         "135.0"
        ],
        [
         "33009",
         "2024-10-25",
         "148.0"
        ],
        [
         "34122",
         "2024-10-26",
         "248.0"
        ],
        [
         "35322",
         "2024-10-27",
         "97.0"
        ],
        [
         "36395",
         "2024-10-28",
         "160.0"
        ],
        [
         "37518",
         "2024-10-29",
         "112.0"
        ]
       ],
       "shape": {
        "columns": 2,
        "rows": 92
       }
      },
      "text/html": [
       "<div>\n",
       "<style scoped>\n",
       "    .dataframe tbody tr th:only-of-type {\n",
       "        vertical-align: middle;\n",
       "    }\n",
       "\n",
       "    .dataframe tbody tr th {\n",
       "        vertical-align: top;\n",
       "    }\n",
       "\n",
       "    .dataframe thead th {\n",
       "        text-align: right;\n",
       "    }\n",
       "</style>\n",
       "<table border=\"1\" class=\"dataframe\">\n",
       "  <thead>\n",
       "    <tr style=\"text-align: right;\">\n",
       "      <th></th>\n",
       "      <th>fecha</th>\n",
       "      <th>count_in</th>\n",
       "    </tr>\n",
       "  </thead>\n",
       "  <tbody>\n",
       "    <tr>\n",
       "      <th>11060</th>\n",
       "      <td>2024-09-10</td>\n",
       "      <td>98.0</td>\n",
       "    </tr>\n",
       "    <tr>\n",
       "      <th>12870</th>\n",
       "      <td>2024-09-11</td>\n",
       "      <td>114.0</td>\n",
       "    </tr>\n",
       "    <tr>\n",
       "      <th>14261</th>\n",
       "      <td>2024-09-12</td>\n",
       "      <td>133.0</td>\n",
       "    </tr>\n",
       "    <tr>\n",
       "      <th>15819</th>\n",
       "      <td>2024-09-13</td>\n",
       "      <td>167.0</td>\n",
       "    </tr>\n",
       "    <tr>\n",
       "      <th>17349</th>\n",
       "      <td>2024-09-14</td>\n",
       "      <td>199.0</td>\n",
       "    </tr>\n",
       "    <tr>\n",
       "      <th>...</th>\n",
       "      <td>...</td>\n",
       "      <td>...</td>\n",
       "    </tr>\n",
       "    <tr>\n",
       "      <th>7106</th>\n",
       "      <td>2024-12-06</td>\n",
       "      <td>151.0</td>\n",
       "    </tr>\n",
       "    <tr>\n",
       "      <th>8339</th>\n",
       "      <td>2024-12-07</td>\n",
       "      <td>128.0</td>\n",
       "    </tr>\n",
       "    <tr>\n",
       "      <th>9539</th>\n",
       "      <td>2024-12-08</td>\n",
       "      <td>163.0</td>\n",
       "    </tr>\n",
       "    <tr>\n",
       "      <th>10819</th>\n",
       "      <td>2024-12-09</td>\n",
       "      <td>50.0</td>\n",
       "    </tr>\n",
       "    <tr>\n",
       "      <th>12320</th>\n",
       "      <td>2024-12-10</td>\n",
       "      <td>65.0</td>\n",
       "    </tr>\n",
       "  </tbody>\n",
       "</table>\n",
       "<p>92 rows × 2 columns</p>\n",
       "</div>"
      ],
      "text/plain": [
       "            fecha  count_in\n",
       "11060  2024-09-10      98.0\n",
       "12870  2024-09-11     114.0\n",
       "14261  2024-09-12     133.0\n",
       "15819  2024-09-13     167.0\n",
       "17349  2024-09-14     199.0\n",
       "...           ...       ...\n",
       "7106   2024-12-06     151.0\n",
       "8339   2024-12-07     128.0\n",
       "9539   2024-12-08     163.0\n",
       "10819  2024-12-09      50.0\n",
       "12320  2024-12-10      65.0\n",
       "\n",
       "[92 rows x 2 columns]"
      ]
     },
     "execution_count": 48,
     "metadata": {},
     "output_type": "execute_result"
    }
   ],
   "source": [
    "ocupacion = pd.read_csv(\"data/datos_ocupacion.csv\")\n",
    "ocupacion['timestamp'] = pd.to_datetime(ocupacion['timestamp'], dayfirst=True)\n",
    "ocupacion['fecha'] = ocupacion['timestamp'].dt.date\n",
    "df_ocupacion_dia = ocupacion.loc[ocupacion.groupby('fecha')['count_in'].idxmax()]\n",
    "df_ocupacion_dia = df_ocupacion_dia[['fecha', 'count_in']]\n",
    "df_ocupacion_dia"
   ]
  },
  {
   "cell_type": "markdown",
   "metadata": {},
   "source": [
    "Siguiendo la lógica anterior y para poder hacer el análisis y estudiar la correlación entre las personas en el parque y las distintas variables debemos agregarlas por días, teniendo asíu granularidad diaria en todas ellas"
   ]
  },
  {
   "cell_type": "markdown",
   "metadata": {},
   "source": [
    "-  **temperatura**:  _temp_min_, _temp_max_ y _temp_promedio_\n",
    "-  **velocidadviento**:  _viento_promedio_ y _viento_max_ \n",
    "- **lluvia**: _precipitacion_acumulada_ y _duracion_lluvia_min_\n",
    "- **intensidadlluvia**: _intensidad_max_ e _intensidad_promedio_"
   ]
  },
  {
   "cell_type": "markdown",
   "metadata": {},
   "source": [
    "TEMPERATURA PROMEDIO : 3 intervalos: fria ( < 15 ) moderada (15 - 27) y alta (>27) "
   ]
  },
  {
   "cell_type": "code",
   "execution_count": 49,
   "metadata": {},
   "outputs": [
    {
     "data": {
      "application/vnd.microsoft.datawrangler.viewer.v0+json": {
       "columns": [
        {
         "name": "index",
         "rawType": "int64",
         "type": "integer"
        },
        {
         "name": "fecha",
         "rawType": "object",
         "type": "unknown"
        },
        {
         "name": "temp_min",
         "rawType": "float64",
         "type": "float"
        },
        {
         "name": "temp_max",
         "rawType": "float64",
         "type": "float"
        },
        {
         "name": "temp_promedio",
         "rawType": "float64",
         "type": "float"
        },
        {
         "name": "viento_max",
         "rawType": "int64",
         "type": "integer"
        },
        {
         "name": "viento_promedio",
         "rawType": "float64",
         "type": "float"
        },
        {
         "name": "precioutacion_acumulada",
         "rawType": "float64",
         "type": "float"
        },
        {
         "name": "duracion_lluvia_min",
         "rawType": "int64",
         "type": "integer"
        },
        {
         "name": "intensidad_max",
         "rawType": "float64",
         "type": "float"
        },
        {
         "name": "intensidad_promedio",
         "rawType": "float64",
         "type": "float"
        }
       ],
       "conversionMethod": "pd.DataFrame",
       "ref": "01273947-2b0e-4185-b3d0-8db5e560f567",
       "rows": [
        [
         "0",
         "2024-09-10",
         "20.4",
         "28.0",
         "24.83",
         "13",
         "4.53",
         "0.0",
         "0",
         "0.0",
         "0.0"
        ],
        [
         "1",
         "2024-09-11",
         "23.9",
         "28.3",
         "26.0",
         "23",
         "6.98",
         "0.0",
         "0",
         "0.0",
         "0.0"
        ],
        [
         "2",
         "2024-09-12",
         "20.4",
         "30.2",
         "25.6",
         "34",
         "7.68",
         "0.0",
         "0",
         "0.0",
         "0.0"
        ],
        [
         "3",
         "2024-09-13",
         "22.9",
         "26.5",
         "24.33",
         "27",
         "18.8",
         "0.0",
         "0",
         "0.0",
         "0.0"
        ],
        [
         "4",
         "2024-09-14",
         "20.9",
         "25.6",
         "23.59",
         "21",
         "10.65",
         "111.2",
         "1405",
         "0.0",
         "0.0"
        ],
        [
         "5",
         "2024-09-15",
         "17.7",
         "25.7",
         "22.1",
         "16",
         "5.21",
         "0.4",
         "5",
         "0.0",
         "0.0"
        ],
        [
         "6",
         "2024-09-16",
         "17.8",
         "26.1",
         "22.52",
         "14",
         "3.55",
         "0.0",
         "0",
         "0.0",
         "0.0"
        ],
        [
         "7",
         "2024-09-17",
         "18.8",
         "26.9",
         "23.0",
         "16",
         "4.32",
         "0.0",
         "0",
         "0.0",
         "0.0"
        ],
        [
         "8",
         "2024-09-18",
         "22.9",
         "26.3",
         "24.09",
         "21",
         "8.69",
         "0.0",
         "0",
         "0.0",
         "0.0"
        ],
        [
         "9",
         "2024-09-19",
         "19.5",
         "25.2",
         "22.85",
         "14",
         "5.8",
         "526.8",
         "1340",
         "21.2",
         "0.18"
        ],
        [
         "10",
         "2024-09-20",
         "17.4",
         "25.9",
         "22.13",
         "14",
         "5.74",
         "2.6",
         "5",
         "0.0",
         "0.0"
        ],
        [
         "11",
         "2024-09-21",
         "21.2",
         "25.1",
         "23.6",
         "13",
         "6.86",
         "511.6",
         "880",
         "6.2",
         "0.14"
        ],
        [
         "12",
         "2024-09-22",
         "20.2",
         "27.0",
         "23.63",
         "24",
         "6.15",
         "3.0",
         "5",
         "0.0",
         "0.0"
        ],
        [
         "13",
         "2024-09-23",
         "20.3",
         "28.8",
         "24.1",
         "16",
         "4.59",
         "0.0",
         "0",
         "0.0",
         "0.0"
        ],
        [
         "14",
         "2024-09-24",
         "19.4",
         "29.0",
         "24.03",
         "23",
         "5.08",
         "0.0",
         "0",
         "0.0",
         "0.0"
        ],
        [
         "15",
         "2024-09-25",
         "20.9",
         "27.6",
         "24.36",
         "27",
         "9.43",
         "0.0",
         "0",
         "0.0",
         "0.0"
        ],
        [
         "16",
         "2024-09-26",
         "20.2",
         "29.5",
         "25.2",
         "31",
         "9.1",
         "0.0",
         "0",
         "0.0",
         "0.0"
        ],
        [
         "17",
         "2024-09-27",
         "22.7",
         "27.9",
         "25.52",
         "24",
         "6.79",
         "0.0",
         "0",
         "0.0",
         "0.0"
        ],
        [
         "18",
         "2024-09-28",
         "21.7",
         "23.8",
         "22.44",
         "21",
         "12.66",
         "0.0",
         "0",
         "0.0",
         "0.0"
        ],
        [
         "19",
         "2024-09-29",
         "16.6",
         "24.3",
         "21.06",
         "13",
         "5.63",
         "0.0",
         "0",
         "0.0",
         "0.0"
        ],
        [
         "20",
         "2024-09-30",
         "17.1",
         "24.3",
         "20.95",
         "11",
         "3.27",
         "0.0",
         "0",
         "0.0",
         "0.0"
        ],
        [
         "21",
         "2024-10-01",
         "17.4",
         "25.2",
         "21.69",
         "18",
         "5.05",
         "0.0",
         "0",
         "0.0",
         "0.0"
        ],
        [
         "22",
         "2024-10-02",
         "20.4",
         "32.4",
         "25.45",
         "32",
         "8.6",
         "0.0",
         "0",
         "0.0",
         "0.0"
        ],
        [
         "23",
         "2024-10-03",
         "21.7",
         "30.0",
         "25.67",
         "16",
         "6.91",
         "0.0",
         "0",
         "0.0",
         "0.0"
        ],
        [
         "24",
         "2024-10-04",
         "18.8",
         "24.7",
         "22.04",
         "19",
         "3.75",
         "0.0",
         "0",
         "0.0",
         "0.0"
        ],
        [
         "25",
         "2024-10-05",
         "18.6",
         "26.1",
         "22.52",
         "29",
         "6.81",
         "0.0",
         "0",
         "0.0",
         "0.0"
        ],
        [
         "26",
         "2024-10-06",
         "21.1",
         "30.0",
         "25.17",
         "27",
         "8.69",
         "0.0",
         "0",
         "0.0",
         "0.0"
        ],
        [
         "27",
         "2024-10-07",
         "19.3",
         "25.9",
         "23.41",
         "18",
         "5.94",
         "0.0",
         "0",
         "0.0",
         "0.0"
        ],
        [
         "28",
         "2024-10-08",
         "20.8",
         "27.9",
         "23.7",
         "23",
         "9.98",
         "0.0",
         "0",
         "0.0",
         "0.0"
        ],
        [
         "29",
         "2024-10-09",
         "17.2",
         "26.6",
         "22.62",
         "26",
         "6.21",
         "0.0",
         "0",
         "0.0",
         "0.0"
        ],
        [
         "30",
         "2024-10-10",
         "19.3",
         "27.4",
         "23.61",
         "23",
         "6.62",
         "0.0",
         "0",
         "0.0",
         "0.0"
        ],
        [
         "31",
         "2024-10-11",
         "16.2",
         "23.8",
         "20.19",
         "10",
         "3.55",
         "0.0",
         "0",
         "0.0",
         "0.0"
        ],
        [
         "32",
         "2024-10-12",
         "16.2",
         "23.5",
         "20.02",
         "13",
         "2.67",
         "0.0",
         "0",
         "0.0",
         "0.0"
        ],
        [
         "33",
         "2024-10-13",
         "19.5",
         "24.6",
         "22.2",
         "18",
         "7.51",
         "0.0",
         "0",
         "0.0",
         "0.0"
        ],
        [
         "34",
         "2024-10-14",
         "20.2",
         "24.7",
         "22.63",
         "21",
         "6.24",
         "30.6",
         "155",
         "13.6",
         "0.08"
        ],
        [
         "35",
         "2024-10-15",
         "21.0",
         "25.8",
         "23.01",
         "29",
         "9.78",
         "56.8",
         "1400",
         "0.0",
         "0.0"
        ],
        [
         "36",
         "2024-10-16",
         "19.1",
         "27.3",
         "22.8",
         "31",
         "9.36",
         "0.2",
         "5",
         "0.0",
         "0.0"
        ],
        [
         "37",
         "2024-10-17",
         "19.8",
         "26.4",
         "22.36",
         "21",
         "7.75",
         "0.0",
         "0",
         "0.0",
         "0.0"
        ],
        [
         "38",
         "2024-10-18",
         "17.0",
         "25.1",
         "20.33",
         "14",
         "6.26",
         "0.0",
         "0",
         "0.0",
         "0.0"
        ],
        [
         "39",
         "2024-10-19",
         "17.3",
         "26.3",
         "20.92",
         "26",
         "7.14",
         "0.0",
         "0",
         "0.0",
         "0.0"
        ],
        [
         "40",
         "2024-10-20",
         "18.1",
         "27.0",
         "21.52",
         "14",
         "3.76",
         "0.0",
         "0",
         "0.0",
         "0.0"
        ],
        [
         "41",
         "2024-10-21",
         "16.2",
         "22.9",
         "20.23",
         "11",
         "2.65",
         "0.0",
         "0",
         "0.0",
         "0.0"
        ],
        [
         "42",
         "2024-10-22",
         "16.4",
         "23.3",
         "19.8",
         "14",
         "2.91",
         "0.0",
         "0",
         "0.0",
         "0.0"
        ],
        [
         "43",
         "2024-10-23",
         "17.3",
         "21.9",
         "20.02",
         "19",
         "8.73",
         "1986.8",
         "1355",
         "83.4",
         "0.82"
        ],
        [
         "44",
         "2024-10-24",
         "15.7",
         "22.1",
         "19.77",
         "13",
         "4.33",
         "0.0",
         "0",
         "0.0",
         "0.0"
        ],
        [
         "45",
         "2024-10-25",
         "16.8",
         "22.8",
         "19.5",
         "16",
         "4.34",
         "38.0",
         "950",
         "0.0",
         "0.0"
        ],
        [
         "46",
         "2024-10-26",
         "16.3",
         "22.3",
         "19.41",
         "14",
         "5.43",
         "0.2",
         "5",
         "0.0",
         "0.0"
        ],
        [
         "47",
         "2024-10-27",
         "12.7",
         "16.6",
         "13.98",
         "10",
         "2.83",
         "965.0",
         "1165",
         "7.0",
         "0.4"
        ],
        [
         "48",
         "2024-10-28",
         "11.3",
         "21.2",
         "16.29",
         "32",
         "10.08",
         "125.0",
         "1105",
         "31.0",
         "0.2"
        ],
        [
         "49",
         "2024-10-29",
         "18.5",
         "22.2",
         "21.36",
         "35",
         "21.51",
         "442.2",
         "1190",
         "49.0",
         "0.38"
        ]
       ],
       "shape": {
        "columns": 10,
        "rows": 93
       }
      },
      "text/html": [
       "<div>\n",
       "<style scoped>\n",
       "    .dataframe tbody tr th:only-of-type {\n",
       "        vertical-align: middle;\n",
       "    }\n",
       "\n",
       "    .dataframe tbody tr th {\n",
       "        vertical-align: top;\n",
       "    }\n",
       "\n",
       "    .dataframe thead th {\n",
       "        text-align: right;\n",
       "    }\n",
       "</style>\n",
       "<table border=\"1\" class=\"dataframe\">\n",
       "  <thead>\n",
       "    <tr style=\"text-align: right;\">\n",
       "      <th></th>\n",
       "      <th>fecha</th>\n",
       "      <th>temp_min</th>\n",
       "      <th>temp_max</th>\n",
       "      <th>temp_promedio</th>\n",
       "      <th>viento_max</th>\n",
       "      <th>viento_promedio</th>\n",
       "      <th>precioutacion_acumulada</th>\n",
       "      <th>duracion_lluvia_min</th>\n",
       "      <th>intensidad_max</th>\n",
       "      <th>intensidad_promedio</th>\n",
       "    </tr>\n",
       "  </thead>\n",
       "  <tbody>\n",
       "    <tr>\n",
       "      <th>0</th>\n",
       "      <td>2024-09-10</td>\n",
       "      <td>20.4</td>\n",
       "      <td>28.0</td>\n",
       "      <td>24.83</td>\n",
       "      <td>13</td>\n",
       "      <td>4.53</td>\n",
       "      <td>0.0</td>\n",
       "      <td>0</td>\n",
       "      <td>0.0</td>\n",
       "      <td>0.0</td>\n",
       "    </tr>\n",
       "    <tr>\n",
       "      <th>1</th>\n",
       "      <td>2024-09-11</td>\n",
       "      <td>23.9</td>\n",
       "      <td>28.3</td>\n",
       "      <td>26.00</td>\n",
       "      <td>23</td>\n",
       "      <td>6.98</td>\n",
       "      <td>0.0</td>\n",
       "      <td>0</td>\n",
       "      <td>0.0</td>\n",
       "      <td>0.0</td>\n",
       "    </tr>\n",
       "    <tr>\n",
       "      <th>2</th>\n",
       "      <td>2024-09-12</td>\n",
       "      <td>20.4</td>\n",
       "      <td>30.2</td>\n",
       "      <td>25.60</td>\n",
       "      <td>34</td>\n",
       "      <td>7.68</td>\n",
       "      <td>0.0</td>\n",
       "      <td>0</td>\n",
       "      <td>0.0</td>\n",
       "      <td>0.0</td>\n",
       "    </tr>\n",
       "    <tr>\n",
       "      <th>3</th>\n",
       "      <td>2024-09-13</td>\n",
       "      <td>22.9</td>\n",
       "      <td>26.5</td>\n",
       "      <td>24.33</td>\n",
       "      <td>27</td>\n",
       "      <td>18.80</td>\n",
       "      <td>0.0</td>\n",
       "      <td>0</td>\n",
       "      <td>0.0</td>\n",
       "      <td>0.0</td>\n",
       "    </tr>\n",
       "    <tr>\n",
       "      <th>4</th>\n",
       "      <td>2024-09-14</td>\n",
       "      <td>20.9</td>\n",
       "      <td>25.6</td>\n",
       "      <td>23.59</td>\n",
       "      <td>21</td>\n",
       "      <td>10.65</td>\n",
       "      <td>111.2</td>\n",
       "      <td>1405</td>\n",
       "      <td>0.0</td>\n",
       "      <td>0.0</td>\n",
       "    </tr>\n",
       "    <tr>\n",
       "      <th>...</th>\n",
       "      <td>...</td>\n",
       "      <td>...</td>\n",
       "      <td>...</td>\n",
       "      <td>...</td>\n",
       "      <td>...</td>\n",
       "      <td>...</td>\n",
       "      <td>...</td>\n",
       "      <td>...</td>\n",
       "      <td>...</td>\n",
       "      <td>...</td>\n",
       "    </tr>\n",
       "    <tr>\n",
       "      <th>88</th>\n",
       "      <td>2024-12-07</td>\n",
       "      <td>14.9</td>\n",
       "      <td>25.2</td>\n",
       "      <td>19.42</td>\n",
       "      <td>18</td>\n",
       "      <td>5.70</td>\n",
       "      <td>0.0</td>\n",
       "      <td>0</td>\n",
       "      <td>0.0</td>\n",
       "      <td>0.0</td>\n",
       "    </tr>\n",
       "    <tr>\n",
       "      <th>89</th>\n",
       "      <td>2024-12-08</td>\n",
       "      <td>12.2</td>\n",
       "      <td>17.5</td>\n",
       "      <td>14.81</td>\n",
       "      <td>23</td>\n",
       "      <td>8.91</td>\n",
       "      <td>0.0</td>\n",
       "      <td>0</td>\n",
       "      <td>0.0</td>\n",
       "      <td>0.0</td>\n",
       "    </tr>\n",
       "    <tr>\n",
       "      <th>90</th>\n",
       "      <td>2024-12-09</td>\n",
       "      <td>9.9</td>\n",
       "      <td>15.3</td>\n",
       "      <td>12.20</td>\n",
       "      <td>19</td>\n",
       "      <td>8.90</td>\n",
       "      <td>0.0</td>\n",
       "      <td>0</td>\n",
       "      <td>0.0</td>\n",
       "      <td>0.0</td>\n",
       "    </tr>\n",
       "    <tr>\n",
       "      <th>91</th>\n",
       "      <td>2024-12-10</td>\n",
       "      <td>6.8</td>\n",
       "      <td>16.6</td>\n",
       "      <td>10.76</td>\n",
       "      <td>10</td>\n",
       "      <td>3.21</td>\n",
       "      <td>0.0</td>\n",
       "      <td>0</td>\n",
       "      <td>0.0</td>\n",
       "      <td>0.0</td>\n",
       "    </tr>\n",
       "    <tr>\n",
       "      <th>92</th>\n",
       "      <td>2024-12-11</td>\n",
       "      <td>8.0</td>\n",
       "      <td>8.0</td>\n",
       "      <td>8.00</td>\n",
       "      <td>3</td>\n",
       "      <td>3.00</td>\n",
       "      <td>0.0</td>\n",
       "      <td>0</td>\n",
       "      <td>0.0</td>\n",
       "      <td>0.0</td>\n",
       "    </tr>\n",
       "  </tbody>\n",
       "</table>\n",
       "<p>93 rows × 10 columns</p>\n",
       "</div>"
      ],
      "text/plain": [
       "         fecha  temp_min  temp_max  temp_promedio  viento_max  \\\n",
       "0   2024-09-10      20.4      28.0          24.83          13   \n",
       "1   2024-09-11      23.9      28.3          26.00          23   \n",
       "2   2024-09-12      20.4      30.2          25.60          34   \n",
       "3   2024-09-13      22.9      26.5          24.33          27   \n",
       "4   2024-09-14      20.9      25.6          23.59          21   \n",
       "..         ...       ...       ...            ...         ...   \n",
       "88  2024-12-07      14.9      25.2          19.42          18   \n",
       "89  2024-12-08      12.2      17.5          14.81          23   \n",
       "90  2024-12-09       9.9      15.3          12.20          19   \n",
       "91  2024-12-10       6.8      16.6          10.76          10   \n",
       "92  2024-12-11       8.0       8.0           8.00           3   \n",
       "\n",
       "    viento_promedio  precioutacion_acumulada  duracion_lluvia_min  \\\n",
       "0              4.53                      0.0                    0   \n",
       "1              6.98                      0.0                    0   \n",
       "2              7.68                      0.0                    0   \n",
       "3             18.80                      0.0                    0   \n",
       "4             10.65                    111.2                 1405   \n",
       "..              ...                      ...                  ...   \n",
       "88             5.70                      0.0                    0   \n",
       "89             8.91                      0.0                    0   \n",
       "90             8.90                      0.0                    0   \n",
       "91             3.21                      0.0                    0   \n",
       "92             3.00                      0.0                    0   \n",
       "\n",
       "    intensidad_max  intensidad_promedio  \n",
       "0              0.0                  0.0  \n",
       "1              0.0                  0.0  \n",
       "2              0.0                  0.0  \n",
       "3              0.0                  0.0  \n",
       "4              0.0                  0.0  \n",
       "..             ...                  ...  \n",
       "88             0.0                  0.0  \n",
       "89             0.0                  0.0  \n",
       "90             0.0                  0.0  \n",
       "91             0.0                  0.0  \n",
       "92             0.0                  0.0  \n",
       "\n",
       "[93 rows x 10 columns]"
      ]
     },
     "execution_count": 49,
     "metadata": {},
     "output_type": "execute_result"
    }
   ],
   "source": [
    "meteo = pd.read_csv(\"data/datos_meteo.csv\")\n",
    "meteo['timestamp'] = pd.to_datetime(meteo['timestamp'], dayfirst=True)\n",
    "\n",
    "\n",
    "meteo['fecha'] = meteo['timestamp'].dt.date\n",
    "\n",
    "meteo = meteo.groupby('fecha').agg(\n",
    "    temp_min=('temperatura', 'min'),\n",
    "    temp_max=('temperatura', 'max'),\n",
    "    temp_promedio=('temperatura', 'mean'),\n",
    "\n",
    "    viento_max=('velocidadviento', 'max'),\n",
    "    viento_promedio=('velocidadviento', 'mean'),\n",
    "\n",
    "    precioutacion_acumulada=('lluvia', 'sum'),\n",
    "    duracion_lluvia_min=('lluvia', lambda x: (x > 0).sum() * 5), \n",
    "    intensidad_max=('intensidadlluvia', 'max'),\n",
    "    intensidad_promedio=('intensidadlluvia', 'mean')\n",
    ").reset_index()\n",
    "\n",
    "meteo = meteo.round(2)\n",
    "meteo"
   ]
  },
  {
   "cell_type": "markdown",
   "metadata": {},
   "source": [
    "Juntamos los datos de ocupación y las variables climáticas en un mismo dataframe final"
   ]
  },
  {
   "cell_type": "code",
   "execution_count": 50,
   "metadata": {},
   "outputs": [],
   "source": [
    "df = pd.merge(df_ocupacion_dia, meteo, on='fecha', how='left')"
   ]
  },
  {
   "cell_type": "code",
   "execution_count": 51,
   "metadata": {},
   "outputs": [
    {
     "data": {
      "application/vnd.microsoft.datawrangler.viewer.v0+json": {
       "columns": [
        {
         "name": "index",
         "rawType": "int64",
         "type": "integer"
        },
        {
         "name": "fecha",
         "rawType": "object",
         "type": "unknown"
        },
        {
         "name": "count_in",
         "rawType": "float64",
         "type": "float"
        },
        {
         "name": "temp_min",
         "rawType": "float64",
         "type": "float"
        },
        {
         "name": "temp_max",
         "rawType": "float64",
         "type": "float"
        },
        {
         "name": "temp_promedio",
         "rawType": "float64",
         "type": "float"
        },
        {
         "name": "viento_max",
         "rawType": "int64",
         "type": "integer"
        },
        {
         "name": "viento_promedio",
         "rawType": "float64",
         "type": "float"
        },
        {
         "name": "precioutacion_acumulada",
         "rawType": "float64",
         "type": "float"
        },
        {
         "name": "duracion_lluvia_min",
         "rawType": "int64",
         "type": "integer"
        },
        {
         "name": "intensidad_max",
         "rawType": "float64",
         "type": "float"
        },
        {
         "name": "intensidad_promedio",
         "rawType": "float64",
         "type": "float"
        }
       ],
       "conversionMethod": "pd.DataFrame",
       "ref": "f78d2fdb-0a79-46cf-aa1b-acbbc0dbfb66",
       "rows": [
        [
         "0",
         "2024-09-10",
         "98.0",
         "20.4",
         "28.0",
         "24.83",
         "13",
         "4.53",
         "0.0",
         "0",
         "0.0",
         "0.0"
        ],
        [
         "1",
         "2024-09-11",
         "114.0",
         "23.9",
         "28.3",
         "26.0",
         "23",
         "6.98",
         "0.0",
         "0",
         "0.0",
         "0.0"
        ],
        [
         "2",
         "2024-09-12",
         "133.0",
         "20.4",
         "30.2",
         "25.6",
         "34",
         "7.68",
         "0.0",
         "0",
         "0.0",
         "0.0"
        ],
        [
         "3",
         "2024-09-13",
         "167.0",
         "22.9",
         "26.5",
         "24.33",
         "27",
         "18.8",
         "0.0",
         "0",
         "0.0",
         "0.0"
        ],
        [
         "4",
         "2024-09-14",
         "199.0",
         "20.9",
         "25.6",
         "23.59",
         "21",
         "10.65",
         "111.2",
         "1405",
         "0.0",
         "0.0"
        ],
        [
         "5",
         "2024-09-15",
         "127.0",
         "17.7",
         "25.7",
         "22.1",
         "16",
         "5.21",
         "0.4",
         "5",
         "0.0",
         "0.0"
        ],
        [
         "6",
         "2024-09-16",
         "109.0",
         "17.8",
         "26.1",
         "22.52",
         "14",
         "3.55",
         "0.0",
         "0",
         "0.0",
         "0.0"
        ],
        [
         "7",
         "2024-09-17",
         "151.0",
         "18.8",
         "26.9",
         "23.0",
         "16",
         "4.32",
         "0.0",
         "0",
         "0.0",
         "0.0"
        ],
        [
         "8",
         "2024-09-18",
         "159.0",
         "22.9",
         "26.3",
         "24.09",
         "21",
         "8.69",
         "0.0",
         "0",
         "0.0",
         "0.0"
        ],
        [
         "9",
         "2024-09-19",
         "153.0",
         "19.5",
         "25.2",
         "22.85",
         "14",
         "5.8",
         "526.8",
         "1340",
         "21.2",
         "0.18"
        ],
        [
         "10",
         "2024-09-20",
         "154.0",
         "17.4",
         "25.9",
         "22.13",
         "14",
         "5.74",
         "2.6",
         "5",
         "0.0",
         "0.0"
        ],
        [
         "11",
         "2024-09-21",
         "108.0",
         "21.2",
         "25.1",
         "23.6",
         "13",
         "6.86",
         "511.6",
         "880",
         "6.2",
         "0.14"
        ],
        [
         "12",
         "2024-09-22",
         "173.0",
         "20.2",
         "27.0",
         "23.63",
         "24",
         "6.15",
         "3.0",
         "5",
         "0.0",
         "0.0"
        ],
        [
         "13",
         "2024-09-23",
         "142.0",
         "20.3",
         "28.8",
         "24.1",
         "16",
         "4.59",
         "0.0",
         "0",
         "0.0",
         "0.0"
        ],
        [
         "14",
         "2024-09-24",
         "145.0",
         "19.4",
         "29.0",
         "24.03",
         "23",
         "5.08",
         "0.0",
         "0",
         "0.0",
         "0.0"
        ],
        [
         "15",
         "2024-09-25",
         "148.0",
         "20.9",
         "27.6",
         "24.36",
         "27",
         "9.43",
         "0.0",
         "0",
         "0.0",
         "0.0"
        ],
        [
         "16",
         "2024-09-26",
         "101.0",
         "20.2",
         "29.5",
         "25.2",
         "31",
         "9.1",
         "0.0",
         "0",
         "0.0",
         "0.0"
        ],
        [
         "17",
         "2024-09-27",
         "132.0",
         "22.7",
         "27.9",
         "25.52",
         "24",
         "6.79",
         "0.0",
         "0",
         "0.0",
         "0.0"
        ],
        [
         "18",
         "2024-09-28",
         "149.0",
         "21.7",
         "23.8",
         "22.44",
         "21",
         "12.66",
         "0.0",
         "0",
         "0.0",
         "0.0"
        ],
        [
         "19",
         "2024-09-29",
         "199.0",
         "16.6",
         "24.3",
         "21.06",
         "13",
         "5.63",
         "0.0",
         "0",
         "0.0",
         "0.0"
        ],
        [
         "20",
         "2024-09-30",
         "91.0",
         "17.1",
         "24.3",
         "20.95",
         "11",
         "3.27",
         "0.0",
         "0",
         "0.0",
         "0.0"
        ],
        [
         "21",
         "2024-10-01",
         "104.0",
         "17.4",
         "25.2",
         "21.69",
         "18",
         "5.05",
         "0.0",
         "0",
         "0.0",
         "0.0"
        ],
        [
         "22",
         "2024-10-02",
         "94.0",
         "20.4",
         "32.4",
         "25.45",
         "32",
         "8.6",
         "0.0",
         "0",
         "0.0",
         "0.0"
        ],
        [
         "23",
         "2024-10-03",
         "101.0",
         "21.7",
         "30.0",
         "25.67",
         "16",
         "6.91",
         "0.0",
         "0",
         "0.0",
         "0.0"
        ],
        [
         "24",
         "2024-10-04",
         "106.0",
         "18.8",
         "24.7",
         "22.04",
         "19",
         "3.75",
         "0.0",
         "0",
         "0.0",
         "0.0"
        ],
        [
         "25",
         "2024-10-05",
         "168.0",
         "18.6",
         "26.1",
         "22.52",
         "29",
         "6.81",
         "0.0",
         "0",
         "0.0",
         "0.0"
        ],
        [
         "26",
         "2024-10-06",
         "129.0",
         "21.1",
         "30.0",
         "25.17",
         "27",
         "8.69",
         "0.0",
         "0",
         "0.0",
         "0.0"
        ],
        [
         "27",
         "2024-10-07",
         "124.0",
         "19.3",
         "25.9",
         "23.41",
         "18",
         "5.94",
         "0.0",
         "0",
         "0.0",
         "0.0"
        ],
        [
         "28",
         "2024-10-08",
         "124.0",
         "20.8",
         "27.9",
         "23.7",
         "23",
         "9.98",
         "0.0",
         "0",
         "0.0",
         "0.0"
        ],
        [
         "29",
         "2024-10-09",
         "210.0",
         "17.2",
         "26.6",
         "22.62",
         "26",
         "6.21",
         "0.0",
         "0",
         "0.0",
         "0.0"
        ],
        [
         "30",
         "2024-10-10",
         "124.0",
         "19.3",
         "27.4",
         "23.61",
         "23",
         "6.62",
         "0.0",
         "0",
         "0.0",
         "0.0"
        ],
        [
         "31",
         "2024-10-11",
         "122.0",
         "16.2",
         "23.8",
         "20.19",
         "10",
         "3.55",
         "0.0",
         "0",
         "0.0",
         "0.0"
        ],
        [
         "32",
         "2024-10-12",
         "211.0",
         "16.2",
         "23.5",
         "20.02",
         "13",
         "2.67",
         "0.0",
         "0",
         "0.0",
         "0.0"
        ],
        [
         "33",
         "2024-10-13",
         "217.0",
         "19.5",
         "24.6",
         "22.2",
         "18",
         "7.51",
         "0.0",
         "0",
         "0.0",
         "0.0"
        ],
        [
         "34",
         "2024-10-14",
         "116.0",
         "20.2",
         "24.7",
         "22.63",
         "21",
         "6.24",
         "30.6",
         "155",
         "13.6",
         "0.08"
        ],
        [
         "35",
         "2024-10-15",
         "121.0",
         "21.0",
         "25.8",
         "23.01",
         "29",
         "9.78",
         "56.8",
         "1400",
         "0.0",
         "0.0"
        ],
        [
         "36",
         "2024-10-16",
         "126.0",
         "19.1",
         "27.3",
         "22.8",
         "31",
         "9.36",
         "0.2",
         "5",
         "0.0",
         "0.0"
        ],
        [
         "37",
         "2024-10-17",
         "136.0",
         "19.8",
         "26.4",
         "22.36",
         "21",
         "7.75",
         "0.0",
         "0",
         "0.0",
         "0.0"
        ],
        [
         "38",
         "2024-10-18",
         "138.0",
         "17.0",
         "25.1",
         "20.33",
         "14",
         "6.26",
         "0.0",
         "0",
         "0.0",
         "0.0"
        ],
        [
         "39",
         "2024-10-19",
         "186.0",
         "17.3",
         "26.3",
         "20.92",
         "26",
         "7.14",
         "0.0",
         "0",
         "0.0",
         "0.0"
        ],
        [
         "40",
         "2024-10-20",
         "191.0",
         "18.1",
         "27.0",
         "21.52",
         "14",
         "3.76",
         "0.0",
         "0",
         "0.0",
         "0.0"
        ],
        [
         "41",
         "2024-10-21",
         "122.0",
         "16.2",
         "22.9",
         "20.23",
         "11",
         "2.65",
         "0.0",
         "0",
         "0.0",
         "0.0"
        ],
        [
         "42",
         "2024-10-22",
         "160.0",
         "16.4",
         "23.3",
         "19.8",
         "14",
         "2.91",
         "0.0",
         "0",
         "0.0",
         "0.0"
        ],
        [
         "43",
         "2024-10-23",
         "115.0",
         "17.3",
         "21.9",
         "20.02",
         "19",
         "8.73",
         "1986.8",
         "1355",
         "83.4",
         "0.82"
        ],
        [
         "44",
         "2024-10-24",
         "135.0",
         "15.7",
         "22.1",
         "19.77",
         "13",
         "4.33",
         "0.0",
         "0",
         "0.0",
         "0.0"
        ],
        [
         "45",
         "2024-10-25",
         "148.0",
         "16.8",
         "22.8",
         "19.5",
         "16",
         "4.34",
         "38.0",
         "950",
         "0.0",
         "0.0"
        ],
        [
         "46",
         "2024-10-26",
         "248.0",
         "16.3",
         "22.3",
         "19.41",
         "14",
         "5.43",
         "0.2",
         "5",
         "0.0",
         "0.0"
        ],
        [
         "47",
         "2024-10-27",
         "97.0",
         "12.7",
         "16.6",
         "13.98",
         "10",
         "2.83",
         "965.0",
         "1165",
         "7.0",
         "0.4"
        ],
        [
         "48",
         "2024-10-28",
         "160.0",
         "11.3",
         "21.2",
         "16.29",
         "32",
         "10.08",
         "125.0",
         "1105",
         "31.0",
         "0.2"
        ],
        [
         "49",
         "2024-10-29",
         "112.0",
         "18.5",
         "22.2",
         "21.36",
         "35",
         "21.51",
         "442.2",
         "1190",
         "49.0",
         "0.38"
        ]
       ],
       "shape": {
        "columns": 11,
        "rows": 92
       }
      },
      "text/html": [
       "<div>\n",
       "<style scoped>\n",
       "    .dataframe tbody tr th:only-of-type {\n",
       "        vertical-align: middle;\n",
       "    }\n",
       "\n",
       "    .dataframe tbody tr th {\n",
       "        vertical-align: top;\n",
       "    }\n",
       "\n",
       "    .dataframe thead th {\n",
       "        text-align: right;\n",
       "    }\n",
       "</style>\n",
       "<table border=\"1\" class=\"dataframe\">\n",
       "  <thead>\n",
       "    <tr style=\"text-align: right;\">\n",
       "      <th></th>\n",
       "      <th>fecha</th>\n",
       "      <th>count_in</th>\n",
       "      <th>temp_min</th>\n",
       "      <th>temp_max</th>\n",
       "      <th>temp_promedio</th>\n",
       "      <th>viento_max</th>\n",
       "      <th>viento_promedio</th>\n",
       "      <th>precioutacion_acumulada</th>\n",
       "      <th>duracion_lluvia_min</th>\n",
       "      <th>intensidad_max</th>\n",
       "      <th>intensidad_promedio</th>\n",
       "    </tr>\n",
       "  </thead>\n",
       "  <tbody>\n",
       "    <tr>\n",
       "      <th>0</th>\n",
       "      <td>2024-09-10</td>\n",
       "      <td>98.0</td>\n",
       "      <td>20.4</td>\n",
       "      <td>28.0</td>\n",
       "      <td>24.83</td>\n",
       "      <td>13</td>\n",
       "      <td>4.53</td>\n",
       "      <td>0.0</td>\n",
       "      <td>0</td>\n",
       "      <td>0.0</td>\n",
       "      <td>0.0</td>\n",
       "    </tr>\n",
       "    <tr>\n",
       "      <th>1</th>\n",
       "      <td>2024-09-11</td>\n",
       "      <td>114.0</td>\n",
       "      <td>23.9</td>\n",
       "      <td>28.3</td>\n",
       "      <td>26.00</td>\n",
       "      <td>23</td>\n",
       "      <td>6.98</td>\n",
       "      <td>0.0</td>\n",
       "      <td>0</td>\n",
       "      <td>0.0</td>\n",
       "      <td>0.0</td>\n",
       "    </tr>\n",
       "    <tr>\n",
       "      <th>2</th>\n",
       "      <td>2024-09-12</td>\n",
       "      <td>133.0</td>\n",
       "      <td>20.4</td>\n",
       "      <td>30.2</td>\n",
       "      <td>25.60</td>\n",
       "      <td>34</td>\n",
       "      <td>7.68</td>\n",
       "      <td>0.0</td>\n",
       "      <td>0</td>\n",
       "      <td>0.0</td>\n",
       "      <td>0.0</td>\n",
       "    </tr>\n",
       "    <tr>\n",
       "      <th>3</th>\n",
       "      <td>2024-09-13</td>\n",
       "      <td>167.0</td>\n",
       "      <td>22.9</td>\n",
       "      <td>26.5</td>\n",
       "      <td>24.33</td>\n",
       "      <td>27</td>\n",
       "      <td>18.80</td>\n",
       "      <td>0.0</td>\n",
       "      <td>0</td>\n",
       "      <td>0.0</td>\n",
       "      <td>0.0</td>\n",
       "    </tr>\n",
       "    <tr>\n",
       "      <th>4</th>\n",
       "      <td>2024-09-14</td>\n",
       "      <td>199.0</td>\n",
       "      <td>20.9</td>\n",
       "      <td>25.6</td>\n",
       "      <td>23.59</td>\n",
       "      <td>21</td>\n",
       "      <td>10.65</td>\n",
       "      <td>111.2</td>\n",
       "      <td>1405</td>\n",
       "      <td>0.0</td>\n",
       "      <td>0.0</td>\n",
       "    </tr>\n",
       "    <tr>\n",
       "      <th>...</th>\n",
       "      <td>...</td>\n",
       "      <td>...</td>\n",
       "      <td>...</td>\n",
       "      <td>...</td>\n",
       "      <td>...</td>\n",
       "      <td>...</td>\n",
       "      <td>...</td>\n",
       "      <td>...</td>\n",
       "      <td>...</td>\n",
       "      <td>...</td>\n",
       "      <td>...</td>\n",
       "    </tr>\n",
       "    <tr>\n",
       "      <th>87</th>\n",
       "      <td>2024-12-06</td>\n",
       "      <td>151.0</td>\n",
       "      <td>12.9</td>\n",
       "      <td>25.9</td>\n",
       "      <td>19.13</td>\n",
       "      <td>18</td>\n",
       "      <td>5.29</td>\n",
       "      <td>0.0</td>\n",
       "      <td>0</td>\n",
       "      <td>0.0</td>\n",
       "      <td>0.0</td>\n",
       "    </tr>\n",
       "    <tr>\n",
       "      <th>88</th>\n",
       "      <td>2024-12-07</td>\n",
       "      <td>128.0</td>\n",
       "      <td>14.9</td>\n",
       "      <td>25.2</td>\n",
       "      <td>19.42</td>\n",
       "      <td>18</td>\n",
       "      <td>5.70</td>\n",
       "      <td>0.0</td>\n",
       "      <td>0</td>\n",
       "      <td>0.0</td>\n",
       "      <td>0.0</td>\n",
       "    </tr>\n",
       "    <tr>\n",
       "      <th>89</th>\n",
       "      <td>2024-12-08</td>\n",
       "      <td>163.0</td>\n",
       "      <td>12.2</td>\n",
       "      <td>17.5</td>\n",
       "      <td>14.81</td>\n",
       "      <td>23</td>\n",
       "      <td>8.91</td>\n",
       "      <td>0.0</td>\n",
       "      <td>0</td>\n",
       "      <td>0.0</td>\n",
       "      <td>0.0</td>\n",
       "    </tr>\n",
       "    <tr>\n",
       "      <th>90</th>\n",
       "      <td>2024-12-09</td>\n",
       "      <td>50.0</td>\n",
       "      <td>9.9</td>\n",
       "      <td>15.3</td>\n",
       "      <td>12.20</td>\n",
       "      <td>19</td>\n",
       "      <td>8.90</td>\n",
       "      <td>0.0</td>\n",
       "      <td>0</td>\n",
       "      <td>0.0</td>\n",
       "      <td>0.0</td>\n",
       "    </tr>\n",
       "    <tr>\n",
       "      <th>91</th>\n",
       "      <td>2024-12-10</td>\n",
       "      <td>65.0</td>\n",
       "      <td>6.8</td>\n",
       "      <td>16.6</td>\n",
       "      <td>10.76</td>\n",
       "      <td>10</td>\n",
       "      <td>3.21</td>\n",
       "      <td>0.0</td>\n",
       "      <td>0</td>\n",
       "      <td>0.0</td>\n",
       "      <td>0.0</td>\n",
       "    </tr>\n",
       "  </tbody>\n",
       "</table>\n",
       "<p>92 rows × 11 columns</p>\n",
       "</div>"
      ],
      "text/plain": [
       "         fecha  count_in  temp_min  temp_max  temp_promedio  viento_max  \\\n",
       "0   2024-09-10      98.0      20.4      28.0          24.83          13   \n",
       "1   2024-09-11     114.0      23.9      28.3          26.00          23   \n",
       "2   2024-09-12     133.0      20.4      30.2          25.60          34   \n",
       "3   2024-09-13     167.0      22.9      26.5          24.33          27   \n",
       "4   2024-09-14     199.0      20.9      25.6          23.59          21   \n",
       "..         ...       ...       ...       ...            ...         ...   \n",
       "87  2024-12-06     151.0      12.9      25.9          19.13          18   \n",
       "88  2024-12-07     128.0      14.9      25.2          19.42          18   \n",
       "89  2024-12-08     163.0      12.2      17.5          14.81          23   \n",
       "90  2024-12-09      50.0       9.9      15.3          12.20          19   \n",
       "91  2024-12-10      65.0       6.8      16.6          10.76          10   \n",
       "\n",
       "    viento_promedio  precioutacion_acumulada  duracion_lluvia_min  \\\n",
       "0              4.53                      0.0                    0   \n",
       "1              6.98                      0.0                    0   \n",
       "2              7.68                      0.0                    0   \n",
       "3             18.80                      0.0                    0   \n",
       "4             10.65                    111.2                 1405   \n",
       "..              ...                      ...                  ...   \n",
       "87             5.29                      0.0                    0   \n",
       "88             5.70                      0.0                    0   \n",
       "89             8.91                      0.0                    0   \n",
       "90             8.90                      0.0                    0   \n",
       "91             3.21                      0.0                    0   \n",
       "\n",
       "    intensidad_max  intensidad_promedio  \n",
       "0              0.0                  0.0  \n",
       "1              0.0                  0.0  \n",
       "2              0.0                  0.0  \n",
       "3              0.0                  0.0  \n",
       "4              0.0                  0.0  \n",
       "..             ...                  ...  \n",
       "87             0.0                  0.0  \n",
       "88             0.0                  0.0  \n",
       "89             0.0                  0.0  \n",
       "90             0.0                  0.0  \n",
       "91             0.0                  0.0  \n",
       "\n",
       "[92 rows x 11 columns]"
      ]
     },
     "execution_count": 51,
     "metadata": {},
     "output_type": "execute_result"
    }
   ],
   "source": [
    "df"
   ]
  },
  {
   "cell_type": "markdown",
   "metadata": {},
   "source": [
    "Vamos a estudiar el rango de la variable respuesta"
   ]
  },
  {
   "cell_type": "code",
   "execution_count": 52,
   "metadata": {},
   "outputs": [
    {
     "name": "stdout",
     "output_type": "stream",
     "text": [
      "count     92.00000\n",
      "mean     132.73913\n",
      "std       40.89248\n",
      "min       50.00000\n",
      "25%      107.50000\n",
      "50%      124.50000\n",
      "75%      153.25000\n",
      "max      254.00000\n",
      "Name: count_in, dtype: float64\n"
     ]
    }
   ],
   "source": [
    "print(df['count_in'].describe())"
   ]
  },
  {
   "cell_type": "markdown",
   "metadata": {},
   "source": [
    "Vamos a estudiar la correlación entre las distintas variables y el número de personas en el parque ese día (variable respuesta).  \n",
    "Utilizaremos la Correlación de Pearson y representaremos los resultados en heatmap:  \n",
    "- Valores cercanos a +1: correlación positiva fuerte\n",
    "- Valores cercanos a -1: correlación negativa fuerte\n",
    "- Valores cercanos a 0: sin correlación"
   ]
  },
  {
   "cell_type": "code",
   "execution_count": 53,
   "metadata": {},
   "outputs": [
    {
     "name": "stdout",
     "output_type": "stream",
     "text": [
      "Correlaciones con count_in:\n",
      "count_in                   1.000000\n",
      "temp_min                   0.256609\n",
      "temp_promedio              0.248542\n",
      "temp_max                   0.158723\n",
      "viento_promedio            0.054132\n",
      "viento_max                 0.045748\n",
      "intensidad_max            -0.104990\n",
      "intensidad_promedio       -0.151955\n",
      "precioutacion_acumulada   -0.173954\n",
      "duracion_lluvia_min       -0.225924\n",
      "Name: count_in, dtype: float64\n"
     ]
    },
    {
     "data": {
      "image/png": "[encoded data removed]",
      "text/plain": [
       "<Figure size 1000x800 with 2 Axes>"
      ]
     },
     "metadata": {},
     "output_type": "display_data"
    },
    {
     "data": {
      "image/png": "[encoded data removed]",
      "text/plain": [
       "<Figure size 640x480 with 1 Axes>"
      ]
     },
     "metadata": {},
     "output_type": "display_data"
    }
   ],
   "source": [
    "df_corr= df.select_dtypes(include='number')\n",
    "correlaciones = df_corr.corr(method='pearson')\n",
    "\n",
    "correlacion_con_count_in = correlaciones['count_in'].sort_values(ascending=False)\n",
    "\n",
    "print(\"Correlaciones con count_in:\")\n",
    "print(correlacion_con_count_in)\n",
    "\n",
    "plt.figure(figsize=(10, 8))\n",
    "sns.heatmap(correlaciones, annot=True, fmt=\".2f\", cmap='coolwarm', square=True)\n",
    "plt.title('Matriz de Correlaciones (Pearson)')\n",
    "plt.tight_layout()\n",
    "plt.show()\n",
    "\n",
    "correlacion_con_count_in.drop('count_in').plot(kind='barh', color='skyblue')\n",
    "plt.title('Correlación de otras variables con count_in')\n",
    "plt.xlabel('Coeficiente de correlación')\n",
    "plt.axvline(0, color='gray', linestyle='--')\n",
    "plt.tight_layout()\n",
    "plt.show()\n"
   ]
  },
  {
   "cell_type": "markdown",
   "metadata": {},
   "source": [
    "## Data Visualization"
   ]
  },
  {
   "cell_type": "markdown",
   "metadata": {},
   "source": [
    "- time series using timeGPT / Prohet / ...\n",
    "LOOK FOR THE BEST TECHNIQUE FOR OUR DATA"
   ]
  },
  {
   "cell_type": "markdown",
   "metadata": {},
   "source": [
    "Hacer solo con count_in y con día de la semana etc"
   ]
  },
  {
   "cell_type": "code",
   "execution_count": 54,
   "metadata": {},
   "outputs": [
    {
     "data": {
      "application/vnd.microsoft.datawrangler.viewer.v0+json": {
       "columns": [
        {
         "name": "index",
         "rawType": "int64",
         "type": "integer"
        },
        {
         "name": "ds",
         "rawType": "datetime64[ns]",
         "type": "datetime"
        },
        {
         "name": "y",
         "rawType": "float64",
         "type": "float"
        }
       ],
       "conversionMethod": "pd.DataFrame",
       "ref": "f134e456-49ab-4b75-8180-8d9bd53ef926",
       "rows": [
        [
         "0",
         "2024-09-10 00:00:00",
         "98.0"
        ],
        [
         "1",
         "2024-09-11 00:00:00",
         "114.0"
        ],
        [
         "2",
         "2024-09-12 00:00:00",
         "133.0"
        ],
        [
         "3",
         "2024-09-13 00:00:00",
         "167.0"
        ],
        [
         "4",
         "2024-09-14 00:00:00",
         "199.0"
        ],
        [
         "5",
         "2024-09-15 00:00:00",
         "127.0"
        ],
        [
         "6",
         "2024-09-16 00:00:00",
         "109.0"
        ],
        [
         "7",
         "2024-09-17 00:00:00",
         "151.0"
        ],
        [
         "8",
         "2024-09-18 00:00:00",
         "159.0"
        ],
        [
         "9",
         "2024-09-19 00:00:00",
         "153.0"
        ],
        [
         "10",
         "2024-09-20 00:00:00",
         "154.0"
        ],
        [
         "11",
         "2024-09-21 00:00:00",
         "108.0"
        ],
        [
         "12",
         "2024-09-22 00:00:00",
         "173.0"
        ],
        [
         "13",
         "2024-09-23 00:00:00",
         "142.0"
        ],
        [
         "14",
         "2024-09-24 00:00:00",
         "145.0"
        ],
        [
         "15",
         "2024-09-25 00:00:00",
         "148.0"
        ],
        [
         "16",
         "2024-09-26 00:00:00",
         "101.0"
        ],
        [
         "17",
         "2024-09-27 00:00:00",
         "132.0"
        ],
        [
         "18",
         "2024-09-28 00:00:00",
         "149.0"
        ],
        [
         "19",
         "2024-09-29 00:00:00",
         "199.0"
        ],
        [
         "20",
         "2024-09-30 00:00:00",
         "91.0"
        ],
        [
         "21",
         "2024-10-01 00:00:00",
         "104.0"
        ],
        [
         "22",
         "2024-10-02 00:00:00",
         "94.0"
        ],
        [
         "23",
         "2024-10-03 00:00:00",
         "101.0"
        ],
        [
         "24",
         "2024-10-04 00:00:00",
         "106.0"
        ],
        [
         "25",
         "2024-10-05 00:00:00",
         "168.0"
        ],
        [
         "26",
         "2024-10-06 00:00:00",
         "129.0"
        ],
        [
         "27",
         "2024-10-07 00:00:00",
         "124.0"
        ],
        [
         "28",
         "2024-10-08 00:00:00",
         "124.0"
        ],
        [
         "29",
         "2024-10-09 00:00:00",
         "210.0"
        ],
        [
         "30",
         "2024-10-10 00:00:00",
         "124.0"
        ],
        [
         "31",
         "2024-10-11 00:00:00",
         "122.0"
        ],
        [
         "32",
         "2024-10-12 00:00:00",
         "211.0"
        ],
        [
         "33",
         "2024-10-13 00:00:00",
         "217.0"
        ],
        [
         "34",
         "2024-10-14 00:00:00",
         "116.0"
        ],
        [
         "35",
         "2024-10-15 00:00:00",
         "121.0"
        ],
        [
         "36",
         "2024-10-16 00:00:00",
         "126.0"
        ],
        [
         "37",
         "2024-10-17 00:00:00",
         "136.0"
        ],
        [
         "38",
         "2024-10-18 00:00:00",
         "138.0"
        ],
        [
         "39",
         "2024-10-19 00:00:00",
         "186.0"
        ],
        [
         "40",
         "2024-10-20 00:00:00",
         "191.0"
        ],
        [
         "41",
         "2024-10-21 00:00:00",
         "122.0"
        ],
        [
         "42",
         "2024-10-22 00:00:00",
         "160.0"
        ],
        [
         "43",
         "2024-10-23 00:00:00",
         "115.0"
        ],
        [
         "44",
         "2024-10-24 00:00:00",
         "135.0"
        ],
        [
         "45",
         "2024-10-25 00:00:00",
         "148.0"
        ],
        [
         "46",
         "2024-10-26 00:00:00",
         "248.0"
        ],
        [
         "47",
         "2024-10-27 00:00:00",
         "97.0"
        ],
        [
         "48",
         "2024-10-28 00:00:00",
         "160.0"
        ],
        [
         "49",
         "2024-10-29 00:00:00",
         "112.0"
        ]
       ],
       "shape": {
        "columns": 2,
        "rows": 92
       }
      },
      "text/html": [
       "<div>\n",
       "<style scoped>\n",
       "    .dataframe tbody tr th:only-of-type {\n",
       "        vertical-align: middle;\n",
       "    }\n",
       "\n",
       "    .dataframe tbody tr th {\n",
       "        vertical-align: top;\n",
       "    }\n",
       "\n",
       "    .dataframe thead th {\n",
       "        text-align: right;\n",
       "    }\n",
       "</style>\n",
       "<table border=\"1\" class=\"dataframe\">\n",
       "  <thead>\n",
       "    <tr style=\"text-align: right;\">\n",
       "      <th></th>\n",
       "      <th>ds</th>\n",
       "      <th>y</th>\n",
       "    </tr>\n",
       "  </thead>\n",
       "  <tbody>\n",
       "    <tr>\n",
       "      <th>0</th>\n",
       "      <td>2024-09-10</td>\n",
       "      <td>98.0</td>\n",
       "    </tr>\n",
       "    <tr>\n",
       "      <th>1</th>\n",
       "      <td>2024-09-11</td>\n",
       "      <td>114.0</td>\n",
       "    </tr>\n",
       "    <tr>\n",
       "      <th>2</th>\n",
       "      <td>2024-09-12</td>\n",
       "      <td>133.0</td>\n",
       "    </tr>\n",
       "    <tr>\n",
       "      <th>3</th>\n",
       "      <td>2024-09-13</td>\n",
       "      <td>167.0</td>\n",
       "    </tr>\n",
       "    <tr>\n",
       "      <th>4</th>\n",
       "      <td>2024-09-14</td>\n",
       "      <td>199.0</td>\n",
       "    </tr>\n",
       "    <tr>\n",
       "      <th>...</th>\n",
       "      <td>...</td>\n",
       "      <td>...</td>\n",
       "    </tr>\n",
       "    <tr>\n",
       "      <th>87</th>\n",
       "      <td>2024-12-06</td>\n",
       "      <td>151.0</td>\n",
       "    </tr>\n",
       "    <tr>\n",
       "      <th>88</th>\n",
       "      <td>2024-12-07</td>\n",
       "      <td>128.0</td>\n",
       "    </tr>\n",
       "    <tr>\n",
       "      <th>89</th>\n",
       "      <td>2024-12-08</td>\n",
       "      <td>163.0</td>\n",
       "    </tr>\n",
       "    <tr>\n",
       "      <th>90</th>\n",
       "      <td>2024-12-09</td>\n",
       "      <td>50.0</td>\n",
       "    </tr>\n",
       "    <tr>\n",
       "      <th>91</th>\n",
       "      <td>2024-12-10</td>\n",
       "      <td>65.0</td>\n",
       "    </tr>\n",
       "  </tbody>\n",
       "</table>\n",
       "<p>92 rows × 2 columns</p>\n",
       "</div>"
      ],
      "text/plain": [
       "           ds      y\n",
       "0  2024-09-10   98.0\n",
       "1  2024-09-11  114.0\n",
       "2  2024-09-12  133.0\n",
       "3  2024-09-13  167.0\n",
       "4  2024-09-14  199.0\n",
       "..        ...    ...\n",
       "87 2024-12-06  151.0\n",
       "88 2024-12-07  128.0\n",
       "89 2024-12-08  163.0\n",
       "90 2024-12-09   50.0\n",
       "91 2024-12-10   65.0\n",
       "\n",
       "[92 rows x 2 columns]"
      ]
     },
     "execution_count": 54,
     "metadata": {},
     "output_type": "execute_result"
    }
   ],
   "source": [
    "df_ts = df[['fecha', 'count_in']].copy()\n",
    "df_ts.rename(columns={'fecha': 'ds', 'count_in': 'y'}, inplace=True)\n",
    "df_ts['ds'] = pd.to_datetime(df_ts['ds'])\n",
    "df_ts"
   ]
  },
  {
   "cell_type": "code",
   "execution_count": 55,
   "metadata": {},
   "outputs": [
    {
     "name": "stderr",
     "output_type": "stream",
     "text": [
      "INFO:nixtla.nixtla_client:Validating inputs...\n",
      "INFO:nixtla.nixtla_client:Inferred freq: D\n",
      "INFO:nixtla.nixtla_client:Preprocessing dataframes...\n",
      "INFO:nixtla.nixtla_client:Querying model metadata...\n",
      "ERROR:nixtla.nixtla_client:Attempt 1 failed with error: status_code: 429, body: {'detail': 'You have reached your request limit per month, email ops@nixtla.io to increase your usage limit or wait until next month'}\n",
      "ERROR:nixtla.nixtla_client:Attempt 2 failed with error: status_code: 429, body: {'detail': 'You have reached your request limit per month, email ops@nixtla.io to increase your usage limit or wait until next month'}\n",
      "ERROR:nixtla.nixtla_client:Attempt 3 failed with error: status_code: 429, body: {'detail': 'You have reached your request limit per month, email ops@nixtla.io to increase your usage limit or wait until next month'}\n",
      "ERROR:nixtla.nixtla_client:Attempt 4 failed with error: status_code: 429, body: {'detail': 'You have reached your request limit per month, email ops@nixtla.io to increase your usage limit or wait until next month'}\n",
      "ERROR:nixtla.nixtla_client:Attempt 5 failed with error: status_code: 429, body: {'detail': 'You have reached your request limit per month, email ops@nixtla.io to increase your usage limit or wait until next month'}\n",
      "ERROR:nixtla.nixtla_client:Attempt 6 failed with error: status_code: 429, body: {'detail': 'You have reached your request limit per month, email ops@nixtla.io to increase your usage limit or wait until next month'}\n"
     ]
    },
    {
     "ename": "ApiError",
     "evalue": "status_code: 429, body: {'detail': 'You have reached your request limit per month, email ops@nixtla.io to increase your usage limit or wait until next month'}",
     "output_type": "error",
     "traceback": [
      "\u001b[1;31m---------------------------------------------------------------------------\u001b[0m",
      "\u001b[1;31mApiError\u001b[0m                                  Traceback (most recent call last)",
      "Cell \u001b[1;32mIn[55], line 3\u001b[0m\n\u001b[0;32m      1\u001b[0m API_KEY \u001b[38;5;241m=\u001b[39m os\u001b[38;5;241m.\u001b[39mgetenv(\u001b[38;5;124m\"\u001b[39m\u001b[38;5;124mTIMEGPT_API_KEY\u001b[39m\u001b[38;5;124m\"\u001b[39m)\n\u001b[0;32m      2\u001b[0m nixtla_client \u001b[38;5;241m=\u001b[39m NixtlaClient(API_KEY)\n\u001b[1;32m----> 3\u001b[0m forecast \u001b[38;5;241m=\u001b[39m \u001b[43mnixtla_client\u001b[49m\u001b[38;5;241;43m.\u001b[39;49m\u001b[43mforecast\u001b[49m\u001b[43m(\u001b[49m\u001b[43mdf\u001b[49m\u001b[38;5;241;43m=\u001b[39;49m\u001b[43mdf_ts\u001b[49m\u001b[43m,\u001b[49m\u001b[43m \u001b[49m\u001b[43mh\u001b[49m\u001b[38;5;241;43m=\u001b[39;49m\u001b[38;5;241;43m14\u001b[39;49m\u001b[43m)\u001b[49m\n\u001b[0;32m      4\u001b[0m \u001b[38;5;28mprint\u001b[39m(forecast)\n",
      "File \u001b[1;32m~\\AppData\\Local\\Packages\\PythonSoftwareFoundation.Python.3.11_qbz5n2kfra8p0\\LocalCache\\local-packages\\Python311\\site-packages\\nixtla\\nixtla_client.py:1459\u001b[0m, in \u001b[0;36mNixtlaClient.forecast\u001b[1;34m(self, df, h, freq, id_col, time_col, target_col, X_df, level, quantiles, finetune_steps, finetune_depth, finetune_loss, finetuned_model_id, clean_ex_first, hist_exog_list, validate_api_key, add_history, date_features, date_features_to_one_hot, model, num_partitions, feature_contributions)\u001b[0m\n\u001b[0;32m   1447\u001b[0m processed, X_future, x_cols, futr_cols \u001b[38;5;241m=\u001b[39m _preprocess(\n\u001b[0;32m   1448\u001b[0m     df\u001b[38;5;241m=\u001b[39mdf,\n\u001b[0;32m   1449\u001b[0m     X_df\u001b[38;5;241m=\u001b[39mX_df,\n\u001b[1;32m   (...)\u001b[0m\n\u001b[0;32m   1456\u001b[0m     target_col\u001b[38;5;241m=\u001b[39mtarget_col,\n\u001b[0;32m   1457\u001b[0m )\n\u001b[0;32m   1458\u001b[0m standard_freq \u001b[38;5;241m=\u001b[39m _standardize_freq(freq, processed)\n\u001b[1;32m-> 1459\u001b[0m model_input_size, model_horizon \u001b[38;5;241m=\u001b[39m \u001b[38;5;28;43mself\u001b[39;49m\u001b[38;5;241;43m.\u001b[39;49m\u001b[43m_get_model_params\u001b[49m\u001b[43m(\u001b[49m\u001b[43mmodel\u001b[49m\u001b[43m,\u001b[49m\u001b[43m \u001b[49m\u001b[43mstandard_freq\u001b[49m\u001b[43m)\u001b[49m\n\u001b[0;32m   1460\u001b[0m \u001b[38;5;28;01mif\u001b[39;00m finetune_steps \u001b[38;5;241m>\u001b[39m \u001b[38;5;241m0\u001b[39m \u001b[38;5;129;01mor\u001b[39;00m level \u001b[38;5;129;01mis\u001b[39;00m \u001b[38;5;129;01mnot\u001b[39;00m \u001b[38;5;28;01mNone\u001b[39;00m \u001b[38;5;129;01mor\u001b[39;00m add_history:\n\u001b[0;32m   1461\u001b[0m     _validate_input_size(processed, model_input_size, model_horizon)\n",
      "File \u001b[1;32m~\\AppData\\Local\\Packages\\PythonSoftwareFoundation.Python.3.11_qbz5n2kfra8p0\\LocalCache\\local-packages\\Python311\\site-packages\\nixtla\\nixtla_client.py:882\u001b[0m, in \u001b[0;36mNixtlaClient._get_model_params\u001b[1;34m(self, model, freq)\u001b[0m\n\u001b[0;32m    878\u001b[0m         resp_body \u001b[38;5;241m=\u001b[39m \u001b[38;5;28mself\u001b[39m\u001b[38;5;241m.\u001b[39m_make_request_with_retries(\n\u001b[0;32m    879\u001b[0m             client, \u001b[38;5;124m\"\u001b[39m\u001b[38;5;124mmodel_params\u001b[39m\u001b[38;5;124m\"\u001b[39m, payload\n\u001b[0;32m    880\u001b[0m         )\n\u001b[0;32m    881\u001b[0m     \u001b[38;5;28;01melse\u001b[39;00m:\n\u001b[1;32m--> 882\u001b[0m         resp_body \u001b[38;5;241m=\u001b[39m \u001b[38;5;28;43mself\u001b[39;49m\u001b[38;5;241;43m.\u001b[39;49m\u001b[43m_retry_strategy\u001b[49m\u001b[43m(\u001b[49m\u001b[38;5;28;43mself\u001b[39;49m\u001b[38;5;241;43m.\u001b[39;49m\u001b[43m_get_request\u001b[49m\u001b[43m)\u001b[49m\u001b[43m(\u001b[49m\n\u001b[0;32m    883\u001b[0m \u001b[43m            \u001b[49m\u001b[43mclient\u001b[49m\u001b[43m,\u001b[49m\u001b[43m \u001b[49m\u001b[38;5;124;43m\"\u001b[39;49m\u001b[38;5;124;43m/model_params\u001b[39;49m\u001b[38;5;124;43m\"\u001b[39;49m\u001b[43m,\u001b[49m\u001b[43m \u001b[49m\u001b[43mpayload\u001b[49m\n\u001b[0;32m    884\u001b[0m \u001b[43m        \u001b[49m\u001b[43m)\u001b[49m\n\u001b[0;32m    885\u001b[0m params \u001b[38;5;241m=\u001b[39m resp_body[\u001b[38;5;124m\"\u001b[39m\u001b[38;5;124mdetail\u001b[39m\u001b[38;5;124m\"\u001b[39m]\n\u001b[0;32m    886\u001b[0m \u001b[38;5;28mself\u001b[39m\u001b[38;5;241m.\u001b[39m_model_params[key] \u001b[38;5;241m=\u001b[39m (params[\u001b[38;5;124m\"\u001b[39m\u001b[38;5;124minput_size\u001b[39m\u001b[38;5;124m\"\u001b[39m], params[\u001b[38;5;124m\"\u001b[39m\u001b[38;5;124mhorizon\u001b[39m\u001b[38;5;124m\"\u001b[39m])\n",
      "File \u001b[1;32m~\\AppData\\Local\\Packages\\PythonSoftwareFoundation.Python.3.11_qbz5n2kfra8p0\\LocalCache\\local-packages\\Python311\\site-packages\\tenacity\\__init__.py:330\u001b[0m, in \u001b[0;36mBaseRetrying.wraps.<locals>.wrapped_f\u001b[1;34m(*args, **kw)\u001b[0m\n\u001b[0;32m    326\u001b[0m \u001b[38;5;129m@functools\u001b[39m\u001b[38;5;241m.\u001b[39mwraps(\n\u001b[0;32m    327\u001b[0m     f, functools\u001b[38;5;241m.\u001b[39mWRAPPER_ASSIGNMENTS \u001b[38;5;241m+\u001b[39m (\u001b[38;5;124m\"\u001b[39m\u001b[38;5;124m__defaults__\u001b[39m\u001b[38;5;124m\"\u001b[39m, \u001b[38;5;124m\"\u001b[39m\u001b[38;5;124m__kwdefaults__\u001b[39m\u001b[38;5;124m\"\u001b[39m)\n\u001b[0;32m    328\u001b[0m )\n\u001b[0;32m    329\u001b[0m \u001b[38;5;28;01mdef\u001b[39;00m \u001b[38;5;21mwrapped_f\u001b[39m(\u001b[38;5;241m*\u001b[39margs: t\u001b[38;5;241m.\u001b[39mAny, \u001b[38;5;241m*\u001b[39m\u001b[38;5;241m*\u001b[39mkw: t\u001b[38;5;241m.\u001b[39mAny) \u001b[38;5;241m-\u001b[39m\u001b[38;5;241m>\u001b[39m t\u001b[38;5;241m.\u001b[39mAny:\n\u001b[1;32m--> 330\u001b[0m     \u001b[38;5;28;01mreturn\u001b[39;00m \u001b[38;5;28;43mself\u001b[39;49m\u001b[43m(\u001b[49m\u001b[43mf\u001b[49m\u001b[43m,\u001b[49m\u001b[43m \u001b[49m\u001b[38;5;241;43m*\u001b[39;49m\u001b[43margs\u001b[49m\u001b[43m,\u001b[49m\u001b[43m \u001b[49m\u001b[38;5;241;43m*\u001b[39;49m\u001b[38;5;241;43m*\u001b[39;49m\u001b[43mkw\u001b[49m\u001b[43m)\u001b[49m\n",
      "File \u001b[1;32m~\\AppData\\Local\\Packages\\PythonSoftwareFoundation.Python.3.11_qbz5n2kfra8p0\\LocalCache\\local-packages\\Python311\\site-packages\\tenacity\\__init__.py:467\u001b[0m, in \u001b[0;36mRetrying.__call__\u001b[1;34m(self, fn, *args, **kwargs)\u001b[0m\n\u001b[0;32m    465\u001b[0m retry_state \u001b[38;5;241m=\u001b[39m RetryCallState(retry_object\u001b[38;5;241m=\u001b[39m\u001b[38;5;28mself\u001b[39m, fn\u001b[38;5;241m=\u001b[39mfn, args\u001b[38;5;241m=\u001b[39margs, kwargs\u001b[38;5;241m=\u001b[39mkwargs)\n\u001b[0;32m    466\u001b[0m \u001b[38;5;28;01mwhile\u001b[39;00m \u001b[38;5;28;01mTrue\u001b[39;00m:\n\u001b[1;32m--> 467\u001b[0m     do \u001b[38;5;241m=\u001b[39m \u001b[38;5;28;43mself\u001b[39;49m\u001b[38;5;241;43m.\u001b[39;49m\u001b[43miter\u001b[49m\u001b[43m(\u001b[49m\u001b[43mretry_state\u001b[49m\u001b[38;5;241;43m=\u001b[39;49m\u001b[43mretry_state\u001b[49m\u001b[43m)\u001b[49m\n\u001b[0;32m    468\u001b[0m     \u001b[38;5;28;01mif\u001b[39;00m \u001b[38;5;28misinstance\u001b[39m(do, DoAttempt):\n\u001b[0;32m    469\u001b[0m         \u001b[38;5;28;01mtry\u001b[39;00m:\n",
      "File \u001b[1;32m~\\AppData\\Local\\Packages\\PythonSoftwareFoundation.Python.3.11_qbz5n2kfra8p0\\LocalCache\\local-packages\\Python311\\site-packages\\tenacity\\__init__.py:368\u001b[0m, in \u001b[0;36mBaseRetrying.iter\u001b[1;34m(self, retry_state)\u001b[0m\n\u001b[0;32m    366\u001b[0m result \u001b[38;5;241m=\u001b[39m \u001b[38;5;28;01mNone\u001b[39;00m\n\u001b[0;32m    367\u001b[0m \u001b[38;5;28;01mfor\u001b[39;00m action \u001b[38;5;129;01min\u001b[39;00m \u001b[38;5;28mself\u001b[39m\u001b[38;5;241m.\u001b[39miter_state\u001b[38;5;241m.\u001b[39mactions:\n\u001b[1;32m--> 368\u001b[0m     result \u001b[38;5;241m=\u001b[39m \u001b[43maction\u001b[49m\u001b[43m(\u001b[49m\u001b[43mretry_state\u001b[49m\u001b[43m)\u001b[49m\n\u001b[0;32m    369\u001b[0m \u001b[38;5;28;01mreturn\u001b[39;00m result\n",
      "File \u001b[1;32m~\\AppData\\Local\\Packages\\PythonSoftwareFoundation.Python.3.11_qbz5n2kfra8p0\\LocalCache\\local-packages\\Python311\\site-packages\\tenacity\\__init__.py:410\u001b[0m, in \u001b[0;36mBaseRetrying._post_stop_check_actions.<locals>.exc_check\u001b[1;34m(rs)\u001b[0m\n\u001b[0;32m    408\u001b[0m retry_exc \u001b[38;5;241m=\u001b[39m \u001b[38;5;28mself\u001b[39m\u001b[38;5;241m.\u001b[39mretry_error_cls(fut)\n\u001b[0;32m    409\u001b[0m \u001b[38;5;28;01mif\u001b[39;00m \u001b[38;5;28mself\u001b[39m\u001b[38;5;241m.\u001b[39mreraise:\n\u001b[1;32m--> 410\u001b[0m     \u001b[38;5;28;01mraise\u001b[39;00m \u001b[43mretry_exc\u001b[49m\u001b[38;5;241;43m.\u001b[39;49m\u001b[43mreraise\u001b[49m\u001b[43m(\u001b[49m\u001b[43m)\u001b[49m\n\u001b[0;32m    411\u001b[0m \u001b[38;5;28;01mraise\u001b[39;00m retry_exc \u001b[38;5;28;01mfrom\u001b[39;00m \u001b[38;5;21;01mfut\u001b[39;00m\u001b[38;5;21;01m.\u001b[39;00m\u001b[38;5;21;01mexception\u001b[39;00m()\n",
      "File \u001b[1;32m~\\AppData\\Local\\Packages\\PythonSoftwareFoundation.Python.3.11_qbz5n2kfra8p0\\LocalCache\\local-packages\\Python311\\site-packages\\tenacity\\__init__.py:183\u001b[0m, in \u001b[0;36mRetryError.reraise\u001b[1;34m(self)\u001b[0m\n\u001b[0;32m    181\u001b[0m \u001b[38;5;28;01mdef\u001b[39;00m \u001b[38;5;21mreraise\u001b[39m(\u001b[38;5;28mself\u001b[39m) \u001b[38;5;241m-\u001b[39m\u001b[38;5;241m>\u001b[39m t\u001b[38;5;241m.\u001b[39mNoReturn:\n\u001b[0;32m    182\u001b[0m     \u001b[38;5;28;01mif\u001b[39;00m \u001b[38;5;28mself\u001b[39m\u001b[38;5;241m.\u001b[39mlast_attempt\u001b[38;5;241m.\u001b[39mfailed:\n\u001b[1;32m--> 183\u001b[0m         \u001b[38;5;28;01mraise\u001b[39;00m \u001b[38;5;28;43mself\u001b[39;49m\u001b[38;5;241;43m.\u001b[39;49m\u001b[43mlast_attempt\u001b[49m\u001b[38;5;241;43m.\u001b[39;49m\u001b[43mresult\u001b[49m\u001b[43m(\u001b[49m\u001b[43m)\u001b[49m\n\u001b[0;32m    184\u001b[0m     \u001b[38;5;28;01mraise\u001b[39;00m \u001b[38;5;28mself\u001b[39m\n",
      "File \u001b[1;32mC:\\Program Files\\WindowsApps\\PythonSoftwareFoundation.Python.3.11_3.11.2544.0_x64__qbz5n2kfra8p0\\Lib\\concurrent\\futures\\_base.py:449\u001b[0m, in \u001b[0;36mFuture.result\u001b[1;34m(self, timeout)\u001b[0m\n\u001b[0;32m    447\u001b[0m     \u001b[38;5;28;01mraise\u001b[39;00m CancelledError()\n\u001b[0;32m    448\u001b[0m \u001b[38;5;28;01melif\u001b[39;00m \u001b[38;5;28mself\u001b[39m\u001b[38;5;241m.\u001b[39m_state \u001b[38;5;241m==\u001b[39m FINISHED:\n\u001b[1;32m--> 449\u001b[0m     \u001b[38;5;28;01mreturn\u001b[39;00m \u001b[38;5;28;43mself\u001b[39;49m\u001b[38;5;241;43m.\u001b[39;49m\u001b[43m__get_result\u001b[49m\u001b[43m(\u001b[49m\u001b[43m)\u001b[49m\n\u001b[0;32m    451\u001b[0m \u001b[38;5;28mself\u001b[39m\u001b[38;5;241m.\u001b[39m_condition\u001b[38;5;241m.\u001b[39mwait(timeout)\n\u001b[0;32m    453\u001b[0m \u001b[38;5;28;01mif\u001b[39;00m \u001b[38;5;28mself\u001b[39m\u001b[38;5;241m.\u001b[39m_state \u001b[38;5;129;01min\u001b[39;00m [CANCELLED, CANCELLED_AND_NOTIFIED]:\n",
      "File \u001b[1;32mC:\\Program Files\\WindowsApps\\PythonSoftwareFoundation.Python.3.11_3.11.2544.0_x64__qbz5n2kfra8p0\\Lib\\concurrent\\futures\\_base.py:401\u001b[0m, in \u001b[0;36mFuture.__get_result\u001b[1;34m(self)\u001b[0m\n\u001b[0;32m    399\u001b[0m \u001b[38;5;28;01mif\u001b[39;00m \u001b[38;5;28mself\u001b[39m\u001b[38;5;241m.\u001b[39m_exception:\n\u001b[0;32m    400\u001b[0m     \u001b[38;5;28;01mtry\u001b[39;00m:\n\u001b[1;32m--> 401\u001b[0m         \u001b[38;5;28;01mraise\u001b[39;00m \u001b[38;5;28mself\u001b[39m\u001b[38;5;241m.\u001b[39m_exception\n\u001b[0;32m    402\u001b[0m     \u001b[38;5;28;01mfinally\u001b[39;00m:\n\u001b[0;32m    403\u001b[0m         \u001b[38;5;66;03m# Break a reference cycle with the exception in self._exception\u001b[39;00m\n\u001b[0;32m    404\u001b[0m         \u001b[38;5;28mself\u001b[39m \u001b[38;5;241m=\u001b[39m \u001b[38;5;28;01mNone\u001b[39;00m\n",
      "File \u001b[1;32m~\\AppData\\Local\\Packages\\PythonSoftwareFoundation.Python.3.11_qbz5n2kfra8p0\\LocalCache\\local-packages\\Python311\\site-packages\\tenacity\\__init__.py:470\u001b[0m, in \u001b[0;36mRetrying.__call__\u001b[1;34m(self, fn, *args, **kwargs)\u001b[0m\n\u001b[0;32m    468\u001b[0m \u001b[38;5;28;01mif\u001b[39;00m \u001b[38;5;28misinstance\u001b[39m(do, DoAttempt):\n\u001b[0;32m    469\u001b[0m     \u001b[38;5;28;01mtry\u001b[39;00m:\n\u001b[1;32m--> 470\u001b[0m         result \u001b[38;5;241m=\u001b[39m \u001b[43mfn\u001b[49m\u001b[43m(\u001b[49m\u001b[38;5;241;43m*\u001b[39;49m\u001b[43margs\u001b[49m\u001b[43m,\u001b[49m\u001b[43m \u001b[49m\u001b[38;5;241;43m*\u001b[39;49m\u001b[38;5;241;43m*\u001b[39;49m\u001b[43mkwargs\u001b[49m\u001b[43m)\u001b[49m\n\u001b[0;32m    471\u001b[0m     \u001b[38;5;28;01mexcept\u001b[39;00m \u001b[38;5;167;01mBaseException\u001b[39;00m:  \u001b[38;5;66;03m# noqa: B902\u001b[39;00m\n\u001b[0;32m    472\u001b[0m         retry_state\u001b[38;5;241m.\u001b[39mset_exception(sys\u001b[38;5;241m.\u001b[39mexc_info())  \u001b[38;5;66;03m# type: ignore[arg-type]\u001b[39;00m\n",
      "File \u001b[1;32m~\\AppData\\Local\\Packages\\PythonSoftwareFoundation.Python.3.11_qbz5n2kfra8p0\\LocalCache\\local-packages\\Python311\\site-packages\\nixtla\\nixtla_client.py:799\u001b[0m, in \u001b[0;36mNixtlaClient._get_request\u001b[1;34m(self, client, endpoint, params)\u001b[0m\n\u001b[0;32m    797\u001b[0m resp_body \u001b[38;5;241m=\u001b[39m resp\u001b[38;5;241m.\u001b[39mjson()\n\u001b[0;32m    798\u001b[0m \u001b[38;5;28;01mif\u001b[39;00m resp\u001b[38;5;241m.\u001b[39mstatus_code \u001b[38;5;241m!=\u001b[39m \u001b[38;5;241m200\u001b[39m:\n\u001b[1;32m--> 799\u001b[0m     \u001b[38;5;28;01mraise\u001b[39;00m ApiError(status_code\u001b[38;5;241m=\u001b[39mresp\u001b[38;5;241m.\u001b[39mstatus_code, body\u001b[38;5;241m=\u001b[39mresp_body)\n\u001b[0;32m    800\u001b[0m \u001b[38;5;28;01mreturn\u001b[39;00m resp_body\n",
      "\u001b[1;31mApiError\u001b[0m: status_code: 429, body: {'detail': 'You have reached your request limit per month, email ops@nixtla.io to increase your usage limit or wait until next month'}"
     ]
    }
   ],
   "source": [
    "API_KEY = os.getenv(\"TIMEGPT_API_KEY\")\n",
    "nixtla_client = NixtlaClient(API_KEY)\n",
    "forecast = nixtla_client.forecast(df=df_ts, h=14)\n",
    "print(forecast)\n"
   ]
  },
  {
   "cell_type": "code",
   "execution_count": null,
   "metadata": {},
   "outputs": [
    {
     "ename": "NameError",
     "evalue": "name 'forecast' is not defined",
     "output_type": "error",
     "traceback": [
      "\u001b[1;31m---------------------------------------------------------------------------\u001b[0m",
      "\u001b[1;31mNameError\u001b[0m                                 Traceback (most recent call last)",
      "Cell \u001b[1;32mIn[11], line 5\u001b[0m\n\u001b[0;32m      3\u001b[0m \u001b[38;5;66;03m# Graficar historial + forecast\u001b[39;00m\n\u001b[0;32m      4\u001b[0m plt\u001b[38;5;241m.\u001b[39mplot(df_ts[\u001b[38;5;124m'\u001b[39m\u001b[38;5;124mds\u001b[39m\u001b[38;5;124m'\u001b[39m], df_ts[\u001b[38;5;124m'\u001b[39m\u001b[38;5;124my\u001b[39m\u001b[38;5;124m'\u001b[39m], label\u001b[38;5;241m=\u001b[39m\u001b[38;5;124m'\u001b[39m\u001b[38;5;124mHistórico\u001b[39m\u001b[38;5;124m'\u001b[39m)\n\u001b[1;32m----> 5\u001b[0m plt\u001b[38;5;241m.\u001b[39mplot(\u001b[43mforecast\u001b[49m[\u001b[38;5;124m'\u001b[39m\u001b[38;5;124mds\u001b[39m\u001b[38;5;124m'\u001b[39m], forecast[\u001b[38;5;124m'\u001b[39m\u001b[38;5;124mTimeGPT\u001b[39m\u001b[38;5;124m'\u001b[39m], label\u001b[38;5;241m=\u001b[39m\u001b[38;5;124m'\u001b[39m\u001b[38;5;124mForecast\u001b[39m\u001b[38;5;124m'\u001b[39m, linestyle\u001b[38;5;241m=\u001b[39m\u001b[38;5;124m'\u001b[39m\u001b[38;5;124m--\u001b[39m\u001b[38;5;124m'\u001b[39m)\n\u001b[0;32m      6\u001b[0m plt\u001b[38;5;241m.\u001b[39mlegend()\n\u001b[0;32m      7\u001b[0m plt\u001b[38;5;241m.\u001b[39mtitle(\u001b[38;5;124m'\u001b[39m\u001b[38;5;124mPredicción de visitantes al parque\u001b[39m\u001b[38;5;124m'\u001b[39m)\n",
      "\u001b[1;31mNameError\u001b[0m: name 'forecast' is not defined"
     ]
    },
    {
     "data": {
      "image/png": "[encoded data removed]",
      "text/plain": [
       "<Figure size 640x480 with 1 Axes>"
      ]
     },
     "metadata": {},
     "output_type": "display_data"
    }
   ],
   "source": [
    "plt.plot(df_ts['ds'], df_ts['y'], label='Histórico')\n",
    "plt.plot(forecast['ds'], forecast['TimeGPT'], label='Forecast', linestyle='--')\n",
    "plt.legend()\n",
    "plt.title('Predicción de visitantes al parque')\n",
    "plt.xticks(rotation=45)\n",
    "plt.tight_layout()\n",
    "plt.show()\n"
   ]
  },
  {
   "cell_type": "code",
   "execution_count": null,
   "metadata": {},
   "outputs": [
    {
     "name": "stderr",
     "output_type": "stream",
     "text": [
      "INFO:nixtla.nixtla_client:Validating inputs...\n",
      "INFO:nixtla.nixtla_client:Inferred freq: D\n",
      "INFO:nixtla.nixtla_client:Preprocessing dataframes...\n",
      "WARNING:nixtla.nixtla_client:The specified horizon \"h\" exceeds the model horizon, this may lead to less accurate forecasts. Please consider using a smaller horizon.\n",
      "INFO:nixtla.nixtla_client:Restricting input...\n",
      "INFO:nixtla.nixtla_client:Calling Forecast Endpoint...\n"
     ]
    },
    {
     "name": "stdout",
     "output_type": "stream",
     "text": [
      "📊 MAE TimeGPT: 36.56\n",
      "📉 RMSE TimeGPT: 42.5\n",
      "📈 R² TimeGPT: -0.5818\n",
      "📌 MAPE TimeGPT: 49.22 %\n"
     ]
    }
   ],
   "source": [
    "df_train = df_ts.iloc[:-14]  \n",
    "df_test = df_ts.iloc[-14:]\n",
    "\n",
    "forecast = nixtla_client.forecast(df=df_train, h=14)\n",
    "forecast = forecast.copy()\n",
    "forecast['y_true'] = df_test['y'].values \n",
    "mae = mean_absolute_error(forecast['y_true'], forecast['TimeGPT'])\n",
    "rmse = np.sqrt(mean_squared_error(forecast['y_true'], forecast['TimeGPT']))\n",
    "r2 = r2_score(forecast['y_true'], forecast['TimeGPT'])\n",
    "mape = mean_absolute_percentage_error(forecast['y_true'], forecast['TimeGPT'])\n",
    "\n",
    "print(\"MAE TimeGPT:\", round(mae, 2))\n",
    "print(\"RMSE TimeGPT:\", round(rmse, 2))\n",
    "print(\"R² TimeGPT:\", round(r2, 4))\n",
    "print(\"MAPE TimeGPT:\", round(mape * 100, 2), \"%\")\n",
    "\n"
   ]
  },
  {
   "cell_type": "markdown",
   "metadata": {},
   "source": [
    "- ver si es serie temporal\n",
    "- ver que modelo utilizar\n",
    "- como parametizar ese modelo ( cuanto datos historicos coges apra predecir )"
   ]
  },
  {
   "cell_type": "markdown",
   "metadata": {},
   "source": [
    "## Variables dummys y categóricas y test de hipótesis"
   ]
  },
  {
   "cell_type": "code",
   "execution_count": 56,
   "metadata": {},
   "outputs": [
    {
     "data": {
      "application/vnd.microsoft.datawrangler.viewer.v0+json": {
       "columns": [
        {
         "name": "index",
         "rawType": "int64",
         "type": "integer"
        },
        {
         "name": "fecha",
         "rawType": "datetime64[ns]",
         "type": "datetime"
        },
        {
         "name": "count_in",
         "rawType": "float64",
         "type": "float"
        },
        {
         "name": "temp_min",
         "rawType": "float64",
         "type": "float"
        },
        {
         "name": "temp_max",
         "rawType": "float64",
         "type": "float"
        },
        {
         "name": "temp_promedio",
         "rawType": "float64",
         "type": "float"
        },
        {
         "name": "viento_max",
         "rawType": "int64",
         "type": "integer"
        },
        {
         "name": "viento_promedio",
         "rawType": "float64",
         "type": "float"
        },
        {
         "name": "precioutacion_acumulada",
         "rawType": "float64",
         "type": "float"
        },
        {
         "name": "duracion_lluvia_min",
         "rawType": "int64",
         "type": "integer"
        },
        {
         "name": "intensidad_max",
         "rawType": "float64",
         "type": "float"
        },
        {
         "name": "intensidad_promedio",
         "rawType": "float64",
         "type": "float"
        },
        {
         "name": "lluvia",
         "rawType": "int32",
         "type": "integer"
        },
        {
         "name": "fin_de_semana",
         "rawType": "int32",
         "type": "integer"
        },
        {
         "name": "categoria_temperatura",
         "rawType": "category",
         "type": "unknown"
        }
       ],
       "conversionMethod": "pd.DataFrame",
       "ref": "16a89ba3-1a25-41ab-a2df-bf78a9e7781a",
       "rows": [
        [
         "0",
         "2024-09-10 00:00:00",
         "98.0",
         "20.4",
         "28.0",
         "24.83",
         "13",
         "4.53",
         "0.0",
         "0",
         "0.0",
         "0.0",
         "0",
         "0",
         "moderada"
        ],
        [
         "1",
         "2024-09-11 00:00:00",
         "114.0",
         "23.9",
         "28.3",
         "26.0",
         "23",
         "6.98",
         "0.0",
         "0",
         "0.0",
         "0.0",
         "0",
         "0",
         "moderada"
        ],
        [
         "2",
         "2024-09-12 00:00:00",
         "133.0",
         "20.4",
         "30.2",
         "25.6",
         "34",
         "7.68",
         "0.0",
         "0",
         "0.0",
         "0.0",
         "0",
         "0",
         "moderada"
        ],
        [
         "3",
         "2024-09-13 00:00:00",
         "167.0",
         "22.9",
         "26.5",
         "24.33",
         "27",
         "18.8",
         "0.0",
         "0",
         "0.0",
         "0.0",
         "0",
         "0",
         "moderada"
        ],
        [
         "4",
         "2024-09-14 00:00:00",
         "199.0",
         "20.9",
         "25.6",
         "23.59",
         "21",
         "10.65",
         "111.2",
         "1405",
         "0.0",
         "0.0",
         "1",
         "1",
         "moderada"
        ],
        [
         "5",
         "2024-09-15 00:00:00",
         "127.0",
         "17.7",
         "25.7",
         "22.1",
         "16",
         "5.21",
         "0.4",
         "5",
         "0.0",
         "0.0",
         "1",
         "1",
         "moderada"
        ],
        [
         "6",
         "2024-09-16 00:00:00",
         "109.0",
         "17.8",
         "26.1",
         "22.52",
         "14",
         "3.55",
         "0.0",
         "0",
         "0.0",
         "0.0",
         "0",
         "0",
         "moderada"
        ],
        [
         "7",
         "2024-09-17 00:00:00",
         "151.0",
         "18.8",
         "26.9",
         "23.0",
         "16",
         "4.32",
         "0.0",
         "0",
         "0.0",
         "0.0",
         "0",
         "0",
         "moderada"
        ],
        [
         "8",
         "2024-09-18 00:00:00",
         "159.0",
         "22.9",
         "26.3",
         "24.09",
         "21",
         "8.69",
         "0.0",
         "0",
         "0.0",
         "0.0",
         "0",
         "0",
         "moderada"
        ],
        [
         "9",
         "2024-09-19 00:00:00",
         "153.0",
         "19.5",
         "25.2",
         "22.85",
         "14",
         "5.8",
         "526.8",
         "1340",
         "21.2",
         "0.18",
         "1",
         "0",
         "moderada"
        ],
        [
         "10",
         "2024-09-20 00:00:00",
         "154.0",
         "17.4",
         "25.9",
         "22.13",
         "14",
         "5.74",
         "2.6",
         "5",
         "0.0",
         "0.0",
         "1",
         "0",
         "moderada"
        ],
        [
         "11",
         "2024-09-21 00:00:00",
         "108.0",
         "21.2",
         "25.1",
         "23.6",
         "13",
         "6.86",
         "511.6",
         "880",
         "6.2",
         "0.14",
         "1",
         "1",
         "moderada"
        ],
        [
         "12",
         "2024-09-22 00:00:00",
         "173.0",
         "20.2",
         "27.0",
         "23.63",
         "24",
         "6.15",
         "3.0",
         "5",
         "0.0",
         "0.0",
         "1",
         "1",
         "moderada"
        ],
        [
         "13",
         "2024-09-23 00:00:00",
         "142.0",
         "20.3",
         "28.8",
         "24.1",
         "16",
         "4.59",
         "0.0",
         "0",
         "0.0",
         "0.0",
         "0",
         "0",
         "moderada"
        ],
        [
         "14",
         "2024-09-24 00:00:00",
         "145.0",
         "19.4",
         "29.0",
         "24.03",
         "23",
         "5.08",
         "0.0",
         "0",
         "0.0",
         "0.0",
         "0",
         "0",
         "moderada"
        ],
        [
         "15",
         "2024-09-25 00:00:00",
         "148.0",
         "20.9",
         "27.6",
         "24.36",
         "27",
         "9.43",
         "0.0",
         "0",
         "0.0",
         "0.0",
         "0",
         "0",
         "moderada"
        ],
        [
         "16",
         "2024-09-26 00:00:00",
         "101.0",
         "20.2",
         "29.5",
         "25.2",
         "31",
         "9.1",
         "0.0",
         "0",
         "0.0",
         "0.0",
         "0",
         "0",
         "moderada"
        ],
        [
         "17",
         "2024-09-27 00:00:00",
         "132.0",
         "22.7",
         "27.9",
         "25.52",
         "24",
         "6.79",
         "0.0",
         "0",
         "0.0",
         "0.0",
         "0",
         "0",
         "moderada"
        ],
        [
         "18",
         "2024-09-28 00:00:00",
         "149.0",
         "21.7",
         "23.8",
         "22.44",
         "21",
         "12.66",
         "0.0",
         "0",
         "0.0",
         "0.0",
         "0",
         "1",
         "moderada"
        ],
        [
         "19",
         "2024-09-29 00:00:00",
         "199.0",
         "16.6",
         "24.3",
         "21.06",
         "13",
         "5.63",
         "0.0",
         "0",
         "0.0",
         "0.0",
         "0",
         "1",
         "moderada"
        ],
        [
         "20",
         "2024-09-30 00:00:00",
         "91.0",
         "17.1",
         "24.3",
         "20.95",
         "11",
         "3.27",
         "0.0",
         "0",
         "0.0",
         "0.0",
         "0",
         "0",
         "moderada"
        ],
        [
         "21",
         "2024-10-01 00:00:00",
         "104.0",
         "17.4",
         "25.2",
         "21.69",
         "18",
         "5.05",
         "0.0",
         "0",
         "0.0",
         "0.0",
         "0",
         "0",
         "moderada"
        ],
        [
         "22",
         "2024-10-02 00:00:00",
         "94.0",
         "20.4",
         "32.4",
         "25.45",
         "32",
         "8.6",
         "0.0",
         "0",
         "0.0",
         "0.0",
         "0",
         "0",
         "moderada"
        ],
        [
         "23",
         "2024-10-03 00:00:00",
         "101.0",
         "21.7",
         "30.0",
         "25.67",
         "16",
         "6.91",
         "0.0",
         "0",
         "0.0",
         "0.0",
         "0",
         "0",
         "moderada"
        ],
        [
         "24",
         "2024-10-04 00:00:00",
         "106.0",
         "18.8",
         "24.7",
         "22.04",
         "19",
         "3.75",
         "0.0",
         "0",
         "0.0",
         "0.0",
         "0",
         "0",
         "moderada"
        ],
        [
         "25",
         "2024-10-05 00:00:00",
         "168.0",
         "18.6",
         "26.1",
         "22.52",
         "29",
         "6.81",
         "0.0",
         "0",
         "0.0",
         "0.0",
         "0",
         "1",
         "moderada"
        ],
        [
         "26",
         "2024-10-06 00:00:00",
         "129.0",
         "21.1",
         "30.0",
         "25.17",
         "27",
         "8.69",
         "0.0",
         "0",
         "0.0",
         "0.0",
         "0",
         "1",
         "moderada"
        ],
        [
         "27",
         "2024-10-07 00:00:00",
         "124.0",
         "19.3",
         "25.9",
         "23.41",
         "18",
         "5.94",
         "0.0",
         "0",
         "0.0",
         "0.0",
         "0",
         "0",
         "moderada"
        ],
        [
         "28",
         "2024-10-08 00:00:00",
         "124.0",
         "20.8",
         "27.9",
         "23.7",
         "23",
         "9.98",
         "0.0",
         "0",
         "0.0",
         "0.0",
         "0",
         "0",
         "moderada"
        ],
        [
         "29",
         "2024-10-09 00:00:00",
         "210.0",
         "17.2",
         "26.6",
         "22.62",
         "26",
         "6.21",
         "0.0",
         "0",
         "0.0",
         "0.0",
         "0",
         "0",
         "moderada"
        ],
        [
         "30",
         "2024-10-10 00:00:00",
         "124.0",
         "19.3",
         "27.4",
         "23.61",
         "23",
         "6.62",
         "0.0",
         "0",
         "0.0",
         "0.0",
         "0",
         "0",
         "moderada"
        ],
        [
         "31",
         "2024-10-11 00:00:00",
         "122.0",
         "16.2",
         "23.8",
         "20.19",
         "10",
         "3.55",
         "0.0",
         "0",
         "0.0",
         "0.0",
         "0",
         "0",
         "moderada"
        ],
        [
         "32",
         "2024-10-12 00:00:00",
         "211.0",
         "16.2",
         "23.5",
         "20.02",
         "13",
         "2.67",
         "0.0",
         "0",
         "0.0",
         "0.0",
         "0",
         "1",
         "moderada"
        ],
        [
         "33",
         "2024-10-13 00:00:00",
         "217.0",
         "19.5",
         "24.6",
         "22.2",
         "18",
         "7.51",
         "0.0",
         "0",
         "0.0",
         "0.0",
         "0",
         "1",
         "moderada"
        ],
        [
         "34",
         "2024-10-14 00:00:00",
         "116.0",
         "20.2",
         "24.7",
         "22.63",
         "21",
         "6.24",
         "30.6",
         "155",
         "13.6",
         "0.08",
         "1",
         "0",
         "moderada"
        ],
        [
         "35",
         "2024-10-15 00:00:00",
         "121.0",
         "21.0",
         "25.8",
         "23.01",
         "29",
         "9.78",
         "56.8",
         "1400",
         "0.0",
         "0.0",
         "1",
         "0",
         "moderada"
        ],
        [
         "36",
         "2024-10-16 00:00:00",
         "126.0",
         "19.1",
         "27.3",
         "22.8",
         "31",
         "9.36",
         "0.2",
         "5",
         "0.0",
         "0.0",
         "1",
         "0",
         "moderada"
        ],
        [
         "37",
         "2024-10-17 00:00:00",
         "136.0",
         "19.8",
         "26.4",
         "22.36",
         "21",
         "7.75",
         "0.0",
         "0",
         "0.0",
         "0.0",
         "0",
         "0",
         "moderada"
        ],
        [
         "38",
         "2024-10-18 00:00:00",
         "138.0",
         "17.0",
         "25.1",
         "20.33",
         "14",
         "6.26",
         "0.0",
         "0",
         "0.0",
         "0.0",
         "0",
         "0",
         "moderada"
        ],
        [
         "39",
         "2024-10-19 00:00:00",
         "186.0",
         "17.3",
         "26.3",
         "20.92",
         "26",
         "7.14",
         "0.0",
         "0",
         "0.0",
         "0.0",
         "0",
         "1",
         "moderada"
        ],
        [
         "40",
         "2024-10-20 00:00:00",
         "191.0",
         "18.1",
         "27.0",
         "21.52",
         "14",
         "3.76",
         "0.0",
         "0",
         "0.0",
         "0.0",
         "0",
         "1",
         "moderada"
        ],
        [
         "41",
         "2024-10-21 00:00:00",
         "122.0",
         "16.2",
         "22.9",
         "20.23",
         "11",
         "2.65",
         "0.0",
         "0",
         "0.0",
         "0.0",
         "0",
         "0",
         "moderada"
        ],
        [
         "42",
         "2024-10-22 00:00:00",
         "160.0",
         "16.4",
         "23.3",
         "19.8",
         "14",
         "2.91",
         "0.0",
         "0",
         "0.0",
         "0.0",
         "0",
         "0",
         "moderada"
        ],
        [
         "43",
         "2024-10-23 00:00:00",
         "115.0",
         "17.3",
         "21.9",
         "20.02",
         "19",
         "8.73",
         "1986.8",
         "1355",
         "83.4",
         "0.82",
         "1",
         "0",
         "moderada"
        ],
        [
         "44",
         "2024-10-24 00:00:00",
         "135.0",
         "15.7",
         "22.1",
         "19.77",
         "13",
         "4.33",
         "0.0",
         "0",
         "0.0",
         "0.0",
         "0",
         "0",
         "moderada"
        ],
        [
         "45",
         "2024-10-25 00:00:00",
         "148.0",
         "16.8",
         "22.8",
         "19.5",
         "16",
         "4.34",
         "38.0",
         "950",
         "0.0",
         "0.0",
         "1",
         "0",
         "moderada"
        ],
        [
         "46",
         "2024-10-26 00:00:00",
         "248.0",
         "16.3",
         "22.3",
         "19.41",
         "14",
         "5.43",
         "0.2",
         "5",
         "0.0",
         "0.0",
         "1",
         "1",
         "moderada"
        ],
        [
         "47",
         "2024-10-27 00:00:00",
         "97.0",
         "12.7",
         "16.6",
         "13.98",
         "10",
         "2.83",
         "965.0",
         "1165",
         "7.0",
         "0.4",
         "1",
         "1",
         "fría"
        ],
        [
         "48",
         "2024-10-28 00:00:00",
         "160.0",
         "11.3",
         "21.2",
         "16.29",
         "32",
         "10.08",
         "125.0",
         "1105",
         "31.0",
         "0.2",
         "1",
         "0",
         "moderada"
        ],
        [
         "49",
         "2024-10-29 00:00:00",
         "112.0",
         "18.5",
         "22.2",
         "21.36",
         "35",
         "21.51",
         "442.2",
         "1190",
         "49.0",
         "0.38",
         "1",
         "0",
         "moderada"
        ]
       ],
       "shape": {
        "columns": 14,
        "rows": 92
       }
      },
      "text/html": [
       "<div>\n",
       "<style scoped>\n",
       "    .dataframe tbody tr th:only-of-type {\n",
       "        vertical-align: middle;\n",
       "    }\n",
       "\n",
       "    .dataframe tbody tr th {\n",
       "        vertical-align: top;\n",
       "    }\n",
       "\n",
       "    .dataframe thead th {\n",
       "        text-align: right;\n",
       "    }\n",
       "</style>\n",
       "<table border=\"1\" class=\"dataframe\">\n",
       "  <thead>\n",
       "    <tr style=\"text-align: right;\">\n",
       "      <th></th>\n",
       "      <th>fecha</th>\n",
       "      <th>count_in</th>\n",
       "      <th>temp_min</th>\n",
       "      <th>temp_max</th>\n",
       "      <th>temp_promedio</th>\n",
       "      <th>viento_max</th>\n",
       "      <th>viento_promedio</th>\n",
       "      <th>precioutacion_acumulada</th>\n",
       "      <th>duracion_lluvia_min</th>\n",
       "      <th>intensidad_max</th>\n",
       "      <th>intensidad_promedio</th>\n",
       "      <th>lluvia</th>\n",
       "      <th>fin_de_semana</th>\n",
       "      <th>categoria_temperatura</th>\n",
       "    </tr>\n",
       "  </thead>\n",
       "  <tbody>\n",
       "    <tr>\n",
       "      <th>0</th>\n",
       "      <td>2024-09-10</td>\n",
       "      <td>98.0</td>\n",
       "      <td>20.4</td>\n",
       "      <td>28.0</td>\n",
       "      <td>24.83</td>\n",
       "      <td>13</td>\n",
       "      <td>4.53</td>\n",
       "      <td>0.0</td>\n",
       "      <td>0</td>\n",
       "      <td>0.0</td>\n",
       "      <td>0.0</td>\n",
       "      <td>0</td>\n",
       "      <td>0</td>\n",
       "      <td>moderada</td>\n",
       "    </tr>\n",
       "    <tr>\n",
       "      <th>1</th>\n",
       "      <td>2024-09-11</td>\n",
       "      <td>114.0</td>\n",
       "      <td>23.9</td>\n",
       "      <td>28.3</td>\n",
       "      <td>26.00</td>\n",
       "      <td>23</td>\n",
       "      <td>6.98</td>\n",
       "      <td>0.0</td>\n",
       "      <td>0</td>\n",
       "      <td>0.0</td>\n",
       "      <td>0.0</td>\n",
       "      <td>0</td>\n",
       "      <td>0</td>\n",
       "      <td>moderada</td>\n",
       "    </tr>\n",
       "    <tr>\n",
       "      <th>2</th>\n",
       "      <td>2024-09-12</td>\n",
       "      <td>133.0</td>\n",
       "      <td>20.4</td>\n",
       "      <td>30.2</td>\n",
       "      <td>25.60</td>\n",
       "      <td>34</td>\n",
       "      <td>7.68</td>\n",
       "      <td>0.0</td>\n",
       "      <td>0</td>\n",
       "      <td>0.0</td>\n",
       "      <td>0.0</td>\n",
       "      <td>0</td>\n",
       "      <td>0</td>\n",
       "      <td>moderada</td>\n",
       "    </tr>\n",
       "    <tr>\n",
       "      <th>3</th>\n",
       "      <td>2024-09-13</td>\n",
       "      <td>167.0</td>\n",
       "      <td>22.9</td>\n",
       "      <td>26.5</td>\n",
       "      <td>24.33</td>\n",
       "      <td>27</td>\n",
       "      <td>18.80</td>\n",
       "      <td>0.0</td>\n",
       "      <td>0</td>\n",
       "      <td>0.0</td>\n",
       "      <td>0.0</td>\n",
       "      <td>0</td>\n",
       "      <td>0</td>\n",
       "      <td>moderada</td>\n",
       "    </tr>\n",
       "    <tr>\n",
       "      <th>4</th>\n",
       "      <td>2024-09-14</td>\n",
       "      <td>199.0</td>\n",
       "      <td>20.9</td>\n",
       "      <td>25.6</td>\n",
       "      <td>23.59</td>\n",
       "      <td>21</td>\n",
       "      <td>10.65</td>\n",
       "      <td>111.2</td>\n",
       "      <td>1405</td>\n",
       "      <td>0.0</td>\n",
       "      <td>0.0</td>\n",
       "      <td>1</td>\n",
       "      <td>1</td>\n",
       "      <td>moderada</td>\n",
       "    </tr>\n",
       "    <tr>\n",
       "      <th>...</th>\n",
       "      <td>...</td>\n",
       "      <td>...</td>\n",
       "      <td>...</td>\n",
       "      <td>...</td>\n",
       "      <td>...</td>\n",
       "      <td>...</td>\n",
       "      <td>...</td>\n",
       "      <td>...</td>\n",
       "      <td>...</td>\n",
       "      <td>...</td>\n",
       "      <td>...</td>\n",
       "      <td>...</td>\n",
       "      <td>...</td>\n",
       "      <td>...</td>\n",
       "    </tr>\n",
       "    <tr>\n",
       "      <th>87</th>\n",
       "      <td>2024-12-06</td>\n",
       "      <td>151.0</td>\n",
       "      <td>12.9</td>\n",
       "      <td>25.9</td>\n",
       "      <td>19.13</td>\n",
       "      <td>18</td>\n",
       "      <td>5.29</td>\n",
       "      <td>0.0</td>\n",
       "      <td>0</td>\n",
       "      <td>0.0</td>\n",
       "      <td>0.0</td>\n",
       "      <td>0</td>\n",
       "      <td>0</td>\n",
       "      <td>moderada</td>\n",
       "    </tr>\n",
       "    <tr>\n",
       "      <th>88</th>\n",
       "      <td>2024-12-07</td>\n",
       "      <td>128.0</td>\n",
       "      <td>14.9</td>\n",
       "      <td>25.2</td>\n",
       "      <td>19.42</td>\n",
       "      <td>18</td>\n",
       "      <td>5.70</td>\n",
       "      <td>0.0</td>\n",
       "      <td>0</td>\n",
       "      <td>0.0</td>\n",
       "      <td>0.0</td>\n",
       "      <td>0</td>\n",
       "      <td>1</td>\n",
       "      <td>moderada</td>\n",
       "    </tr>\n",
       "    <tr>\n",
       "      <th>89</th>\n",
       "      <td>2024-12-08</td>\n",
       "      <td>163.0</td>\n",
       "      <td>12.2</td>\n",
       "      <td>17.5</td>\n",
       "      <td>14.81</td>\n",
       "      <td>23</td>\n",
       "      <td>8.91</td>\n",
       "      <td>0.0</td>\n",
       "      <td>0</td>\n",
       "      <td>0.0</td>\n",
       "      <td>0.0</td>\n",
       "      <td>0</td>\n",
       "      <td>1</td>\n",
       "      <td>fría</td>\n",
       "    </tr>\n",
       "    <tr>\n",
       "      <th>90</th>\n",
       "      <td>2024-12-09</td>\n",
       "      <td>50.0</td>\n",
       "      <td>9.9</td>\n",
       "      <td>15.3</td>\n",
       "      <td>12.20</td>\n",
       "      <td>19</td>\n",
       "      <td>8.90</td>\n",
       "      <td>0.0</td>\n",
       "      <td>0</td>\n",
       "      <td>0.0</td>\n",
       "      <td>0.0</td>\n",
       "      <td>0</td>\n",
       "      <td>0</td>\n",
       "      <td>fría</td>\n",
       "    </tr>\n",
       "    <tr>\n",
       "      <th>91</th>\n",
       "      <td>2024-12-10</td>\n",
       "      <td>65.0</td>\n",
       "      <td>6.8</td>\n",
       "      <td>16.6</td>\n",
       "      <td>10.76</td>\n",
       "      <td>10</td>\n",
       "      <td>3.21</td>\n",
       "      <td>0.0</td>\n",
       "      <td>0</td>\n",
       "      <td>0.0</td>\n",
       "      <td>0.0</td>\n",
       "      <td>0</td>\n",
       "      <td>0</td>\n",
       "      <td>fría</td>\n",
       "    </tr>\n",
       "  </tbody>\n",
       "</table>\n",
       "<p>92 rows × 14 columns</p>\n",
       "</div>"
      ],
      "text/plain": [
       "        fecha  count_in  temp_min  temp_max  temp_promedio  viento_max  \\\n",
       "0  2024-09-10      98.0      20.4      28.0          24.83          13   \n",
       "1  2024-09-11     114.0      23.9      28.3          26.00          23   \n",
       "2  2024-09-12     133.0      20.4      30.2          25.60          34   \n",
       "3  2024-09-13     167.0      22.9      26.5          24.33          27   \n",
       "4  2024-09-14     199.0      20.9      25.6          23.59          21   \n",
       "..        ...       ...       ...       ...            ...         ...   \n",
       "87 2024-12-06     151.0      12.9      25.9          19.13          18   \n",
       "88 2024-12-07     128.0      14.9      25.2          19.42          18   \n",
       "89 2024-12-08     163.0      12.2      17.5          14.81          23   \n",
       "90 2024-12-09      50.0       9.9      15.3          12.20          19   \n",
       "91 2024-12-10      65.0       6.8      16.6          10.76          10   \n",
       "\n",
       "    viento_promedio  precioutacion_acumulada  duracion_lluvia_min  \\\n",
       "0              4.53                      0.0                    0   \n",
       "1              6.98                      0.0                    0   \n",
       "2              7.68                      0.0                    0   \n",
       "3             18.80                      0.0                    0   \n",
       "4             10.65                    111.2                 1405   \n",
       "..              ...                      ...                  ...   \n",
       "87             5.29                      0.0                    0   \n",
       "88             5.70                      0.0                    0   \n",
       "89             8.91                      0.0                    0   \n",
       "90             8.90                      0.0                    0   \n",
       "91             3.21                      0.0                    0   \n",
       "\n",
       "    intensidad_max  intensidad_promedio  lluvia  fin_de_semana  \\\n",
       "0              0.0                  0.0       0              0   \n",
       "1              0.0                  0.0       0              0   \n",
       "2              0.0                  0.0       0              0   \n",
       "3              0.0                  0.0       0              0   \n",
       "4              0.0                  0.0       1              1   \n",
       "..             ...                  ...     ...            ...   \n",
       "87             0.0                  0.0       0              0   \n",
       "88             0.0                  0.0       0              1   \n",
       "89             0.0                  0.0       0              1   \n",
       "90             0.0                  0.0       0              0   \n",
       "91             0.0                  0.0       0              0   \n",
       "\n",
       "   categoria_temperatura  \n",
       "0               moderada  \n",
       "1               moderada  \n",
       "2               moderada  \n",
       "3               moderada  \n",
       "4               moderada  \n",
       "..                   ...  \n",
       "87              moderada  \n",
       "88              moderada  \n",
       "89                  fría  \n",
       "90                  fría  \n",
       "91                  fría  \n",
       "\n",
       "[92 rows x 14 columns]"
      ]
     },
     "execution_count": 56,
     "metadata": {},
     "output_type": "execute_result"
    }
   ],
   "source": [
    "df_dummy = df.copy()\n",
    "df_dummy['fecha'] = pd.to_datetime(df_dummy['fecha'])\n",
    "df_dummy['lluvia'] = (df_dummy['precioutacion_acumulada'] > 0).astype(int)\n",
    "df_dummy['fin_de_semana'] = df_dummy['fecha'].dt.dayofweek.isin([5, 6]).astype(int)\n",
    "bins = [-float('inf'), 15, 26, float('inf')]\n",
    "labels = ['fría', 'moderada', 'alta']\n",
    "df_dummy['categoria_temperatura'] = pd.cut(df_dummy['temp_promedio'], bins=bins, labels=labels)\n",
    "df_dummy"
   ]
  },
  {
   "cell_type": "markdown",
   "metadata": {},
   "source": [
    "## Hacemos un test de hipótisis para estudiar si la lluvia afecta o no al número de visitantes"
   ]
  },
  {
   "cell_type": "code",
   "execution_count": 57,
   "metadata": {},
   "outputs": [
    {
     "data": {
      "image/png": "[encoded data removed]",
      "text/plain": [
       "<Figure size 640x480 with 1 Axes>"
      ]
     },
     "metadata": {},
     "output_type": "display_data"
    },
    {
     "name": "stdout",
     "output_type": "stream",
     "text": [
      "p-valor Shapiro (sin lluvia): 0.0678124725818634\n",
      "p-valor Shapiro (con lluvia): 0.11722476035356522\n"
     ]
    }
   ],
   "source": [
    "df_dummy[df_dummy['lluvia'] == 0]['count_in'].hist(alpha=0.5, label='Sin lluvia')\n",
    "df_dummy[df_dummy['lluvia'] == 1]['count_in'].hist(alpha=0.5, label='Con lluvia')\n",
    "plt.legend()\n",
    "plt.title('Distribución de count_in por lluvia')\n",
    "plt.show()\n",
    "\n",
    "shapiro_sin = shapiro(df_dummy[df_dummy['lluvia'] == 0]['count_in'])\n",
    "shapiro_con = shapiro(df_dummy[df_dummy['lluvia'] == 1]['count_in'])\n",
    "\n",
    "print(\"p-valor Shapiro (sin lluvia):\", shapiro_sin.pvalue)\n",
    "print(\"p-valor Shapiro (con lluvia):\", shapiro_con.pvalue)\n"
   ]
  },
  {
   "cell_type": "markdown",
   "metadata": {},
   "source": [
    "Normalidad en los datos, usamos test t"
   ]
  },
  {
   "cell_type": "markdown",
   "metadata": {},
   "source": [
    "Hipótesis nula (H₀): La media de visitantes es la misma en días con y sin lluvia.  \n",
    "Hipótesis alternativa (H₁): La media de visitantes es diferente entre días con y sin lluvia"
   ]
  },
  {
   "cell_type": "code",
   "execution_count": 58,
   "metadata": {},
   "outputs": [
    {
     "name": "stdout",
     "output_type": "stream",
     "text": [
      "Test t: p-value = 0.3647634304049451\n"
     ]
    }
   ],
   "source": [
    "hipo_lluvia = df_dummy[['count_in', 'lluvia']]\n",
    "\n",
    "sin_lluvia = hipo_lluvia[hipo_lluvia['lluvia'] == 0]['count_in']\n",
    "con_lluvia = hipo_lluvia[hipo_lluvia['lluvia'] == 1]['count_in']\n",
    "\n",
    "t_stat, p_val_ttest = ttest_ind(sin_lluvia, con_lluvia, equal_var=False)\n",
    "\n",
    "\n",
    "print(\"Test t: p-value =\", p_val_ttest)\n"
   ]
  },
  {
   "cell_type": "markdown",
   "metadata": {},
   "source": [
    "Resultado p-valor mayor que 0.05, lo que significa que no se rechaza la hipótesis nula.\n",
    "> **Conclusión:** No hay evidencia estadísticamente significativa para afirmar que la lluvia afecte el número de visitantes al parque.\n"
   ]
  },
  {
   "cell_type": "markdown",
   "metadata": {},
   "source": [
    "## Hacemos un test de hipótisis para estudiar si que sea fin de semana o no afecta al número de visitantes"
   ]
  },
  {
   "cell_type": "code",
   "execution_count": 59,
   "metadata": {},
   "outputs": [
    {
     "data": {
      "image/png": "[encoded data removed]",
      "text/plain": [
       "<Figure size 640x480 with 1 Axes>"
      ]
     },
     "metadata": {},
     "output_type": "display_data"
    },
    {
     "name": "stdout",
     "output_type": "stream",
     "text": [
      "p-valor Shapiro (entre semana): 0.6183127760887146\n",
      "p-valor Shapiro (fin de semana): 0.8032315373420715\n"
     ]
    }
   ],
   "source": [
    "from scipy.stats import shapiro\n",
    "import matplotlib.pyplot as plt\n",
    "\n",
    "df_dummy[df_dummy['fin_de_semana'] == 0]['count_in'].hist(alpha=0.5, label='entre semana')\n",
    "df_dummy[df_dummy['fin_de_semana'] == 1]['count_in'].hist(alpha=0.5, label='fin de semana')\n",
    "plt.legend()\n",
    "plt.title('Distribución de count_in por entre semana y fin de semana')\n",
    "plt.show()\n",
    "\n",
    "shapiro_entre = shapiro(df_dummy[df_dummy['fin_de_semana'] == 0]['count_in'])\n",
    "shapiro_fin = shapiro(df_dummy[df_dummy['fin_de_semana'] == 1]['count_in'])\n",
    "\n",
    "print(\"p-valor Shapiro (entre semana):\", shapiro_entre.pvalue)\n",
    "print(\"p-valor Shapiro (fin de semana):\", shapiro_fin.pvalue)\n"
   ]
  },
  {
   "cell_type": "markdown",
   "metadata": {},
   "source": [
    "p-valores son mayores que 0.05, no se rechaza la normalidad, así que usamos el t-test."
   ]
  },
  {
   "cell_type": "markdown",
   "metadata": {},
   "source": [
    "H₀ (nula): El número de visitantes es igual en fines de semana y días de semana.\n",
    "\n",
    "H₁ (alternativa): El número de visitantes es diferente entre fines de semana y días de semana."
   ]
  },
  {
   "cell_type": "code",
   "execution_count": 60,
   "metadata": {},
   "outputs": [
    {
     "name": "stdout",
     "output_type": "stream",
     "text": [
      "Test t: p-value = 3.7540731446008386e-05\n"
     ]
    }
   ],
   "source": [
    "from scipy.stats import ttest_ind\n",
    "\n",
    "entre_semana = df_dummy[df_dummy['fin_de_semana'] == 0]['count_in']\n",
    "fin_de_semana = df_dummy[df_dummy['fin_de_semana'] == 1]['count_in']\n",
    "\n",
    "t_stat, p_val_t = ttest_ind(entre_semana, fin_de_semana, equal_var=False)\n",
    "\n",
    "print(\"Test t: p-value =\", p_val_t)\n"
   ]
  },
  {
   "cell_type": "markdown",
   "metadata": {},
   "source": [
    "Se realizó un test de hipótesis para evaluar si el hecho de que sea fin de semana influye en el número de visitantes al parque.\n",
    "\n",
    "Tras comprobar que los datos de ambos grupos (entre semana y fin de semana) seguían una distribución normal mediante la prueba de Shapiro-Wilk (p > 0.05 en ambos casos), se aplicó un t-test de dos muestras independientes.\n",
    "\n",
    "El resultado del test fue un p-valor = 0.0000375, lo cual es significativamente menor que el umbral habitual de 0.05.\n",
    "\n",
    "Conclusión: Se rechaza la hipótesis nula. Existe evidencia estadísticamente significativa de que el número de visitantes es diferente entre fines de semana y días de semana. Es decir, ser fin de semana sí afecta al número de visitantes."
   ]
  },
  {
   "cell_type": "markdown",
   "metadata": {},
   "source": [
    "Ahora queremos saber si hay más personas entre semana o fin de semana, Para ello sacamos la media de ambos grupos."
   ]
  },
  {
   "cell_type": "code",
   "execution_count": 61,
   "metadata": {},
   "outputs": [
    {
     "name": "stdout",
     "output_type": "stream",
     "text": [
      "Media entre semana: 119.66666666666667\n",
      "Media fin de semana: 165.92307692307693\n"
     ]
    }
   ],
   "source": [
    "media_semana = df_dummy[df_dummy['fin_de_semana'] == 0]['count_in'].mean()\n",
    "\n",
    "media_findesemana = df_dummy[df_dummy['fin_de_semana'] == 1]['count_in'].mean()\n",
    "\n",
    "print(\"Media entre semana:\", media_semana)\n",
    "print(\"Media fin de semana:\", media_findesemana)"
   ]
  },
  {
   "cell_type": "markdown",
   "metadata": {},
   "source": [
    "## Hacemos un test de hipótisis para estudiar si la temperatura afecta o no afecta al número de visitantes"
   ]
  },
  {
   "cell_type": "code",
   "execution_count": 62,
   "metadata": {},
   "outputs": [
    {
     "name": "stdout",
     "output_type": "stream",
     "text": [
      "categoria_temperatura\n",
      "moderada    88\n",
      "fría         4\n",
      "alta         0\n",
      "Name: count, dtype: int64\n"
     ]
    }
   ],
   "source": [
    "print(df_dummy['categoria_temperatura'].value_counts())\n"
   ]
  },
  {
   "cell_type": "code",
   "execution_count": 63,
   "metadata": {},
   "outputs": [
    {
     "data": {
      "image/png": "[encoded data removed]",
      "text/plain": [
       "<Figure size 640x480 with 1 Axes>"
      ]
     },
     "metadata": {},
     "output_type": "display_data"
    },
    {
     "name": "stdout",
     "output_type": "stream",
     "text": [
      "Shapiro-Wilk para moderada: p-valor = 0.0015272102318704128\n",
      "Shapiro-Wilk para fría: p-valor = 0.4956572949886322\n",
      "Test de Levene para varianzas iguales: p-valor = nan\n",
      "Varianzas distintas, mejor usar Kruskal-Wallis.\n",
      "Kruskal-Wallis: p-valor = nan\n"
     ]
    },
    {
     "name": "stderr",
     "output_type": "stream",
     "text": [
      "C:\\Users\\hugol\\AppData\\Local\\Packages\\PythonSoftwareFoundation.Python.3.11_qbz5n2kfra8p0\\LocalCache\\local-packages\\Python311\\site-packages\\numpy\\core\\fromnumeric.py:3504: RuntimeWarning: Mean of empty slice.\n",
      "  return _methods._mean(a, axis=axis, dtype=dtype,\n",
      "C:\\Users\\hugol\\AppData\\Local\\Packages\\PythonSoftwareFoundation.Python.3.11_qbz5n2kfra8p0\\LocalCache\\local-packages\\Python311\\site-packages\\numpy\\core\\_methods.py:129: RuntimeWarning: invalid value encountered in scalar divide\n",
      "  ret = ret.dtype.type(ret / rcount)\n"
     ]
    }
   ],
   "source": [
    "for categoria in df_dummy['categoria_temperatura'].unique():\n",
    "    df_dummy[df_dummy['categoria_temperatura'] == categoria]['count_in'].hist(alpha=0.5, label=categoria)\n",
    "    \n",
    "plt.legend()\n",
    "plt.title('Distribución de count_in por categoría de temperatura')\n",
    "plt.show()\n",
    "\n",
    "for categoria in df_dummy['categoria_temperatura'].unique():\n",
    "    stat, p = shapiro(df_dummy[df_dummy['categoria_temperatura'] == categoria]['count_in'])\n",
    "    print(f\"Shapiro-Wilk para {categoria}: p-valor = {p}\")\n",
    "\n",
    "moderada = df_dummy[df_dummy['categoria_temperatura'] == 'moderada']['count_in']\n",
    "baja = df_dummy[df_dummy['categoria_temperatura'] == 'fría']['count_in']\n",
    "alta = df_dummy[df_dummy['categoria_temperatura'] == 'alta']['count_in']\n",
    "\n",
    "stat_levene, p_levene = levene(moderada, baja, alta)\n",
    "print(\"Test de Levene para varianzas iguales: p-valor =\", p_levene)\n",
    "\n",
    "if all(p > 0.05 for categoria in df_dummy['categoria_temperatura'].unique()):\n",
    "    if p_levene > 0.05:\n",
    "        stat_anova, p_anova = f_oneway(moderada, baja, alta)\n",
    "        print(\"ANOVA: p-valor =\", p_anova)\n",
    "    else:\n",
    "        print(\"Varianzas distintas, mejor usar Kruskal-Wallis.\")\n",
    "        stat_kw, p_kw = kruskal(moderada, baja, alta)\n",
    "        print(\"Kruskal-Wallis: p-valor =\", p_kw)\n",
    "else:\n",
    "    stat_kw, p_kw = kruskal(moderada, baja, alta)\n",
    "    print(\"Kruskal-Wallis: p-valor =\", p_kw)\n"
   ]
  },
  {
   "cell_type": "markdown",
   "metadata": {},
   "source": [
    "## Modelo de predicción"
   ]
  },
  {
   "cell_type": "code",
   "execution_count": 64,
   "metadata": {},
   "outputs": [
    {
     "data": {
      "application/vnd.microsoft.datawrangler.viewer.v0+json": {
       "columns": [
        {
         "name": "index",
         "rawType": "int64",
         "type": "integer"
        },
        {
         "name": "fecha",
         "rawType": "datetime64[ns]",
         "type": "datetime"
        },
        {
         "name": "count_in",
         "rawType": "float64",
         "type": "float"
        },
        {
         "name": "lluvia",
         "rawType": "int32",
         "type": "integer"
        },
        {
         "name": "fin_de_semana",
         "rawType": "int32",
         "type": "integer"
        },
        {
         "name": "categoria_temperatura",
         "rawType": "category",
         "type": "unknown"
        },
        {
         "name": "dia_semana",
         "rawType": "int32",
         "type": "integer"
        },
        {
         "name": "mes",
         "rawType": "int32",
         "type": "integer"
        },
        {
         "name": "festivo",
         "rawType": "int64",
         "type": "integer"
        }
       ],
       "conversionMethod": "pd.DataFrame",
       "ref": "426ce4a4-c8e1-4d55-8422-65998574fbef",
       "rows": [
        [
         "0",
         "2024-09-10 00:00:00",
         "98.0",
         "0",
         "0",
         "moderada",
         "1",
         "9",
         "0"
        ],
        [
         "1",
         "2024-09-11 00:00:00",
         "114.0",
         "0",
         "0",
         "moderada",
         "2",
         "9",
         "0"
        ],
        [
         "2",
         "2024-09-12 00:00:00",
         "133.0",
         "0",
         "0",
         "moderada",
         "3",
         "9",
         "0"
        ],
        [
         "3",
         "2024-09-13 00:00:00",
         "167.0",
         "0",
         "0",
         "moderada",
         "4",
         "9",
         "0"
        ],
        [
         "4",
         "2024-09-14 00:00:00",
         "199.0",
         "1",
         "1",
         "moderada",
         "5",
         "9",
         "0"
        ],
        [
         "5",
         "2024-09-15 00:00:00",
         "127.0",
         "1",
         "1",
         "moderada",
         "6",
         "9",
         "1"
        ],
        [
         "6",
         "2024-09-16 00:00:00",
         "109.0",
         "0",
         "0",
         "moderada",
         "0",
         "9",
         "0"
        ],
        [
         "7",
         "2024-09-17 00:00:00",
         "151.0",
         "0",
         "0",
         "moderada",
         "1",
         "9",
         "0"
        ],
        [
         "8",
         "2024-09-18 00:00:00",
         "159.0",
         "0",
         "0",
         "moderada",
         "2",
         "9",
         "0"
        ],
        [
         "9",
         "2024-09-19 00:00:00",
         "153.0",
         "1",
         "0",
         "moderada",
         "3",
         "9",
         "0"
        ],
        [
         "10",
         "2024-09-20 00:00:00",
         "154.0",
         "1",
         "0",
         "moderada",
         "4",
         "9",
         "0"
        ],
        [
         "11",
         "2024-09-21 00:00:00",
         "108.0",
         "1",
         "1",
         "moderada",
         "5",
         "9",
         "0"
        ],
        [
         "12",
         "2024-09-22 00:00:00",
         "173.0",
         "1",
         "1",
         "moderada",
         "6",
         "9",
         "1"
        ],
        [
         "13",
         "2024-09-23 00:00:00",
         "142.0",
         "0",
         "0",
         "moderada",
         "0",
         "9",
         "0"
        ],
        [
         "14",
         "2024-09-24 00:00:00",
         "145.0",
         "0",
         "0",
         "moderada",
         "1",
         "9",
         "0"
        ],
        [
         "15",
         "2024-09-25 00:00:00",
         "148.0",
         "0",
         "0",
         "moderada",
         "2",
         "9",
         "0"
        ],
        [
         "16",
         "2024-09-26 00:00:00",
         "101.0",
         "0",
         "0",
         "moderada",
         "3",
         "9",
         "0"
        ],
        [
         "17",
         "2024-09-27 00:00:00",
         "132.0",
         "0",
         "0",
         "moderada",
         "4",
         "9",
         "0"
        ],
        [
         "18",
         "2024-09-28 00:00:00",
         "149.0",
         "0",
         "1",
         "moderada",
         "5",
         "9",
         "0"
        ],
        [
         "19",
         "2024-09-29 00:00:00",
         "199.0",
         "0",
         "1",
         "moderada",
         "6",
         "9",
         "1"
        ],
        [
         "20",
         "2024-09-30 00:00:00",
         "91.0",
         "0",
         "0",
         "moderada",
         "0",
         "9",
         "0"
        ],
        [
         "21",
         "2024-10-01 00:00:00",
         "104.0",
         "0",
         "0",
         "moderada",
         "1",
         "10",
         "0"
        ],
        [
         "22",
         "2024-10-02 00:00:00",
         "94.0",
         "0",
         "0",
         "moderada",
         "2",
         "10",
         "0"
        ],
        [
         "23",
         "2024-10-03 00:00:00",
         "101.0",
         "0",
         "0",
         "moderada",
         "3",
         "10",
         "0"
        ],
        [
         "24",
         "2024-10-04 00:00:00",
         "106.0",
         "0",
         "0",
         "moderada",
         "4",
         "10",
         "0"
        ],
        [
         "25",
         "2024-10-05 00:00:00",
         "168.0",
         "0",
         "1",
         "moderada",
         "5",
         "10",
         "0"
        ],
        [
         "26",
         "2024-10-06 00:00:00",
         "129.0",
         "0",
         "1",
         "moderada",
         "6",
         "10",
         "1"
        ],
        [
         "27",
         "2024-10-07 00:00:00",
         "124.0",
         "0",
         "0",
         "moderada",
         "0",
         "10",
         "0"
        ],
        [
         "28",
         "2024-10-08 00:00:00",
         "124.0",
         "0",
         "0",
         "moderada",
         "1",
         "10",
         "0"
        ],
        [
         "29",
         "2024-10-09 00:00:00",
         "210.0",
         "0",
         "0",
         "moderada",
         "2",
         "10",
         "1"
        ],
        [
         "30",
         "2024-10-10 00:00:00",
         "124.0",
         "0",
         "0",
         "moderada",
         "3",
         "10",
         "0"
        ],
        [
         "31",
         "2024-10-11 00:00:00",
         "122.0",
         "0",
         "0",
         "moderada",
         "4",
         "10",
         "0"
        ],
        [
         "32",
         "2024-10-12 00:00:00",
         "211.0",
         "0",
         "1",
         "moderada",
         "5",
         "10",
         "1"
        ],
        [
         "33",
         "2024-10-13 00:00:00",
         "217.0",
         "0",
         "1",
         "moderada",
         "6",
         "10",
         "1"
        ],
        [
         "34",
         "2024-10-14 00:00:00",
         "116.0",
         "1",
         "0",
         "moderada",
         "0",
         "10",
         "0"
        ],
        [
         "35",
         "2024-10-15 00:00:00",
         "121.0",
         "1",
         "0",
         "moderada",
         "1",
         "10",
         "0"
        ],
        [
         "36",
         "2024-10-16 00:00:00",
         "126.0",
         "1",
         "0",
         "moderada",
         "2",
         "10",
         "0"
        ],
        [
         "37",
         "2024-10-17 00:00:00",
         "136.0",
         "0",
         "0",
         "moderada",
         "3",
         "10",
         "0"
        ],
        [
         "38",
         "2024-10-18 00:00:00",
         "138.0",
         "0",
         "0",
         "moderada",
         "4",
         "10",
         "0"
        ],
        [
         "39",
         "2024-10-19 00:00:00",
         "186.0",
         "0",
         "1",
         "moderada",
         "5",
         "10",
         "0"
        ],
        [
         "40",
         "2024-10-20 00:00:00",
         "191.0",
         "0",
         "1",
         "moderada",
         "6",
         "10",
         "1"
        ],
        [
         "41",
         "2024-10-21 00:00:00",
         "122.0",
         "0",
         "0",
         "moderada",
         "0",
         "10",
         "0"
        ],
        [
         "42",
         "2024-10-22 00:00:00",
         "160.0",
         "0",
         "0",
         "moderada",
         "1",
         "10",
         "0"
        ],
        [
         "43",
         "2024-10-23 00:00:00",
         "115.0",
         "1",
         "0",
         "moderada",
         "2",
         "10",
         "0"
        ],
        [
         "44",
         "2024-10-24 00:00:00",
         "135.0",
         "0",
         "0",
         "moderada",
         "3",
         "10",
         "0"
        ],
        [
         "45",
         "2024-10-25 00:00:00",
         "148.0",
         "1",
         "0",
         "moderada",
         "4",
         "10",
         "0"
        ],
        [
         "46",
         "2024-10-26 00:00:00",
         "248.0",
         "1",
         "1",
         "moderada",
         "5",
         "10",
         "0"
        ],
        [
         "47",
         "2024-10-27 00:00:00",
         "97.0",
         "1",
         "1",
         "fría",
         "6",
         "10",
         "1"
        ],
        [
         "48",
         "2024-10-28 00:00:00",
         "160.0",
         "1",
         "0",
         "moderada",
         "0",
         "10",
         "0"
        ],
        [
         "49",
         "2024-10-29 00:00:00",
         "112.0",
         "1",
         "0",
         "moderada",
         "1",
         "10",
         "0"
        ]
       ],
       "shape": {
        "columns": 8,
        "rows": 92
       }
      },
      "text/html": [
       "<div>\n",
       "<style scoped>\n",
       "    .dataframe tbody tr th:only-of-type {\n",
       "        vertical-align: middle;\n",
       "    }\n",
       "\n",
       "    .dataframe tbody tr th {\n",
       "        vertical-align: top;\n",
       "    }\n",
       "\n",
       "    .dataframe thead th {\n",
       "        text-align: right;\n",
       "    }\n",
       "</style>\n",
       "<table border=\"1\" class=\"dataframe\">\n",
       "  <thead>\n",
       "    <tr style=\"text-align: right;\">\n",
       "      <th></th>\n",
       "      <th>fecha</th>\n",
       "      <th>count_in</th>\n",
       "      <th>lluvia</th>\n",
       "      <th>fin_de_semana</th>\n",
       "      <th>categoria_temperatura</th>\n",
       "      <th>dia_semana</th>\n",
       "      <th>mes</th>\n",
       "      <th>festivo</th>\n",
       "    </tr>\n",
       "  </thead>\n",
       "  <tbody>\n",
       "    <tr>\n",
       "      <th>0</th>\n",
       "      <td>2024-09-10</td>\n",
       "      <td>98.0</td>\n",
       "      <td>0</td>\n",
       "      <td>0</td>\n",
       "      <td>moderada</td>\n",
       "      <td>1</td>\n",
       "      <td>9</td>\n",
       "      <td>0</td>\n",
       "    </tr>\n",
       "    <tr>\n",
       "      <th>1</th>\n",
       "      <td>2024-09-11</td>\n",
       "      <td>114.0</td>\n",
       "      <td>0</td>\n",
       "      <td>0</td>\n",
       "      <td>moderada</td>\n",
       "      <td>2</td>\n",
       "      <td>9</td>\n",
       "      <td>0</td>\n",
       "    </tr>\n",
       "    <tr>\n",
       "      <th>2</th>\n",
       "      <td>2024-09-12</td>\n",
       "      <td>133.0</td>\n",
       "      <td>0</td>\n",
       "      <td>0</td>\n",
       "      <td>moderada</td>\n",
       "      <td>3</td>\n",
       "      <td>9</td>\n",
       "      <td>0</td>\n",
       "    </tr>\n",
       "    <tr>\n",
       "      <th>3</th>\n",
       "      <td>2024-09-13</td>\n",
       "      <td>167.0</td>\n",
       "      <td>0</td>\n",
       "      <td>0</td>\n",
       "      <td>moderada</td>\n",
       "      <td>4</td>\n",
       "      <td>9</td>\n",
       "      <td>0</td>\n",
       "    </tr>\n",
       "    <tr>\n",
       "      <th>4</th>\n",
       "      <td>2024-09-14</td>\n",
       "      <td>199.0</td>\n",
       "      <td>1</td>\n",
       "      <td>1</td>\n",
       "      <td>moderada</td>\n",
       "      <td>5</td>\n",
       "      <td>9</td>\n",
       "      <td>0</td>\n",
       "    </tr>\n",
       "    <tr>\n",
       "      <th>...</th>\n",
       "      <td>...</td>\n",
       "      <td>...</td>\n",
       "      <td>...</td>\n",
       "      <td>...</td>\n",
       "      <td>...</td>\n",
       "      <td>...</td>\n",
       "      <td>...</td>\n",
       "      <td>...</td>\n",
       "    </tr>\n",
       "    <tr>\n",
       "      <th>87</th>\n",
       "      <td>2024-12-06</td>\n",
       "      <td>151.0</td>\n",
       "      <td>0</td>\n",
       "      <td>0</td>\n",
       "      <td>moderada</td>\n",
       "      <td>4</td>\n",
       "      <td>12</td>\n",
       "      <td>1</td>\n",
       "    </tr>\n",
       "    <tr>\n",
       "      <th>88</th>\n",
       "      <td>2024-12-07</td>\n",
       "      <td>128.0</td>\n",
       "      <td>0</td>\n",
       "      <td>1</td>\n",
       "      <td>moderada</td>\n",
       "      <td>5</td>\n",
       "      <td>12</td>\n",
       "      <td>0</td>\n",
       "    </tr>\n",
       "    <tr>\n",
       "      <th>89</th>\n",
       "      <td>2024-12-08</td>\n",
       "      <td>163.0</td>\n",
       "      <td>0</td>\n",
       "      <td>1</td>\n",
       "      <td>fría</td>\n",
       "      <td>6</td>\n",
       "      <td>12</td>\n",
       "      <td>1</td>\n",
       "    </tr>\n",
       "    <tr>\n",
       "      <th>90</th>\n",
       "      <td>2024-12-09</td>\n",
       "      <td>50.0</td>\n",
       "      <td>0</td>\n",
       "      <td>0</td>\n",
       "      <td>fría</td>\n",
       "      <td>0</td>\n",
       "      <td>12</td>\n",
       "      <td>0</td>\n",
       "    </tr>\n",
       "    <tr>\n",
       "      <th>91</th>\n",
       "      <td>2024-12-10</td>\n",
       "      <td>65.0</td>\n",
       "      <td>0</td>\n",
       "      <td>0</td>\n",
       "      <td>fría</td>\n",
       "      <td>1</td>\n",
       "      <td>12</td>\n",
       "      <td>0</td>\n",
       "    </tr>\n",
       "  </tbody>\n",
       "</table>\n",
       "<p>92 rows × 8 columns</p>\n",
       "</div>"
      ],
      "text/plain": [
       "        fecha  count_in  lluvia  fin_de_semana categoria_temperatura  \\\n",
       "0  2024-09-10      98.0       0              0              moderada   \n",
       "1  2024-09-11     114.0       0              0              moderada   \n",
       "2  2024-09-12     133.0       0              0              moderada   \n",
       "3  2024-09-13     167.0       0              0              moderada   \n",
       "4  2024-09-14     199.0       1              1              moderada   \n",
       "..        ...       ...     ...            ...                   ...   \n",
       "87 2024-12-06     151.0       0              0              moderada   \n",
       "88 2024-12-07     128.0       0              1              moderada   \n",
       "89 2024-12-08     163.0       0              1                  fría   \n",
       "90 2024-12-09      50.0       0              0                  fría   \n",
       "91 2024-12-10      65.0       0              0                  fría   \n",
       "\n",
       "    dia_semana  mes  festivo  \n",
       "0            1    9        0  \n",
       "1            2    9        0  \n",
       "2            3    9        0  \n",
       "3            4    9        0  \n",
       "4            5    9        0  \n",
       "..         ...  ...      ...  \n",
       "87           4   12        1  \n",
       "88           5   12        0  \n",
       "89           6   12        1  \n",
       "90           0   12        0  \n",
       "91           1   12        0  \n",
       "\n",
       "[92 rows x 8 columns]"
      ]
     },
     "execution_count": 64,
     "metadata": {},
     "output_type": "execute_result"
    }
   ],
   "source": [
    "festivos_valencianos = [\n",
    "    '2024-01-01',  # Año Nuevo\n",
    "    '2024-01-06',  # Reyes\n",
    "    '2024-03-19',  # San José\n",
    "    '2024-04-18',  # Viernes Santo\n",
    "    '2024-04-21',  # Lunes de Pascua\n",
    "    '2024-05-01',  # Día del Trabajador\n",
    "    '2024-08-15',  # Asunción\n",
    "    '2024-10-09',  # Día de la Comunidad Valenciana\n",
    "    '2024-10-12',  # Fiesta Nacional de España\n",
    "    '2024-11-01',  # Todos los Santos\n",
    "    '2024-12-06',  # Día de la Constitución\n",
    "    '2024-12-08',  # Inmaculada Concepción\n",
    "    '2024-12-25',  # Navidad\n",
    "]\n",
    "\n",
    "df_regression = df_dummy[['fecha', 'count_in', 'lluvia', 'fin_de_semana', 'categoria_temperatura']].copy() #incluimos lluvia yq ue pese a que no es significaqtiva en regresión puede serlo en predicción\n",
    "\n",
    "festivos_valencianos = [datetime.strptime(fecha, '%Y-%m-%d').date() for fecha in festivos_valencianos]\n",
    "df_regression['fecha'] = pd.to_datetime(df_regression['fecha'])\n",
    "df_regression['dia_semana'] = df_regression['fecha'].dt.dayofweek\n",
    "df_regression['mes'] = df_regression['fecha'].dt.month\n",
    "df_regression['festivo'] = df_regression.apply(\n",
    "    lambda row: 1 if (row['fecha'].date() in festivos_valencianos or row['dia_semana'] in [6, 7]) else 0,\n",
    "    axis=1)\n",
    "df_regression"
   ]
  },
  {
   "cell_type": "markdown",
   "metadata": {},
   "source": [
    "### Random forest"
   ]
  },
  {
   "cell_type": "code",
   "execution_count": 65,
   "metadata": {},
   "outputs": [
    {
     "name": "stdout",
     "output_type": "stream",
     "text": [
      "Mejor combinación de hiperparámetros: {'modelo__n_estimators': 200, 'modelo__min_samples_split': 10, 'modelo__min_samples_leaf': 2, 'modelo__max_depth': 20}\n",
      "MAE promedio (CV 5): 28.009565879713243\n",
      "RMSE (CV 5): 35.41967023259774\n",
      "R² (CV 5): 0.2415122725249853\n",
      "MAPE (CV 5): 0.23325915265048983\n",
      "Mediana del Error Absoluto (MedAE) (CV 5): 25.351374923483363\n",
      "Error Máximo (CV 5): 109.15620696849149\n",
      "Explained Variance Score (CV 5): 0.24197976678548605\n",
      "Predicción de visitantes: 130.19766264576924\n"
     ]
    },
    {
     "data": {
      "text/plain": [
       "array([130.19766265])"
      ]
     },
     "execution_count": 65,
     "metadata": {},
     "output_type": "execute_result"
    }
   ],
   "source": [
    "df = df_regression.copy()\n",
    "\n",
    "X = df.drop(columns=['count_in', 'fecha'])\n",
    "y = df['count_in']\n",
    "\n",
    "preprocesador = ColumnTransformer(transformers=[\n",
    "    ('cat', OneHotEncoder(drop='first'), ['categoria_temperatura'])\n",
    "], remainder='passthrough')\n",
    "\n",
    "pipeline = Pipeline(steps=[\n",
    "    ('prepro', preprocesador),\n",
    "    ('modelo', RandomForestRegressor(random_state=42)) \n",
    "])\n",
    "\n",
    "param_dist = {\n",
    "    'modelo__n_estimators': [50, 100, 200, 300],\n",
    "    'modelo__max_depth': [10, 20, 30, None],\n",
    "    'modelo__min_samples_split': [2, 5, 10, 15, 20],\n",
    "    'modelo__min_samples_leaf': [1, 2, 4, 6]\n",
    "}\n",
    "\n",
    "search = RandomizedSearchCV(pipeline, param_distributions=param_dist, \n",
    "                            n_iter=10, cv=5, scoring='neg_mean_absolute_error', random_state=42)\n",
    "search.fit(X, y)\n",
    "\n",
    "print(\"Mejor combinación de hiperparámetros:\", search.best_params_)\n",
    "\n",
    "best_pipeline = search.best_estimator_\n",
    "scores = cross_val_score(best_pipeline, X, y, cv=5, scoring='neg_mean_absolute_error')\n",
    "print(\"MAE promedio (CV 5):\", -scores.mean())\n",
    "\n",
    "y_pred_cv = cross_val_predict(best_pipeline, X, y, cv=5)\n",
    "\n",
    "rmse = np.sqrt(mean_squared_error(y, y_pred_cv))\n",
    "print(\"RMSE (CV 5):\", rmse)\n",
    "\n",
    "r2 = r2_score(y, y_pred_cv)\n",
    "print(\"R² (CV 5):\", r2)\n",
    "\n",
    "mape = mean_absolute_percentage_error(y, y_pred_cv)\n",
    "print(\"MAPE (CV 5):\", mape)\n",
    "\n",
    "medae = median_absolute_error(y, y_pred_cv)\n",
    "print(\"Mediana del Error Absoluto (MedAE) (CV 5):\", medae)\n",
    "\n",
    "max_err = max_error(y, y_pred_cv)\n",
    "print(\"Error Máximo (CV 5):\", max_err)\n",
    "\n",
    "evs = explained_variance_score(y, y_pred_cv)\n",
    "print(\"Explained Variance Score (CV 5):\", evs)\n",
    "\n",
    "best_pipeline.fit(X, y)\n",
    "\n",
    "nueva_fecha = pd.DataFrame({\n",
    "    'lluvia': [1],\n",
    "    'fin_de_semana': [0],\n",
    "    'categoria_temperatura': ['moderada'],\n",
    "    'dia_semana': [1],\n",
    "    'mes': [9],\n",
    "    'festivo': [0]\n",
    "})\n",
    "prediccion = best_pipeline.predict(nueva_fecha)\n",
    "print(\"Predicción de visitantes:\", prediccion[0])\n",
    "prediccion\n"
   ]
  },
  {
   "cell_type": "markdown",
   "metadata": {},
   "source": [
    "### Prophet + LightGBM"
   ]
  },
  {
   "cell_type": "markdown",
   "metadata": {},
   "source": [
    "- Quitamos datos anómalos ( count in > 225)\n",
    "- Usamos Prophet con lluvia, fin de semana y festivo como regresores\n",
    "- Predecimos a partir de los residuos usando LightGBM"
   ]
  },
  {
   "cell_type": "code",
   "execution_count": null,
   "metadata": {},
   "outputs": [
    {
     "ename": "ValueError",
     "evalue": "holidays must be a DataFrame with \"ds\" and \"holiday\" columns.",
     "output_type": "error",
     "traceback": [
      "\u001b[1;31m---------------------------------------------------------------------------\u001b[0m",
      "\u001b[1;31mValueError\u001b[0m                                Traceback (most recent call last)",
      "Cell \u001b[1;32mIn[70], line 11\u001b[0m\n\u001b[0;32m      8\u001b[0m df\u001b[38;5;241m.\u001b[39mdropna(inplace\u001b[38;5;241m=\u001b[39m\u001b[38;5;28;01mTrue\u001b[39;00m)\n\u001b[0;32m     10\u001b[0m df_prophet \u001b[38;5;241m=\u001b[39m df\u001b[38;5;241m.\u001b[39mrename(columns\u001b[38;5;241m=\u001b[39m{\u001b[38;5;124m'\u001b[39m\u001b[38;5;124mfecha\u001b[39m\u001b[38;5;124m'\u001b[39m: \u001b[38;5;124m'\u001b[39m\u001b[38;5;124mds\u001b[39m\u001b[38;5;124m'\u001b[39m, \u001b[38;5;124m'\u001b[39m\u001b[38;5;124mcount_in\u001b[39m\u001b[38;5;124m'\u001b[39m: \u001b[38;5;124m'\u001b[39m\u001b[38;5;124my\u001b[39m\u001b[38;5;124m'\u001b[39m})\n\u001b[1;32m---> 11\u001b[0m modelo_prophet \u001b[38;5;241m=\u001b[39m \u001b[43mProphet\u001b[49m\u001b[43m(\u001b[49m\u001b[43mholidays\u001b[49m\u001b[38;5;241;43m=\u001b[39;49m\u001b[38;5;28;43;01mTrue\u001b[39;49;00m\u001b[43m)\u001b[49m\n\u001b[0;32m     12\u001b[0m \u001b[38;5;28;01mfor\u001b[39;00m reg \u001b[38;5;129;01min\u001b[39;00m [\u001b[38;5;124m'\u001b[39m\u001b[38;5;124mlluvia\u001b[39m\u001b[38;5;124m'\u001b[39m, \u001b[38;5;124m'\u001b[39m\u001b[38;5;124mfin_de_semana\u001b[39m\u001b[38;5;124m'\u001b[39m, \u001b[38;5;124m'\u001b[39m\u001b[38;5;124mfestivo\u001b[39m\u001b[38;5;124m'\u001b[39m]:\n\u001b[0;32m     13\u001b[0m     modelo_prophet\u001b[38;5;241m.\u001b[39madd_regressor(reg)\n",
      "File \u001b[1;32m~\\AppData\\Local\\Packages\\PythonSoftwareFoundation.Python.3.11_qbz5n2kfra8p0\\LocalCache\\local-packages\\Python311\\site-packages\\prophet\\forecaster.py:154\u001b[0m, in \u001b[0;36mProphet.__init__\u001b[1;34m(self, growth, changepoints, n_changepoints, changepoint_range, yearly_seasonality, weekly_seasonality, daily_seasonality, holidays, seasonality_mode, seasonality_prior_scale, holidays_prior_scale, changepoint_prior_scale, mcmc_samples, interval_width, uncertainty_samples, stan_backend, scaling, holidays_mode)\u001b[0m\n\u001b[0;32m    152\u001b[0m \u001b[38;5;28mself\u001b[39m\u001b[38;5;241m.\u001b[39mtrain_holiday_names \u001b[38;5;241m=\u001b[39m \u001b[38;5;28;01mNone\u001b[39;00m\n\u001b[0;32m    153\u001b[0m \u001b[38;5;28mself\u001b[39m\u001b[38;5;241m.\u001b[39mfit_kwargs \u001b[38;5;241m=\u001b[39m {}\n\u001b[1;32m--> 154\u001b[0m \u001b[38;5;28;43mself\u001b[39;49m\u001b[38;5;241;43m.\u001b[39;49m\u001b[43mvalidate_inputs\u001b[49m\u001b[43m(\u001b[49m\u001b[43m)\u001b[49m\n\u001b[0;32m    155\u001b[0m \u001b[38;5;28mself\u001b[39m\u001b[38;5;241m.\u001b[39m_load_stan_backend(stan_backend)\n",
      "File \u001b[1;32m~\\AppData\\Local\\Packages\\PythonSoftwareFoundation.Python.3.11_qbz5n2kfra8p0\\LocalCache\\local-packages\\Python311\\site-packages\\prophet\\forecaster.py:185\u001b[0m, in \u001b[0;36mProphet.validate_inputs\u001b[1;34m(self)\u001b[0m\n\u001b[0;32m    179\u001b[0m \u001b[38;5;28;01mif\u001b[39;00m \u001b[38;5;28mself\u001b[39m\u001b[38;5;241m.\u001b[39mholidays \u001b[38;5;129;01mis\u001b[39;00m \u001b[38;5;129;01mnot\u001b[39;00m \u001b[38;5;28;01mNone\u001b[39;00m:\n\u001b[0;32m    180\u001b[0m     \u001b[38;5;28;01mif\u001b[39;00m \u001b[38;5;129;01mnot\u001b[39;00m (\n\u001b[0;32m    181\u001b[0m         \u001b[38;5;28misinstance\u001b[39m(\u001b[38;5;28mself\u001b[39m\u001b[38;5;241m.\u001b[39mholidays, pd\u001b[38;5;241m.\u001b[39mDataFrame)\n\u001b[0;32m    182\u001b[0m         \u001b[38;5;129;01mand\u001b[39;00m \u001b[38;5;124m'\u001b[39m\u001b[38;5;124mds\u001b[39m\u001b[38;5;124m'\u001b[39m \u001b[38;5;129;01min\u001b[39;00m \u001b[38;5;28mself\u001b[39m\u001b[38;5;241m.\u001b[39mholidays  \u001b[38;5;66;03m# noqa W503\u001b[39;00m\n\u001b[0;32m    183\u001b[0m         \u001b[38;5;129;01mand\u001b[39;00m \u001b[38;5;124m'\u001b[39m\u001b[38;5;124mholiday\u001b[39m\u001b[38;5;124m'\u001b[39m \u001b[38;5;129;01min\u001b[39;00m \u001b[38;5;28mself\u001b[39m\u001b[38;5;241m.\u001b[39mholidays  \u001b[38;5;66;03m# noqa W503\u001b[39;00m\n\u001b[0;32m    184\u001b[0m     ):\n\u001b[1;32m--> 185\u001b[0m         \u001b[38;5;28;01mraise\u001b[39;00m \u001b[38;5;167;01mValueError\u001b[39;00m(\u001b[38;5;124m'\u001b[39m\u001b[38;5;124mholidays must be a DataFrame with \u001b[39m\u001b[38;5;124m\"\u001b[39m\u001b[38;5;124mds\u001b[39m\u001b[38;5;124m\"\u001b[39m\u001b[38;5;124m and \u001b[39m\u001b[38;5;124m'\u001b[39m\n\u001b[0;32m    186\u001b[0m                          \u001b[38;5;124m'\u001b[39m\u001b[38;5;124m\"\u001b[39m\u001b[38;5;124mholiday\u001b[39m\u001b[38;5;124m\"\u001b[39m\u001b[38;5;124m columns.\u001b[39m\u001b[38;5;124m'\u001b[39m)\n\u001b[0;32m    187\u001b[0m     \u001b[38;5;28mself\u001b[39m\u001b[38;5;241m.\u001b[39mholidays[\u001b[38;5;124m'\u001b[39m\u001b[38;5;124mds\u001b[39m\u001b[38;5;124m'\u001b[39m] \u001b[38;5;241m=\u001b[39m pd\u001b[38;5;241m.\u001b[39mto_datetime(\u001b[38;5;28mself\u001b[39m\u001b[38;5;241m.\u001b[39mholidays[\u001b[38;5;124m'\u001b[39m\u001b[38;5;124mds\u001b[39m\u001b[38;5;124m'\u001b[39m])\n\u001b[0;32m    188\u001b[0m     \u001b[38;5;28;01mif\u001b[39;00m (\n\u001b[0;32m    189\u001b[0m         \u001b[38;5;28mself\u001b[39m\u001b[38;5;241m.\u001b[39mholidays[\u001b[38;5;124m'\u001b[39m\u001b[38;5;124mds\u001b[39m\u001b[38;5;124m'\u001b[39m]\u001b[38;5;241m.\u001b[39misnull()\u001b[38;5;241m.\u001b[39many()\n\u001b[0;32m    190\u001b[0m         \u001b[38;5;129;01mor\u001b[39;00m \u001b[38;5;28mself\u001b[39m\u001b[38;5;241m.\u001b[39mholidays[\u001b[38;5;124m'\u001b[39m\u001b[38;5;124mholiday\u001b[39m\u001b[38;5;124m'\u001b[39m]\u001b[38;5;241m.\u001b[39misnull()\u001b[38;5;241m.\u001b[39many()\n\u001b[0;32m    191\u001b[0m     ):\n",
      "\u001b[1;31mValueError\u001b[0m: holidays must be a DataFrame with \"ds\" and \"holiday\" columns."
     ]
    }
   ],
   "source": [
    "# --- Preparación de datos ---\n",
    "df = df_regression[['fecha', 'count_in', 'lluvia', 'fin_de_semana', 'festivo']].copy()\n",
    "df['fecha'] = pd.to_datetime(df['fecha'])\n",
    "df = df[df['count_in'] <= 225].copy()\n",
    "df = df.sort_values('fecha')\n",
    "df['tendencia_movil'] = df['count_in'].rolling(7).mean()\n",
    "\n",
    "df.dropna(inplace=True)\n",
    "\n",
    "df_prophet = df.rename(columns={'fecha': 'ds', 'count_in': 'y'})\n",
    "modelo_prophet = Prophet()\n",
    "for reg in ['lluvia', 'fin_de_semana', 'festivo']:\n",
    "    modelo_prophet.add_regressor(reg)\n",
    "modelo_prophet.fit(df_prophet[['ds', 'y', 'lluvia', 'fin_de_semana', 'festivo']])\n",
    "\n",
    "forecast = modelo_prophet.predict(df_prophet[['ds', 'lluvia', 'fin_de_semana', 'festivo']])\n",
    "df['yhat_prophet'] = forecast['yhat'].values\n",
    "df['residuo'] = df['count_in'] - df['yhat_prophet']\n",
    "\n",
    "X = df.drop(columns=['count_in', 'fecha', 'yhat_prophet', 'residuo'])\n",
    "y = df['residuo']\n",
    "\n",
    "\n",
    "pipeline = Pipeline(steps=[\n",
    "    ('modelo', LGBMRegressor(random_state=42, verbose=-1))\n",
    "])\n",
    "\n",
    "param_dist = {\n",
    "    'modelo__n_estimators': [300, 400, 500, 600],\n",
    "    'modelo__max_depth': [6, 8, 10, 12],\n",
    "    'modelo__learning_rate': [0.01, 0.03, 0.05, 0.07],\n",
    "    'modelo__num_leaves': [20, 31, 40, 50],\n",
    "    'modelo__min_child_samples': [10, 20, 30]\n",
    "}\n",
    "\n",
    "search = RandomizedSearchCV(\n",
    "    pipeline,\n",
    "    param_distributions=param_dist,\n",
    "    n_iter=20,\n",
    "    cv=TimeSeriesSplit(n_splits=5),\n",
    "    scoring='neg_mean_absolute_error',\n",
    "    random_state=42,\n",
    "    verbose=1,\n",
    "    n_jobs=-1\n",
    ")\n",
    "\n",
    "search.fit(X, y)\n",
    "print(\"Mejor combinación de hiperparámetros:\", search.best_params_)\n",
    "best_pipeline = search.best_estimator_\n",
    "\n",
    "tscv = TimeSeriesSplit(n_splits=5)\n",
    "y_pred_resid = np.zeros(len(y))\n",
    "\n",
    "for train_idx, test_idx in tscv.split(X):\n",
    "    X_train, X_test = X.iloc[train_idx], X.iloc[test_idx]\n",
    "    y_train = y.iloc[train_idx]\n",
    "    best_pipeline.fit(X_train, y_train)\n",
    "    y_pred_resid[test_idx] = best_pipeline.predict(X_test)\n",
    "\n",
    "y_pred_final = df['yhat_prophet'].values + y_pred_resid\n",
    "\n",
    "print(\"\\nMétricas del modelo híbrido Prophet + LightGBM:\")\n",
    "print(f\"RMSE: {np.sqrt(mean_squared_error(df['count_in'], y_pred_final)):.2f}\")\n",
    "print(f\"R²: {r2_score(df['count_in'], y_pred_final):.3f}\")\n",
    "print(f\"MAPE: {mean_absolute_percentage_error(df['count_in'], y_pred_final):.2%}\")\n",
    "print(f\"MedAE: {median_absolute_error(df['count_in'], y_pred_final):.2f}\")\n",
    "print(f\"Max Error: {max_error(df['count_in'], y_pred_final):.2f}\")\n",
    "print(f\"Explained Variance: {explained_variance_score(df['count_in'], y_pred_final):.3f}\")\n",
    "\n",
    "best_pipeline.fit(X, y)\n",
    "\n",
    "último = df.iloc[-1]\n",
    "nueva_muestra = {\n",
    "    'lluvia': [1],\n",
    "    'fin_de_semana': [0],\n",
    "    'festivo': [0],\n",
    "    'tendencia_movil': [df['count_in'].rolling(7).mean().iloc[-1]]\n",
    "}\n",
    "nueva_fecha = pd.DataFrame(nueva_muestra)\n",
    "\n",
    "proxima_fecha = pd.to_datetime(último['fecha']) + pd.Timedelta(days=1)\n",
    "future_df = pd.DataFrame({\n",
    "    'ds': [proxima_fecha],\n",
    "    'lluvia': [1],\n",
    "    'fin_de_semana': [0],\n",
    "    'festivo': [0]\n",
    "})\n",
    "pred_prophet = modelo_prophet.predict(future_df)['yhat'].values[0]\n",
    "pred_resid = best_pipeline.predict(nueva_fecha)[0]\n",
    "pred_final = pred_prophet + pred_resid\n",
    "print(f\"🔮 Predicción final (nueva muestra): {pred_final:.2f}\")\n",
    "\n",
    "\n",
    "plt.figure(figsize=(12, 5))\n",
    "plt.plot(df['fecha'], df['count_in'], label='Real', linewidth=2)\n",
    "plt.plot(df['fecha'], y_pred_final, label='Predicción Híbrida', linewidth=2)\n",
    "plt.title('📈 Visitas reales vs Predicción (Prophet + LightGBM)')\n",
    "plt.xlabel('Fecha')\n",
    "plt.ylabel('Visitantes')\n",
    "plt.legend()\n",
    "plt.grid(True)\n",
    "plt.tight_layout()\n",
    "plt.show()\n",
    "\n",
    "plt.figure(figsize=(12, 4))\n",
    "residuos_hibrido = df['count_in'] - y_pred_final\n",
    "plt.plot(df['fecha'], residuos_hibrido, label='Residuos', color='orange')\n",
    "plt.axhline(0, linestyle='--', color='gray')\n",
    "plt.title('Residuos del modelo híbrido')\n",
    "plt.xlabel('Fecha')\n",
    "plt.ylabel('Error')\n",
    "plt.grid(True)\n",
    "plt.tight_layout()\n",
    "plt.show()\n",
    "\n",
    "plt.figure(figsize=(12, 4))\n",
    "error_abs = np.abs(df['count_in'] - y_pred_final)\n",
    "plt.plot(df['fecha'], error_abs, label='Error Absoluto', color='crimson')\n",
    "plt.title('Error absoluto diario')\n",
    "plt.xlabel('Fecha')\n",
    "plt.ylabel('Error')\n",
    "plt.grid(True)\n",
    "plt.tight_layout()\n",
    "plt.show()\n"
   ]
  },
  {
   "cell_type": "markdown",
   "metadata": {},
   "source": [
    "#### Visualización y comparación de resultados"
   ]
  },
  {
   "cell_type": "code",
   "execution_count": 68,
   "metadata": {},
   "outputs": [
    {
     "ename": "KeyError",
     "evalue": "'TimeGPT'",
     "output_type": "error",
     "traceback": [
      "\u001b[1;31m---------------------------------------------------------------------------\u001b[0m",
      "\u001b[1;31mKeyError\u001b[0m                                  Traceback (most recent call last)",
      "File \u001b[1;32m~\\AppData\\Local\\Packages\\PythonSoftwareFoundation.Python.3.11_qbz5n2kfra8p0\\LocalCache\\local-packages\\Python311\\site-packages\\pandas\\core\\indexes\\base.py:3805\u001b[0m, in \u001b[0;36mIndex.get_loc\u001b[1;34m(self, key)\u001b[0m\n\u001b[0;32m   3804\u001b[0m \u001b[38;5;28;01mtry\u001b[39;00m:\n\u001b[1;32m-> 3805\u001b[0m     \u001b[38;5;28;01mreturn\u001b[39;00m \u001b[38;5;28;43mself\u001b[39;49m\u001b[38;5;241;43m.\u001b[39;49m\u001b[43m_engine\u001b[49m\u001b[38;5;241;43m.\u001b[39;49m\u001b[43mget_loc\u001b[49m\u001b[43m(\u001b[49m\u001b[43mcasted_key\u001b[49m\u001b[43m)\u001b[49m\n\u001b[0;32m   3806\u001b[0m \u001b[38;5;28;01mexcept\u001b[39;00m \u001b[38;5;167;01mKeyError\u001b[39;00m \u001b[38;5;28;01mas\u001b[39;00m err:\n",
      "File \u001b[1;32mindex.pyx:167\u001b[0m, in \u001b[0;36mpandas._libs.index.IndexEngine.get_loc\u001b[1;34m()\u001b[0m\n",
      "File \u001b[1;32mindex.pyx:196\u001b[0m, in \u001b[0;36mpandas._libs.index.IndexEngine.get_loc\u001b[1;34m()\u001b[0m\n",
      "File \u001b[1;32mpandas\\\\_libs\\\\hashtable_class_helper.pxi:7081\u001b[0m, in \u001b[0;36mpandas._libs.hashtable.PyObjectHashTable.get_item\u001b[1;34m()\u001b[0m\n",
      "File \u001b[1;32mpandas\\\\_libs\\\\hashtable_class_helper.pxi:7089\u001b[0m, in \u001b[0;36mpandas._libs.hashtable.PyObjectHashTable.get_item\u001b[1;34m()\u001b[0m\n",
      "\u001b[1;31mKeyError\u001b[0m: 'TimeGPT'",
      "\nThe above exception was the direct cause of the following exception:\n",
      "\u001b[1;31mKeyError\u001b[0m                                  Traceback (most recent call last)",
      "Cell \u001b[1;32mIn[68], line 4\u001b[0m\n\u001b[0;32m      1\u001b[0m df_comparacion \u001b[38;5;241m=\u001b[39m pd\u001b[38;5;241m.\u001b[39mDataFrame({\n\u001b[0;32m      2\u001b[0m     \u001b[38;5;124m'\u001b[39m\u001b[38;5;124mFecha\u001b[39m\u001b[38;5;124m'\u001b[39m: df[\u001b[38;5;124m'\u001b[39m\u001b[38;5;124mfecha\u001b[39m\u001b[38;5;124m'\u001b[39m]\u001b[38;5;241m.\u001b[39mvalues[\u001b[38;5;241m-\u001b[39m\u001b[38;5;241m14\u001b[39m:],\n\u001b[0;32m      3\u001b[0m     \u001b[38;5;124m'\u001b[39m\u001b[38;5;124mReal\u001b[39m\u001b[38;5;124m'\u001b[39m: df[\u001b[38;5;124m'\u001b[39m\u001b[38;5;124mcount_in\u001b[39m\u001b[38;5;124m'\u001b[39m]\u001b[38;5;241m.\u001b[39mvalues[\u001b[38;5;241m-\u001b[39m\u001b[38;5;241m14\u001b[39m:],\n\u001b[1;32m----> 4\u001b[0m     \u001b[38;5;124m'\u001b[39m\u001b[38;5;124mTimeGPT\u001b[39m\u001b[38;5;124m'\u001b[39m: \u001b[43mforecast\u001b[49m\u001b[43m[\u001b[49m\u001b[38;5;124;43m'\u001b[39;49m\u001b[38;5;124;43mTimeGPT\u001b[39;49m\u001b[38;5;124;43m'\u001b[39;49m\u001b[43m]\u001b[49m\u001b[38;5;241m.\u001b[39mvalues[\u001b[38;5;241m-\u001b[39m\u001b[38;5;241m14\u001b[39m:],\n\u001b[0;32m      5\u001b[0m     \u001b[38;5;124m'\u001b[39m\u001b[38;5;124mRandomForest\u001b[39m\u001b[38;5;124m'\u001b[39m: y_pred_cv[\u001b[38;5;241m-\u001b[39m\u001b[38;5;241m14\u001b[39m:],\n\u001b[0;32m      6\u001b[0m     \u001b[38;5;124m'\u001b[39m\u001b[38;5;124mHibrido\u001b[39m\u001b[38;5;124m'\u001b[39m: y_pred_final[\u001b[38;5;241m-\u001b[39m\u001b[38;5;241m14\u001b[39m:]\n\u001b[0;32m      7\u001b[0m })\n\u001b[0;32m      9\u001b[0m df_comparacion[\u001b[38;5;124m'\u001b[39m\u001b[38;5;124mError_TimeGPT\u001b[39m\u001b[38;5;124m'\u001b[39m] \u001b[38;5;241m=\u001b[39m \u001b[38;5;28mabs\u001b[39m(df_comparacion[\u001b[38;5;124m'\u001b[39m\u001b[38;5;124mReal\u001b[39m\u001b[38;5;124m'\u001b[39m] \u001b[38;5;241m-\u001b[39m df_comparacion[\u001b[38;5;124m'\u001b[39m\u001b[38;5;124mTimeGPT\u001b[39m\u001b[38;5;124m'\u001b[39m])\n\u001b[0;32m     10\u001b[0m df_comparacion[\u001b[38;5;124m'\u001b[39m\u001b[38;5;124mError_RF\u001b[39m\u001b[38;5;124m'\u001b[39m] \u001b[38;5;241m=\u001b[39m \u001b[38;5;28mabs\u001b[39m(df_comparacion[\u001b[38;5;124m'\u001b[39m\u001b[38;5;124mReal\u001b[39m\u001b[38;5;124m'\u001b[39m] \u001b[38;5;241m-\u001b[39m df_comparacion[\u001b[38;5;124m'\u001b[39m\u001b[38;5;124mRandomForest\u001b[39m\u001b[38;5;124m'\u001b[39m])\n",
      "File \u001b[1;32m~\\AppData\\Local\\Packages\\PythonSoftwareFoundation.Python.3.11_qbz5n2kfra8p0\\LocalCache\\local-packages\\Python311\\site-packages\\pandas\\core\\frame.py:4102\u001b[0m, in \u001b[0;36mDataFrame.__getitem__\u001b[1;34m(self, key)\u001b[0m\n\u001b[0;32m   4100\u001b[0m \u001b[38;5;28;01mif\u001b[39;00m \u001b[38;5;28mself\u001b[39m\u001b[38;5;241m.\u001b[39mcolumns\u001b[38;5;241m.\u001b[39mnlevels \u001b[38;5;241m>\u001b[39m \u001b[38;5;241m1\u001b[39m:\n\u001b[0;32m   4101\u001b[0m     \u001b[38;5;28;01mreturn\u001b[39;00m \u001b[38;5;28mself\u001b[39m\u001b[38;5;241m.\u001b[39m_getitem_multilevel(key)\n\u001b[1;32m-> 4102\u001b[0m indexer \u001b[38;5;241m=\u001b[39m \u001b[38;5;28;43mself\u001b[39;49m\u001b[38;5;241;43m.\u001b[39;49m\u001b[43mcolumns\u001b[49m\u001b[38;5;241;43m.\u001b[39;49m\u001b[43mget_loc\u001b[49m\u001b[43m(\u001b[49m\u001b[43mkey\u001b[49m\u001b[43m)\u001b[49m\n\u001b[0;32m   4103\u001b[0m \u001b[38;5;28;01mif\u001b[39;00m is_integer(indexer):\n\u001b[0;32m   4104\u001b[0m     indexer \u001b[38;5;241m=\u001b[39m [indexer]\n",
      "File \u001b[1;32m~\\AppData\\Local\\Packages\\PythonSoftwareFoundation.Python.3.11_qbz5n2kfra8p0\\LocalCache\\local-packages\\Python311\\site-packages\\pandas\\core\\indexes\\base.py:3812\u001b[0m, in \u001b[0;36mIndex.get_loc\u001b[1;34m(self, key)\u001b[0m\n\u001b[0;32m   3807\u001b[0m     \u001b[38;5;28;01mif\u001b[39;00m \u001b[38;5;28misinstance\u001b[39m(casted_key, \u001b[38;5;28mslice\u001b[39m) \u001b[38;5;129;01mor\u001b[39;00m (\n\u001b[0;32m   3808\u001b[0m         \u001b[38;5;28misinstance\u001b[39m(casted_key, abc\u001b[38;5;241m.\u001b[39mIterable)\n\u001b[0;32m   3809\u001b[0m         \u001b[38;5;129;01mand\u001b[39;00m \u001b[38;5;28many\u001b[39m(\u001b[38;5;28misinstance\u001b[39m(x, \u001b[38;5;28mslice\u001b[39m) \u001b[38;5;28;01mfor\u001b[39;00m x \u001b[38;5;129;01min\u001b[39;00m casted_key)\n\u001b[0;32m   3810\u001b[0m     ):\n\u001b[0;32m   3811\u001b[0m         \u001b[38;5;28;01mraise\u001b[39;00m InvalidIndexError(key)\n\u001b[1;32m-> 3812\u001b[0m     \u001b[38;5;28;01mraise\u001b[39;00m \u001b[38;5;167;01mKeyError\u001b[39;00m(key) \u001b[38;5;28;01mfrom\u001b[39;00m \u001b[38;5;21;01merr\u001b[39;00m\n\u001b[0;32m   3813\u001b[0m \u001b[38;5;28;01mexcept\u001b[39;00m \u001b[38;5;167;01mTypeError\u001b[39;00m:\n\u001b[0;32m   3814\u001b[0m     \u001b[38;5;66;03m# If we have a listlike key, _check_indexing_error will raise\u001b[39;00m\n\u001b[0;32m   3815\u001b[0m     \u001b[38;5;66;03m#  InvalidIndexError. Otherwise we fall through and re-raise\u001b[39;00m\n\u001b[0;32m   3816\u001b[0m     \u001b[38;5;66;03m#  the TypeError.\u001b[39;00m\n\u001b[0;32m   3817\u001b[0m     \u001b[38;5;28mself\u001b[39m\u001b[38;5;241m.\u001b[39m_check_indexing_error(key)\n",
      "\u001b[1;31mKeyError\u001b[0m: 'TimeGPT'"
     ]
    }
   ],
   "source": [
    "df_comparacion = pd.DataFrame({\n",
    "    'Fecha': df['fecha'].values[-14:],\n",
    "    'Real': df['count_in'].values[-14:],\n",
    "    'TimeGPT': forecast['TimeGPT'].values[-14:],\n",
    "    'RandomForest': y_pred_cv[-14:],\n",
    "    'Hibrido': y_pred_final[-14:]\n",
    "})\n",
    "\n",
    "df_comparacion['Error_TimeGPT'] = abs(df_comparacion['Real'] - df_comparacion['TimeGPT'])\n",
    "df_comparacion['Error_RF'] = abs(df_comparacion['Real'] - df_comparacion['RandomForest'])\n",
    "df_comparacion['Error_Hibrido'] = abs(df_comparacion['Real'] - df_comparacion['Hibrido'])\n",
    "\n",
    "df_comparacion.set_index('Fecha', inplace=True)\n",
    "\n",
    "plt.figure(figsize=(12, 6))\n",
    "plt.plot(df_comparacion.index, df_comparacion['Real'], label='Real', marker='o')\n",
    "plt.plot(df_comparacion.index, df_comparacion['TimeGPT'], label='TimeGPT', linestyle='--', marker='x')\n",
    "plt.plot(df_comparacion.index, df_comparacion['RandomForest'], label='Random Forest', linestyle='-.', marker='s')\n",
    "plt.plot(df_comparacion.index, df_comparacion['Hibrido'], label='Prophet + LightGBM', linestyle=':', marker='^')\n",
    "\n",
    "plt.title('Comparación: Real vs TimeGPT vs Random Forest vs Híbrido')\n",
    "plt.xlabel('Fecha')\n",
    "plt.ylabel('Visitantes (count_in)')\n",
    "plt.legend()\n",
    "plt.grid(True)\n",
    "plt.xticks(rotation=45)\n",
    "plt.tight_layout()\n",
    "plt.show()\n"
   ]
  },
  {
   "cell_type": "code",
   "execution_count": null,
   "metadata": {},
   "outputs": [],
   "source": [
    "plt.figure(figsize=(12, 5))\n",
    "offset = pd.Timedelta(days=0.25)\n",
    "\n",
    "plt.bar(df_comparacion.index - offset, df_comparacion['Error_TimeGPT'], width=0.25, label='TimeGPT', color='orange')\n",
    "plt.bar(df_comparacion.index, df_comparacion['Error_RF'], width=0.25, label='Random Forest', color='green')\n",
    "plt.bar(df_comparacion.index + offset, df_comparacion['Error_Hibrido'], width=0.25, label='Híbrido', color='steelblue')\n",
    "\n",
    "plt.title('Error Absoluto Diario: TimeGPT vs RF vs Híbrido')\n",
    "plt.ylabel('Error Absoluto')\n",
    "plt.xlabel('Fecha')\n",
    "plt.legend()\n",
    "plt.xticks(rotation=45)\n",
    "plt.grid(True)\n",
    "plt.tight_layout()\n",
    "plt.show()\n"
   ]
  },
  {
   "cell_type": "code",
   "execution_count": null,
   "metadata": {},
   "outputs": [],
   "source": [
    "plt.figure(figsize=(12, 5))\n",
    "plt.plot(df_comparacion.index, df_comparacion['Real'], label='Actual', color='blue', marker='o')\n",
    "plt.plot(df_comparacion.index, df_comparacion['RandomForest'], label='Random Forest', color='green', linestyle='--', marker='x')\n",
    "plt.title('Random Forest Prediction vs Actual Visitor Count')\n",
    "plt.xlabel('Date')\n",
    "plt.ylabel('Visitors (count_in)')\n",
    "plt.xticks(rotation=45)\n",
    "plt.legend()\n",
    "plt.tight_layout()\n",
    "plt.show()\n"
   ]
  },
  {
   "cell_type": "code",
   "execution_count": null,
   "metadata": {},
   "outputs": [
    {
     "name": "stdout",
     "output_type": "stream",
     "text": [
      "🔍 Se encontraron 6 días con picos (count_in > 225)\n",
      "        fecha  count_in\n",
      "29 2024-10-09     210.0\n",
      "32 2024-10-12     211.0\n",
      "33 2024-10-13     217.0\n",
      "46 2024-10-26     248.0\n",
      "67 2024-11-16     254.0\n",
      "68 2024-11-17     218.0\n"
     ]
    }
   ],
   "source": [
    "df = df_regression.copy()\n",
    "df['fecha'] = pd.to_datetime(df['fecha'])\n",
    "df = df.sort_values('fecha')\n",
    "\n",
    "umbral_pico = 200\n",
    "df['pico'] = (df['count_in'] > umbral_pico).astype(int)\n",
    "\n",
    "fechas_pico = df[df['pico'] == 1][['fecha', 'count_in']]\n",
    "print(f\"🔍 Se encontraron {len(fechas_pico)} días con picos (count_in > 225)\")\n",
    "print(fechas_pico)\n"
   ]
  }
 ],
 "metadata": {
  "kernelspec": {
   "display_name": "Python 3",
   "language": "python",
   "name": "python3"
  },
  "language_info": {
   "codemirror_mode": {
    "name": "ipython",
    "version": 3
   },
   "file_extension": ".py",
   "mimetype": "text/x-python",
   "name": "python",
   "nbconvert_exporter": "python",
   "pygments_lexer": "ipython3",
   "version": "3.11.9"
  }
 },
 "nbformat": 4,
 "nbformat_minor": 2
}
